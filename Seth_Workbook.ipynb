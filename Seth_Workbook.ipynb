{
 "cells": [
  {
   "cell_type": "markdown",
   "metadata": {},
   "source": [
    "# Production Budget vs Profit Margin #"
   ]
  },
  {
   "cell_type": "markdown",
   "metadata": {},
   "source": [
    "An important part to any movie studio is how much they should be spending on their films.\n",
    "\n",
    "While not the only factor to turning a profit in the movie industry, what is the correlation between production budget and profit margin?\n",
    "\n",
    "The minimum we expect to answer here is:\n",
    "\n",
    "### If Microsoft spends x amount more, will profits increase by y? ###\n",
    "\n",
    "We will explore this question using the data set from the-numbers.com, a Los Angeles based database tracking the numbers that go into major-motion pictures."
   ]
  },
  {
   "cell_type": "markdown",
   "metadata": {},
   "source": [
    "### Import relevant libraries ###"
   ]
  },
  {
   "cell_type": "code",
   "execution_count": 1,
   "metadata": {},
   "outputs": [],
   "source": [
    "import pandas as pd\n",
    "import matplotlib.pyplot as plt\n",
    "%matplotlib inline\n",
    "import numpy as np\n",
    "import seaborn as sns"
   ]
  },
  {
   "cell_type": "markdown",
   "metadata": {},
   "source": [
    "## Import The Numbers dataset ##"
   ]
  },
  {
   "cell_type": "code",
   "execution_count": 2,
   "metadata": {},
   "outputs": [],
   "source": [
    "df = pd.read_csv('data/tn.movie_budgets.csv.gz', index_col='id')"
   ]
  },
  {
   "cell_type": "code",
   "execution_count": 3,
   "metadata": {},
   "outputs": [
    {
     "name": "stdout",
     "output_type": "stream",
     "text": [
      "The first movie in the data set was released in Apr 1, 1975 while the most recent was released in Sep 9, 2016\n"
     ]
    }
   ],
   "source": [
    "print(f\"\"\"The first movie in the data set was released in {df['release_date'].min()} while the most recent was released in {df['release_date'].max()}\"\"\")"
   ]
  },
  {
   "cell_type": "markdown",
   "metadata": {},
   "source": [
    "The Numbers dataset contains information on about 5800 films, released from 1975 through 2016.\n",
    "It is also the only data set to contain the films' budgets and grosses, while containing more relevant information than, say, the Box Office Mojo dataset, which only has about 3500 records."
   ]
  },
  {
   "cell_type": "code",
   "execution_count": 4,
   "metadata": {},
   "outputs": [
    {
     "data": {
      "text/html": [
       "<div>\n",
       "<style scoped>\n",
       "    .dataframe tbody tr th:only-of-type {\n",
       "        vertical-align: middle;\n",
       "    }\n",
       "\n",
       "    .dataframe tbody tr th {\n",
       "        vertical-align: top;\n",
       "    }\n",
       "\n",
       "    .dataframe thead th {\n",
       "        text-align: right;\n",
       "    }\n",
       "</style>\n",
       "<table border=\"1\" class=\"dataframe\">\n",
       "  <thead>\n",
       "    <tr style=\"text-align: right;\">\n",
       "      <th></th>\n",
       "      <th>release_date</th>\n",
       "      <th>movie</th>\n",
       "      <th>production_budget</th>\n",
       "      <th>domestic_gross</th>\n",
       "      <th>worldwide_gross</th>\n",
       "    </tr>\n",
       "    <tr>\n",
       "      <th>id</th>\n",
       "      <th></th>\n",
       "      <th></th>\n",
       "      <th></th>\n",
       "      <th></th>\n",
       "      <th></th>\n",
       "    </tr>\n",
       "  </thead>\n",
       "  <tbody>\n",
       "    <tr>\n",
       "      <th>79</th>\n",
       "      <td>Sep 18, 2015</td>\n",
       "      <td>La navaja de Don Juan</td>\n",
       "      <td>$1,200,000</td>\n",
       "      <td>$4,254</td>\n",
       "      <td>$4,254</td>\n",
       "    </tr>\n",
       "    <tr>\n",
       "      <th>19</th>\n",
       "      <td>Apr 11, 2003</td>\n",
       "      <td>House of 1,000 Corpses</td>\n",
       "      <td>$7,000,000</td>\n",
       "      <td>$12,634,962</td>\n",
       "      <td>$17,005,466</td>\n",
       "    </tr>\n",
       "    <tr>\n",
       "      <th>46</th>\n",
       "      <td>Feb 7, 1992</td>\n",
       "      <td>Medicine Man</td>\n",
       "      <td>$40,000,000</td>\n",
       "      <td>$44,948,240</td>\n",
       "      <td>$44,948,240</td>\n",
       "    </tr>\n",
       "  </tbody>\n",
       "</table>\n",
       "</div>"
      ],
      "text/plain": [
       "    release_date                   movie production_budget domestic_gross  \\\n",
       "id                                                                          \n",
       "79  Sep 18, 2015   La navaja de Don Juan        $1,200,000         $4,254   \n",
       "19  Apr 11, 2003  House of 1,000 Corpses        $7,000,000    $12,634,962   \n",
       "46   Feb 7, 1992            Medicine Man       $40,000,000    $44,948,240   \n",
       "\n",
       "   worldwide_gross  \n",
       "id                  \n",
       "79          $4,254  \n",
       "19     $17,005,466  \n",
       "46     $44,948,240  "
      ]
     },
     "execution_count": 4,
     "metadata": {},
     "output_type": "execute_result"
    }
   ],
   "source": [
    "# A sample of the dataframe\n",
    "df.sample(3)"
   ]
  },
  {
   "cell_type": "code",
   "execution_count": 5,
   "metadata": {},
   "outputs": [
    {
     "name": "stdout",
     "output_type": "stream",
     "text": [
      "<class 'pandas.core.frame.DataFrame'>\n",
      "Int64Index: 5782 entries, 1 to 82\n",
      "Data columns (total 5 columns):\n",
      " #   Column             Non-Null Count  Dtype \n",
      "---  ------             --------------  ----- \n",
      " 0   release_date       5782 non-null   object\n",
      " 1   movie              5782 non-null   object\n",
      " 2   production_budget  5782 non-null   object\n",
      " 3   domestic_gross     5782 non-null   object\n",
      " 4   worldwide_gross    5782 non-null   object\n",
      "dtypes: object(5)\n",
      "memory usage: 271.0+ KB\n"
     ]
    }
   ],
   "source": [
    "df.info()"
   ]
  },
  {
   "cell_type": "markdown",
   "metadata": {},
   "source": [
    "## Data Cleaning and Organization ##"
   ]
  },
  {
   "cell_type": "markdown",
   "metadata": {},
   "source": [
    "The next step is to clean and organize the data. This involves converting the numbers to floats, removing any \"zero\" values from the worldwide_gross column, and adding a \"year\" column.\n",
    "\n",
    "For the purpose of this dataset, we will be filtering out anything made before the year 2000."
   ]
  },
  {
   "cell_type": "code",
   "execution_count": 6,
   "metadata": {},
   "outputs": [
    {
     "data": {
      "text/html": [
       "<div>\n",
       "<style scoped>\n",
       "    .dataframe tbody tr th:only-of-type {\n",
       "        vertical-align: middle;\n",
       "    }\n",
       "\n",
       "    .dataframe tbody tr th {\n",
       "        vertical-align: top;\n",
       "    }\n",
       "\n",
       "    .dataframe thead th {\n",
       "        text-align: right;\n",
       "    }\n",
       "</style>\n",
       "<table border=\"1\" class=\"dataframe\">\n",
       "  <thead>\n",
       "    <tr style=\"text-align: right;\">\n",
       "      <th></th>\n",
       "      <th>release_date</th>\n",
       "      <th>movie</th>\n",
       "      <th>production_budget</th>\n",
       "      <th>domestic_gross</th>\n",
       "      <th>worldwide_gross</th>\n",
       "    </tr>\n",
       "    <tr>\n",
       "      <th>id</th>\n",
       "      <th></th>\n",
       "      <th></th>\n",
       "      <th></th>\n",
       "      <th></th>\n",
       "      <th></th>\n",
       "    </tr>\n",
       "  </thead>\n",
       "  <tbody>\n",
       "    <tr>\n",
       "      <th>1</th>\n",
       "      <td>Dec 18, 2009</td>\n",
       "      <td>Avatar</td>\n",
       "      <td>425000000.0</td>\n",
       "      <td>760507625.0</td>\n",
       "      <td>2.776345e+09</td>\n",
       "    </tr>\n",
       "    <tr>\n",
       "      <th>2</th>\n",
       "      <td>May 20, 2011</td>\n",
       "      <td>Pirates of the Caribbean: On Stranger Tides</td>\n",
       "      <td>410600000.0</td>\n",
       "      <td>241063875.0</td>\n",
       "      <td>1.045664e+09</td>\n",
       "    </tr>\n",
       "    <tr>\n",
       "      <th>3</th>\n",
       "      <td>Jun 7, 2019</td>\n",
       "      <td>Dark Phoenix</td>\n",
       "      <td>350000000.0</td>\n",
       "      <td>42762350.0</td>\n",
       "      <td>1.497624e+08</td>\n",
       "    </tr>\n",
       "    <tr>\n",
       "      <th>4</th>\n",
       "      <td>May 1, 2015</td>\n",
       "      <td>Avengers: Age of Ultron</td>\n",
       "      <td>330600000.0</td>\n",
       "      <td>459005868.0</td>\n",
       "      <td>1.403014e+09</td>\n",
       "    </tr>\n",
       "    <tr>\n",
       "      <th>5</th>\n",
       "      <td>Dec 15, 2017</td>\n",
       "      <td>Star Wars Ep. VIII: The Last Jedi</td>\n",
       "      <td>317000000.0</td>\n",
       "      <td>620181382.0</td>\n",
       "      <td>1.316722e+09</td>\n",
       "    </tr>\n",
       "  </tbody>\n",
       "</table>\n",
       "</div>"
      ],
      "text/plain": [
       "    release_date                                        movie  \\\n",
       "id                                                              \n",
       "1   Dec 18, 2009                                       Avatar   \n",
       "2   May 20, 2011  Pirates of the Caribbean: On Stranger Tides   \n",
       "3    Jun 7, 2019                                 Dark Phoenix   \n",
       "4    May 1, 2015                      Avengers: Age of Ultron   \n",
       "5   Dec 15, 2017            Star Wars Ep. VIII: The Last Jedi   \n",
       "\n",
       "    production_budget  domestic_gross  worldwide_gross  \n",
       "id                                                      \n",
       "1         425000000.0     760507625.0     2.776345e+09  \n",
       "2         410600000.0     241063875.0     1.045664e+09  \n",
       "3         350000000.0      42762350.0     1.497624e+08  \n",
       "4         330600000.0     459005868.0     1.403014e+09  \n",
       "5         317000000.0     620181382.0     1.316722e+09  "
      ]
     },
     "execution_count": 6,
     "metadata": {},
     "output_type": "execute_result"
    }
   ],
   "source": [
    "df['production_budget'] = df['production_budget'].map(lambda x: x.strip('$')).str.replace(',','').astype(float)\n",
    "df['domestic_gross'] = df['domestic_gross'].map(lambda x: x.strip('$')).str.replace(',','').astype(float)\n",
    "df['worldwide_gross'] = df['worldwide_gross'].map(lambda x: x.strip('$')).str.replace(',','').astype(float)\n",
    "df.head()"
   ]
  },
  {
   "cell_type": "markdown",
   "metadata": {},
   "source": [
    "Now that we have raw numbers as floats, we can start working with our data.\n",
    "\n",
    "Note: the worldwide_gross column is too large to display its whole numbers, hence the Scientific Notation."
   ]
  },
  {
   "cell_type": "code",
   "execution_count": 7,
   "metadata": {},
   "outputs": [
    {
     "name": "stderr",
     "output_type": "stream",
     "text": [
      "<ipython-input-7-e18349e1590d>:2: FutureWarning: The pandas.np module is deprecated and will be removed from pandas in a future version. Import numpy directly instead\n",
      "  df['worldwide_gross'] = df['worldwide_gross'].replace(0, pd.np.nan)\n"
     ]
    }
   ],
   "source": [
    "# dropping all \"0\" values from the worldwide_gross column\n",
    "df['worldwide_gross'] = df['worldwide_gross'].replace(0, pd.np.nan)\n",
    "df = df.dropna()"
   ]
  },
  {
   "cell_type": "markdown",
   "metadata": {},
   "source": [
    "Now we'll add three columns:\n",
    "\n",
    "Profit: this is the raw profit (worldwide gross - production budget).\n",
    "\n",
    "ROI: this is being used as a \"profit margin\" column or a \"percentage profit\" column.\n",
    "\n",
    "Release Year: What year did this film come out in."
   ]
  },
  {
   "cell_type": "code",
   "execution_count": 8,
   "metadata": {},
   "outputs": [],
   "source": [
    "df['profit'] = df['worldwide_gross'] - df['production_budget']"
   ]
  },
  {
   "cell_type": "code",
   "execution_count": 9,
   "metadata": {},
   "outputs": [],
   "source": [
    "df['roi'] = round(((df['profit']/df['production_budget']) * 100), 2)"
   ]
  },
  {
   "cell_type": "code",
   "execution_count": 10,
   "metadata": {},
   "outputs": [],
   "source": [
    "df['release_year'] = df['release_date'].map(lambda x: int(x[-4:]))"
   ]
  },
  {
   "cell_type": "code",
   "execution_count": 11,
   "metadata": {},
   "outputs": [
    {
     "data": {
      "text/html": [
       "<div>\n",
       "<style scoped>\n",
       "    .dataframe tbody tr th:only-of-type {\n",
       "        vertical-align: middle;\n",
       "    }\n",
       "\n",
       "    .dataframe tbody tr th {\n",
       "        vertical-align: top;\n",
       "    }\n",
       "\n",
       "    .dataframe thead th {\n",
       "        text-align: right;\n",
       "    }\n",
       "</style>\n",
       "<table border=\"1\" class=\"dataframe\">\n",
       "  <thead>\n",
       "    <tr style=\"text-align: right;\">\n",
       "      <th></th>\n",
       "      <th>release_date</th>\n",
       "      <th>movie</th>\n",
       "      <th>production_budget</th>\n",
       "      <th>domestic_gross</th>\n",
       "      <th>worldwide_gross</th>\n",
       "      <th>profit</th>\n",
       "      <th>roi</th>\n",
       "      <th>release_year</th>\n",
       "    </tr>\n",
       "    <tr>\n",
       "      <th>id</th>\n",
       "      <th></th>\n",
       "      <th></th>\n",
       "      <th></th>\n",
       "      <th></th>\n",
       "      <th></th>\n",
       "      <th></th>\n",
       "      <th></th>\n",
       "      <th></th>\n",
       "    </tr>\n",
       "  </thead>\n",
       "  <tbody>\n",
       "    <tr>\n",
       "      <th>1</th>\n",
       "      <td>Dec 18, 2009</td>\n",
       "      <td>Avatar</td>\n",
       "      <td>425000000.0</td>\n",
       "      <td>760507625.0</td>\n",
       "      <td>2.776345e+09</td>\n",
       "      <td>2.351345e+09</td>\n",
       "      <td>553.26</td>\n",
       "      <td>2009</td>\n",
       "    </tr>\n",
       "    <tr>\n",
       "      <th>2</th>\n",
       "      <td>May 20, 2011</td>\n",
       "      <td>Pirates of the Caribbean: On Stranger Tides</td>\n",
       "      <td>410600000.0</td>\n",
       "      <td>241063875.0</td>\n",
       "      <td>1.045664e+09</td>\n",
       "      <td>6.350639e+08</td>\n",
       "      <td>154.67</td>\n",
       "      <td>2011</td>\n",
       "    </tr>\n",
       "    <tr>\n",
       "      <th>3</th>\n",
       "      <td>Jun 7, 2019</td>\n",
       "      <td>Dark Phoenix</td>\n",
       "      <td>350000000.0</td>\n",
       "      <td>42762350.0</td>\n",
       "      <td>1.497624e+08</td>\n",
       "      <td>-2.002376e+08</td>\n",
       "      <td>-57.21</td>\n",
       "      <td>2019</td>\n",
       "    </tr>\n",
       "    <tr>\n",
       "      <th>4</th>\n",
       "      <td>May 1, 2015</td>\n",
       "      <td>Avengers: Age of Ultron</td>\n",
       "      <td>330600000.0</td>\n",
       "      <td>459005868.0</td>\n",
       "      <td>1.403014e+09</td>\n",
       "      <td>1.072414e+09</td>\n",
       "      <td>324.38</td>\n",
       "      <td>2015</td>\n",
       "    </tr>\n",
       "    <tr>\n",
       "      <th>5</th>\n",
       "      <td>Dec 15, 2017</td>\n",
       "      <td>Star Wars Ep. VIII: The Last Jedi</td>\n",
       "      <td>317000000.0</td>\n",
       "      <td>620181382.0</td>\n",
       "      <td>1.316722e+09</td>\n",
       "      <td>9.997217e+08</td>\n",
       "      <td>315.37</td>\n",
       "      <td>2017</td>\n",
       "    </tr>\n",
       "  </tbody>\n",
       "</table>\n",
       "</div>"
      ],
      "text/plain": [
       "    release_date                                        movie  \\\n",
       "id                                                              \n",
       "1   Dec 18, 2009                                       Avatar   \n",
       "2   May 20, 2011  Pirates of the Caribbean: On Stranger Tides   \n",
       "3    Jun 7, 2019                                 Dark Phoenix   \n",
       "4    May 1, 2015                      Avengers: Age of Ultron   \n",
       "5   Dec 15, 2017            Star Wars Ep. VIII: The Last Jedi   \n",
       "\n",
       "    production_budget  domestic_gross  worldwide_gross        profit     roi  \\\n",
       "id                                                                             \n",
       "1         425000000.0     760507625.0     2.776345e+09  2.351345e+09  553.26   \n",
       "2         410600000.0     241063875.0     1.045664e+09  6.350639e+08  154.67   \n",
       "3         350000000.0      42762350.0     1.497624e+08 -2.002376e+08  -57.21   \n",
       "4         330600000.0     459005868.0     1.403014e+09  1.072414e+09  324.38   \n",
       "5         317000000.0     620181382.0     1.316722e+09  9.997217e+08  315.37   \n",
       "\n",
       "    release_year  \n",
       "id                \n",
       "1           2009  \n",
       "2           2011  \n",
       "3           2019  \n",
       "4           2015  \n",
       "5           2017  "
      ]
     },
     "execution_count": 11,
     "metadata": {},
     "output_type": "execute_result"
    }
   ],
   "source": [
    "# let's check our df\n",
    "df.head()"
   ]
  },
  {
   "cell_type": "code",
   "execution_count": 12,
   "metadata": {},
   "outputs": [
    {
     "name": "stdout",
     "output_type": "stream",
     "text": [
      "<class 'pandas.core.frame.DataFrame'>\n",
      "Int64Index: 5415 entries, 1 to 82\n",
      "Data columns (total 8 columns):\n",
      " #   Column             Non-Null Count  Dtype  \n",
      "---  ------             --------------  -----  \n",
      " 0   release_date       5415 non-null   object \n",
      " 1   movie              5415 non-null   object \n",
      " 2   production_budget  5415 non-null   float64\n",
      " 3   domestic_gross     5415 non-null   float64\n",
      " 4   worldwide_gross    5415 non-null   float64\n",
      " 5   profit             5415 non-null   float64\n",
      " 6   roi                5415 non-null   float64\n",
      " 7   release_year       5415 non-null   int64  \n",
      "dtypes: float64(5), int64(1), object(2)\n",
      "memory usage: 380.7+ KB\n"
     ]
    }
   ],
   "source": [
    "# quick check of the info\n",
    "df.info()"
   ]
  },
  {
   "cell_type": "markdown",
   "metadata": {},
   "source": [
    "## Initial Data Analysis ##"
   ]
  },
  {
   "cell_type": "markdown",
   "metadata": {},
   "source": [
    "Let's check our statistics out and see what they have to tell us."
   ]
  },
  {
   "cell_type": "code",
   "execution_count": 13,
   "metadata": {},
   "outputs": [
    {
     "data": {
      "text/html": [
       "<div>\n",
       "<style scoped>\n",
       "    .dataframe tbody tr th:only-of-type {\n",
       "        vertical-align: middle;\n",
       "    }\n",
       "\n",
       "    .dataframe tbody tr th {\n",
       "        vertical-align: top;\n",
       "    }\n",
       "\n",
       "    .dataframe thead th {\n",
       "        text-align: right;\n",
       "    }\n",
       "</style>\n",
       "<table border=\"1\" class=\"dataframe\">\n",
       "  <thead>\n",
       "    <tr style=\"text-align: right;\">\n",
       "      <th></th>\n",
       "      <th>production_budget</th>\n",
       "      <th>domestic_gross</th>\n",
       "      <th>worldwide_gross</th>\n",
       "      <th>profit</th>\n",
       "      <th>roi</th>\n",
       "      <th>release_year</th>\n",
       "    </tr>\n",
       "  </thead>\n",
       "  <tbody>\n",
       "    <tr>\n",
       "      <th>count</th>\n",
       "      <td>5.415000e+03</td>\n",
       "      <td>5.415000e+03</td>\n",
       "      <td>5.415000e+03</td>\n",
       "      <td>5.415000e+03</td>\n",
       "      <td>5415.000000</td>\n",
       "      <td>5415.000000</td>\n",
       "    </tr>\n",
       "    <tr>\n",
       "      <th>mean</th>\n",
       "      <td>3.330801e+07</td>\n",
       "      <td>4.471128e+07</td>\n",
       "      <td>9.768800e+07</td>\n",
       "      <td>6.437999e+07</td>\n",
       "      <td>412.549117</td>\n",
       "      <td>2003.599446</td>\n",
       "    </tr>\n",
       "    <tr>\n",
       "      <th>std</th>\n",
       "      <td>4.248758e+07</td>\n",
       "      <td>6.960989e+07</td>\n",
       "      <td>1.788591e+08</td>\n",
       "      <td>1.498581e+08</td>\n",
       "      <td>3048.742004</td>\n",
       "      <td>12.546965</td>\n",
       "    </tr>\n",
       "    <tr>\n",
       "      <th>min</th>\n",
       "      <td>1.100000e+03</td>\n",
       "      <td>0.000000e+00</td>\n",
       "      <td>2.600000e+01</td>\n",
       "      <td>-2.002376e+08</td>\n",
       "      <td>-100.000000</td>\n",
       "      <td>1915.000000</td>\n",
       "    </tr>\n",
       "    <tr>\n",
       "      <th>25%</th>\n",
       "      <td>6.000000e+06</td>\n",
       "      <td>3.160708e+06</td>\n",
       "      <td>7.004834e+06</td>\n",
       "      <td>-1.862082e+06</td>\n",
       "      <td>-29.895000</td>\n",
       "      <td>1999.000000</td>\n",
       "    </tr>\n",
       "    <tr>\n",
       "      <th>50%</th>\n",
       "      <td>1.900000e+07</td>\n",
       "      <td>2.030022e+07</td>\n",
       "      <td>3.333987e+07</td>\n",
       "      <td>1.190000e+07</td>\n",
       "      <td>88.490000</td>\n",
       "      <td>2006.000000</td>\n",
       "    </tr>\n",
       "    <tr>\n",
       "      <th>75%</th>\n",
       "      <td>4.200000e+07</td>\n",
       "      <td>5.578249e+07</td>\n",
       "      <td>1.044590e+08</td>\n",
       "      <td>6.737924e+07</td>\n",
       "      <td>296.875000</td>\n",
       "      <td>2012.000000</td>\n",
       "    </tr>\n",
       "    <tr>\n",
       "      <th>max</th>\n",
       "      <td>4.250000e+08</td>\n",
       "      <td>9.366622e+08</td>\n",
       "      <td>2.776345e+09</td>\n",
       "      <td>2.351345e+09</td>\n",
       "      <td>179900.000000</td>\n",
       "      <td>2019.000000</td>\n",
       "    </tr>\n",
       "  </tbody>\n",
       "</table>\n",
       "</div>"
      ],
      "text/plain": [
       "       production_budget  domestic_gross  worldwide_gross        profit  \\\n",
       "count       5.415000e+03    5.415000e+03     5.415000e+03  5.415000e+03   \n",
       "mean        3.330801e+07    4.471128e+07     9.768800e+07  6.437999e+07   \n",
       "std         4.248758e+07    6.960989e+07     1.788591e+08  1.498581e+08   \n",
       "min         1.100000e+03    0.000000e+00     2.600000e+01 -2.002376e+08   \n",
       "25%         6.000000e+06    3.160708e+06     7.004834e+06 -1.862082e+06   \n",
       "50%         1.900000e+07    2.030022e+07     3.333987e+07  1.190000e+07   \n",
       "75%         4.200000e+07    5.578249e+07     1.044590e+08  6.737924e+07   \n",
       "max         4.250000e+08    9.366622e+08     2.776345e+09  2.351345e+09   \n",
       "\n",
       "                 roi  release_year  \n",
       "count    5415.000000   5415.000000  \n",
       "mean      412.549117   2003.599446  \n",
       "std      3048.742004     12.546965  \n",
       "min      -100.000000   1915.000000  \n",
       "25%       -29.895000   1999.000000  \n",
       "50%        88.490000   2006.000000  \n",
       "75%       296.875000   2012.000000  \n",
       "max    179900.000000   2019.000000  "
      ]
     },
     "execution_count": 13,
     "metadata": {},
     "output_type": "execute_result"
    }
   ],
   "source": [
    "df.describe()"
   ]
  },
  {
   "cell_type": "markdown",
   "metadata": {},
   "source": [
    "Ok, we can see there is currently 5,415 records. The average production budget is 33m, while the median is 19m.\n",
    "\n",
    "The Standard Deviation is massive though. Let's start filtering out data."
   ]
  },
  {
   "cell_type": "markdown",
   "metadata": {},
   "source": [
    "## Data Filtering ##"
   ]
  },
  {
   "cell_type": "code",
   "execution_count": 14,
   "metadata": {},
   "outputs": [],
   "source": [
    "# let's start with the year.\n",
    "# Anything older than the year 2005 will be removed, so we have a 10 year scope, using the last decade.\n",
    "filtered_df = df[df['release_year'] >= 2005]"
   ]
  },
  {
   "cell_type": "code",
   "execution_count": 15,
   "metadata": {},
   "outputs": [
    {
     "name": "stdout",
     "output_type": "stream",
     "text": [
      "<class 'pandas.core.frame.DataFrame'>\n",
      "Int64Index: 3070 entries, 1 to 82\n",
      "Data columns (total 8 columns):\n",
      " #   Column             Non-Null Count  Dtype  \n",
      "---  ------             --------------  -----  \n",
      " 0   release_date       3070 non-null   object \n",
      " 1   movie              3070 non-null   object \n",
      " 2   production_budget  3070 non-null   float64\n",
      " 3   domestic_gross     3070 non-null   float64\n",
      " 4   worldwide_gross    3070 non-null   float64\n",
      " 5   profit             3070 non-null   float64\n",
      " 6   roi                3070 non-null   float64\n",
      " 7   release_year       3070 non-null   int64  \n",
      "dtypes: float64(5), int64(1), object(2)\n",
      "memory usage: 215.9+ KB\n"
     ]
    }
   ],
   "source": [
    "filtered_df.info()"
   ]
  },
  {
   "cell_type": "code",
   "execution_count": 16,
   "metadata": {},
   "outputs": [
    {
     "data": {
      "text/html": [
       "<div>\n",
       "<style scoped>\n",
       "    .dataframe tbody tr th:only-of-type {\n",
       "        vertical-align: middle;\n",
       "    }\n",
       "\n",
       "    .dataframe tbody tr th {\n",
       "        vertical-align: top;\n",
       "    }\n",
       "\n",
       "    .dataframe thead th {\n",
       "        text-align: right;\n",
       "    }\n",
       "</style>\n",
       "<table border=\"1\" class=\"dataframe\">\n",
       "  <thead>\n",
       "    <tr style=\"text-align: right;\">\n",
       "      <th></th>\n",
       "      <th>release_date</th>\n",
       "      <th>movie</th>\n",
       "      <th>production_budget</th>\n",
       "      <th>domestic_gross</th>\n",
       "      <th>worldwide_gross</th>\n",
       "      <th>profit</th>\n",
       "      <th>roi</th>\n",
       "      <th>release_year</th>\n",
       "    </tr>\n",
       "    <tr>\n",
       "      <th>id</th>\n",
       "      <th></th>\n",
       "      <th></th>\n",
       "      <th></th>\n",
       "      <th></th>\n",
       "      <th></th>\n",
       "      <th></th>\n",
       "      <th></th>\n",
       "      <th></th>\n",
       "    </tr>\n",
       "  </thead>\n",
       "  <tbody>\n",
       "    <tr>\n",
       "      <th>82</th>\n",
       "      <td>Aug 5, 2005</td>\n",
       "      <td>My Date With Drew</td>\n",
       "      <td>1100.0</td>\n",
       "      <td>181041.0</td>\n",
       "      <td>181041.0</td>\n",
       "      <td>179941.0</td>\n",
       "      <td>16358.27</td>\n",
       "      <td>2005</td>\n",
       "    </tr>\n",
       "  </tbody>\n",
       "</table>\n",
       "</div>"
      ],
      "text/plain": [
       "   release_date              movie  production_budget  domestic_gross  \\\n",
       "id                                                                      \n",
       "82  Aug 5, 2005  My Date With Drew             1100.0        181041.0   \n",
       "\n",
       "    worldwide_gross    profit       roi  release_year  \n",
       "id                                                     \n",
       "82         181041.0  179941.0  16358.27          2005  "
      ]
     },
     "execution_count": 16,
     "metadata": {},
     "output_type": "execute_result"
    }
   ],
   "source": [
    "lowest_film = df[(df['production_budget'] == df['production_budget'].min())]\n",
    "lowest_film"
   ]
  },
  {
   "cell_type": "code",
   "execution_count": 17,
   "metadata": {},
   "outputs": [
    {
     "data": {
      "text/html": [
       "<div>\n",
       "<style scoped>\n",
       "    .dataframe tbody tr th:only-of-type {\n",
       "        vertical-align: middle;\n",
       "    }\n",
       "\n",
       "    .dataframe tbody tr th {\n",
       "        vertical-align: top;\n",
       "    }\n",
       "\n",
       "    .dataframe thead th {\n",
       "        text-align: right;\n",
       "    }\n",
       "</style>\n",
       "<table border=\"1\" class=\"dataframe\">\n",
       "  <thead>\n",
       "    <tr style=\"text-align: right;\">\n",
       "      <th></th>\n",
       "      <th>release_date</th>\n",
       "      <th>movie</th>\n",
       "      <th>production_budget</th>\n",
       "      <th>domestic_gross</th>\n",
       "      <th>worldwide_gross</th>\n",
       "      <th>profit</th>\n",
       "      <th>roi</th>\n",
       "      <th>release_year</th>\n",
       "    </tr>\n",
       "    <tr>\n",
       "      <th>id</th>\n",
       "      <th></th>\n",
       "      <th></th>\n",
       "      <th></th>\n",
       "      <th></th>\n",
       "      <th></th>\n",
       "      <th></th>\n",
       "      <th></th>\n",
       "      <th></th>\n",
       "    </tr>\n",
       "  </thead>\n",
       "  <tbody>\n",
       "    <tr>\n",
       "      <th>1</th>\n",
       "      <td>Dec 18, 2009</td>\n",
       "      <td>Avatar</td>\n",
       "      <td>425000000.0</td>\n",
       "      <td>760507625.0</td>\n",
       "      <td>2.776345e+09</td>\n",
       "      <td>2.351345e+09</td>\n",
       "      <td>553.26</td>\n",
       "      <td>2009</td>\n",
       "    </tr>\n",
       "  </tbody>\n",
       "</table>\n",
       "</div>"
      ],
      "text/plain": [
       "    release_date   movie  production_budget  domestic_gross  worldwide_gross  \\\n",
       "id                                                                             \n",
       "1   Dec 18, 2009  Avatar        425000000.0     760507625.0     2.776345e+09   \n",
       "\n",
       "          profit     roi  release_year  \n",
       "id                                      \n",
       "1   2.351345e+09  553.26          2009  "
      ]
     },
     "execution_count": 17,
     "metadata": {},
     "output_type": "execute_result"
    }
   ],
   "source": [
    "highest_film = df[(df['production_budget'] == df['production_budget'].max())]\n",
    "highest_film"
   ]
  },
  {
   "cell_type": "markdown",
   "metadata": {},
   "source": [
    "We removed about 2400 records.\n",
    "\n",
    "Let's first look at the range of production budgets"
   ]
  },
  {
   "cell_type": "code",
   "execution_count": 18,
   "metadata": {
    "scrolled": true
   },
   "outputs": [
    {
     "data": {
      "text/plain": [
       "[1100.0, 425000000.0]"
      ]
     },
     "execution_count": 18,
     "metadata": {},
     "output_type": "execute_result"
    }
   ],
   "source": [
    "df_range = [filtered_df['production_budget'].min(),filtered_df['production_budget'].max()]\n",
    "df_range"
   ]
  },
  {
   "cell_type": "markdown",
   "metadata": {},
   "source": [
    "Pretty steep range of 1,100 to 425,000,000 usd.\n",
    "\n",
    "Let's take a quick look at some stats, then a histogram and boxplot of the data."
   ]
  },
  {
   "cell_type": "code",
   "execution_count": 19,
   "metadata": {},
   "outputs": [
    {
     "name": "stdout",
     "output_type": "stream",
     "text": [
      "The mean is 38177695.47 while the standard deviation is 49792409.08. Meanwhile, the Median is 20000000.0.\n"
     ]
    }
   ],
   "source": [
    "filt_std = round(filtered_df['production_budget'].std(),2)\n",
    "filt_mean = round(filtered_df['production_budget'].mean(),2)\n",
    "filt_median = round(filtered_df['production_budget'].median(),2)\n",
    "print(f\"\"\"The mean is {filt_mean} while the standard deviation is {filt_std}. Meanwhile, the Median is {filt_median}.\"\"\")"
   ]
  },
  {
   "cell_type": "code",
   "execution_count": 20,
   "metadata": {},
   "outputs": [
    {
     "name": "stdout",
     "output_type": "stream",
     "text": [
      "Meanwhile, the 25th percentile is 7000000.0 and the 75th is 46375000.0.\n"
     ]
    }
   ],
   "source": [
    "filt_25_percentile = filtered_df['production_budget'].quantile(.25)\n",
    "filt_75_percentile = filtered_df['production_budget'].quantile(.75)\n",
    "print(f\"\"\"Meanwhile, the 25th percentile is {filt_25_percentile} and the 75th is {filt_75_percentile}.\"\"\")"
   ]
  },
  {
   "cell_type": "code",
   "execution_count": 21,
   "metadata": {
    "scrolled": false
   },
   "outputs": [
    {
     "data": {
      "image/png": "[encoded data removed]",
      "text/plain": [
       "<Figure size 432x288 with 1 Axes>"
      ]
     },
     "metadata": {
      "needs_background": "light"
     },
     "output_type": "display_data"
    }
   ],
   "source": [
    "sns.histplot(data=filtered_df, x='production_budget',bins=15);"
   ]
  },
  {
   "cell_type": "code",
   "execution_count": 22,
   "metadata": {},
   "outputs": [
    {
     "data": {
      "image/png": "[encoded data removed]",
      "text/plain": [
       "<Figure size 432x288 with 1 Axes>"
      ]
     },
     "metadata": {
      "needs_background": "light"
     },
     "output_type": "display_data"
    }
   ],
   "source": [
    "filtered_df.boxplot('production_budget', showfliers=False);"
   ]
  },
  {
   "cell_type": "markdown",
   "metadata": {},
   "source": [
    "As we can see, our production budget in the data set is mostly left-skewed (each number is that number x 100m).\n",
    "\n",
    "The boxplot tells us that most of the data really falls within the 100m area, with a median at 20m."
   ]
  },
  {
   "cell_type": "markdown",
   "metadata": {},
   "source": [
    "With a mean of 38,177,695.47 and a stddev of 49,792,409.08, we can see the majority of the data is heavily left-skewed, which is emphasized in the above charts.\n",
    "\n",
    "Knowing this, at this moment standard deviation is fairly meaningless, as even a single deviation to the left will cover all data below the mean.\n",
    "\n",
    "Let's divide the data up into three parts to make it more manageable. The first or \"meat\" of the data will be in a medium-ranged dataframe.\n",
    "\n",
    "This will be everything in the 25th to 75th percentile, which is seen in the boxchart. These numbers are 7,000,000 and 46,375,000."
   ]
  },
  {
   "cell_type": "code",
   "execution_count": 23,
   "metadata": {},
   "outputs": [
    {
     "name": "stdout",
     "output_type": "stream",
     "text": [
      "<class 'pandas.core.frame.DataFrame'>\n",
      "Int64Index: 1552 entries, 48 to 67\n",
      "Data columns (total 8 columns):\n",
      " #   Column             Non-Null Count  Dtype  \n",
      "---  ------             --------------  -----  \n",
      " 0   release_date       1552 non-null   object \n",
      " 1   movie              1552 non-null   object \n",
      " 2   production_budget  1552 non-null   float64\n",
      " 3   domestic_gross     1552 non-null   float64\n",
      " 4   worldwide_gross    1552 non-null   float64\n",
      " 5   profit             1552 non-null   float64\n",
      " 6   roi                1552 non-null   float64\n",
      " 7   release_year       1552 non-null   int64  \n",
      "dtypes: float64(5), int64(1), object(2)\n",
      "memory usage: 109.1+ KB\n"
     ]
    }
   ],
   "source": [
    "filtered_df_mid = filtered_df[(filtered_df['production_budget'] >= filt_25_percentile) & (filtered_df['production_budget'] <= filt_75_percentile)]\n",
    "filtered_df_mid.info()"
   ]
  },
  {
   "cell_type": "code",
   "execution_count": 24,
   "metadata": {},
   "outputs": [],
   "source": [
    "# filtered_df['production_budget'].hist(), filtered_df_mid['production_budget'].hist();\n",
    "# Does one on top of the other"
   ]
  },
  {
   "cell_type": "code",
   "execution_count": 25,
   "metadata": {},
   "outputs": [],
   "source": [
    "# fig, axs = plt.subplots(1,2)\n",
    "# filtered_df['production_budget'].hist(ax=axs[0],figsize=(18,5))\n",
    "# filtered_df_mid['production_budget'].hist(ax=axs[1]);\n",
    "# creates graphs next to each other"
   ]
  },
  {
   "cell_type": "markdown",
   "metadata": {},
   "source": [
    "## Analyzing the Data ##"
   ]
  },
  {
   "cell_type": "markdown",
   "metadata": {},
   "source": [
    "We're down to 2,339 records - great.\n",
    "\n",
    "From a table of 5782 records, we've eliminated any movie from before 2005, and any movie outside a budget of 5m-150m.\n",
    "\n",
    "For Microsoft to enter the film industry, what's a good production budget?"
   ]
  },
  {
   "cell_type": "code",
   "execution_count": 26,
   "metadata": {
    "scrolled": true
   },
   "outputs": [
    {
     "data": {
      "text/html": [
       "<div>\n",
       "<style scoped>\n",
       "    .dataframe tbody tr th:only-of-type {\n",
       "        vertical-align: middle;\n",
       "    }\n",
       "\n",
       "    .dataframe tbody tr th {\n",
       "        vertical-align: top;\n",
       "    }\n",
       "\n",
       "    .dataframe thead th {\n",
       "        text-align: right;\n",
       "    }\n",
       "</style>\n",
       "<table border=\"1\" class=\"dataframe\">\n",
       "  <thead>\n",
       "    <tr style=\"text-align: right;\">\n",
       "      <th></th>\n",
       "      <th>release_date</th>\n",
       "      <th>movie</th>\n",
       "      <th>production_budget</th>\n",
       "      <th>domestic_gross</th>\n",
       "      <th>worldwide_gross</th>\n",
       "      <th>profit</th>\n",
       "      <th>roi</th>\n",
       "      <th>release_year</th>\n",
       "    </tr>\n",
       "    <tr>\n",
       "      <th>id</th>\n",
       "      <th></th>\n",
       "      <th></th>\n",
       "      <th></th>\n",
       "      <th></th>\n",
       "      <th></th>\n",
       "      <th></th>\n",
       "      <th></th>\n",
       "      <th></th>\n",
       "    </tr>\n",
       "  </thead>\n",
       "  <tbody>\n",
       "    <tr>\n",
       "      <th>95</th>\n",
       "      <td>Aug 7, 2015</td>\n",
       "      <td>Ricki and the Flash</td>\n",
       "      <td>18000000.0</td>\n",
       "      <td>26839498.0</td>\n",
       "      <td>41166033.0</td>\n",
       "      <td>23166033.0</td>\n",
       "      <td>128.70</td>\n",
       "      <td>2015</td>\n",
       "    </tr>\n",
       "    <tr>\n",
       "      <th>26</th>\n",
       "      <td>Aug 12, 2005</td>\n",
       "      <td>Deuce Bigalow: European Gigolo</td>\n",
       "      <td>22000000.0</td>\n",
       "      <td>22400154.0</td>\n",
       "      <td>45273464.0</td>\n",
       "      <td>23273464.0</td>\n",
       "      <td>105.79</td>\n",
       "      <td>2005</td>\n",
       "    </tr>\n",
       "    <tr>\n",
       "      <th>54</th>\n",
       "      <td>Nov 6, 2009</td>\n",
       "      <td>Precious (Based on the Novel Push by Sapphire)</td>\n",
       "      <td>10000000.0</td>\n",
       "      <td>47566524.0</td>\n",
       "      <td>68722848.0</td>\n",
       "      <td>58722848.0</td>\n",
       "      <td>587.23</td>\n",
       "      <td>2009</td>\n",
       "    </tr>\n",
       "    <tr>\n",
       "      <th>12</th>\n",
       "      <td>Nov 16, 2012</td>\n",
       "      <td>Le prÃ©nom</td>\n",
       "      <td>11000000.0</td>\n",
       "      <td>61611.0</td>\n",
       "      <td>25307405.0</td>\n",
       "      <td>14307405.0</td>\n",
       "      <td>130.07</td>\n",
       "      <td>2012</td>\n",
       "    </tr>\n",
       "    <tr>\n",
       "      <th>90</th>\n",
       "      <td>Mar 3, 2006</td>\n",
       "      <td>Aquamarine</td>\n",
       "      <td>12000000.0</td>\n",
       "      <td>18597342.0</td>\n",
       "      <td>22978953.0</td>\n",
       "      <td>10978953.0</td>\n",
       "      <td>91.49</td>\n",
       "      <td>2006</td>\n",
       "    </tr>\n",
       "  </tbody>\n",
       "</table>\n",
       "</div>"
      ],
      "text/plain": [
       "    release_date                                           movie  \\\n",
       "id                                                                 \n",
       "95   Aug 7, 2015                             Ricki and the Flash   \n",
       "26  Aug 12, 2005                  Deuce Bigalow: European Gigolo   \n",
       "54   Nov 6, 2009  Precious (Based on the Novel Push by Sapphire)   \n",
       "12  Nov 16, 2012                                      Le prÃ©nom   \n",
       "90   Mar 3, 2006                                      Aquamarine   \n",
       "\n",
       "    production_budget  domestic_gross  worldwide_gross      profit     roi  \\\n",
       "id                                                                           \n",
       "95         18000000.0      26839498.0       41166033.0  23166033.0  128.70   \n",
       "26         22000000.0      22400154.0       45273464.0  23273464.0  105.79   \n",
       "54         10000000.0      47566524.0       68722848.0  58722848.0  587.23   \n",
       "12         11000000.0         61611.0       25307405.0  14307405.0  130.07   \n",
       "90         12000000.0      18597342.0       22978953.0  10978953.0   91.49   \n",
       "\n",
       "    release_year  \n",
       "id                \n",
       "95          2015  \n",
       "26          2005  \n",
       "54          2009  \n",
       "12          2012  \n",
       "90          2006  "
      ]
     },
     "execution_count": 26,
     "metadata": {},
     "output_type": "execute_result"
    }
   ],
   "source": [
    "# first let's take another look at what we still have in filtered_df\n",
    "filtered_df_mid.sample(5)"
   ]
  },
  {
   "cell_type": "code",
   "execution_count": 27,
   "metadata": {
    "scrolled": true
   },
   "outputs": [
    {
     "data": {
      "text/html": [
       "<div>\n",
       "<style scoped>\n",
       "    .dataframe tbody tr th:only-of-type {\n",
       "        vertical-align: middle;\n",
       "    }\n",
       "\n",
       "    .dataframe tbody tr th {\n",
       "        vertical-align: top;\n",
       "    }\n",
       "\n",
       "    .dataframe thead th {\n",
       "        text-align: right;\n",
       "    }\n",
       "</style>\n",
       "<table border=\"1\" class=\"dataframe\">\n",
       "  <thead>\n",
       "    <tr style=\"text-align: right;\">\n",
       "      <th></th>\n",
       "      <th>production_budget</th>\n",
       "      <th>worldwide_gross</th>\n",
       "      <th>profit</th>\n",
       "      <th>roi</th>\n",
       "    </tr>\n",
       "  </thead>\n",
       "  <tbody>\n",
       "    <tr>\n",
       "      <th>production_budget</th>\n",
       "      <td>1.000000</td>\n",
       "      <td>0.333498</td>\n",
       "      <td>0.186407</td>\n",
       "      <td>-0.080758</td>\n",
       "    </tr>\n",
       "    <tr>\n",
       "      <th>worldwide_gross</th>\n",
       "      <td>0.333498</td>\n",
       "      <td>1.000000</td>\n",
       "      <td>0.988393</td>\n",
       "      <td>0.795123</td>\n",
       "    </tr>\n",
       "    <tr>\n",
       "      <th>profit</th>\n",
       "      <td>0.186407</td>\n",
       "      <td>0.988393</td>\n",
       "      <td>1.000000</td>\n",
       "      <td>0.841638</td>\n",
       "    </tr>\n",
       "    <tr>\n",
       "      <th>roi</th>\n",
       "      <td>-0.080758</td>\n",
       "      <td>0.795123</td>\n",
       "      <td>0.841638</td>\n",
       "      <td>1.000000</td>\n",
       "    </tr>\n",
       "  </tbody>\n",
       "</table>\n",
       "</div>"
      ],
      "text/plain": [
       "                   production_budget  worldwide_gross    profit       roi\n",
       "production_budget           1.000000         0.333498  0.186407 -0.080758\n",
       "worldwide_gross             0.333498         1.000000  0.988393  0.795123\n",
       "profit                      0.186407         0.988393  1.000000  0.841638\n",
       "roi                        -0.080758         0.795123  0.841638  1.000000"
      ]
     },
     "execution_count": 27,
     "metadata": {},
     "output_type": "execute_result"
    }
   ],
   "source": [
    "# basic correlation between the variables\n",
    "filtered_df_mid[['production_budget', 'worldwide_gross', 'profit', 'roi']].corr()"
   ]
  },
  {
   "cell_type": "markdown",
   "metadata": {},
   "source": [
    "Let's also compare the outlier ranges of below 5 million and above 150 million."
   ]
  },
  {
   "cell_type": "code",
   "execution_count": 28,
   "metadata": {},
   "outputs": [],
   "source": [
    "filtered_df_low = filtered_df[(filtered_df['production_budget'] < filt_25_percentile)]\n",
    "filtered_df_high = filtered_df[(filtered_df['production_budget'] > filt_75_percentile)]"
   ]
  },
  {
   "cell_type": "code",
   "execution_count": 29,
   "metadata": {},
   "outputs": [
    {
     "data": {
      "text/html": [
       "<div>\n",
       "<style scoped>\n",
       "    .dataframe tbody tr th:only-of-type {\n",
       "        vertical-align: middle;\n",
       "    }\n",
       "\n",
       "    .dataframe tbody tr th {\n",
       "        vertical-align: top;\n",
       "    }\n",
       "\n",
       "    .dataframe thead th {\n",
       "        text-align: right;\n",
       "    }\n",
       "</style>\n",
       "<table border=\"1\" class=\"dataframe\">\n",
       "  <thead>\n",
       "    <tr style=\"text-align: right;\">\n",
       "      <th></th>\n",
       "      <th>release_date</th>\n",
       "      <th>movie</th>\n",
       "      <th>production_budget</th>\n",
       "      <th>domestic_gross</th>\n",
       "      <th>worldwide_gross</th>\n",
       "      <th>profit</th>\n",
       "      <th>roi</th>\n",
       "      <th>release_year</th>\n",
       "    </tr>\n",
       "    <tr>\n",
       "      <th>id</th>\n",
       "      <th></th>\n",
       "      <th></th>\n",
       "      <th></th>\n",
       "      <th></th>\n",
       "      <th></th>\n",
       "      <th></th>\n",
       "      <th></th>\n",
       "      <th></th>\n",
       "    </tr>\n",
       "  </thead>\n",
       "  <tbody>\n",
       "    <tr>\n",
       "      <th>49</th>\n",
       "      <td>Sep 18, 2009</td>\n",
       "      <td>The Secrets of Jonathan Sperry</td>\n",
       "      <td>1000000.0</td>\n",
       "      <td>1355079.0</td>\n",
       "      <td>1355079.0</td>\n",
       "      <td>355079.0</td>\n",
       "      <td>35.51</td>\n",
       "      <td>2009</td>\n",
       "    </tr>\n",
       "    <tr>\n",
       "      <th>29</th>\n",
       "      <td>Sep 21, 2018</td>\n",
       "      <td>Fahrenheit 11/9</td>\n",
       "      <td>5000000.0</td>\n",
       "      <td>6352306.0</td>\n",
       "      <td>6653715.0</td>\n",
       "      <td>1653715.0</td>\n",
       "      <td>33.07</td>\n",
       "      <td>2018</td>\n",
       "    </tr>\n",
       "    <tr>\n",
       "      <th>81</th>\n",
       "      <td>Jul 22, 2005</td>\n",
       "      <td>November</td>\n",
       "      <td>250000.0</td>\n",
       "      <td>191862.0</td>\n",
       "      <td>191862.0</td>\n",
       "      <td>-58138.0</td>\n",
       "      <td>-23.26</td>\n",
       "      <td>2005</td>\n",
       "    </tr>\n",
       "  </tbody>\n",
       "</table>\n",
       "</div>"
      ],
      "text/plain": [
       "    release_date                           movie  production_budget  \\\n",
       "id                                                                    \n",
       "49  Sep 18, 2009  The Secrets of Jonathan Sperry          1000000.0   \n",
       "29  Sep 21, 2018                 Fahrenheit 11/9          5000000.0   \n",
       "81  Jul 22, 2005                        November           250000.0   \n",
       "\n",
       "    domestic_gross  worldwide_gross     profit    roi  release_year  \n",
       "id                                                                   \n",
       "49       1355079.0        1355079.0   355079.0  35.51          2009  \n",
       "29       6352306.0        6653715.0  1653715.0  33.07          2018  \n",
       "81        191862.0         191862.0   -58138.0 -23.26          2005  "
      ]
     },
     "execution_count": 29,
     "metadata": {},
     "output_type": "execute_result"
    }
   ],
   "source": [
    "filtered_df_low.sample(3)"
   ]
  },
  {
   "cell_type": "code",
   "execution_count": 30,
   "metadata": {},
   "outputs": [
    {
     "data": {
      "text/html": [
       "<div>\n",
       "<style scoped>\n",
       "    .dataframe tbody tr th:only-of-type {\n",
       "        vertical-align: middle;\n",
       "    }\n",
       "\n",
       "    .dataframe tbody tr th {\n",
       "        vertical-align: top;\n",
       "    }\n",
       "\n",
       "    .dataframe thead th {\n",
       "        text-align: right;\n",
       "    }\n",
       "</style>\n",
       "<table border=\"1\" class=\"dataframe\">\n",
       "  <thead>\n",
       "    <tr style=\"text-align: right;\">\n",
       "      <th></th>\n",
       "      <th>release_date</th>\n",
       "      <th>movie</th>\n",
       "      <th>production_budget</th>\n",
       "      <th>domestic_gross</th>\n",
       "      <th>worldwide_gross</th>\n",
       "      <th>profit</th>\n",
       "      <th>roi</th>\n",
       "      <th>release_year</th>\n",
       "    </tr>\n",
       "    <tr>\n",
       "      <th>id</th>\n",
       "      <th></th>\n",
       "      <th></th>\n",
       "      <th></th>\n",
       "      <th></th>\n",
       "      <th></th>\n",
       "      <th></th>\n",
       "      <th></th>\n",
       "      <th></th>\n",
       "    </tr>\n",
       "  </thead>\n",
       "  <tbody>\n",
       "    <tr>\n",
       "      <th>85</th>\n",
       "      <td>Jul 25, 2008</td>\n",
       "      <td>Step Brothers</td>\n",
       "      <td>65000000.0</td>\n",
       "      <td>100468793.0</td>\n",
       "      <td>128468793.0</td>\n",
       "      <td>63468793.0</td>\n",
       "      <td>97.64</td>\n",
       "      <td>2008</td>\n",
       "    </tr>\n",
       "    <tr>\n",
       "      <th>2</th>\n",
       "      <td>Nov 22, 2017</td>\n",
       "      <td>Coco</td>\n",
       "      <td>175000000.0</td>\n",
       "      <td>209726015.0</td>\n",
       "      <td>798008101.0</td>\n",
       "      <td>623008101.0</td>\n",
       "      <td>356.00</td>\n",
       "      <td>2017</td>\n",
       "    </tr>\n",
       "    <tr>\n",
       "      <th>94</th>\n",
       "      <td>Mar 11, 2011</td>\n",
       "      <td>Mars Needs Moms</td>\n",
       "      <td>150000000.0</td>\n",
       "      <td>21392758.0</td>\n",
       "      <td>39549758.0</td>\n",
       "      <td>-110450242.0</td>\n",
       "      <td>-73.63</td>\n",
       "      <td>2011</td>\n",
       "    </tr>\n",
       "  </tbody>\n",
       "</table>\n",
       "</div>"
      ],
      "text/plain": [
       "    release_date            movie  production_budget  domestic_gross  \\\n",
       "id                                                                     \n",
       "85  Jul 25, 2008    Step Brothers         65000000.0     100468793.0   \n",
       "2   Nov 22, 2017             Coco        175000000.0     209726015.0   \n",
       "94  Mar 11, 2011  Mars Needs Moms        150000000.0      21392758.0   \n",
       "\n",
       "    worldwide_gross       profit     roi  release_year  \n",
       "id                                                      \n",
       "85      128468793.0   63468793.0   97.64          2008  \n",
       "2       798008101.0  623008101.0  356.00          2017  \n",
       "94       39549758.0 -110450242.0  -73.63          2011  "
      ]
     },
     "execution_count": 30,
     "metadata": {},
     "output_type": "execute_result"
    }
   ],
   "source": [
    "filtered_df_high.sample(3)"
   ]
  },
  {
   "cell_type": "code",
   "execution_count": 31,
   "metadata": {},
   "outputs": [],
   "source": [
    "#print('low:',filtered_df_low[['production_budget', 'worldwide_gross', 'profit', 'roi']].corr(), '\\n\\n',\n",
    "     # 'mid:',filtered_df_mid[['production_budget', 'worldwide_gross', 'profit', 'roi']].corr(), '\\n\\n',\n",
    "     # 'high:',filtered_df_high[['production_budget', 'worldwide_gross', 'profit', 'roi']].corr())"
   ]
  },
  {
   "cell_type": "code",
   "execution_count": 32,
   "metadata": {},
   "outputs": [
    {
     "data": {
      "text/html": [
       "<div>\n",
       "<style scoped>\n",
       "    .dataframe tbody tr th:only-of-type {\n",
       "        vertical-align: middle;\n",
       "    }\n",
       "\n",
       "    .dataframe tbody tr th {\n",
       "        vertical-align: top;\n",
       "    }\n",
       "\n",
       "    .dataframe thead th {\n",
       "        text-align: right;\n",
       "    }\n",
       "</style>\n",
       "<table border=\"1\" class=\"dataframe\">\n",
       "  <thead>\n",
       "    <tr style=\"text-align: right;\">\n",
       "      <th></th>\n",
       "      <th>production_budget</th>\n",
       "      <th>worldwide_gross</th>\n",
       "      <th>profit</th>\n",
       "      <th>roi</th>\n",
       "    </tr>\n",
       "  </thead>\n",
       "  <tbody>\n",
       "    <tr>\n",
       "      <th>production_budget</th>\n",
       "      <td>1.000000</td>\n",
       "      <td>0.259575</td>\n",
       "      <td>0.195296</td>\n",
       "      <td>-0.093202</td>\n",
       "    </tr>\n",
       "    <tr>\n",
       "      <th>worldwide_gross</th>\n",
       "      <td>0.259575</td>\n",
       "      <td>1.000000</td>\n",
       "      <td>0.997821</td>\n",
       "      <td>0.439776</td>\n",
       "    </tr>\n",
       "    <tr>\n",
       "      <th>profit</th>\n",
       "      <td>0.195296</td>\n",
       "      <td>0.997821</td>\n",
       "      <td>1.000000</td>\n",
       "      <td>0.452983</td>\n",
       "    </tr>\n",
       "    <tr>\n",
       "      <th>roi</th>\n",
       "      <td>-0.093202</td>\n",
       "      <td>0.439776</td>\n",
       "      <td>0.452983</td>\n",
       "      <td>1.000000</td>\n",
       "    </tr>\n",
       "  </tbody>\n",
       "</table>\n",
       "</div>"
      ],
      "text/plain": [
       "                   production_budget  worldwide_gross    profit       roi\n",
       "production_budget           1.000000         0.259575  0.195296 -0.093202\n",
       "worldwide_gross             0.259575         1.000000  0.997821  0.439776\n",
       "profit                      0.195296         0.997821  1.000000  0.452983\n",
       "roi                        -0.093202         0.439776  0.452983  1.000000"
      ]
     },
     "execution_count": 32,
     "metadata": {},
     "output_type": "execute_result"
    }
   ],
   "source": [
    "filtered_df_low[['production_budget', 'worldwide_gross', 'profit', 'roi']].corr()"
   ]
  },
  {
   "cell_type": "code",
   "execution_count": 33,
   "metadata": {
    "scrolled": true
   },
   "outputs": [
    {
     "data": {
      "text/html": [
       "<div>\n",
       "<style scoped>\n",
       "    .dataframe tbody tr th:only-of-type {\n",
       "        vertical-align: middle;\n",
       "    }\n",
       "\n",
       "    .dataframe tbody tr th {\n",
       "        vertical-align: top;\n",
       "    }\n",
       "\n",
       "    .dataframe thead th {\n",
       "        text-align: right;\n",
       "    }\n",
       "</style>\n",
       "<table border=\"1\" class=\"dataframe\">\n",
       "  <thead>\n",
       "    <tr style=\"text-align: right;\">\n",
       "      <th></th>\n",
       "      <th>production_budget</th>\n",
       "      <th>worldwide_gross</th>\n",
       "      <th>profit</th>\n",
       "      <th>roi</th>\n",
       "    </tr>\n",
       "  </thead>\n",
       "  <tbody>\n",
       "    <tr>\n",
       "      <th>production_budget</th>\n",
       "      <td>1.000000</td>\n",
       "      <td>0.333498</td>\n",
       "      <td>0.186407</td>\n",
       "      <td>-0.080758</td>\n",
       "    </tr>\n",
       "    <tr>\n",
       "      <th>worldwide_gross</th>\n",
       "      <td>0.333498</td>\n",
       "      <td>1.000000</td>\n",
       "      <td>0.988393</td>\n",
       "      <td>0.795123</td>\n",
       "    </tr>\n",
       "    <tr>\n",
       "      <th>profit</th>\n",
       "      <td>0.186407</td>\n",
       "      <td>0.988393</td>\n",
       "      <td>1.000000</td>\n",
       "      <td>0.841638</td>\n",
       "    </tr>\n",
       "    <tr>\n",
       "      <th>roi</th>\n",
       "      <td>-0.080758</td>\n",
       "      <td>0.795123</td>\n",
       "      <td>0.841638</td>\n",
       "      <td>1.000000</td>\n",
       "    </tr>\n",
       "  </tbody>\n",
       "</table>\n",
       "</div>"
      ],
      "text/plain": [
       "                   production_budget  worldwide_gross    profit       roi\n",
       "production_budget           1.000000         0.333498  0.186407 -0.080758\n",
       "worldwide_gross             0.333498         1.000000  0.988393  0.795123\n",
       "profit                      0.186407         0.988393  1.000000  0.841638\n",
       "roi                        -0.080758         0.795123  0.841638  1.000000"
      ]
     },
     "execution_count": 33,
     "metadata": {},
     "output_type": "execute_result"
    }
   ],
   "source": [
    "filtered_df_mid[['production_budget', 'worldwide_gross', 'profit', 'roi']].corr()"
   ]
  },
  {
   "cell_type": "code",
   "execution_count": 34,
   "metadata": {},
   "outputs": [
    {
     "data": {
      "text/html": [
       "<div>\n",
       "<style scoped>\n",
       "    .dataframe tbody tr th:only-of-type {\n",
       "        vertical-align: middle;\n",
       "    }\n",
       "\n",
       "    .dataframe tbody tr th {\n",
       "        vertical-align: top;\n",
       "    }\n",
       "\n",
       "    .dataframe thead th {\n",
       "        text-align: right;\n",
       "    }\n",
       "</style>\n",
       "<table border=\"1\" class=\"dataframe\">\n",
       "  <thead>\n",
       "    <tr style=\"text-align: right;\">\n",
       "      <th></th>\n",
       "      <th>production_budget</th>\n",
       "      <th>worldwide_gross</th>\n",
       "      <th>profit</th>\n",
       "      <th>roi</th>\n",
       "    </tr>\n",
       "  </thead>\n",
       "  <tbody>\n",
       "    <tr>\n",
       "      <th>production_budget</th>\n",
       "      <td>1.000000</td>\n",
       "      <td>0.683657</td>\n",
       "      <td>0.565524</td>\n",
       "      <td>0.122658</td>\n",
       "    </tr>\n",
       "    <tr>\n",
       "      <th>worldwide_gross</th>\n",
       "      <td>0.683657</td>\n",
       "      <td>1.000000</td>\n",
       "      <td>0.988517</td>\n",
       "      <td>0.711479</td>\n",
       "    </tr>\n",
       "    <tr>\n",
       "      <th>profit</th>\n",
       "      <td>0.565524</td>\n",
       "      <td>0.988517</td>\n",
       "      <td>1.000000</td>\n",
       "      <td>0.778626</td>\n",
       "    </tr>\n",
       "    <tr>\n",
       "      <th>roi</th>\n",
       "      <td>0.122658</td>\n",
       "      <td>0.711479</td>\n",
       "      <td>0.778626</td>\n",
       "      <td>1.000000</td>\n",
       "    </tr>\n",
       "  </tbody>\n",
       "</table>\n",
       "</div>"
      ],
      "text/plain": [
       "                   production_budget  worldwide_gross    profit       roi\n",
       "production_budget           1.000000         0.683657  0.565524  0.122658\n",
       "worldwide_gross             0.683657         1.000000  0.988517  0.711479\n",
       "profit                      0.565524         0.988517  1.000000  0.778626\n",
       "roi                         0.122658         0.711479  0.778626  1.000000"
      ]
     },
     "execution_count": 34,
     "metadata": {},
     "output_type": "execute_result"
    }
   ],
   "source": [
    "filtered_df_high[['production_budget', 'worldwide_gross', 'profit', 'roi']].corr()"
   ]
  },
  {
   "cell_type": "markdown",
   "metadata": {},
   "source": [
    "So, what we can see from the above correlations?\n",
    "\n",
    "It appears in these ranges, the higher the budget the higher the profit. So, is spending an absurd amount of money the way to succesfully break into the film industry?\n",
    "\n",
    "Let's keep digging."
   ]
  },
  {
   "cell_type": "markdown",
   "metadata": {},
   "source": [
    "## ROI ##"
   ]
  },
  {
   "cell_type": "markdown",
   "metadata": {},
   "source": [
    "Using this as a stand-in for our profit margin, aka our profit percentage, let's look at the statistics on the ROI for each of these groups."
   ]
  },
  {
   "cell_type": "code",
   "execution_count": 35,
   "metadata": {
    "scrolled": true
   },
   "outputs": [
    {
     "name": "stdout",
     "output_type": "stream",
     "text": [
      "<class 'pandas.core.frame.DataFrame'>\n",
      "Int64Index: 750 entries, 73 to 82\n",
      "Data columns (total 8 columns):\n",
      " #   Column             Non-Null Count  Dtype  \n",
      "---  ------             --------------  -----  \n",
      " 0   release_date       750 non-null    object \n",
      " 1   movie              750 non-null    object \n",
      " 2   production_budget  750 non-null    float64\n",
      " 3   domestic_gross     750 non-null    float64\n",
      " 4   worldwide_gross    750 non-null    float64\n",
      " 5   profit             750 non-null    float64\n",
      " 6   roi                750 non-null    float64\n",
      " 7   release_year       750 non-null    int64  \n",
      "dtypes: float64(5), int64(1), object(2)\n",
      "memory usage: 52.7+ KB\n"
     ]
    }
   ],
   "source": [
    "filtered_df_low.info()"
   ]
  },
  {
   "cell_type": "code",
   "execution_count": 36,
   "metadata": {},
   "outputs": [
    {
     "name": "stdout",
     "output_type": "stream",
     "text": [
      "<class 'pandas.core.frame.DataFrame'>\n",
      "Int64Index: 1552 entries, 48 to 67\n",
      "Data columns (total 8 columns):\n",
      " #   Column             Non-Null Count  Dtype  \n",
      "---  ------             --------------  -----  \n",
      " 0   release_date       1552 non-null   object \n",
      " 1   movie              1552 non-null   object \n",
      " 2   production_budget  1552 non-null   float64\n",
      " 3   domestic_gross     1552 non-null   float64\n",
      " 4   worldwide_gross    1552 non-null   float64\n",
      " 5   profit             1552 non-null   float64\n",
      " 6   roi                1552 non-null   float64\n",
      " 7   release_year       1552 non-null   int64  \n",
      "dtypes: float64(5), int64(1), object(2)\n",
      "memory usage: 109.1+ KB\n"
     ]
    }
   ],
   "source": [
    "filtered_df_mid.info()"
   ]
  },
  {
   "cell_type": "code",
   "execution_count": 37,
   "metadata": {},
   "outputs": [
    {
     "name": "stdout",
     "output_type": "stream",
     "text": [
      "<class 'pandas.core.frame.DataFrame'>\n",
      "Int64Index: 768 entries, 1 to 43\n",
      "Data columns (total 8 columns):\n",
      " #   Column             Non-Null Count  Dtype  \n",
      "---  ------             --------------  -----  \n",
      " 0   release_date       768 non-null    object \n",
      " 1   movie              768 non-null    object \n",
      " 2   production_budget  768 non-null    float64\n",
      " 3   domestic_gross     768 non-null    float64\n",
      " 4   worldwide_gross    768 non-null    float64\n",
      " 5   profit             768 non-null    float64\n",
      " 6   roi                768 non-null    float64\n",
      " 7   release_year       768 non-null    int64  \n",
      "dtypes: float64(5), int64(1), object(2)\n",
      "memory usage: 54.0+ KB\n"
     ]
    }
   ],
   "source": [
    "filtered_df_high.info()"
   ]
  },
  {
   "cell_type": "code",
   "execution_count": 38,
   "metadata": {
    "scrolled": true
   },
   "outputs": [
    {
     "name": "stdout",
     "output_type": "stream",
     "text": [
      "We're going to look at the three different DataFrames and their means, medians and standard deviations.\n",
      "We'll also check their ranges. \n",
      "\n",
      "\n",
      "Low end mean: 514.08, Low end median: 3.42, Low end standard deviation: 2534.68,\n",
      "Low end range is -100.0 to 43051.79. \n",
      "\n",
      "\n",
      "Medium range mean: 177.86, Medium range median: 75.37, Medium standard deviation: 361.53,\n",
      "Medium range is -99.99 to 4389.57. \n",
      "\n",
      "\n",
      "High end mean: 190.45. High end median: 138.49, High end standard deviation: 219.86,\n",
      "High end range is -99.95 to 1527.25.\n"
     ]
    }
   ],
   "source": [
    "print(f\"\"\"We're going to look at the three different DataFrames and their means, medians and standard deviations.\\nWe'll also check their ranges. \\n\\n\n",
    "Low end mean: {round(filtered_df_low['roi'].mean(), 2)}, Low end median: {round(filtered_df_low['roi'].median(), 2)}, Low end standard deviation: {round(filtered_df_low['roi'].std(), 2)},\\nLow end range is {round(filtered_df_low['roi'].min(), 2)} to {round(filtered_df_low['roi'].max(), 2)}. \\n\\n\n",
    "Medium range mean: {round(filtered_df_mid['roi'].mean(), 2)}, Medium range median: {round(filtered_df_mid['roi'].median(),2)}, Medium standard deviation: {round(filtered_df_mid['roi'].std(), 2)},\\nMedium range is {round(filtered_df_mid['roi'].min(), 2)} to {round(filtered_df_mid['roi'].max(), 2)}. \\n\\n\n",
    "High end mean: {round(filtered_df_high['roi'].mean(), 2)}. High end median: {filtered_df_high['roi'].median()}, High end standard deviation: {round(filtered_df_high['roi'].std(), 2)},\\nHigh end range is {round(filtered_df_high['roi'].min(), 2)} to {round(filtered_df_high['roi'].max(), 2)}.\"\"\")"
   ]
  },
  {
   "cell_type": "markdown",
   "metadata": {},
   "source": [
    "These are some funky numbers to say the least. What do the charts tell us about the distribution of the ROIs?"
   ]
  },
  {
   "cell_type": "code",
   "execution_count": 39,
   "metadata": {
    "scrolled": true
   },
   "outputs": [
    {
     "data": {
      "image/png": "[encoded data removed]",
      "text/plain": [
       "<Figure size 1440x360 with 3 Axes>"
      ]
     },
     "metadata": {
      "needs_background": "light"
     },
     "output_type": "display_data"
    }
   ],
   "source": [
    "fig, axs = plt.subplots(1,3)\n",
    "filtered_df_low['roi'].hist(ax=axs[0],figsize=(20,5))\n",
    "filtered_df_mid['roi'].hist(ax=axs[1],figsize=(20,5))\n",
    "filtered_df_high['roi'].hist(ax=axs[2],figsize=(20,5));"
   ]
  },
  {
   "cell_type": "markdown",
   "metadata": {},
   "source": [
    "This confirms what we saw earlier:\n",
    "\n",
    "All have fairly large ranges on their ROI, especially on the low end of budgets.\n",
    "\n",
    "Let's first get rid of anything that is outside 1 standard deviation of their respective mean.\n",
    "\n",
    "Afterwards, we'll build another histogram matrix to see if we're seeing anything better."
   ]
  },
  {
   "cell_type": "code",
   "execution_count": 40,
   "metadata": {},
   "outputs": [],
   "source": [
    "low_st = round(filtered_df_low['roi'].std(), 2)\n",
    "mid_st = round(filtered_df_mid['roi'].std(), 2)\n",
    "high_st = round(filtered_df_high['roi'].std(), 2)\n",
    "low_mean = round(filtered_df_low['roi'].mean(), 2)\n",
    "mid_mean = round(filtered_df_mid['roi'].mean(), 2)\n",
    "high_mean = round(filtered_df_high['roi'].mean(), 2)\n",
    "\n",
    "low_dev_min = (low_mean-low_st)\n",
    "low_dev_max = (low_mean+low_st)\n",
    "mid_dev_min = (mid_mean-mid_st)\n",
    "mid_dev_max = (mid_mean+mid_st)\n",
    "high_dev_min = (high_mean-high_st)\n",
    "high_dev_max = (high_mean+high_st)"
   ]
  },
  {
   "cell_type": "code",
   "execution_count": 41,
   "metadata": {
    "scrolled": true
   },
   "outputs": [],
   "source": [
    "filtered_df_low2 = filtered_df_low[(filtered_df_low['roi'] >= low_dev_min) & (filtered_df_low['roi'] <= low_dev_max)]"
   ]
  },
  {
   "cell_type": "code",
   "execution_count": 42,
   "metadata": {},
   "outputs": [
    {
     "name": "stdout",
     "output_type": "stream",
     "text": [
      "<class 'pandas.core.frame.DataFrame'>\n",
      "Int64Index: 727 entries, 73 to 80\n",
      "Data columns (total 8 columns):\n",
      " #   Column             Non-Null Count  Dtype  \n",
      "---  ------             --------------  -----  \n",
      " 0   release_date       727 non-null    object \n",
      " 1   movie              727 non-null    object \n",
      " 2   production_budget  727 non-null    float64\n",
      " 3   domestic_gross     727 non-null    float64\n",
      " 4   worldwide_gross    727 non-null    float64\n",
      " 5   profit             727 non-null    float64\n",
      " 6   roi                727 non-null    float64\n",
      " 7   release_year       727 non-null    int64  \n",
      "dtypes: float64(5), int64(1), object(2)\n",
      "memory usage: 51.1+ KB\n"
     ]
    }
   ],
   "source": [
    "filtered_df_low2.info()"
   ]
  },
  {
   "cell_type": "code",
   "execution_count": 43,
   "metadata": {},
   "outputs": [],
   "source": [
    "filtered_df_mid2 = filtered_df_mid[(filtered_df_mid['roi'] >= mid_dev_min) & (filtered_df_mid['roi'] <= mid_dev_max)]"
   ]
  },
  {
   "cell_type": "code",
   "execution_count": 44,
   "metadata": {},
   "outputs": [
    {
     "name": "stdout",
     "output_type": "stream",
     "text": [
      "<class 'pandas.core.frame.DataFrame'>\n",
      "Int64Index: 1394 entries, 48 to 67\n",
      "Data columns (total 8 columns):\n",
      " #   Column             Non-Null Count  Dtype  \n",
      "---  ------             --------------  -----  \n",
      " 0   release_date       1394 non-null   object \n",
      " 1   movie              1394 non-null   object \n",
      " 2   production_budget  1394 non-null   float64\n",
      " 3   domestic_gross     1394 non-null   float64\n",
      " 4   worldwide_gross    1394 non-null   float64\n",
      " 5   profit             1394 non-null   float64\n",
      " 6   roi                1394 non-null   float64\n",
      " 7   release_year       1394 non-null   int64  \n",
      "dtypes: float64(5), int64(1), object(2)\n",
      "memory usage: 98.0+ KB\n"
     ]
    }
   ],
   "source": [
    "filtered_df_mid2.info()"
   ]
  },
  {
   "cell_type": "code",
   "execution_count": 45,
   "metadata": {},
   "outputs": [],
   "source": [
    "filtered_df_high2 = filtered_df_high[(filtered_df_high['roi'] >= high_dev_min) & (filtered_df_high['roi'] <= high_dev_max)]"
   ]
  },
  {
   "cell_type": "code",
   "execution_count": 46,
   "metadata": {
    "scrolled": false
   },
   "outputs": [
    {
     "name": "stdout",
     "output_type": "stream",
     "text": [
      "<class 'pandas.core.frame.DataFrame'>\n",
      "Int64Index: 618 entries, 2 to 38\n",
      "Data columns (total 8 columns):\n",
      " #   Column             Non-Null Count  Dtype  \n",
      "---  ------             --------------  -----  \n",
      " 0   release_date       618 non-null    object \n",
      " 1   movie              618 non-null    object \n",
      " 2   production_budget  618 non-null    float64\n",
      " 3   domestic_gross     618 non-null    float64\n",
      " 4   worldwide_gross    618 non-null    float64\n",
      " 5   profit             618 non-null    float64\n",
      " 6   roi                618 non-null    float64\n",
      " 7   release_year       618 non-null    int64  \n",
      "dtypes: float64(5), int64(1), object(2)\n",
      "memory usage: 43.5+ KB\n"
     ]
    }
   ],
   "source": [
    "filtered_df_high2.info()"
   ]
  },
  {
   "cell_type": "markdown",
   "metadata": {},
   "source": [
    "This has removed 23/750, 158/1552, and 150/768 data points from the low, medium and high dataframes, respectively.\n",
    "\n",
    "We'll see in the below histograms that these new histograms, while still skewed, have started to take a more central structure, especially the high budget dataframe."
   ]
  },
  {
   "cell_type": "code",
   "execution_count": 47,
   "metadata": {
    "scrolled": true
   },
   "outputs": [
    {
     "data": {
      "image/png": "[encoded data removed]",
      "text/plain": [
       "<Figure size 1440x360 with 3 Axes>"
      ]
     },
     "metadata": {
      "needs_background": "light"
     },
     "output_type": "display_data"
    }
   ],
   "source": [
    "fig, axs = plt.subplots(1,3)\n",
    "filtered_df_low2['roi'].hist(ax=axs[0],figsize=(20,5))\n",
    "filtered_df_mid2['roi'].hist(ax=axs[1],figsize=(20,5))\n",
    "filtered_df_high2['roi'].hist(ax=axs[2],figsize=(20,5));"
   ]
  },
  {
   "cell_type": "code",
   "execution_count": 48,
   "metadata": {},
   "outputs": [],
   "source": [
    "frames = [filtered_df_low2, filtered_df_mid2, filtered_df_high2]\n",
    "filtered_df_total = pd.concat(frames)"
   ]
  },
  {
   "cell_type": "code",
   "execution_count": 49,
   "metadata": {},
   "outputs": [
    {
     "name": "stdout",
     "output_type": "stream",
     "text": [
      "<class 'pandas.core.frame.DataFrame'>\n",
      "Int64Index: 2739 entries, 73 to 38\n",
      "Data columns (total 8 columns):\n",
      " #   Column             Non-Null Count  Dtype  \n",
      "---  ------             --------------  -----  \n",
      " 0   release_date       2739 non-null   object \n",
      " 1   movie              2739 non-null   object \n",
      " 2   production_budget  2739 non-null   float64\n",
      " 3   domestic_gross     2739 non-null   float64\n",
      " 4   worldwide_gross    2739 non-null   float64\n",
      " 5   profit             2739 non-null   float64\n",
      " 6   roi                2739 non-null   float64\n",
      " 7   release_year       2739 non-null   int64  \n",
      "dtypes: float64(5), int64(1), object(2)\n",
      "memory usage: 192.6+ KB\n"
     ]
    }
   ],
   "source": [
    "# a combo of all filtered total data\n",
    "filtered_df_total.info()"
   ]
  },
  {
   "cell_type": "markdown",
   "metadata": {},
   "source": [
    "It seems the 75th+ percentile of data points are the most \"average\" looking."
   ]
  },
  {
   "cell_type": "markdown",
   "metadata": {},
   "source": [
    "## ROI to Production Budget ##"
   ]
  },
  {
   "cell_type": "code",
   "execution_count": 50,
   "metadata": {},
   "outputs": [],
   "source": [
    "filtered_df_low2 = filtered_df_low2.sort_values('roi', ascending=False)"
   ]
  },
  {
   "cell_type": "code",
   "execution_count": 51,
   "metadata": {},
   "outputs": [
    {
     "data": {
      "image/png": "[encoded data removed]",
      "text/plain": [
       "<Figure size 432x288 with 2 Axes>"
      ]
     },
     "metadata": {
      "needs_background": "light"
     },
     "output_type": "display_data"
    }
   ],
   "source": [
    "fig, axs = plt.subplots(1,2)\n",
    "filtered_df_low2.plot.scatter(x='production_budget',y='roi',ax=axs[0])\n",
    "filtered_df_low2.plot.scatter(x='production_budget',y='profit',ax=axs[1]);"
   ]
  },
  {
   "cell_type": "code",
   "execution_count": 52,
   "metadata": {},
   "outputs": [
    {
     "data": {
      "text/html": [
       "<div>\n",
       "<style scoped>\n",
       "    .dataframe tbody tr th:only-of-type {\n",
       "        vertical-align: middle;\n",
       "    }\n",
       "\n",
       "    .dataframe tbody tr th {\n",
       "        vertical-align: top;\n",
       "    }\n",
       "\n",
       "    .dataframe thead th {\n",
       "        text-align: right;\n",
       "    }\n",
       "</style>\n",
       "<table border=\"1\" class=\"dataframe\">\n",
       "  <thead>\n",
       "    <tr style=\"text-align: right;\">\n",
       "      <th></th>\n",
       "      <th>production_budget</th>\n",
       "      <th>domestic_gross</th>\n",
       "      <th>worldwide_gross</th>\n",
       "      <th>profit</th>\n",
       "      <th>roi</th>\n",
       "      <th>release_year</th>\n",
       "    </tr>\n",
       "  </thead>\n",
       "  <tbody>\n",
       "    <tr>\n",
       "      <th>production_budget</th>\n",
       "      <td>1.000000</td>\n",
       "      <td>0.292148</td>\n",
       "      <td>0.349736</td>\n",
       "      <td>0.253353</td>\n",
       "      <td>0.009746</td>\n",
       "      <td>0.070419</td>\n",
       "    </tr>\n",
       "    <tr>\n",
       "      <th>domestic_gross</th>\n",
       "      <td>0.292148</td>\n",
       "      <td>1.000000</td>\n",
       "      <td>0.888529</td>\n",
       "      <td>0.885993</td>\n",
       "      <td>0.702748</td>\n",
       "      <td>0.156135</td>\n",
       "    </tr>\n",
       "    <tr>\n",
       "      <th>worldwide_gross</th>\n",
       "      <td>0.349736</td>\n",
       "      <td>0.888529</td>\n",
       "      <td>1.000000</td>\n",
       "      <td>0.994889</td>\n",
       "      <td>0.763506</td>\n",
       "      <td>0.119874</td>\n",
       "    </tr>\n",
       "    <tr>\n",
       "      <th>profit</th>\n",
       "      <td>0.253353</td>\n",
       "      <td>0.885993</td>\n",
       "      <td>0.994889</td>\n",
       "      <td>1.000000</td>\n",
       "      <td>0.787333</td>\n",
       "      <td>0.116190</td>\n",
       "    </tr>\n",
       "    <tr>\n",
       "      <th>roi</th>\n",
       "      <td>0.009746</td>\n",
       "      <td>0.702748</td>\n",
       "      <td>0.763506</td>\n",
       "      <td>0.787333</td>\n",
       "      <td>1.000000</td>\n",
       "      <td>0.070125</td>\n",
       "    </tr>\n",
       "    <tr>\n",
       "      <th>release_year</th>\n",
       "      <td>0.070419</td>\n",
       "      <td>0.156135</td>\n",
       "      <td>0.119874</td>\n",
       "      <td>0.116190</td>\n",
       "      <td>0.070125</td>\n",
       "      <td>1.000000</td>\n",
       "    </tr>\n",
       "  </tbody>\n",
       "</table>\n",
       "</div>"
      ],
      "text/plain": [
       "                   production_budget  domestic_gross  worldwide_gross  \\\n",
       "production_budget           1.000000        0.292148         0.349736   \n",
       "domestic_gross              0.292148        1.000000         0.888529   \n",
       "worldwide_gross             0.349736        0.888529         1.000000   \n",
       "profit                      0.253353        0.885993         0.994889   \n",
       "roi                         0.009746        0.702748         0.763506   \n",
       "release_year                0.070419        0.156135         0.119874   \n",
       "\n",
       "                     profit       roi  release_year  \n",
       "production_budget  0.253353  0.009746      0.070419  \n",
       "domestic_gross     0.885993  0.702748      0.156135  \n",
       "worldwide_gross    0.994889  0.763506      0.119874  \n",
       "profit             1.000000  0.787333      0.116190  \n",
       "roi                0.787333  1.000000      0.070125  \n",
       "release_year       0.116190  0.070125      1.000000  "
      ]
     },
     "execution_count": 52,
     "metadata": {},
     "output_type": "execute_result"
    }
   ],
   "source": [
    "filtered_df_low2.corr()"
   ]
  },
  {
   "cell_type": "code",
   "execution_count": 53,
   "metadata": {},
   "outputs": [],
   "source": [
    "filtered_df_mid2 = filtered_df_mid2.sort_values('roi', ascending=False)"
   ]
  },
  {
   "cell_type": "code",
   "execution_count": 54,
   "metadata": {},
   "outputs": [
    {
     "data": {
      "image/png": "[encoded data removed]",
      "text/plain": [
       "<Figure size 432x288 with 2 Axes>"
      ]
     },
     "metadata": {
      "needs_background": "light"
     },
     "output_type": "display_data"
    }
   ],
   "source": [
    "fig, axs = plt.subplots(1,2)\n",
    "filtered_df_mid2.plot.scatter(x='production_budget',y='roi',ax=axs[0])\n",
    "filtered_df_mid2.plot.scatter(x='production_budget',y='profit',ax=axs[1]);"
   ]
  },
  {
   "cell_type": "code",
   "execution_count": 55,
   "metadata": {},
   "outputs": [
    {
     "data": {
      "text/html": [
       "<div>\n",
       "<style scoped>\n",
       "    .dataframe tbody tr th:only-of-type {\n",
       "        vertical-align: middle;\n",
       "    }\n",
       "\n",
       "    .dataframe tbody tr th {\n",
       "        vertical-align: top;\n",
       "    }\n",
       "\n",
       "    .dataframe thead th {\n",
       "        text-align: right;\n",
       "    }\n",
       "</style>\n",
       "<table border=\"1\" class=\"dataframe\">\n",
       "  <thead>\n",
       "    <tr style=\"text-align: right;\">\n",
       "      <th></th>\n",
       "      <th>production_budget</th>\n",
       "      <th>domestic_gross</th>\n",
       "      <th>worldwide_gross</th>\n",
       "      <th>profit</th>\n",
       "      <th>roi</th>\n",
       "      <th>release_year</th>\n",
       "    </tr>\n",
       "  </thead>\n",
       "  <tbody>\n",
       "    <tr>\n",
       "      <th>production_budget</th>\n",
       "      <td>1.000000</td>\n",
       "      <td>0.459125</td>\n",
       "      <td>0.541706</td>\n",
       "      <td>0.328625</td>\n",
       "      <td>0.091774</td>\n",
       "      <td>0.005038</td>\n",
       "    </tr>\n",
       "    <tr>\n",
       "      <th>domestic_gross</th>\n",
       "      <td>0.459125</td>\n",
       "      <td>1.000000</td>\n",
       "      <td>0.856774</td>\n",
       "      <td>0.834098</td>\n",
       "      <td>0.707023</td>\n",
       "      <td>0.035249</td>\n",
       "    </tr>\n",
       "    <tr>\n",
       "      <th>worldwide_gross</th>\n",
       "      <td>0.541706</td>\n",
       "      <td>0.856774</td>\n",
       "      <td>1.000000</td>\n",
       "      <td>0.971901</td>\n",
       "      <td>0.795215</td>\n",
       "      <td>0.016121</td>\n",
       "    </tr>\n",
       "    <tr>\n",
       "      <th>profit</th>\n",
       "      <td>0.328625</td>\n",
       "      <td>0.834098</td>\n",
       "      <td>0.971901</td>\n",
       "      <td>1.000000</td>\n",
       "      <td>0.867802</td>\n",
       "      <td>0.016703</td>\n",
       "    </tr>\n",
       "    <tr>\n",
       "      <th>roi</th>\n",
       "      <td>0.091774</td>\n",
       "      <td>0.707023</td>\n",
       "      <td>0.795215</td>\n",
       "      <td>0.867802</td>\n",
       "      <td>1.000000</td>\n",
       "      <td>0.016291</td>\n",
       "    </tr>\n",
       "    <tr>\n",
       "      <th>release_year</th>\n",
       "      <td>0.005038</td>\n",
       "      <td>0.035249</td>\n",
       "      <td>0.016121</td>\n",
       "      <td>0.016703</td>\n",
       "      <td>0.016291</td>\n",
       "      <td>1.000000</td>\n",
       "    </tr>\n",
       "  </tbody>\n",
       "</table>\n",
       "</div>"
      ],
      "text/plain": [
       "                   production_budget  domestic_gross  worldwide_gross  \\\n",
       "production_budget           1.000000        0.459125         0.541706   \n",
       "domestic_gross              0.459125        1.000000         0.856774   \n",
       "worldwide_gross             0.541706        0.856774         1.000000   \n",
       "profit                      0.328625        0.834098         0.971901   \n",
       "roi                         0.091774        0.707023         0.795215   \n",
       "release_year                0.005038        0.035249         0.016121   \n",
       "\n",
       "                     profit       roi  release_year  \n",
       "production_budget  0.328625  0.091774      0.005038  \n",
       "domestic_gross     0.834098  0.707023      0.035249  \n",
       "worldwide_gross    0.971901  0.795215      0.016121  \n",
       "profit             1.000000  0.867802      0.016703  \n",
       "roi                0.867802  1.000000      0.016291  \n",
       "release_year       0.016703  0.016291      1.000000  "
      ]
     },
     "execution_count": 55,
     "metadata": {},
     "output_type": "execute_result"
    }
   ],
   "source": [
    "filtered_df_mid2.corr()"
   ]
  },
  {
   "cell_type": "code",
   "execution_count": 56,
   "metadata": {},
   "outputs": [],
   "source": [
    "filtered_df_high2 = filtered_df_high2.sort_values('roi', ascending=False)"
   ]
  },
  {
   "cell_type": "code",
   "execution_count": 57,
   "metadata": {},
   "outputs": [
    {
     "data": {
      "image/png": "[encoded data removed]",
      "text/plain": [
       "<Figure size 432x288 with 2 Axes>"
      ]
     },
     "metadata": {
      "needs_background": "light"
     },
     "output_type": "display_data"
    }
   ],
   "source": [
    "fig, axs = plt.subplots(1,2)\n",
    "filtered_df_high2.plot.scatter(x='production_budget',y='roi',ax=axs[0])\n",
    "filtered_df_high2.plot.scatter(x='production_budget',y='profit',ax=axs[1]);"
   ]
  },
  {
   "cell_type": "code",
   "execution_count": 58,
   "metadata": {},
   "outputs": [
    {
     "data": {
      "text/html": [
       "<div>\n",
       "<style scoped>\n",
       "    .dataframe tbody tr th:only-of-type {\n",
       "        vertical-align: middle;\n",
       "    }\n",
       "\n",
       "    .dataframe tbody tr th {\n",
       "        vertical-align: top;\n",
       "    }\n",
       "\n",
       "    .dataframe thead th {\n",
       "        text-align: right;\n",
       "    }\n",
       "</style>\n",
       "<table border=\"1\" class=\"dataframe\">\n",
       "  <thead>\n",
       "    <tr style=\"text-align: right;\">\n",
       "      <th></th>\n",
       "      <th>production_budget</th>\n",
       "      <th>domestic_gross</th>\n",
       "      <th>worldwide_gross</th>\n",
       "      <th>profit</th>\n",
       "      <th>roi</th>\n",
       "      <th>release_year</th>\n",
       "    </tr>\n",
       "  </thead>\n",
       "  <tbody>\n",
       "    <tr>\n",
       "      <th>production_budget</th>\n",
       "      <td>1.000000</td>\n",
       "      <td>0.688604</td>\n",
       "      <td>0.790218</td>\n",
       "      <td>0.659937</td>\n",
       "      <td>0.208846</td>\n",
       "      <td>0.154383</td>\n",
       "    </tr>\n",
       "    <tr>\n",
       "      <th>domestic_gross</th>\n",
       "      <td>0.688604</td>\n",
       "      <td>1.000000</td>\n",
       "      <td>0.906875</td>\n",
       "      <td>0.899137</td>\n",
       "      <td>0.667207</td>\n",
       "      <td>0.076139</td>\n",
       "    </tr>\n",
       "    <tr>\n",
       "      <th>worldwide_gross</th>\n",
       "      <td>0.790218</td>\n",
       "      <td>0.906875</td>\n",
       "      <td>1.000000</td>\n",
       "      <td>0.981923</td>\n",
       "      <td>0.695014</td>\n",
       "      <td>0.189479</td>\n",
       "    </tr>\n",
       "    <tr>\n",
       "      <th>profit</th>\n",
       "      <td>0.659937</td>\n",
       "      <td>0.899137</td>\n",
       "      <td>0.981923</td>\n",
       "      <td>1.000000</td>\n",
       "      <td>0.787578</td>\n",
       "      <td>0.184617</td>\n",
       "    </tr>\n",
       "    <tr>\n",
       "      <th>roi</th>\n",
       "      <td>0.208846</td>\n",
       "      <td>0.667207</td>\n",
       "      <td>0.695014</td>\n",
       "      <td>0.787578</td>\n",
       "      <td>1.000000</td>\n",
       "      <td>0.176234</td>\n",
       "    </tr>\n",
       "    <tr>\n",
       "      <th>release_year</th>\n",
       "      <td>0.154383</td>\n",
       "      <td>0.076139</td>\n",
       "      <td>0.189479</td>\n",
       "      <td>0.184617</td>\n",
       "      <td>0.176234</td>\n",
       "      <td>1.000000</td>\n",
       "    </tr>\n",
       "  </tbody>\n",
       "</table>\n",
       "</div>"
      ],
      "text/plain": [
       "                   production_budget  domestic_gross  worldwide_gross  \\\n",
       "production_budget           1.000000        0.688604         0.790218   \n",
       "domestic_gross              0.688604        1.000000         0.906875   \n",
       "worldwide_gross             0.790218        0.906875         1.000000   \n",
       "profit                      0.659937        0.899137         0.981923   \n",
       "roi                         0.208846        0.667207         0.695014   \n",
       "release_year                0.154383        0.076139         0.189479   \n",
       "\n",
       "                     profit       roi  release_year  \n",
       "production_budget  0.659937  0.208846      0.154383  \n",
       "domestic_gross     0.899137  0.667207      0.076139  \n",
       "worldwide_gross    0.981923  0.695014      0.189479  \n",
       "profit             1.000000  0.787578      0.184617  \n",
       "roi                0.787578  1.000000      0.176234  \n",
       "release_year       0.184617  0.176234      1.000000  "
      ]
     },
     "execution_count": 58,
     "metadata": {},
     "output_type": "execute_result"
    }
   ],
   "source": [
    "filtered_df_high2.corr()"
   ]
  },
  {
   "cell_type": "markdown",
   "metadata": {},
   "source": [
    "So, it seems the higher a production budget, the more likely a positive profit margin.\n",
    "\n",
    "A higher production budget also has a fairly strong positive correlation with straight profit numbers."
   ]
  },
  {
   "cell_type": "code",
   "execution_count": 59,
   "metadata": {},
   "outputs": [
    {
     "data": {
      "image/png": "[encoded data removed]",
      "text/plain": [
       "<Figure size 432x288 with 2 Axes>"
      ]
     },
     "metadata": {
      "needs_background": "light"
     },
     "output_type": "display_data"
    }
   ],
   "source": [
    "fig, axs = plt.subplots(1,2)\n",
    "filtered_df_total.plot.scatter(x='production_budget', y='roi',ax=axs[0])\n",
    "filtered_df_high2.plot.scatter(x='production_budget', y='roi', ax=axs[1]);"
   ]
  },
  {
   "cell_type": "code",
   "execution_count": 60,
   "metadata": {},
   "outputs": [
    {
     "data": {
      "image/png": "[encoded data removed]",
      "text/plain": [
       "<Figure size 432x288 with 2 Axes>"
      ]
     },
     "metadata": {
      "needs_background": "light"
     },
     "output_type": "display_data"
    }
   ],
   "source": [
    "fig, axs = plt.subplots(1,2)\n",
    "filtered_df_total.plot.scatter(x='production_budget', y='profit',ax=axs[0])\n",
    "filtered_df_high2.plot.scatter(x='production_budget', y='profit', ax=axs[1]);"
   ]
  },
  {
   "cell_type": "code",
   "execution_count": 61,
   "metadata": {},
   "outputs": [
    {
     "data": {
      "text/html": [
       "<div>\n",
       "<style scoped>\n",
       "    .dataframe tbody tr th:only-of-type {\n",
       "        vertical-align: middle;\n",
       "    }\n",
       "\n",
       "    .dataframe tbody tr th {\n",
       "        vertical-align: top;\n",
       "    }\n",
       "\n",
       "    .dataframe thead th {\n",
       "        text-align: right;\n",
       "    }\n",
       "</style>\n",
       "<table border=\"1\" class=\"dataframe\">\n",
       "  <thead>\n",
       "    <tr style=\"text-align: right;\">\n",
       "      <th></th>\n",
       "      <th>production_budget</th>\n",
       "      <th>domestic_gross</th>\n",
       "      <th>worldwide_gross</th>\n",
       "      <th>profit</th>\n",
       "      <th>roi</th>\n",
       "      <th>release_year</th>\n",
       "    </tr>\n",
       "  </thead>\n",
       "  <tbody>\n",
       "    <tr>\n",
       "      <th>production_budget</th>\n",
       "      <td>1.000000</td>\n",
       "      <td>0.824764</td>\n",
       "      <td>0.880453</td>\n",
       "      <td>0.765460</td>\n",
       "      <td>0.007880</td>\n",
       "      <td>0.087718</td>\n",
       "    </tr>\n",
       "    <tr>\n",
       "      <th>domestic_gross</th>\n",
       "      <td>0.824764</td>\n",
       "      <td>1.000000</td>\n",
       "      <td>0.939389</td>\n",
       "      <td>0.920705</td>\n",
       "      <td>0.203684</td>\n",
       "      <td>0.076684</td>\n",
       "    </tr>\n",
       "    <tr>\n",
       "      <th>worldwide_gross</th>\n",
       "      <td>0.880453</td>\n",
       "      <td>0.939389</td>\n",
       "      <td>1.000000</td>\n",
       "      <td>0.979048</td>\n",
       "      <td>0.180694</td>\n",
       "      <td>0.108831</td>\n",
       "    </tr>\n",
       "    <tr>\n",
       "      <th>profit</th>\n",
       "      <td>0.765460</td>\n",
       "      <td>0.920705</td>\n",
       "      <td>0.979048</td>\n",
       "      <td>1.000000</td>\n",
       "      <td>0.241850</td>\n",
       "      <td>0.110031</td>\n",
       "    </tr>\n",
       "    <tr>\n",
       "      <th>roi</th>\n",
       "      <td>0.007880</td>\n",
       "      <td>0.203684</td>\n",
       "      <td>0.180694</td>\n",
       "      <td>0.241850</td>\n",
       "      <td>1.000000</td>\n",
       "      <td>0.052801</td>\n",
       "    </tr>\n",
       "    <tr>\n",
       "      <th>release_year</th>\n",
       "      <td>0.087718</td>\n",
       "      <td>0.076684</td>\n",
       "      <td>0.108831</td>\n",
       "      <td>0.110031</td>\n",
       "      <td>0.052801</td>\n",
       "      <td>1.000000</td>\n",
       "    </tr>\n",
       "  </tbody>\n",
       "</table>\n",
       "</div>"
      ],
      "text/plain": [
       "                   production_budget  domestic_gross  worldwide_gross  \\\n",
       "production_budget           1.000000        0.824764         0.880453   \n",
       "domestic_gross              0.824764        1.000000         0.939389   \n",
       "worldwide_gross             0.880453        0.939389         1.000000   \n",
       "profit                      0.765460        0.920705         0.979048   \n",
       "roi                         0.007880        0.203684         0.180694   \n",
       "release_year                0.087718        0.076684         0.108831   \n",
       "\n",
       "                     profit       roi  release_year  \n",
       "production_budget  0.765460  0.007880      0.087718  \n",
       "domestic_gross     0.920705  0.203684      0.076684  \n",
       "worldwide_gross    0.979048  0.180694      0.108831  \n",
       "profit             1.000000  0.241850      0.110031  \n",
       "roi                0.241850  1.000000      0.052801  \n",
       "release_year       0.110031  0.052801      1.000000  "
      ]
     },
     "execution_count": 61,
     "metadata": {},
     "output_type": "execute_result"
    }
   ],
   "source": [
    "filtered_df_total.corr()"
   ]
  },
  {
   "cell_type": "code",
   "execution_count": 62,
   "metadata": {},
   "outputs": [
    {
     "name": "stdout",
     "output_type": "stream",
     "text": [
      "<class 'pandas.core.frame.DataFrame'>\n",
      "Int64Index: 2739 entries, 73 to 38\n",
      "Data columns (total 8 columns):\n",
      " #   Column             Non-Null Count  Dtype  \n",
      "---  ------             --------------  -----  \n",
      " 0   release_date       2739 non-null   object \n",
      " 1   movie              2739 non-null   object \n",
      " 2   production_budget  2739 non-null   float64\n",
      " 3   domestic_gross     2739 non-null   float64\n",
      " 4   worldwide_gross    2739 non-null   float64\n",
      " 5   profit             2739 non-null   float64\n",
      " 6   roi                2739 non-null   float64\n",
      " 7   release_year       2739 non-null   int64  \n",
      "dtypes: float64(5), int64(1), object(2)\n",
      "memory usage: 192.6+ KB\n"
     ]
    }
   ],
   "source": [
    "filtered_df_total.info()"
   ]
  },
  {
   "cell_type": "code",
   "execution_count": 63,
   "metadata": {},
   "outputs": [
    {
     "data": {
      "text/html": [
       "<div>\n",
       "<style scoped>\n",
       "    .dataframe tbody tr th:only-of-type {\n",
       "        vertical-align: middle;\n",
       "    }\n",
       "\n",
       "    .dataframe tbody tr th {\n",
       "        vertical-align: top;\n",
       "    }\n",
       "\n",
       "    .dataframe thead th {\n",
       "        text-align: right;\n",
       "    }\n",
       "</style>\n",
       "<table border=\"1\" class=\"dataframe\">\n",
       "  <thead>\n",
       "    <tr style=\"text-align: right;\">\n",
       "      <th></th>\n",
       "      <th>production_budget</th>\n",
       "      <th>domestic_gross</th>\n",
       "      <th>worldwide_gross</th>\n",
       "      <th>profit</th>\n",
       "      <th>roi</th>\n",
       "      <th>release_year</th>\n",
       "    </tr>\n",
       "  </thead>\n",
       "  <tbody>\n",
       "    <tr>\n",
       "      <th>count</th>\n",
       "      <td>2.739000e+03</td>\n",
       "      <td>2.739000e+03</td>\n",
       "      <td>2.739000e+03</td>\n",
       "      <td>2.739000e+03</td>\n",
       "      <td>2739.000000</td>\n",
       "      <td>2739.000000</td>\n",
       "    </tr>\n",
       "    <tr>\n",
       "      <th>mean</th>\n",
       "      <td>3.619140e+07</td>\n",
       "      <td>3.610581e+07</td>\n",
       "      <td>8.659292e+07</td>\n",
       "      <td>5.040151e+07</td>\n",
       "      <td>136.031303</td>\n",
       "      <td>2011.151880</td>\n",
       "    </tr>\n",
       "    <tr>\n",
       "      <th>std</th>\n",
       "      <td>4.800636e+07</td>\n",
       "      <td>5.633108e+07</td>\n",
       "      <td>1.517050e+08</td>\n",
       "      <td>1.117796e+08</td>\n",
       "      <td>309.353642</td>\n",
       "      <td>3.931425</td>\n",
       "    </tr>\n",
       "    <tr>\n",
       "      <th>min</th>\n",
       "      <td>5.000000e+03</td>\n",
       "      <td>0.000000e+00</td>\n",
       "      <td>2.600000e+01</td>\n",
       "      <td>-4.492629e+07</td>\n",
       "      <td>-100.000000</td>\n",
       "      <td>2005.000000</td>\n",
       "    </tr>\n",
       "    <tr>\n",
       "      <th>25%</th>\n",
       "      <td>6.000000e+06</td>\n",
       "      <td>7.976370e+05</td>\n",
       "      <td>4.345850e+06</td>\n",
       "      <td>-1.963216e+06</td>\n",
       "      <td>-44.430000</td>\n",
       "      <td>2008.000000</td>\n",
       "    </tr>\n",
       "    <tr>\n",
       "      <th>50%</th>\n",
       "      <td>2.000000e+07</td>\n",
       "      <td>1.482856e+07</td>\n",
       "      <td>3.049138e+07</td>\n",
       "      <td>1.015990e+07</td>\n",
       "      <td>65.450000</td>\n",
       "      <td>2011.000000</td>\n",
       "    </tr>\n",
       "    <tr>\n",
       "      <th>75%</th>\n",
       "      <td>4.000000e+07</td>\n",
       "      <td>4.735278e+07</td>\n",
       "      <td>9.564291e+07</td>\n",
       "      <td>5.397160e+07</td>\n",
       "      <td>209.145000</td>\n",
       "      <td>2014.000000</td>\n",
       "    </tr>\n",
       "    <tr>\n",
       "      <th>max</th>\n",
       "      <td>4.106000e+08</td>\n",
       "      <td>6.201814e+08</td>\n",
       "      <td>1.403014e+09</td>\n",
       "      <td>1.072414e+09</td>\n",
       "      <td>2958.500000</td>\n",
       "      <td>2019.000000</td>\n",
       "    </tr>\n",
       "  </tbody>\n",
       "</table>\n",
       "</div>"
      ],
      "text/plain": [
       "       production_budget  domestic_gross  worldwide_gross        profit  \\\n",
       "count       2.739000e+03    2.739000e+03     2.739000e+03  2.739000e+03   \n",
       "mean        3.619140e+07    3.610581e+07     8.659292e+07  5.040151e+07   \n",
       "std         4.800636e+07    5.633108e+07     1.517050e+08  1.117796e+08   \n",
       "min         5.000000e+03    0.000000e+00     2.600000e+01 -4.492629e+07   \n",
       "25%         6.000000e+06    7.976370e+05     4.345850e+06 -1.963216e+06   \n",
       "50%         2.000000e+07    1.482856e+07     3.049138e+07  1.015990e+07   \n",
       "75%         4.000000e+07    4.735278e+07     9.564291e+07  5.397160e+07   \n",
       "max         4.106000e+08    6.201814e+08     1.403014e+09  1.072414e+09   \n",
       "\n",
       "               roi  release_year  \n",
       "count  2739.000000   2739.000000  \n",
       "mean    136.031303   2011.151880  \n",
       "std     309.353642      3.931425  \n",
       "min    -100.000000   2005.000000  \n",
       "25%     -44.430000   2008.000000  \n",
       "50%      65.450000   2011.000000  \n",
       "75%     209.145000   2014.000000  \n",
       "max    2958.500000   2019.000000  "
      ]
     },
     "execution_count": 63,
     "metadata": {},
     "output_type": "execute_result"
    }
   ],
   "source": [
    "filtered_df_total.describe()"
   ]
  },
  {
   "cell_type": "code",
   "execution_count": 64,
   "metadata": {},
   "outputs": [
    {
     "data": {
      "text/html": [
       "<div>\n",
       "<style scoped>\n",
       "    .dataframe tbody tr th:only-of-type {\n",
       "        vertical-align: middle;\n",
       "    }\n",
       "\n",
       "    .dataframe tbody tr th {\n",
       "        vertical-align: top;\n",
       "    }\n",
       "\n",
       "    .dataframe thead th {\n",
       "        text-align: right;\n",
       "    }\n",
       "</style>\n",
       "<table border=\"1\" class=\"dataframe\">\n",
       "  <thead>\n",
       "    <tr style=\"text-align: right;\">\n",
       "      <th></th>\n",
       "      <th>production_budget</th>\n",
       "      <th>domestic_gross</th>\n",
       "      <th>worldwide_gross</th>\n",
       "      <th>profit</th>\n",
       "      <th>roi</th>\n",
       "      <th>release_year</th>\n",
       "    </tr>\n",
       "  </thead>\n",
       "  <tbody>\n",
       "    <tr>\n",
       "      <th>count</th>\n",
       "      <td>7.270000e+02</td>\n",
       "      <td>7.270000e+02</td>\n",
       "      <td>7.270000e+02</td>\n",
       "      <td>7.270000e+02</td>\n",
       "      <td>727.000000</td>\n",
       "      <td>727.000000</td>\n",
       "    </tr>\n",
       "    <tr>\n",
       "      <th>mean</th>\n",
       "      <td>2.686597e+06</td>\n",
       "      <td>4.410378e+06</td>\n",
       "      <td>8.796299e+06</td>\n",
       "      <td>6.109702e+06</td>\n",
       "      <td>223.643205</td>\n",
       "      <td>2011.061898</td>\n",
       "    </tr>\n",
       "    <tr>\n",
       "      <th>std</th>\n",
       "      <td>1.931967e+06</td>\n",
       "      <td>1.047022e+07</td>\n",
       "      <td>1.850945e+07</td>\n",
       "      <td>1.792539e+07</td>\n",
       "      <td>538.789956</td>\n",
       "      <td>3.838010</td>\n",
       "    </tr>\n",
       "    <tr>\n",
       "      <th>min</th>\n",
       "      <td>5.000000e+03</td>\n",
       "      <td>0.000000e+00</td>\n",
       "      <td>2.600000e+01</td>\n",
       "      <td>-6.817727e+06</td>\n",
       "      <td>-100.000000</td>\n",
       "      <td>2005.000000</td>\n",
       "    </tr>\n",
       "    <tr>\n",
       "      <th>25%</th>\n",
       "      <td>1.000000e+06</td>\n",
       "      <td>2.811700e+04</td>\n",
       "      <td>1.157355e+05</td>\n",
       "      <td>-1.392600e+06</td>\n",
       "      <td>-90.360000</td>\n",
       "      <td>2008.000000</td>\n",
       "    </tr>\n",
       "    <tr>\n",
       "      <th>50%</th>\n",
       "      <td>2.300000e+06</td>\n",
       "      <td>3.733750e+05</td>\n",
       "      <td>1.392649e+06</td>\n",
       "      <td>-1.218400e+04</td>\n",
       "      <td>-3.680000</td>\n",
       "      <td>2011.000000</td>\n",
       "    </tr>\n",
       "    <tr>\n",
       "      <th>75%</th>\n",
       "      <td>4.500000e+06</td>\n",
       "      <td>3.421824e+06</td>\n",
       "      <td>9.279559e+06</td>\n",
       "      <td>5.486834e+06</td>\n",
       "      <td>281.730000</td>\n",
       "      <td>2014.000000</td>\n",
       "    </tr>\n",
       "    <tr>\n",
       "      <th>max</th>\n",
       "      <td>6.900000e+06</td>\n",
       "      <td>8.702509e+07</td>\n",
       "      <td>1.529251e+08</td>\n",
       "      <td>1.479251e+08</td>\n",
       "      <td>2958.500000</td>\n",
       "      <td>2019.000000</td>\n",
       "    </tr>\n",
       "  </tbody>\n",
       "</table>\n",
       "</div>"
      ],
      "text/plain": [
       "       production_budget  domestic_gross  worldwide_gross        profit  \\\n",
       "count       7.270000e+02    7.270000e+02     7.270000e+02  7.270000e+02   \n",
       "mean        2.686597e+06    4.410378e+06     8.796299e+06  6.109702e+06   \n",
       "std         1.931967e+06    1.047022e+07     1.850945e+07  1.792539e+07   \n",
       "min         5.000000e+03    0.000000e+00     2.600000e+01 -6.817727e+06   \n",
       "25%         1.000000e+06    2.811700e+04     1.157355e+05 -1.392600e+06   \n",
       "50%         2.300000e+06    3.733750e+05     1.392649e+06 -1.218400e+04   \n",
       "75%         4.500000e+06    3.421824e+06     9.279559e+06  5.486834e+06   \n",
       "max         6.900000e+06    8.702509e+07     1.529251e+08  1.479251e+08   \n",
       "\n",
       "               roi  release_year  \n",
       "count   727.000000    727.000000  \n",
       "mean    223.643205   2011.061898  \n",
       "std     538.789956      3.838010  \n",
       "min    -100.000000   2005.000000  \n",
       "25%     -90.360000   2008.000000  \n",
       "50%      -3.680000   2011.000000  \n",
       "75%     281.730000   2014.000000  \n",
       "max    2958.500000   2019.000000  "
      ]
     },
     "execution_count": 64,
     "metadata": {},
     "output_type": "execute_result"
    }
   ],
   "source": [
    "filtered_df_low2.describe()"
   ]
  },
  {
   "cell_type": "code",
   "execution_count": 65,
   "metadata": {},
   "outputs": [
    {
     "data": {
      "text/html": [
       "<div>\n",
       "<style scoped>\n",
       "    .dataframe tbody tr th:only-of-type {\n",
       "        vertical-align: middle;\n",
       "    }\n",
       "\n",
       "    .dataframe tbody tr th {\n",
       "        vertical-align: top;\n",
       "    }\n",
       "\n",
       "    .dataframe thead th {\n",
       "        text-align: right;\n",
       "    }\n",
       "</style>\n",
       "<table border=\"1\" class=\"dataframe\">\n",
       "  <thead>\n",
       "    <tr style=\"text-align: right;\">\n",
       "      <th></th>\n",
       "      <th>production_budget</th>\n",
       "      <th>domestic_gross</th>\n",
       "      <th>worldwide_gross</th>\n",
       "      <th>profit</th>\n",
       "      <th>roi</th>\n",
       "      <th>release_year</th>\n",
       "    </tr>\n",
       "  </thead>\n",
       "  <tbody>\n",
       "    <tr>\n",
       "      <th>count</th>\n",
       "      <td>1.394000e+03</td>\n",
       "      <td>1.394000e+03</td>\n",
       "      <td>1.394000e+03</td>\n",
       "      <td>1.394000e+03</td>\n",
       "      <td>1394.000000</td>\n",
       "      <td>1394.000000</td>\n",
       "    </tr>\n",
       "    <tr>\n",
       "      <th>mean</th>\n",
       "      <td>2.224376e+07</td>\n",
       "      <td>2.234501e+07</td>\n",
       "      <td>4.291883e+07</td>\n",
       "      <td>2.067507e+07</td>\n",
       "      <td>85.989799</td>\n",
       "      <td>2011.015782</td>\n",
       "    </tr>\n",
       "    <tr>\n",
       "      <th>std</th>\n",
       "      <td>1.078945e+07</td>\n",
       "      <td>2.428064e+07</td>\n",
       "      <td>4.329112e+07</td>\n",
       "      <td>3.852902e+07</td>\n",
       "      <td>156.419699</td>\n",
       "      <td>3.914342</td>\n",
       "    </tr>\n",
       "    <tr>\n",
       "      <th>min</th>\n",
       "      <td>7.000000e+06</td>\n",
       "      <td>0.000000e+00</td>\n",
       "      <td>1.242000e+03</td>\n",
       "      <td>-4.492629e+07</td>\n",
       "      <td>-99.990000</td>\n",
       "      <td>2005.000000</td>\n",
       "    </tr>\n",
       "    <tr>\n",
       "      <th>25%</th>\n",
       "      <td>1.300000e+07</td>\n",
       "      <td>2.438706e+06</td>\n",
       "      <td>9.689645e+06</td>\n",
       "      <td>-7.019894e+06</td>\n",
       "      <td>-47.620000</td>\n",
       "      <td>2008.000000</td>\n",
       "    </tr>\n",
       "    <tr>\n",
       "      <th>50%</th>\n",
       "      <td>2.000000e+07</td>\n",
       "      <td>1.500303e+07</td>\n",
       "      <td>3.042150e+07</td>\n",
       "      <td>9.928454e+06</td>\n",
       "      <td>51.615000</td>\n",
       "      <td>2011.000000</td>\n",
       "    </tr>\n",
       "    <tr>\n",
       "      <th>75%</th>\n",
       "      <td>3.000000e+07</td>\n",
       "      <td>3.449725e+07</td>\n",
       "      <td>6.247372e+07</td>\n",
       "      <td>3.680275e+07</td>\n",
       "      <td>174.992500</td>\n",
       "      <td>2014.000000</td>\n",
       "    </tr>\n",
       "    <tr>\n",
       "      <th>max</th>\n",
       "      <td>4.600000e+07</td>\n",
       "      <td>1.595816e+08</td>\n",
       "      <td>2.431809e+08</td>\n",
       "      <td>1.981809e+08</td>\n",
       "      <td>534.110000</td>\n",
       "      <td>2019.000000</td>\n",
       "    </tr>\n",
       "  </tbody>\n",
       "</table>\n",
       "</div>"
      ],
      "text/plain": [
       "       production_budget  domestic_gross  worldwide_gross        profit  \\\n",
       "count       1.394000e+03    1.394000e+03     1.394000e+03  1.394000e+03   \n",
       "mean        2.224376e+07    2.234501e+07     4.291883e+07  2.067507e+07   \n",
       "std         1.078945e+07    2.428064e+07     4.329112e+07  3.852902e+07   \n",
       "min         7.000000e+06    0.000000e+00     1.242000e+03 -4.492629e+07   \n",
       "25%         1.300000e+07    2.438706e+06     9.689645e+06 -7.019894e+06   \n",
       "50%         2.000000e+07    1.500303e+07     3.042150e+07  9.928454e+06   \n",
       "75%         3.000000e+07    3.449725e+07     6.247372e+07  3.680275e+07   \n",
       "max         4.600000e+07    1.595816e+08     2.431809e+08  1.981809e+08   \n",
       "\n",
       "               roi  release_year  \n",
       "count  1394.000000   1394.000000  \n",
       "mean     85.989799   2011.015782  \n",
       "std     156.419699      3.914342  \n",
       "min     -99.990000   2005.000000  \n",
       "25%     -47.620000   2008.000000  \n",
       "50%      51.615000   2011.000000  \n",
       "75%     174.992500   2014.000000  \n",
       "max     534.110000   2019.000000  "
      ]
     },
     "execution_count": 65,
     "metadata": {},
     "output_type": "execute_result"
    }
   ],
   "source": [
    "filtered_df_mid2.describe()"
   ]
  },
  {
   "cell_type": "code",
   "execution_count": 66,
   "metadata": {},
   "outputs": [
    {
     "data": {
      "text/html": [
       "<div>\n",
       "<style scoped>\n",
       "    .dataframe tbody tr th:only-of-type {\n",
       "        vertical-align: middle;\n",
       "    }\n",
       "\n",
       "    .dataframe tbody tr th {\n",
       "        vertical-align: top;\n",
       "    }\n",
       "\n",
       "    .dataframe thead th {\n",
       "        text-align: right;\n",
       "    }\n",
       "</style>\n",
       "<table border=\"1\" class=\"dataframe\">\n",
       "  <thead>\n",
       "    <tr style=\"text-align: right;\">\n",
       "      <th></th>\n",
       "      <th>production_budget</th>\n",
       "      <th>domestic_gross</th>\n",
       "      <th>worldwide_gross</th>\n",
       "      <th>profit</th>\n",
       "      <th>roi</th>\n",
       "      <th>release_year</th>\n",
       "    </tr>\n",
       "  </thead>\n",
       "  <tbody>\n",
       "    <tr>\n",
       "      <th>count</th>\n",
       "      <td>6.180000e+02</td>\n",
       "      <td>6.180000e+02</td>\n",
       "      <td>6.180000e+02</td>\n",
       "      <td>6.180000e+02</td>\n",
       "      <td>618.000000</td>\n",
       "      <td>618.000000</td>\n",
       "    </tr>\n",
       "    <tr>\n",
       "      <th>mean</th>\n",
       "      <td>1.070668e+08</td>\n",
       "      <td>1.044313e+08</td>\n",
       "      <td>2.766250e+08</td>\n",
       "      <td>1.695582e+08</td>\n",
       "      <td>145.843608</td>\n",
       "      <td>2011.564725</td>\n",
       "    </tr>\n",
       "    <tr>\n",
       "      <th>std</th>\n",
       "      <td>5.626751e+07</td>\n",
       "      <td>7.958566e+07</td>\n",
       "      <td>2.233449e+08</td>\n",
       "      <td>1.821744e+08</td>\n",
       "      <td>114.283686</td>\n",
       "      <td>4.054713</td>\n",
       "    </tr>\n",
       "    <tr>\n",
       "      <th>min</th>\n",
       "      <td>4.700000e+07</td>\n",
       "      <td>0.000000e+00</td>\n",
       "      <td>3.538092e+07</td>\n",
       "      <td>-3.536966e+07</td>\n",
       "      <td>-29.240000</td>\n",
       "      <td>2005.000000</td>\n",
       "    </tr>\n",
       "    <tr>\n",
       "      <th>25%</th>\n",
       "      <td>6.000000e+07</td>\n",
       "      <td>4.766072e+07</td>\n",
       "      <td>1.195517e+08</td>\n",
       "      <td>3.976152e+07</td>\n",
       "      <td>48.085000</td>\n",
       "      <td>2008.000000</td>\n",
       "    </tr>\n",
       "    <tr>\n",
       "      <th>50%</th>\n",
       "      <td>8.500000e+07</td>\n",
       "      <td>8.180032e+07</td>\n",
       "      <td>2.066132e+08</td>\n",
       "      <td>1.158117e+08</td>\n",
       "      <td>126.050000</td>\n",
       "      <td>2012.000000</td>\n",
       "    </tr>\n",
       "    <tr>\n",
       "      <th>75%</th>\n",
       "      <td>1.450000e+08</td>\n",
       "      <td>1.342985e+08</td>\n",
       "      <td>3.549954e+08</td>\n",
       "      <td>2.270261e+08</td>\n",
       "      <td>226.052500</td>\n",
       "      <td>2015.000000</td>\n",
       "    </tr>\n",
       "    <tr>\n",
       "      <th>max</th>\n",
       "      <td>4.106000e+08</td>\n",
       "      <td>6.201814e+08</td>\n",
       "      <td>1.403014e+09</td>\n",
       "      <td>1.072414e+09</td>\n",
       "      <td>409.120000</td>\n",
       "      <td>2019.000000</td>\n",
       "    </tr>\n",
       "  </tbody>\n",
       "</table>\n",
       "</div>"
      ],
      "text/plain": [
       "       production_budget  domestic_gross  worldwide_gross        profit  \\\n",
       "count       6.180000e+02    6.180000e+02     6.180000e+02  6.180000e+02   \n",
       "mean        1.070668e+08    1.044313e+08     2.766250e+08  1.695582e+08   \n",
       "std         5.626751e+07    7.958566e+07     2.233449e+08  1.821744e+08   \n",
       "min         4.700000e+07    0.000000e+00     3.538092e+07 -3.536966e+07   \n",
       "25%         6.000000e+07    4.766072e+07     1.195517e+08  3.976152e+07   \n",
       "50%         8.500000e+07    8.180032e+07     2.066132e+08  1.158117e+08   \n",
       "75%         1.450000e+08    1.342985e+08     3.549954e+08  2.270261e+08   \n",
       "max         4.106000e+08    6.201814e+08     1.403014e+09  1.072414e+09   \n",
       "\n",
       "              roi  release_year  \n",
       "count  618.000000    618.000000  \n",
       "mean   145.843608   2011.564725  \n",
       "std    114.283686      4.054713  \n",
       "min    -29.240000   2005.000000  \n",
       "25%     48.085000   2008.000000  \n",
       "50%    126.050000   2012.000000  \n",
       "75%    226.052500   2015.000000  \n",
       "max    409.120000   2019.000000  "
      ]
     },
     "execution_count": 66,
     "metadata": {},
     "output_type": "execute_result"
    }
   ],
   "source": [
    "filtered_df_high2.describe()"
   ]
  },
  {
   "cell_type": "markdown",
   "metadata": {},
   "source": [
    "## Conclusion ##"
   ]
  },
  {
   "cell_type": "markdown",
   "metadata": {},
   "source": [
    "A lot of data has been thrown above, here is the quick rundown of what was just done:\n",
    "\n",
    "1. We started with the raw data from The Numbers database, containing about 5,700 records.\n",
    "\n",
    "2. We filtered out any records containing 0 values in the worldwide_gross as they would harm our data.\n",
    "\n",
    "3. We created three columns: profit, roi (profit margin/percentage), and release year.\n",
    "\n",
    "4. We filtered our data to contain only movies released in the last decade of records (2005-2016).\n",
    "\n",
    "5. We posited that a higher budget returns a greater raw profit and a greater profit percentage on average.\n",
    "\n",
    "6. We noticed the large left-skew in our data, so we split it into three dataframes.\n",
    "    a. We used IQR to determine the splits\n",
    "\n",
    "7. We used standard deviation to try and knock out a few outliers, though it only affected the right side of the dataframes.\n",
    "\n",
    "8. With our new dataframes, we looked at the correlations between the budget and profit/roi.\n",
    "    a. Due to the skew, Median is a better measure of central tendancy when looking at this number than Mean.\n",
    "    \n",
    "9. We notice that the higher-budget of the three dataframes had the highest correlation between budget and profit/roi.\n",
    "    a. It was still a weak positive correlation with ROI of only 20%\n",
    "    b. The budget to profit correlation was significantly positive\n",
    "\n",
    "10. We can conclude that, on average, a higher budget will lead to a larger profit, and will likely lead to a higher profit margin. "
   ]
  }
 ],
 "metadata": {
  "kernelspec": {
   "display_name": "Python 3",
   "language": "python",
   "name": "python3"
  },
  "language_info": {
   "codemirror_mode": {
    "name": "ipython",
    "version": 3
   },
   "file_extension": ".py",
   "mimetype": "text/x-python",
   "name": "python",
   "nbconvert_exporter": "python",
   "pygments_lexer": "ipython3",
   "version": "3.8.5"
  }
 },
 "nbformat": 4,
 "nbformat_minor": 4
}
