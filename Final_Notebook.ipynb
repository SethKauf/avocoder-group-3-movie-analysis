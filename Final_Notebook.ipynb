{
 "cells": [
  {
   "cell_type": "markdown",
   "metadata": {},
   "source": [
    "# Import Libraries"
   ]
  },
  {
   "cell_type": "code",
   "execution_count": 314,
   "metadata": {},
   "outputs": [],
   "source": [
    "import pandas as pd\n",
    "import numpy as np\n",
    "import matplotlib.pyplot as plt\n",
    "%matplotlib inline"
   ]
  },
  {
   "cell_type": "markdown",
   "metadata": {},
   "source": [
    "# Set UP our Data Frame We Will be Using"
   ]
  },
  {
   "cell_type": "code",
   "execution_count": 315,
   "metadata": {},
   "outputs": [],
   "source": [
    "df_movie_info = pd.read_csv('data/rt.movie_info.tsv.gz', sep='\\t')\n"
   ]
  },
  {
   "cell_type": "markdown",
   "metadata": {},
   "source": [
    "# Begin Cleaning of Data"
   ]
  },
  {
   "cell_type": "code",
   "execution_count": 316,
   "metadata": {},
   "outputs": [],
   "source": [
    "df_movie_info['box_office'] = df_movie_info['box_office'].str.replace(',','').astype(float) # Set box office column as floats to perform mathematical operations on"
   ]
  },
  {
   "cell_type": "code",
   "execution_count": 317,
   "metadata": {},
   "outputs": [],
   "source": [
    "df_movie_info = df_movie_info.dropna(subset=['box_office']) #Drop NA box office values\n",
    "df_dropped_na = df_movie_info.dropna(subset=['box_office']) #Drop NA box office values and create new Data frame\n",
    "df_dropped_na = df_dropped_na[df_dropped_na.rating != 'NR'] #Drop NR rows as they are of no use to us"
   ]
  },
  {
   "cell_type": "code",
   "execution_count": null,
   "metadata": {
    "scrolled": true
   },
   "outputs": [],
   "source": []
  },
  {
   "cell_type": "markdown",
   "metadata": {},
   "source": [
    "# Percent of Films with Parental Rating and Box Office Info"
   ]
  },
  {
   "cell_type": "code",
   "execution_count": 318,
   "metadata": {},
   "outputs": [
    {
     "data": {
      "image/png": "[encoded data removed]",
      "text/plain": [
       "<Figure size 432x288 with 1 Axes>"
      ]
     },
     "metadata": {
      "needs_background": "light"
     },
     "output_type": "display_data"
    }
   ],
   "source": [
    "# Make our figure and set our x and y axis\n",
    "fig , ax = plt.subplots()\n",
    "\n",
    "x = list(df_dropped_na.value_counts('rating').index)\n",
    "height = list(df_dropped_na.value_counts('rating'))\n",
    "\n",
    "#Different colors for easier visualizaion\n",
    "color = ['red','green','blue','pink', 'grey', 'black']\n",
    "\n",
    "ax.bar(x = x ,height = height,color=color)\n",
    "\n",
    "ax.set_title('Parental Rating of 321 Films with Box Office Data ')\n",
    "ax.set_xlabel('Ratings')\n",
    "ax.set_ylabel('Frequency')\n",
    "\n",
    "#This creates our custom legend so we can find percent of our ratings\n",
    "\n",
    "colors = {round((height[val]/len(df_dropped_na))*100,1) : color[val] for val in range(0,len(height))}         \n",
    "labels = list(colors.keys())\n",
    "handles = [plt.Rectangle((0,0),1,1, color=colors[label]) for label in labels]\n",
    "plt.legend(handles, labels, title='Percent');"
   ]
  },
  {
   "cell_type": "markdown",
   "metadata": {},
   "source": [
    "This shows the total distribution of ratings amongst the dataset, with the R category coming in first place. "
   ]
  },
  {
   "cell_type": "code",
   "execution_count": 319,
   "metadata": {},
   "outputs": [
    {
     "data": {
      "image/png": "[encoded data removed]",
      "text/plain": [
       "<Figure size 360x360 with 1 Axes>"
      ]
     },
     "metadata": {
      "needs_background": "light"
     },
     "output_type": "display_data"
    }
   ],
   "source": [
    "# Group our ratings and their total earnings\n",
    "df_grouped = df_dropped_na.groupby('rating').sum()\n",
    "\n",
    "# Get total of all box office earnings\n",
    "df_total = df_grouped['box_office'].sum()\n",
    "\n",
    "# Drop id column as it will not be used\n",
    "df_grouped = df_grouped.drop('id',axis=1)\n",
    "\n",
    "# Make numbers and ratings into list for easier manipulation\n",
    "y = [x[0] for x in df_grouped.values]\n",
    "x = df_grouped.index\n",
    "\n",
    "# Turn into sorted dictionary to prepare for graph\n",
    "d = {x[val] : y[val] for val in range(0,len(x))}\n",
    "d_sort =pd.DataFrame(dict(sorted(d.items(),key= lambda x:x[1])),index=[''])\n",
    "\n",
    "d_sort.plot(kind='bar',stacked=True, color = ['grey','pink','blue','red','green'],xlabel='Ratings',ylabel='Box Office Earning',title='Ratings vs Box Office Earnings',width=.2,figsize=(5,5));\n",
    "\n",
    "# A dictionary with percent of earnings\n",
    "d_avg = {percent[0] : (percent[1]/df_total)*100 for percent in d.items()}"
   ]
  },
  {
   "cell_type": "markdown",
   "metadata": {},
   "source": [
    "So this is interesting. Even though the R rating is more popular in our data set, PG-13 dominates in overall earnings."
   ]
  },
  {
   "cell_type": "markdown",
   "metadata": {},
   "source": [
    "# Findings and Recommendations"
   ]
  },
  {
   "cell_type": "markdown",
   "metadata": {},
   "source": [
    "From the data we were given, our recommendation is to make a movie with the PG-13 rating. Although the R rating is the most common in our dataset, the data shows it does not provide the strongest return. With the idea in mind we want our movie to perform well in the box office, the PG-13 rating has the highest chance to perform above average while having a lower chance of ending up in the bottom earnings at the box office."
   ]
  },
  {
   "cell_type": "markdown",
   "metadata": {},
   "source": [
    "# Genres in PG-13 Movies"
   ]
  },
  {
   "cell_type": "markdown",
   "metadata": {},
   "source": [
    "Since we found that PG-13 movies have the highest box office earnings, now, let's look for which genres are popular in PG-13 movies."
   ]
  },
  {
   "cell_type": "markdown",
   "metadata": {},
   "source": [
    "### Clean the data"
   ]
  },
  {
   "cell_type": "code",
   "execution_count": 320,
   "metadata": {
    "scrolled": true
   },
   "outputs": [],
   "source": [
    "# Create new dataframe with just columns are needed\n",
    "pg_13_genres = df_movie_info[['rating', 'genre']]\n",
    "\n",
    "# Filter the dataframe so that we only get genres in PG-13 movies\n",
    "pg_13_genres = pg_13_genres[pg_13_genres['rating'] == 'PG-13']"
   ]
  },
  {
   "cell_type": "markdown",
   "metadata": {},
   "source": [
    "We see that there are multiple genres in a movie and some genres that are combined together."
   ]
  },
  {
   "cell_type": "code",
   "execution_count": 321,
   "metadata": {
    "scrolled": true
   },
   "outputs": [],
   "source": [
    "# Replace ' and ' the string values from the genres column so that each genre is separated by the same syntax\n",
    "pg_13_genres['genre'] = pg_13_genres['genre'].str.replace(' and ', '|')"
   ]
  },
  {
   "cell_type": "markdown",
   "metadata": {},
   "source": [
    "Now, we should get each genre and see which genres are popular in PG-13 movies."
   ]
  },
  {
   "cell_type": "code",
   "execution_count": 322,
   "metadata": {},
   "outputs": [],
   "source": [
    "# Make a list of all the genres in the data\n",
    "genres = list(pg_13_genres['genre'])\n",
    "\n",
    "genre_list = []\n",
    "\n",
    "# Separate the set of genres to individual genre and append it to a new list\n",
    "# We go through each genres and split them by '|', resulting in list of genres for each movie\n",
    "# Then, we go through the list of genres that were split and append them into a new list to get each individual genre\n",
    "for genre in genres:\n",
    "    each_genre = genre.split('|')\n",
    "    for index in range(len(each_genre)):\n",
    "        genre_list.append(each_genre[index])\n",
    "\n",
    "genre_dict = {}\n",
    "\n",
    "# Make a dictionary to count number of each genres\n",
    "# For each genre, if the genre is in the dictionary, add a count to the value\n",
    "# If not, then add a count to the value\n",
    "for genre in genre_list:\n",
    "    if genre in genre_dict.keys():\n",
    "        genre_dict[genre] += 1\n",
    "    else:\n",
    "        genre_dict[genre] = 1\n",
    "        \n",
    "# Sort the dictionary by count\n",
    "# We use lambda x while sorting so that we sort them by the values (x[1])\n",
    "genre_dict = dict(sorted(genre_dict.items(), key=lambda x : x[1]))"
   ]
  },
  {
   "cell_type": "markdown",
   "metadata": {},
   "source": [
    "## Visualization"
   ]
  },
  {
   "cell_type": "markdown",
   "metadata": {},
   "source": [
    "Now we have the organized data that we need to see which genres are popular in PG-13 movies."
   ]
  },
  {
   "cell_type": "code",
   "execution_count": 333,
   "metadata": {},
   "outputs": [
    {
     "data": {
      "image/png": "[encoded data removed]",
      "text/plain": [
       "<Figure size 864x576 with 1 Axes>"
      ]
     },
     "metadata": {
      "needs_background": "light"
     },
     "output_type": "display_data"
    }
   ],
   "source": [
    "fig, ax = plt.subplots(figsize=(12, 8))\n",
    "x = list(genre_dict.keys())\n",
    "height = list(genre_dict.values())\n",
    "\n",
    "ax.barh(x,height)\n",
    "ax.set_title('Genres in PG-13 Movies Rotten Tomatoes', fontsize=20)\n",
    "ax.set_xlabel('Genre Counts', fontsize=15)\n",
    "ax.set_ylabel('Genre', fontsize=15)\n",
    "plt.xticks(fontsize=15)\n",
    "plt.yticks(fontsize=15);\n",
    "\n",
    "plt.savefig('Genres_PG_13')"
   ]
  },
  {
   "cell_type": "markdown",
   "metadata": {},
   "source": [
    "That is alot of genres! Let's look at the top 5 to in order to give a better recommendation."
   ]
  },
  {
   "cell_type": "code",
   "execution_count": 334,
   "metadata": {},
   "outputs": [
    {
     "data": {
      "image/png": "[encoded data removed]",
      "text/plain": [
       "<Figure size 864x576 with 1 Axes>"
      ]
     },
     "metadata": {
      "needs_background": "light"
     },
     "output_type": "display_data"
    }
   ],
   "source": [
    "# Create figure to prepare for plot\n",
    "fig, ax = plt.subplots(figsize=(12, 8))\n",
    "\n",
    "# Sort Dictionary for better visual and resolve tie between action and adventrue genres\n",
    "genre_dict['Action'] = float(35.7)\n",
    "genre_dict = dict(sorted(genre_dict.items(), key=lambda x : x[1],reverse=True))\n",
    "\n",
    "# Set parameters for our graph\n",
    "x = list(genre_dict.keys())\n",
    "height = list(genre_dict.values())\n",
    "color = ['green','blue','pink','orange', 'grey', 'black']\n",
    "\n",
    "#Look at top 5 genres represented in dataset\n",
    "ax.bar(x[:5], height[:5],color=color)\n",
    "\n",
    "ax.set_title('Top 5 Genres in PG-13 Movies Rotten Tomatoes', fontsize=20)\n",
    "ax.set_xlabel('Genre ', fontsize=15)\n",
    "ax.set_ylabel('Genre Counts', fontsize=15)\n",
    "plt.xticks(fontsize=15)\n",
    "plt.yticks(fontsize=15)\n",
    "colors = {round((height[val]/sum(height[:5]))*100,1) : color[val] for val in range(0,len(color[:5]))}        \n",
    "\n",
    "labels = list(colors.keys())\n",
    "handles = [plt.Rectangle((0,0),1,1, color=colors[label]) for label in labels]\n",
    "plt.legend(handles, labels, title='Percent',fontsize=15);\n",
    "\n",
    "plt.savefig('Top_5_RT')"
   ]
  },
  {
   "cell_type": "markdown",
   "metadata": {},
   "source": [
    "We see that Drama, Comedy, Adventure, Action and Romance are the most popular genres in PG-13 movies.\n",
    "Let's see if the genres have a good average profit margin ."
   ]
  },
  {
   "cell_type": "markdown",
   "metadata": {},
   "source": [
    "## Profit Margin"
   ]
  },
  {
   "cell_type": "code",
   "execution_count": 325,
   "metadata": {},
   "outputs": [],
   "source": [
    "# Import necessary data to find profit margin\n",
    "title_basics = pd.read_csv('data/imdb.title.basics.csv.gz')\n",
    "movie_budgets = pd.read_csv('data/tn.movie_budgets.csv.gz')"
   ]
  },
  {
   "cell_type": "markdown",
   "metadata": {},
   "source": [
    "With the two data tables, we will merge them using movie title and year the movie was released so that we can have one dataframe with production budget, worldwide gross, and genres variables. There were movies with same title but were not the same movie. So, we also use the year to merge the table as well."
   ]
  },
  {
   "cell_type": "code",
   "execution_count": 326,
   "metadata": {},
   "outputs": [],
   "source": [
    "# Create a column for year in movie_budget table\n",
    "# Since release date is in \"month day, year\" format, we are going to take only the last four string of the release date and \n",
    "# we are going to change the year to float\n",
    "movie_budgets['release_year'] = movie_budgets['release_date'].str[-4:].astype(float)\n",
    "\n",
    "#Combine movie_budget table with title_basics using movie title and released year\n",
    "profit = movie_budgets.merge(title_basics, how='left', left_on=['movie', 'release_year'], right_on=['original_title', 'start_year'])"
   ]
  },
  {
   "cell_type": "code",
   "execution_count": null,
   "metadata": {},
   "outputs": [],
   "source": []
  },
  {
   "cell_type": "markdown",
   "metadata": {},
   "source": [
    "### Clean Data"
   ]
  },
  {
   "cell_type": "markdown",
   "metadata": {},
   "source": [
    "The dataframe now needs to be cleaned. We will drop any null values and duplicates from the data table."
   ]
  },
  {
   "cell_type": "code",
   "execution_count": 327,
   "metadata": {},
   "outputs": [],
   "source": [
    "# Drop null values\n",
    "profit.dropna(inplace=True)"
   ]
  },
  {
   "cell_type": "code",
   "execution_count": 328,
   "metadata": {},
   "outputs": [],
   "source": [
    "# Make a new dataframe with just the columns we need\n",
    "condensed_profit = profit[['movie', 'genres', 'production_budget', 'domestic_gross', 'worldwide_gross']]\n",
    "\n",
    "# Drop any duplicates\n",
    "condensed_profit = condensed_profit.drop_duplicates(subset=['movie'])\n",
    "\n",
    "# Change the columns that are string numbers to float\n",
    "# First, we remove the , by replace , with ''\n",
    "# Since the production budget, domestic gross, worldwide gross has a dollar sign in the front,\n",
    "# we want to take every after the dollar sign and make them into floats\n",
    "condensed_profit['production_budget'] = condensed_profit['production_budget'].str.replace(',', '').str[1:].astype(float)\n",
    "condensed_profit['domestic_gross'] = condensed_profit['domestic_gross'].str.replace(',', '').str[1:].astype(float)\n",
    "condensed_profit['worldwide_gross'] = condensed_profit['worldwide_gross'].str.replace(',', '').str[1:].astype(float)"
   ]
  },
  {
   "cell_type": "markdown",
   "metadata": {},
   "source": [
    "Now, we will use wordwide_gross and production_budget to find the profit of the movie. We also found the net profit margin because we wanted to make sure that the movie generated enough profit from its sales and whether production budget was being contained."
   ]
  },
  {
   "cell_type": "code",
   "execution_count": 329,
   "metadata": {},
   "outputs": [
    {
     "data": {
      "text/html": [
       "<div>\n",
       "<style scoped>\n",
       "    .dataframe tbody tr th:only-of-type {\n",
       "        vertical-align: middle;\n",
       "    }\n",
       "\n",
       "    .dataframe tbody tr th {\n",
       "        vertical-align: top;\n",
       "    }\n",
       "\n",
       "    .dataframe thead th {\n",
       "        text-align: right;\n",
       "    }\n",
       "</style>\n",
       "<table border=\"1\" class=\"dataframe\">\n",
       "  <thead>\n",
       "    <tr style=\"text-align: right;\">\n",
       "      <th></th>\n",
       "      <th>movie</th>\n",
       "      <th>genres</th>\n",
       "      <th>production_budget</th>\n",
       "      <th>domestic_gross</th>\n",
       "      <th>worldwide_gross</th>\n",
       "      <th>profit</th>\n",
       "      <th>net_profit_margin</th>\n",
       "    </tr>\n",
       "  </thead>\n",
       "  <tbody>\n",
       "    <tr>\n",
       "      <th>1</th>\n",
       "      <td>Pirates of the Caribbean: On Stranger Tides</td>\n",
       "      <td>[Action, , Adventure, , Fantasy]</td>\n",
       "      <td>410600000.0</td>\n",
       "      <td>241063875.0</td>\n",
       "      <td>1.045664e+09</td>\n",
       "      <td>6.350639e+08</td>\n",
       "      <td>60.733080</td>\n",
       "    </tr>\n",
       "    <tr>\n",
       "      <th>2</th>\n",
       "      <td>Dark Phoenix</td>\n",
       "      <td>[Action, , Adventure, , Sci-Fi]</td>\n",
       "      <td>350000000.0</td>\n",
       "      <td>42762350.0</td>\n",
       "      <td>1.497624e+08</td>\n",
       "      <td>-2.002376e+08</td>\n",
       "      <td>-133.703598</td>\n",
       "    </tr>\n",
       "    <tr>\n",
       "      <th>3</th>\n",
       "      <td>Avengers: Age of Ultron</td>\n",
       "      <td>[Action, , Adventure, , Sci-Fi]</td>\n",
       "      <td>330600000.0</td>\n",
       "      <td>459005868.0</td>\n",
       "      <td>1.403014e+09</td>\n",
       "      <td>1.072414e+09</td>\n",
       "      <td>76.436443</td>\n",
       "    </tr>\n",
       "    <tr>\n",
       "      <th>6</th>\n",
       "      <td>Avengers: Infinity War</td>\n",
       "      <td>[Action, , Adventure, , Sci-Fi]</td>\n",
       "      <td>300000000.0</td>\n",
       "      <td>678815482.0</td>\n",
       "      <td>2.048134e+09</td>\n",
       "      <td>1.748134e+09</td>\n",
       "      <td>85.352522</td>\n",
       "    </tr>\n",
       "    <tr>\n",
       "      <th>8</th>\n",
       "      <td>Justice League</td>\n",
       "      <td>[Action, , Adventure, , Fantasy]</td>\n",
       "      <td>300000000.0</td>\n",
       "      <td>229024295.0</td>\n",
       "      <td>6.559452e+08</td>\n",
       "      <td>3.559452e+08</td>\n",
       "      <td>54.264473</td>\n",
       "    </tr>\n",
       "    <tr>\n",
       "      <th>...</th>\n",
       "      <td>...</td>\n",
       "      <td>...</td>\n",
       "      <td>...</td>\n",
       "      <td>...</td>\n",
       "      <td>...</td>\n",
       "      <td>...</td>\n",
       "      <td>...</td>\n",
       "    </tr>\n",
       "    <tr>\n",
       "      <th>5792</th>\n",
       "      <td>Emily</td>\n",
       "      <td>[Drama]</td>\n",
       "      <td>27000.0</td>\n",
       "      <td>3547.0</td>\n",
       "      <td>3.547000e+03</td>\n",
       "      <td>-2.345300e+04</td>\n",
       "      <td>-661.206654</td>\n",
       "    </tr>\n",
       "    <tr>\n",
       "      <th>5796</th>\n",
       "      <td>Exeter</td>\n",
       "      <td>[Horror, , Mystery, , Thriller]</td>\n",
       "      <td>25000.0</td>\n",
       "      <td>0.0</td>\n",
       "      <td>4.897920e+05</td>\n",
       "      <td>4.647920e+05</td>\n",
       "      <td>94.895792</td>\n",
       "    </tr>\n",
       "    <tr>\n",
       "      <th>5800</th>\n",
       "      <td>Dutch Kills</td>\n",
       "      <td>[Crime, , Drama, , Thriller]</td>\n",
       "      <td>25000.0</td>\n",
       "      <td>0.0</td>\n",
       "      <td>0.000000e+00</td>\n",
       "      <td>-2.500000e+04</td>\n",
       "      <td>-inf</td>\n",
       "    </tr>\n",
       "    <tr>\n",
       "      <th>5807</th>\n",
       "      <td>The Ridges</td>\n",
       "      <td>[Drama, , Horror, , Thriller]</td>\n",
       "      <td>17300.0</td>\n",
       "      <td>0.0</td>\n",
       "      <td>0.000000e+00</td>\n",
       "      <td>-1.730000e+04</td>\n",
       "      <td>-inf</td>\n",
       "    </tr>\n",
       "    <tr>\n",
       "      <th>5810</th>\n",
       "      <td>Stories of Our Lives</td>\n",
       "      <td>[Drama]</td>\n",
       "      <td>15000.0</td>\n",
       "      <td>0.0</td>\n",
       "      <td>0.000000e+00</td>\n",
       "      <td>-1.500000e+04</td>\n",
       "      <td>-inf</td>\n",
       "    </tr>\n",
       "  </tbody>\n",
       "</table>\n",
       "<p>1468 rows × 7 columns</p>\n",
       "</div>"
      ],
      "text/plain": [
       "                                            movie  \\\n",
       "1     Pirates of the Caribbean: On Stranger Tides   \n",
       "2                                    Dark Phoenix   \n",
       "3                         Avengers: Age of Ultron   \n",
       "6                          Avengers: Infinity War   \n",
       "8                                  Justice League   \n",
       "...                                           ...   \n",
       "5792                                        Emily   \n",
       "5796                                       Exeter   \n",
       "5800                                  Dutch Kills   \n",
       "5807                                   The Ridges   \n",
       "5810                         Stories of Our Lives   \n",
       "\n",
       "                                genres  production_budget  domestic_gross  \\\n",
       "1     [Action, , Adventure, , Fantasy]        410600000.0     241063875.0   \n",
       "2      [Action, , Adventure, , Sci-Fi]        350000000.0      42762350.0   \n",
       "3      [Action, , Adventure, , Sci-Fi]        330600000.0     459005868.0   \n",
       "6      [Action, , Adventure, , Sci-Fi]        300000000.0     678815482.0   \n",
       "8     [Action, , Adventure, , Fantasy]        300000000.0     229024295.0   \n",
       "...                                ...                ...             ...   \n",
       "5792                           [Drama]            27000.0          3547.0   \n",
       "5796   [Horror, , Mystery, , Thriller]            25000.0             0.0   \n",
       "5800      [Crime, , Drama, , Thriller]            25000.0             0.0   \n",
       "5807     [Drama, , Horror, , Thriller]            17300.0             0.0   \n",
       "5810                           [Drama]            15000.0             0.0   \n",
       "\n",
       "      worldwide_gross        profit  net_profit_margin  \n",
       "1        1.045664e+09  6.350639e+08          60.733080  \n",
       "2        1.497624e+08 -2.002376e+08        -133.703598  \n",
       "3        1.403014e+09  1.072414e+09          76.436443  \n",
       "6        2.048134e+09  1.748134e+09          85.352522  \n",
       "8        6.559452e+08  3.559452e+08          54.264473  \n",
       "...               ...           ...                ...  \n",
       "5792     3.547000e+03 -2.345300e+04        -661.206654  \n",
       "5796     4.897920e+05  4.647920e+05          94.895792  \n",
       "5800     0.000000e+00 -2.500000e+04               -inf  \n",
       "5807     0.000000e+00 -1.730000e+04               -inf  \n",
       "5810     0.000000e+00 -1.500000e+04               -inf  \n",
       "\n",
       "[1468 rows x 7 columns]"
      ]
     },
     "execution_count": 329,
     "metadata": {},
     "output_type": "execute_result"
    }
   ],
   "source": [
    "condensed_profit['profit'] = condensed_profit['worldwide_gross'] - condensed_profit['production_budget']\n",
    "condensed_profit['net_profit_margin'] = (condensed_profit['profit'] / condensed_profit['worldwide_gross']) * 100\n",
    "condensed_profit['genres'] = condensed_profit['genres'].str.replace(',', '  ').map(lambda x : x.split(' '))\n",
    "condensed_profit"
   ]
  },
  {
   "cell_type": "markdown",
   "metadata": {},
   "source": [
    "With the cleaned data, we want to get the average profit margin for Drama, Comedy, Adventure, and Action genres."
   ]
  },
  {
   "cell_type": "code",
   "execution_count": 330,
   "metadata": {
    "scrolled": true
   },
   "outputs": [],
   "source": [
    "# Make a list of top 4 genres from the Genres in PG-13 Movies bar graph\n",
    "\n",
    "top4_genre_pg13 = list(genre_dict.keys())[:3]\n",
    "\n",
    "# Create a new dataframe so that we have data that have profit margin above 0%\n",
    "condensed_profit_split_genre = condensed_profit[condensed_profit['net_profit_margin'] > 0]\n",
    "\n",
    "\n",
    "genre_profit_margin = {}\n",
    "\n",
    "# For each genre in the top 3 genre list, make a list of profit margin for that certain genre\n",
    "for genre in top4_genre_pg13:\n",
    "    genre_profit_margin[genre] = []\n",
    "    for index, row in condensed_profit_split_genre.iterrows():\n",
    "        if genre in row['genres']:\n",
    "            genre_profit_margin[genre].append(row['net_profit_margin'])\n",
    "\n",
    "average_profit_margin_genre = {}\n",
    "\n",
    "#For each genre, find the average of profit margin\n",
    "\n",
    "for k,v in genre_profit_margin.items():\n",
    "    average_profit_margin_genre[k] = sum(v) / float(len(v))\n",
    "average_profit_margin_genre = dict(sorted(average_profit_margin_genre.items(),key = lambda x:x[1]))\n"
   ]
  },
  {
   "cell_type": "markdown",
   "metadata": {},
   "source": [
    "## Visualization"
   ]
  },
  {
   "cell_type": "markdown",
   "metadata": {},
   "source": [
    "Now, with the data of average profit margin we found above, we created a bar graph to show average profit margin for the top 3 genres in PG-13 movies"
   ]
  },
  {
   "cell_type": "code",
   "execution_count": 336,
   "metadata": {},
   "outputs": [
    {
     "data": {
      "image/png": "[encoded data removed]",
      "text/plain": [
       "<Figure size 864x576 with 1 Axes>"
      ]
     },
     "metadata": {
      "needs_background": "light"
     },
     "output_type": "display_data"
    }
   ],
   "source": [
    "# Make a bar graph with the genre and their average profit margin\n",
    "average_profit_margin_genre = average_profit_margin_genre = dict(sorted(average_profit_margin_genre.items(),key = lambda x:x[1]))\n",
    "fig, ax = plt.subplots(figsize=(12, 8))\n",
    "\n",
    "# Set x to be the genres and set y to be the aaverage profit margins\n",
    "x = list(average_profit_margin_genre.keys())\n",
    "height = list(average_profit_margin_genre.values())\n",
    "\n",
    "ax.barh(x, height, color=['pink','blue','green'])\n",
    "ax.set_title('Average Profit Margin for Popular Genre in PG-13 Movies', fontsize=20)\n",
    "ax.set_xlabel('Average Profit Margin', fontsize=15)\n",
    "ax.set_ylabel('Genre', fontsize=15)\n",
    "plt.xticks(fontsize=15)\n",
    "plt.yticks(fontsize=15)\n",
    "\n",
    "plt.savefig('images/average_profit_margin_pg_13_genre.png', bbox_inches = \"tight\")"
   ]
  },
  {
   "cell_type": "code",
   "execution_count": 335,
   "metadata": {},
   "outputs": [
    {
     "data": {
      "image/png": "[encoded data removed]",
      "text/plain": [
       "<Figure size 864x576 with 1 Axes>"
      ]
     },
     "metadata": {
      "needs_background": "light"
     },
     "output_type": "display_data"
    }
   ],
   "source": [
    "fig, ax = plt.subplots(figsize=(12, 8))\n",
    "average_profit_margin_genre = average_profit_margin_genre = dict(sorted(average_profit_margin_genre.items(),key = lambda x:x[1],reverse=True))\n",
    "\n",
    "x = list(average_profit_margin_genre.keys())\n",
    "height = list(average_profit_margin_genre.values())\n",
    "ax.bar(x, height,color=color)\n",
    "\n",
    "ax.set_title('Average Profit Margin for Popular Genre in PG-13 Movies', fontsize=20)\n",
    "ax.set_xlabel('Genre ', fontsize=15)\n",
    "ax.set_ylabel('Genre Counts', fontsize=15)\n",
    "plt.xticks(fontsize=15)\n",
    "plt.yticks(fontsize=15);\n",
    "#colors = {round((height[val]/sum(height[:5]))*100,1) : color[val] for val in range(0,len(color[:5]))}        \n",
    "\n",
    "#labels = list(colors.keys())\n",
    "#handles = [plt.Rectangle((0,0),1,1, color=colors[label]) for label in labels]\n",
    "#plt.legend(handles, labels, title='Percent',fontsize=15);\n",
    "plt.savefig('Avg_Prof_Reg_Barchart')"
   ]
  },
  {
   "cell_type": "markdown",
   "metadata": {},
   "source": [
    "# Findings and Recommendations"
   ]
  },
  {
   "cell_type": "markdown",
   "metadata": {},
   "source": [
    "Comedy, Drama and Adventure have the highest average profit margin. They are also in the top 3 represented categories of movies rated PG-13 in the box office dataset. The best genres to focus on will be comedy, drama and adventure. "
   ]
  },
  {
   "cell_type": "code",
   "execution_count": null,
   "metadata": {},
   "outputs": [],
   "source": []
  },
  {
   "cell_type": "code",
   "execution_count": null,
   "metadata": {},
   "outputs": [],
   "source": []
  }
 ],
 "metadata": {
  "kernelspec": {
   "display_name": "Python (learn-env)",
   "language": "python",
   "name": "learn-env"
  },
  "language_info": {
   "codemirror_mode": {
    "name": "ipython",
    "version": 3
   },
   "file_extension": ".py",
   "mimetype": "text/x-python",
   "name": "python",
   "nbconvert_exporter": "python",
   "pygments_lexer": "ipython3",
   "version": "3.8.5"
  }
 },
 "nbformat": 4,
 "nbformat_minor": 4
}
