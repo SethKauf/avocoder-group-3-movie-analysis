{
 "cells": [
  {
   "cell_type": "code",
   "execution_count": 34,
   "metadata": {},
   "outputs": [],
   "source": [
    "import warnings \n",
    "import pandas as pd\n",
    "import numpy as np\n",
    "import matplotlib.pyplot as plt\n",
    "%matplotlib inline"
   ]
  },
  {
   "cell_type": "markdown",
   "metadata": {},
   "source": [
    "## Genres in Top 100 Profited Movies"
   ]
  },
  {
   "cell_type": "markdown",
   "metadata": {},
   "source": [
    "One of a variable that pops into our brain when we hear the question \"What is the best type of movie to make for maximum profit?\" is genre."
   ]
  },
  {
   "cell_type": "markdown",
   "metadata": {},
   "source": [
    "### Import Data"
   ]
  },
  {
   "cell_type": "code",
   "execution_count": 15,
   "metadata": {},
   "outputs": [],
   "source": [
    "title_basics = pd.read_csv('data/imdb.title.basics.csv.gz')\n",
    "movie_budgets = pd.read_csv('data/tn.movie_budgets.csv.gz')"
   ]
  },
  {
   "cell_type": "markdown",
   "metadata": {},
   "source": [
    "### Combine Data Tables"
   ]
  },
  {
   "cell_type": "markdown",
   "metadata": {},
   "source": [
    "With the two data tables, we will merge them using movie title and year the movie was released so that we can have one dataframe with production budget, worldwide gross, and genres variables. There were movies with same title but were not the same movie. So, we also use the year to merge the table as well."
   ]
  },
  {
   "cell_type": "code",
   "execution_count": 16,
   "metadata": {},
   "outputs": [
    {
     "data": {
      "text/html": [
       "<div>\n",
       "<style scoped>\n",
       "    .dataframe tbody tr th:only-of-type {\n",
       "        vertical-align: middle;\n",
       "    }\n",
       "\n",
       "    .dataframe tbody tr th {\n",
       "        vertical-align: top;\n",
       "    }\n",
       "\n",
       "    .dataframe thead th {\n",
       "        text-align: right;\n",
       "    }\n",
       "</style>\n",
       "<table border=\"1\" class=\"dataframe\">\n",
       "  <thead>\n",
       "    <tr style=\"text-align: right;\">\n",
       "      <th></th>\n",
       "      <th>id</th>\n",
       "      <th>release_date</th>\n",
       "      <th>movie</th>\n",
       "      <th>production_budget</th>\n",
       "      <th>domestic_gross</th>\n",
       "      <th>worldwide_gross</th>\n",
       "      <th>release_year</th>\n",
       "      <th>tconst</th>\n",
       "      <th>primary_title</th>\n",
       "      <th>original_title</th>\n",
       "      <th>start_year</th>\n",
       "      <th>runtime_minutes</th>\n",
       "      <th>genres</th>\n",
       "    </tr>\n",
       "  </thead>\n",
       "  <tbody>\n",
       "    <tr>\n",
       "      <th>0</th>\n",
       "      <td>1</td>\n",
       "      <td>Dec 18, 2009</td>\n",
       "      <td>Avatar</td>\n",
       "      <td>$425,000,000</td>\n",
       "      <td>$760,507,625</td>\n",
       "      <td>$2,776,345,279</td>\n",
       "      <td>2009.0</td>\n",
       "      <td>NaN</td>\n",
       "      <td>NaN</td>\n",
       "      <td>NaN</td>\n",
       "      <td>NaN</td>\n",
       "      <td>NaN</td>\n",
       "      <td>NaN</td>\n",
       "    </tr>\n",
       "    <tr>\n",
       "      <th>1</th>\n",
       "      <td>2</td>\n",
       "      <td>May 20, 2011</td>\n",
       "      <td>Pirates of the Caribbean: On Stranger Tides</td>\n",
       "      <td>$410,600,000</td>\n",
       "      <td>$241,063,875</td>\n",
       "      <td>$1,045,663,875</td>\n",
       "      <td>2011.0</td>\n",
       "      <td>tt1298650</td>\n",
       "      <td>Pirates of the Caribbean: On Stranger Tides</td>\n",
       "      <td>Pirates of the Caribbean: On Stranger Tides</td>\n",
       "      <td>2011.0</td>\n",
       "      <td>136.0</td>\n",
       "      <td>Action,Adventure,Fantasy</td>\n",
       "    </tr>\n",
       "    <tr>\n",
       "      <th>2</th>\n",
       "      <td>3</td>\n",
       "      <td>Jun 7, 2019</td>\n",
       "      <td>Dark Phoenix</td>\n",
       "      <td>$350,000,000</td>\n",
       "      <td>$42,762,350</td>\n",
       "      <td>$149,762,350</td>\n",
       "      <td>2019.0</td>\n",
       "      <td>tt6565702</td>\n",
       "      <td>Dark Phoenix</td>\n",
       "      <td>Dark Phoenix</td>\n",
       "      <td>2019.0</td>\n",
       "      <td>113.0</td>\n",
       "      <td>Action,Adventure,Sci-Fi</td>\n",
       "    </tr>\n",
       "    <tr>\n",
       "      <th>3</th>\n",
       "      <td>4</td>\n",
       "      <td>May 1, 2015</td>\n",
       "      <td>Avengers: Age of Ultron</td>\n",
       "      <td>$330,600,000</td>\n",
       "      <td>$459,005,868</td>\n",
       "      <td>$1,403,013,963</td>\n",
       "      <td>2015.0</td>\n",
       "      <td>tt2395427</td>\n",
       "      <td>Avengers: Age of Ultron</td>\n",
       "      <td>Avengers: Age of Ultron</td>\n",
       "      <td>2015.0</td>\n",
       "      <td>141.0</td>\n",
       "      <td>Action,Adventure,Sci-Fi</td>\n",
       "    </tr>\n",
       "    <tr>\n",
       "      <th>4</th>\n",
       "      <td>5</td>\n",
       "      <td>Dec 15, 2017</td>\n",
       "      <td>Star Wars Ep. VIII: The Last Jedi</td>\n",
       "      <td>$317,000,000</td>\n",
       "      <td>$620,181,382</td>\n",
       "      <td>$1,316,721,747</td>\n",
       "      <td>2017.0</td>\n",
       "      <td>NaN</td>\n",
       "      <td>NaN</td>\n",
       "      <td>NaN</td>\n",
       "      <td>NaN</td>\n",
       "      <td>NaN</td>\n",
       "      <td>NaN</td>\n",
       "    </tr>\n",
       "    <tr>\n",
       "      <th>5</th>\n",
       "      <td>6</td>\n",
       "      <td>Dec 18, 2015</td>\n",
       "      <td>Star Wars Ep. VII: The Force Awakens</td>\n",
       "      <td>$306,000,000</td>\n",
       "      <td>$936,662,225</td>\n",
       "      <td>$2,053,311,220</td>\n",
       "      <td>2015.0</td>\n",
       "      <td>NaN</td>\n",
       "      <td>NaN</td>\n",
       "      <td>NaN</td>\n",
       "      <td>NaN</td>\n",
       "      <td>NaN</td>\n",
       "      <td>NaN</td>\n",
       "    </tr>\n",
       "    <tr>\n",
       "      <th>6</th>\n",
       "      <td>7</td>\n",
       "      <td>Apr 27, 2018</td>\n",
       "      <td>Avengers: Infinity War</td>\n",
       "      <td>$300,000,000</td>\n",
       "      <td>$678,815,482</td>\n",
       "      <td>$2,048,134,200</td>\n",
       "      <td>2018.0</td>\n",
       "      <td>tt4154756</td>\n",
       "      <td>Avengers: Infinity War</td>\n",
       "      <td>Avengers: Infinity War</td>\n",
       "      <td>2018.0</td>\n",
       "      <td>149.0</td>\n",
       "      <td>Action,Adventure,Sci-Fi</td>\n",
       "    </tr>\n",
       "    <tr>\n",
       "      <th>7</th>\n",
       "      <td>8</td>\n",
       "      <td>May 24, 2007</td>\n",
       "      <td>Pirates of the Caribbean: At Worldâs End</td>\n",
       "      <td>$300,000,000</td>\n",
       "      <td>$309,420,425</td>\n",
       "      <td>$963,420,425</td>\n",
       "      <td>2007.0</td>\n",
       "      <td>NaN</td>\n",
       "      <td>NaN</td>\n",
       "      <td>NaN</td>\n",
       "      <td>NaN</td>\n",
       "      <td>NaN</td>\n",
       "      <td>NaN</td>\n",
       "    </tr>\n",
       "    <tr>\n",
       "      <th>8</th>\n",
       "      <td>9</td>\n",
       "      <td>Nov 17, 2017</td>\n",
       "      <td>Justice League</td>\n",
       "      <td>$300,000,000</td>\n",
       "      <td>$229,024,295</td>\n",
       "      <td>$655,945,209</td>\n",
       "      <td>2017.0</td>\n",
       "      <td>tt0974015</td>\n",
       "      <td>Justice League</td>\n",
       "      <td>Justice League</td>\n",
       "      <td>2017.0</td>\n",
       "      <td>120.0</td>\n",
       "      <td>Action,Adventure,Fantasy</td>\n",
       "    </tr>\n",
       "    <tr>\n",
       "      <th>9</th>\n",
       "      <td>10</td>\n",
       "      <td>Nov 6, 2015</td>\n",
       "      <td>Spectre</td>\n",
       "      <td>$300,000,000</td>\n",
       "      <td>$200,074,175</td>\n",
       "      <td>$879,620,923</td>\n",
       "      <td>2015.0</td>\n",
       "      <td>tt2379713</td>\n",
       "      <td>Spectre</td>\n",
       "      <td>Spectre</td>\n",
       "      <td>2015.0</td>\n",
       "      <td>148.0</td>\n",
       "      <td>Action,Adventure,Thriller</td>\n",
       "    </tr>\n",
       "  </tbody>\n",
       "</table>\n",
       "</div>"
      ],
      "text/plain": [
       "   id  release_date                                        movie  \\\n",
       "0   1  Dec 18, 2009                                       Avatar   \n",
       "1   2  May 20, 2011  Pirates of the Caribbean: On Stranger Tides   \n",
       "2   3   Jun 7, 2019                                 Dark Phoenix   \n",
       "3   4   May 1, 2015                      Avengers: Age of Ultron   \n",
       "4   5  Dec 15, 2017            Star Wars Ep. VIII: The Last Jedi   \n",
       "5   6  Dec 18, 2015         Star Wars Ep. VII: The Force Awakens   \n",
       "6   7  Apr 27, 2018                       Avengers: Infinity War   \n",
       "7   8  May 24, 2007   Pirates of the Caribbean: At Worldâs End   \n",
       "8   9  Nov 17, 2017                               Justice League   \n",
       "9  10   Nov 6, 2015                                      Spectre   \n",
       "\n",
       "  production_budget domestic_gross worldwide_gross  release_year     tconst  \\\n",
       "0      $425,000,000   $760,507,625  $2,776,345,279        2009.0        NaN   \n",
       "1      $410,600,000   $241,063,875  $1,045,663,875        2011.0  tt1298650   \n",
       "2      $350,000,000    $42,762,350    $149,762,350        2019.0  tt6565702   \n",
       "3      $330,600,000   $459,005,868  $1,403,013,963        2015.0  tt2395427   \n",
       "4      $317,000,000   $620,181,382  $1,316,721,747        2017.0        NaN   \n",
       "5      $306,000,000   $936,662,225  $2,053,311,220        2015.0        NaN   \n",
       "6      $300,000,000   $678,815,482  $2,048,134,200        2018.0  tt4154756   \n",
       "7      $300,000,000   $309,420,425    $963,420,425        2007.0        NaN   \n",
       "8      $300,000,000   $229,024,295    $655,945,209        2017.0  tt0974015   \n",
       "9      $300,000,000   $200,074,175    $879,620,923        2015.0  tt2379713   \n",
       "\n",
       "                                 primary_title  \\\n",
       "0                                          NaN   \n",
       "1  Pirates of the Caribbean: On Stranger Tides   \n",
       "2                                 Dark Phoenix   \n",
       "3                      Avengers: Age of Ultron   \n",
       "4                                          NaN   \n",
       "5                                          NaN   \n",
       "6                       Avengers: Infinity War   \n",
       "7                                          NaN   \n",
       "8                               Justice League   \n",
       "9                                      Spectre   \n",
       "\n",
       "                                original_title  start_year  runtime_minutes  \\\n",
       "0                                          NaN         NaN              NaN   \n",
       "1  Pirates of the Caribbean: On Stranger Tides      2011.0            136.0   \n",
       "2                                 Dark Phoenix      2019.0            113.0   \n",
       "3                      Avengers: Age of Ultron      2015.0            141.0   \n",
       "4                                          NaN         NaN              NaN   \n",
       "5                                          NaN         NaN              NaN   \n",
       "6                       Avengers: Infinity War      2018.0            149.0   \n",
       "7                                          NaN         NaN              NaN   \n",
       "8                               Justice League      2017.0            120.0   \n",
       "9                                      Spectre      2015.0            148.0   \n",
       "\n",
       "                      genres  \n",
       "0                        NaN  \n",
       "1   Action,Adventure,Fantasy  \n",
       "2    Action,Adventure,Sci-Fi  \n",
       "3    Action,Adventure,Sci-Fi  \n",
       "4                        NaN  \n",
       "5                        NaN  \n",
       "6    Action,Adventure,Sci-Fi  \n",
       "7                        NaN  \n",
       "8   Action,Adventure,Fantasy  \n",
       "9  Action,Adventure,Thriller  "
      ]
     },
     "execution_count": 16,
     "metadata": {},
     "output_type": "execute_result"
    }
   ],
   "source": [
    "# Create a column for year in movie_budget table\n",
    "# Since release date is in \"month day, year\" format, we are going to take only the last four string of the release date and \n",
    "# we are going to change the year to float\n",
    "movie_budgets['release_year'] = movie_budgets['release_date'].str[-4:].astype(float)\n",
    "\n",
    "#Combine movie_budget table with title_basics using movie title and released year\n",
    "profit = movie_budgets.merge(title_basics, how='left', left_on=['movie', 'release_year'], right_on=['original_title', 'start_year'])\n",
    "profit.head(10)"
   ]
  },
  {
   "cell_type": "markdown",
   "metadata": {},
   "source": [
    "### Clean the dataframe"
   ]
  },
  {
   "cell_type": "markdown",
   "metadata": {},
   "source": [
    "The dataframe now needs to be cleaned. We will drop any null values and duplicates from the data table. "
   ]
  },
  {
   "cell_type": "code",
   "execution_count": 17,
   "metadata": {},
   "outputs": [],
   "source": [
    "# Drop null values\n",
    "profit.dropna(inplace=True)"
   ]
  },
  {
   "cell_type": "code",
   "execution_count": 18,
   "metadata": {},
   "outputs": [],
   "source": [
    "# Make a new dataframe with just the columns we need\n",
    "condensed_profit = profit[['movie', 'release_date', 'genres', 'production_budget', 'domestic_gross', 'worldwide_gross']]"
   ]
  },
  {
   "cell_type": "code",
   "execution_count": 19,
   "metadata": {},
   "outputs": [],
   "source": [
    "# Drop any duplicates\n",
    "condensed_profit = condensed_profit.drop_duplicates(subset=['movie'])"
   ]
  },
  {
   "cell_type": "code",
   "execution_count": 20,
   "metadata": {},
   "outputs": [],
   "source": [
    "# Change the columns that are string numbers to float\n",
    "# First, we remove the , by replace , with ''\n",
    "# Since the production budget, domestic gross, worldwide gross has a dollar sign in the front,\n",
    "# we want to take every after the dollar sign and make them into floats\n",
    "condensed_profit['production_budget'] = condensed_profit['production_budget'].str.replace(',', '').str[1:].astype(float)\n",
    "condensed_profit['domestic_gross'] = condensed_profit['domestic_gross'].str.replace(',', '').str[1:].astype(float)\n",
    "condensed_profit['worldwide_gross'] = condensed_profit['worldwide_gross'].str.replace(',', '').str[1:].astype(float)"
   ]
  },
  {
   "cell_type": "markdown",
   "metadata": {},
   "source": [
    "### Create new columns for Profit and Net Profit Margin"
   ]
  },
  {
   "cell_type": "markdown",
   "metadata": {},
   "source": [
    "Now, we will use wordwide_gross and production_budget to find the profit of the movie. We also found the net profit margin because we wanted to make sure that the movie generated enough profit from its sales and whether production budget was being contained."
   ]
  },
  {
   "cell_type": "code",
   "execution_count": 21,
   "metadata": {},
   "outputs": [],
   "source": [
    "condensed_profit['profit'] = condensed_profit['worldwide_gross'] - condensed_profit['production_budget']\n",
    "condensed_profit['net_profit_margin'] = (condensed_profit['profit'] / condensed_profit['worldwide_gross']) * 100"
   ]
  },
  {
   "cell_type": "markdown",
   "metadata": {},
   "source": [
    "Then, we want to make sure our data set has movies that have good net profit margin. So we filter the data so that we only have movies that had net profit margin over 70% and sort it by profit."
   ]
  },
  {
   "cell_type": "code",
   "execution_count": 22,
   "metadata": {},
   "outputs": [
    {
     "data": {
      "text/html": [
       "<div>\n",
       "<style scoped>\n",
       "    .dataframe tbody tr th:only-of-type {\n",
       "        vertical-align: middle;\n",
       "    }\n",
       "\n",
       "    .dataframe tbody tr th {\n",
       "        vertical-align: top;\n",
       "    }\n",
       "\n",
       "    .dataframe thead th {\n",
       "        text-align: right;\n",
       "    }\n",
       "</style>\n",
       "<table border=\"1\" class=\"dataframe\">\n",
       "  <thead>\n",
       "    <tr style=\"text-align: right;\">\n",
       "      <th></th>\n",
       "      <th>movie</th>\n",
       "      <th>release_date</th>\n",
       "      <th>genres</th>\n",
       "      <th>production_budget</th>\n",
       "      <th>domestic_gross</th>\n",
       "      <th>worldwide_gross</th>\n",
       "      <th>profit</th>\n",
       "      <th>net_profit_margin</th>\n",
       "    </tr>\n",
       "  </thead>\n",
       "  <tbody>\n",
       "    <tr>\n",
       "      <th>6</th>\n",
       "      <td>Avengers: Infinity War</td>\n",
       "      <td>Apr 27, 2018</td>\n",
       "      <td>Action,Adventure,Sci-Fi</td>\n",
       "      <td>300000000.0</td>\n",
       "      <td>678815482.0</td>\n",
       "      <td>2.048134e+09</td>\n",
       "      <td>1.748134e+09</td>\n",
       "      <td>85.352522</td>\n",
       "    </tr>\n",
       "    <tr>\n",
       "      <th>33</th>\n",
       "      <td>Jurassic World</td>\n",
       "      <td>Jun 12, 2015</td>\n",
       "      <td>Action,Adventure,Sci-Fi</td>\n",
       "      <td>215000000.0</td>\n",
       "      <td>652270625.0</td>\n",
       "      <td>1.648855e+09</td>\n",
       "      <td>1.433855e+09</td>\n",
       "      <td>86.960647</td>\n",
       "    </tr>\n",
       "    <tr>\n",
       "      <th>26</th>\n",
       "      <td>The Avengers</td>\n",
       "      <td>May 4, 2012</td>\n",
       "      <td>Action,Adventure,Sci-Fi</td>\n",
       "      <td>225000000.0</td>\n",
       "      <td>623279547.0</td>\n",
       "      <td>1.517936e+09</td>\n",
       "      <td>1.292936e+09</td>\n",
       "      <td>85.177240</td>\n",
       "    </tr>\n",
       "    <tr>\n",
       "      <th>41</th>\n",
       "      <td>Black Panther</td>\n",
       "      <td>Feb 16, 2018</td>\n",
       "      <td>Action,Adventure,Sci-Fi</td>\n",
       "      <td>200000000.0</td>\n",
       "      <td>700059566.0</td>\n",
       "      <td>1.348258e+09</td>\n",
       "      <td>1.148258e+09</td>\n",
       "      <td>85.166046</td>\n",
       "    </tr>\n",
       "    <tr>\n",
       "      <th>114</th>\n",
       "      <td>Jurassic World: Fallen Kingdom</td>\n",
       "      <td>Jun 22, 2018</td>\n",
       "      <td>Action,Adventure,Sci-Fi</td>\n",
       "      <td>170000000.0</td>\n",
       "      <td>417719760.0</td>\n",
       "      <td>1.305773e+09</td>\n",
       "      <td>1.135773e+09</td>\n",
       "      <td>86.980890</td>\n",
       "    </tr>\n",
       "    <tr>\n",
       "      <th>157</th>\n",
       "      <td>Frozen</td>\n",
       "      <td>Nov 22, 2013</td>\n",
       "      <td>Adventure,Animation,Comedy</td>\n",
       "      <td>150000000.0</td>\n",
       "      <td>400738009.0</td>\n",
       "      <td>1.272470e+09</td>\n",
       "      <td>1.122470e+09</td>\n",
       "      <td>88.211902</td>\n",
       "    </tr>\n",
       "    <tr>\n",
       "      <th>136</th>\n",
       "      <td>Beauty and the Beast</td>\n",
       "      <td>Mar 17, 2017</td>\n",
       "      <td>Family,Fantasy,Musical</td>\n",
       "      <td>160000000.0</td>\n",
       "      <td>504014165.0</td>\n",
       "      <td>1.259200e+09</td>\n",
       "      <td>1.099200e+09</td>\n",
       "      <td>87.293517</td>\n",
       "    </tr>\n",
       "    <tr>\n",
       "      <th>681</th>\n",
       "      <td>Minions</td>\n",
       "      <td>Jul 10, 2015</td>\n",
       "      <td>Adventure,Animation,Comedy</td>\n",
       "      <td>74000000.0</td>\n",
       "      <td>336045770.0</td>\n",
       "      <td>1.160336e+09</td>\n",
       "      <td>1.086336e+09</td>\n",
       "      <td>93.622538</td>\n",
       "    </tr>\n",
       "    <tr>\n",
       "      <th>3</th>\n",
       "      <td>Avengers: Age of Ultron</td>\n",
       "      <td>May 1, 2015</td>\n",
       "      <td>Action,Adventure,Sci-Fi</td>\n",
       "      <td>330600000.0</td>\n",
       "      <td>459005868.0</td>\n",
       "      <td>1.403014e+09</td>\n",
       "      <td>1.072414e+09</td>\n",
       "      <td>76.436443</td>\n",
       "    </tr>\n",
       "    <tr>\n",
       "      <th>43</th>\n",
       "      <td>Incredibles 2</td>\n",
       "      <td>Jun 15, 2018</td>\n",
       "      <td>Action,Adventure,Animation</td>\n",
       "      <td>200000000.0</td>\n",
       "      <td>608581744.0</td>\n",
       "      <td>1.242521e+09</td>\n",
       "      <td>1.042521e+09</td>\n",
       "      <td>83.903689</td>\n",
       "    </tr>\n",
       "  </tbody>\n",
       "</table>\n",
       "</div>"
      ],
      "text/plain": [
       "                              movie  release_date                      genres  \\\n",
       "6            Avengers: Infinity War  Apr 27, 2018     Action,Adventure,Sci-Fi   \n",
       "33                   Jurassic World  Jun 12, 2015     Action,Adventure,Sci-Fi   \n",
       "26                     The Avengers   May 4, 2012     Action,Adventure,Sci-Fi   \n",
       "41                    Black Panther  Feb 16, 2018     Action,Adventure,Sci-Fi   \n",
       "114  Jurassic World: Fallen Kingdom  Jun 22, 2018     Action,Adventure,Sci-Fi   \n",
       "157                          Frozen  Nov 22, 2013  Adventure,Animation,Comedy   \n",
       "136            Beauty and the Beast  Mar 17, 2017      Family,Fantasy,Musical   \n",
       "681                         Minions  Jul 10, 2015  Adventure,Animation,Comedy   \n",
       "3           Avengers: Age of Ultron   May 1, 2015     Action,Adventure,Sci-Fi   \n",
       "43                    Incredibles 2  Jun 15, 2018  Action,Adventure,Animation   \n",
       "\n",
       "     production_budget  domestic_gross  worldwide_gross        profit  \\\n",
       "6          300000000.0     678815482.0     2.048134e+09  1.748134e+09   \n",
       "33         215000000.0     652270625.0     1.648855e+09  1.433855e+09   \n",
       "26         225000000.0     623279547.0     1.517936e+09  1.292936e+09   \n",
       "41         200000000.0     700059566.0     1.348258e+09  1.148258e+09   \n",
       "114        170000000.0     417719760.0     1.305773e+09  1.135773e+09   \n",
       "157        150000000.0     400738009.0     1.272470e+09  1.122470e+09   \n",
       "136        160000000.0     504014165.0     1.259200e+09  1.099200e+09   \n",
       "681         74000000.0     336045770.0     1.160336e+09  1.086336e+09   \n",
       "3          330600000.0     459005868.0     1.403014e+09  1.072414e+09   \n",
       "43         200000000.0     608581744.0     1.242521e+09  1.042521e+09   \n",
       "\n",
       "     net_profit_margin  \n",
       "6            85.352522  \n",
       "33           86.960647  \n",
       "26           85.177240  \n",
       "41           85.166046  \n",
       "114          86.980890  \n",
       "157          88.211902  \n",
       "136          87.293517  \n",
       "681          93.622538  \n",
       "3            76.436443  \n",
       "43           83.903689  "
      ]
     },
     "execution_count": 22,
     "metadata": {},
     "output_type": "execute_result"
    }
   ],
   "source": [
    "# Sort by Net Profit Margin (>70%) and Profit\n",
    "#condensed_profit = condensed_profit[condensed_profit['net_profit_margin'] > 70]\n",
    "condensed_profit = condensed_profit.sort_values(by=['profit'], ascending=False)\n",
    "condensed_profit.head(10)"
   ]
  },
  {
   "cell_type": "markdown",
   "metadata": {},
   "source": [
    "### Visualization"
   ]
  },
  {
   "cell_type": "markdown",
   "metadata": {},
   "source": [
    "With the organized data, we can, now, use them to see what genres are popular in the top 100 most profited movies."
   ]
  },
  {
   "cell_type": "code",
   "execution_count": 23,
   "metadata": {},
   "outputs": [
    {
     "data": {
      "image/png": "[encoded data removed]",
      "text/plain": [
       "<Figure size 1080x720 with 1 Axes>"
      ]
     },
     "metadata": {
      "needs_background": "light"
     },
     "output_type": "display_data"
    }
   ],
   "source": [
    "# Make a list of genres from the top 100 rows in the organized dataframe\n",
    "genres = list(condensed_profit['genres'].iloc[:100])\n",
    "\n",
    "top_100_profit_genre_list = []\n",
    "\n",
    "# Split the genres for each movie by comma and append them into a new list\n",
    "for genre in genres:\n",
    "    each_genre = genre.split(',')\n",
    "    for index in range(len(each_genre)):\n",
    "        top_100_profit_genre_list.append(each_genre[index])\n",
    "\n",
    "top_100_profit_genre_dict = {}\n",
    "\n",
    "# Make a dictionary to count number of each genres\n",
    "# For each genre, if the genre is in the dictionary, add a count to the value\n",
    "# If not, then add a count to the value\n",
    "for genre in top_100_profit_genre_list:\n",
    "    if genre in top_100_profit_genre_dict.keys():\n",
    "        top_100_profit_genre_dict[genre] += 1\n",
    "    else:\n",
    "        top_100_profit_genre_dict[genre] = 1\n",
    "        \n",
    "# Sort the dictionary by count\n",
    "# We use lambda x while sorting so that we sort them by the values (x[1])\n",
    "top_100_profit_genre_dict = dict(sorted(top_100_profit_genre_dict.items(), key=lambda x : x[1]))\n",
    "\n",
    "# Make a bar chart to represent genres in top 100 profited movies\n",
    "fig, ax = plt.subplots(figsize=(15, 10))\n",
    "\n",
    "x = list(top_100_profit_genre_dict.keys())\n",
    "height = list(top_100_profit_genre_dict.values())\n",
    "\n",
    "ax.barh(x, height)\n",
    "ax.set_title('Genres in Top 100 Profited Movies')\n",
    "ax.set_xlabel('Number of Genre')\n",
    "ax.set_ylabel('Genre')\n",
    "\n",
    "plt.savefig('images/genres_in_top_100_profited_movies.png')"
   ]
  },
  {
   "cell_type": "markdown",
   "metadata": {},
   "source": [
    "Now, we want to see average profit margin for each genre to see if we will make enough money on the genre for the amount spent on production. We will take the top 10 genres from the above data."
   ]
  },
  {
   "cell_type": "code",
   "execution_count": 72,
   "metadata": {
    "scrolled": true
   },
   "outputs": [
    {
     "data": {
      "image/png": "[encoded data removed]",
      "text/plain": [
       "<Figure size 1080x720 with 1 Axes>"
      ]
     },
     "metadata": {
      "needs_background": "light"
     },
     "output_type": "display_data"
    }
   ],
   "source": [
    "# Make a list of top 10 genres from the graph above\n",
    "top10_genre = list(top_100_profit_genre_dict.keys())[-10:]\n",
    "\n",
    "# Create a new dataframe so that we have data that have profit margin above 0%,\n",
    "condensed_profit_split_genre = condensed_profit[condensed_profit['net_profit_margin'] >= 0]\n",
    "\n",
    "# Split the genres for each movie by comma\n",
    "condensed_profit_split_genre['genres'] = condensed_profit_split_genre['genres'].map(lambda x : x.split(','))\n",
    "warnings.filterwarnings('ignore')\n",
    "\n",
    "genre_profit_margin = {}\n",
    "\n",
    "# For each genre in the top 10 genre list, make a list of profit margin for that certain genre\n",
    "for genre in top10_genre:\n",
    "    genre_profit_margin[genre] = []\n",
    "    for index, row in condensed_profit_split_genre.iterrows():\n",
    "        if genre in row['genres']:\n",
    "            genre_profit_margin[genre].append(row['net_profit_margin'])\n",
    "\n",
    "average_profit_margin_genre = {}\n",
    "\n",
    "# For each genre, find the average of profit margin\n",
    "for k,v in genre_profit_margin.items():\n",
    "    average_profit_margin_genre[k] = sum(v)/ float(len(v))\n",
    "\n",
    "# Sort the dictionary by count\n",
    "# We use lambda x while sorting so that we sort them by the values (x[1])\n",
    "average_profit_margin_genre = dict(sorted(average_profit_margin_genre.items(), key=lambda x : x[1]))\n",
    "\n",
    "# Make a bar graph represents profit margin and top 10 genre\n",
    "fig, ax = plt.subplots(figsize=(15, 10))\n",
    "\n",
    "x = list(average_profit_margin_genre.keys())\n",
    "height = list(average_profit_margin_genre.values())\n",
    "\n",
    "ax.barh(x, height)\n",
    "ax.set_title('Profit Margin for Top 10 Genre of Most Profited Movies')\n",
    "ax.set_xlabel('Profit Margin')\n",
    "ax.set_ylabel('Number of Genre')\n",
    "\n",
    "plt.savefig('images/profit_margin_genre.png')"
   ]
  },
  {
   "cell_type": "markdown",
   "metadata": {},
   "source": [
    "With the data from the graph above, we can see that all the top 10 genres show that there is a good profit margin. When comparing the Genres in Top 100 Profited Movies graph and Profit Margin vs. Top 10 Genre of Most Profited Movies graph, we see that Sci-Fi, Animation, and Comedy are in the top 5 in both graphs."
   ]
  },
  {
   "cell_type": "markdown",
   "metadata": {},
   "source": [
    "Since some movies have more than one genre, instead of spliting the genre like we did above, let's look for which set of genres are popular in the top 100 most profited movies."
   ]
  },
  {
   "cell_type": "code",
   "execution_count": 69,
   "metadata": {},
   "outputs": [
    {
     "data": {
      "image/png": "[encoded data removed]",
      "text/plain": [
       "<Figure size 1080x720 with 1 Axes>"
      ]
     },
     "metadata": {
      "needs_background": "light"
     },
     "output_type": "display_data"
    }
   ],
   "source": [
    "# Make a list of top 100 genres from the organized dataframe\n",
    "top_100_profit_genre_set_list = list(condensed_profit['genres'].iloc[:100])\n",
    "\n",
    "top_100_profit_genre_set_dict = {}\n",
    "\n",
    "# Make a dictionary to count number of sets of genres\n",
    "# For each set of genre, if the set of genre is in the dictionary, add a count to the value\n",
    "# If not, then add a count to the value\n",
    "for genre in top_100_profit_genre_set_list:\n",
    "    if genre in top_100_profit_genre_set_dict.keys():\n",
    "        top_100_profit_genre_set_dict[genre] += 1\n",
    "    else:\n",
    "        top_100_profit_genre_set_dict[genre] = 1\n",
    "\n",
    "# Sort the dictionary by count\n",
    "# We use lambda x while sorting so that we sort them by the values (x[1])\n",
    "top_100_profit_genre_set_dict = dict(sorted(top_100_profit_genre_set_dict.items(), key=lambda x : x[1]))\n",
    "\n",
    "#Make a bar chart to represent set of genres in top 100 profited movies\n",
    "fig, ax = plt.subplots(figsize=(15, 10))\n",
    "\n",
    "x = list(top_100_profit_genre_set_dict.keys())\n",
    "height = list(top_100_profit_genre_set_dict.values())\n",
    "\n",
    "ax.barh(x, height)\n",
    "ax.set_title('Set of Genres in Top 100 Profited Movies')\n",
    "ax.set_xlabel('Number of Set of Genre')\n",
    "ax.set_ylabel('Set of Genre')\n",
    "\n",
    "plt.savefig('images/set_of_genres_top_100_profited_movies.png')"
   ]
  },
  {
   "cell_type": "markdown",
   "metadata": {},
   "source": [
    "Now, we want to see average profit margin for each set of genre to see if we will make enough money on the set of genre for the amount spent on production. We will take the top 10 set of genres from the above data."
   ]
  },
  {
   "cell_type": "code",
   "execution_count": 73,
   "metadata": {},
   "outputs": [
    {
     "data": {
      "image/png": "[encoded data removed]",
      "text/plain": [
       "<Figure size 1080x720 with 1 Axes>"
      ]
     },
     "metadata": {
      "needs_background": "light"
     },
     "output_type": "display_data"
    }
   ],
   "source": [
    "# Make a list of top 10 set of genres from the graph above\n",
    "top10_set_genre = list(top_100_profit_genre_set_dict.keys())[-10:]\n",
    "\n",
    "# Create a new dataframe so that we have data that have profit margin above 0%,\n",
    "condensed_profit_split_genre_set = condensed_profit[condensed_profit['net_profit_margin'] >= 0]\n",
    "\n",
    "genre_profit_margin_set = {}\n",
    "\n",
    "# For each set of genres in the top 10 set of genres list, make a list of profit margin for that certain set of genres\n",
    "for genre in top10_set_genre:\n",
    "    genre_profit_margin_set[genre] = []\n",
    "    for index, row in condensed_profit_split_genre_set.iterrows():\n",
    "        if genre in row['genres']:\n",
    "            genre_profit_margin_set[genre].append(row['net_profit_margin'])\n",
    "\n",
    "average_profit_margin_genre_set = {}\n",
    "\n",
    "# For each set of genres, find the average of profit margin\n",
    "for k,v in genre_profit_margin_set.items():\n",
    "    average_profit_margin_genre_set[k] = sum(v)/ float(len(v))\n",
    "\n",
    "# Sort the dictionary by count\n",
    "# We use lambda x while sorting so that we sort them by the values (x[1])\n",
    "average_profit_margin_genre_set = dict(sorted(average_profit_margin_genre_set.items(), key=lambda x : x[1]))\n",
    "\n",
    "# Make a bar graph that represents profit margin and top 10 genre\n",
    "fig, ax = plt.subplots(figsize=(15, 10))\n",
    "\n",
    "x = list(average_profit_margin_genre_set.keys())\n",
    "height = list(average_profit_margin_genre_set.values())\n",
    "\n",
    "ax.barh(x, height)\n",
    "ax.set_title('Profit Margin for Top 10 Set of Genre of Most Profited Movies')\n",
    "ax.set_xlabel('Profit Margin')\n",
    "ax.set_ylabel('Number of Genre')\n",
    "\n",
    "plt.savefig('images/profit_margin_set_genre.png')"
   ]
  },
  {
   "cell_type": "markdown",
   "metadata": {},
   "source": [
    "With the data from the graph above, we can see that all the top 10 sets of genres show that there is a good profit margin. When comparing the Set of Genres in Top 100 Profited Movies graph and Profit Margin vs. Top 10 Set of Genre of Most Profited Movies graph, we see that \"Action, Adventure, Comedy\" and \"Action, Adventure, Animation\" are in the top 5 in both graphs."
   ]
  },
  {
   "cell_type": "markdown",
   "metadata": {},
   "source": [
    "## Conclusion"
   ]
  },
  {
   "cell_type": "code",
   "execution_count": null,
   "metadata": {},
   "outputs": [],
   "source": []
  }
 ],
 "metadata": {
  "kernelspec": {
   "display_name": "Python (learn-env)",
   "language": "python",
   "name": "learn-env"
  },
  "language_info": {
   "codemirror_mode": {
    "name": "ipython",
    "version": 3
   },
   "file_extension": ".py",
   "mimetype": "text/x-python",
   "name": "python",
   "nbconvert_exporter": "python",
   "pygments_lexer": "ipython3",
   "version": "3.8.5"
  }
 },
 "nbformat": 4,
 "nbformat_minor": 4
}
