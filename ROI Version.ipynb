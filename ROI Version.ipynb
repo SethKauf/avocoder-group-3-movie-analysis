{
 "cells": [
  {
   "cell_type": "code",
   "execution_count": 1,
   "metadata": {},
   "outputs": [],
   "source": [
    "import pandas as pd\n",
    "import matplotlib.pyplot as plt\n",
    "%matplotlib inline\n",
    "import numpy as np\n",
    "import seaborn as sns\n",
    "import warnings"
   ]
  },
  {
   "cell_type": "code",
   "execution_count": 2,
   "metadata": {},
   "outputs": [
    {
     "name": "stdout",
     "output_type": "stream",
     "text": [
      "The first movie in the data set was released in Apr 1, 1975\n",
      "while the most recent was released in Sep 9, 2016\n"
     ]
    }
   ],
   "source": [
    "df = pd.read_csv('data/tn.movie_budgets.csv.gz', index_col='id')\n",
    "print(f\"\"\"The first movie in the data set was released in {df['release_date'].min()}\\nwhile the most recent was released in {df['release_date'].max()}\"\"\")"
   ]
  },
  {
   "cell_type": "code",
   "execution_count": 3,
   "metadata": {},
   "outputs": [
    {
     "data": {
      "text/html": [
       "<div>\n",
       "<style scoped>\n",
       "    .dataframe tbody tr th:only-of-type {\n",
       "        vertical-align: middle;\n",
       "    }\n",
       "\n",
       "    .dataframe tbody tr th {\n",
       "        vertical-align: top;\n",
       "    }\n",
       "\n",
       "    .dataframe thead th {\n",
       "        text-align: right;\n",
       "    }\n",
       "</style>\n",
       "<table border=\"1\" class=\"dataframe\">\n",
       "  <thead>\n",
       "    <tr style=\"text-align: right;\">\n",
       "      <th></th>\n",
       "      <th>release_date</th>\n",
       "      <th>movie</th>\n",
       "      <th>production_budget</th>\n",
       "      <th>domestic_gross</th>\n",
       "      <th>worldwide_gross</th>\n",
       "    </tr>\n",
       "    <tr>\n",
       "      <th>id</th>\n",
       "      <th></th>\n",
       "      <th></th>\n",
       "      <th></th>\n",
       "      <th></th>\n",
       "      <th></th>\n",
       "    </tr>\n",
       "  </thead>\n",
       "  <tbody>\n",
       "    <tr>\n",
       "      <th>66</th>\n",
       "      <td>Mar 9, 2001</td>\n",
       "      <td>Dayereh</td>\n",
       "      <td>$10,000</td>\n",
       "      <td>$673,780</td>\n",
       "      <td>$673,780</td>\n",
       "    </tr>\n",
       "    <tr>\n",
       "      <th>48</th>\n",
       "      <td>Oct 5, 2012</td>\n",
       "      <td>Frankenweenie</td>\n",
       "      <td>$39,000,000</td>\n",
       "      <td>$35,287,788</td>\n",
       "      <td>$81,150,788</td>\n",
       "    </tr>\n",
       "    <tr>\n",
       "      <th>7</th>\n",
       "      <td>Dec 31, 2010</td>\n",
       "      <td>Konferenz der Tiere</td>\n",
       "      <td>$30,000,000</td>\n",
       "      <td>$0</td>\n",
       "      <td>$53,048,539</td>\n",
       "    </tr>\n",
       "  </tbody>\n",
       "</table>\n",
       "</div>"
      ],
      "text/plain": [
       "    release_date                movie production_budget domestic_gross  \\\n",
       "id                                                                       \n",
       "66   Mar 9, 2001              Dayereh           $10,000       $673,780   \n",
       "48   Oct 5, 2012        Frankenweenie       $39,000,000    $35,287,788   \n",
       "7   Dec 31, 2010  Konferenz der Tiere       $30,000,000             $0   \n",
       "\n",
       "   worldwide_gross  \n",
       "id                  \n",
       "66        $673,780  \n",
       "48     $81,150,788  \n",
       "7      $53,048,539  "
      ]
     },
     "execution_count": 3,
     "metadata": {},
     "output_type": "execute_result"
    }
   ],
   "source": [
    "# A sample of the dataframe\n",
    "df.sample(3)"
   ]
  },
  {
   "cell_type": "code",
   "execution_count": 4,
   "metadata": {},
   "outputs": [
    {
     "name": "stderr",
     "output_type": "stream",
     "text": [
      "<ipython-input-4-d569e0ce009c>:6: FutureWarning: The pandas.np module is deprecated and will be removed from pandas in a future version. Import numpy directly instead\n",
      "  df['worldwide_gross'] = df['worldwide_gross'].replace(0, pd.np.nan)\n"
     ]
    }
   ],
   "source": [
    "# Cleaning up the value columns\n",
    "df['production_budget'] = df['production_budget'].map(lambda x: x.strip('$')).str.replace(',','').astype(float)\n",
    "df['domestic_gross'] = df['domestic_gross'].map(lambda x: x.strip('$')).str.replace(',','').astype(float)\n",
    "df['worldwide_gross'] = df['worldwide_gross'].map(lambda x: x.strip('$')).str.replace(',','').astype(float)\n",
    "# Dropping all \"0\" values from the worldwide_gross column\n",
    "df['worldwide_gross'] = df['worldwide_gross'].replace(0, pd.np.nan)\n",
    "warnings.filterwarnings('ignore')\n",
    "df = df.dropna()"
   ]
  },
  {
   "cell_type": "code",
   "execution_count": 5,
   "metadata": {},
   "outputs": [],
   "source": [
    "df['profit'] = df['worldwide_gross'] - df['production_budget']\n",
    "df['roi'] = round(((df['profit']/df['production_budget']) * 100), 2)\n",
    "# We're using the below function to isolate the release year from the release date\n",
    "df['release_year'] = df['release_date'].map(lambda x: int(x[-4:]))"
   ]
  },
  {
   "cell_type": "code",
   "execution_count": 6,
   "metadata": {},
   "outputs": [
    {
     "name": "stdout",
     "output_type": "stream",
     "text": [
      "<class 'pandas.core.frame.DataFrame'>\n",
      "Int64Index: 3070 entries, 1 to 82\n",
      "Data columns (total 8 columns):\n",
      " #   Column             Non-Null Count  Dtype  \n",
      "---  ------             --------------  -----  \n",
      " 0   release_date       3070 non-null   object \n",
      " 1   movie              3070 non-null   object \n",
      " 2   production_budget  3070 non-null   float64\n",
      " 3   domestic_gross     3070 non-null   float64\n",
      " 4   worldwide_gross    3070 non-null   float64\n",
      " 5   profit             3070 non-null   float64\n",
      " 6   roi                3070 non-null   float64\n",
      " 7   release_year       3070 non-null   int64  \n",
      "dtypes: float64(5), int64(1), object(2)\n",
      "memory usage: 215.9+ KB\n"
     ]
    }
   ],
   "source": [
    "# Anything older than the year 2005 will be removed, so we have a 10 year scope, using the last decade.\n",
    "filtered_df = df[df['release_year'] >= 2005]\n",
    "filtered_df.info()"
   ]
  },
  {
   "cell_type": "code",
   "execution_count": 7,
   "metadata": {},
   "outputs": [
    {
     "name": "stdout",
     "output_type": "stream",
     "text": [
      "<class 'pandas.core.frame.DataFrame'>\n",
      "Int64Index: 2062 entries, 1 to 82\n",
      "Data columns (total 8 columns):\n",
      " #   Column             Non-Null Count  Dtype  \n",
      "---  ------             --------------  -----  \n",
      " 0   release_date       2062 non-null   object \n",
      " 1   movie              2062 non-null   object \n",
      " 2   production_budget  2062 non-null   float64\n",
      " 3   domestic_gross     2062 non-null   float64\n",
      " 4   worldwide_gross    2062 non-null   float64\n",
      " 5   profit             2062 non-null   float64\n",
      " 6   roi                2062 non-null   float64\n",
      " 7   release_year       2062 non-null   int64  \n",
      "dtypes: float64(5), int64(1), object(2)\n",
      "memory usage: 145.0+ KB\n"
     ]
    }
   ],
   "source": [
    "# Removing anything with a negative profit margin as we are looking for the average profitable films.\n",
    "# Negative profit margins don't do our dataset any good\n",
    "filtered_df = filtered_df[filtered_df['roi'] >= 0]\n",
    "filtered_df.info()"
   ]
  },
  {
   "cell_type": "code",
   "execution_count": 8,
   "metadata": {},
   "outputs": [
    {
     "data": {
      "text/html": [
       "<div>\n",
       "<style scoped>\n",
       "    .dataframe tbody tr th:only-of-type {\n",
       "        vertical-align: middle;\n",
       "    }\n",
       "\n",
       "    .dataframe tbody tr th {\n",
       "        vertical-align: top;\n",
       "    }\n",
       "\n",
       "    .dataframe thead th {\n",
       "        text-align: right;\n",
       "    }\n",
       "</style>\n",
       "<table border=\"1\" class=\"dataframe\">\n",
       "  <thead>\n",
       "    <tr style=\"text-align: right;\">\n",
       "      <th></th>\n",
       "      <th>release_date</th>\n",
       "      <th>movie</th>\n",
       "      <th>production_budget</th>\n",
       "      <th>domestic_gross</th>\n",
       "      <th>worldwide_gross</th>\n",
       "      <th>profit</th>\n",
       "      <th>roi</th>\n",
       "      <th>release_year</th>\n",
       "    </tr>\n",
       "    <tr>\n",
       "      <th>id</th>\n",
       "      <th></th>\n",
       "      <th></th>\n",
       "      <th></th>\n",
       "      <th></th>\n",
       "      <th></th>\n",
       "      <th></th>\n",
       "      <th></th>\n",
       "      <th></th>\n",
       "    </tr>\n",
       "  </thead>\n",
       "  <tbody>\n",
       "    <tr>\n",
       "      <th>82</th>\n",
       "      <td>Aug 5, 2005</td>\n",
       "      <td>My Date With Drew</td>\n",
       "      <td>1100.0</td>\n",
       "      <td>181041.0</td>\n",
       "      <td>181041.0</td>\n",
       "      <td>179941.0</td>\n",
       "      <td>16358.27</td>\n",
       "      <td>2005</td>\n",
       "    </tr>\n",
       "  </tbody>\n",
       "</table>\n",
       "</div>"
      ],
      "text/plain": [
       "   release_date              movie  production_budget  domestic_gross  \\\n",
       "id                                                                      \n",
       "82  Aug 5, 2005  My Date With Drew             1100.0        181041.0   \n",
       "\n",
       "    worldwide_gross    profit       roi  release_year  \n",
       "id                                                     \n",
       "82         181041.0  179941.0  16358.27          2005  "
      ]
     },
     "metadata": {},
     "output_type": "display_data"
    },
    {
     "data": {
      "text/html": [
       "<div>\n",
       "<style scoped>\n",
       "    .dataframe tbody tr th:only-of-type {\n",
       "        vertical-align: middle;\n",
       "    }\n",
       "\n",
       "    .dataframe tbody tr th {\n",
       "        vertical-align: top;\n",
       "    }\n",
       "\n",
       "    .dataframe thead th {\n",
       "        text-align: right;\n",
       "    }\n",
       "</style>\n",
       "<table border=\"1\" class=\"dataframe\">\n",
       "  <thead>\n",
       "    <tr style=\"text-align: right;\">\n",
       "      <th></th>\n",
       "      <th>release_date</th>\n",
       "      <th>movie</th>\n",
       "      <th>production_budget</th>\n",
       "      <th>domestic_gross</th>\n",
       "      <th>worldwide_gross</th>\n",
       "      <th>profit</th>\n",
       "      <th>roi</th>\n",
       "      <th>release_year</th>\n",
       "    </tr>\n",
       "    <tr>\n",
       "      <th>id</th>\n",
       "      <th></th>\n",
       "      <th></th>\n",
       "      <th></th>\n",
       "      <th></th>\n",
       "      <th></th>\n",
       "      <th></th>\n",
       "      <th></th>\n",
       "      <th></th>\n",
       "    </tr>\n",
       "  </thead>\n",
       "  <tbody>\n",
       "    <tr>\n",
       "      <th>1</th>\n",
       "      <td>Dec 18, 2009</td>\n",
       "      <td>Avatar</td>\n",
       "      <td>425000000.0</td>\n",
       "      <td>760507625.0</td>\n",
       "      <td>2.776345e+09</td>\n",
       "      <td>2.351345e+09</td>\n",
       "      <td>553.26</td>\n",
       "      <td>2009</td>\n",
       "    </tr>\n",
       "  </tbody>\n",
       "</table>\n",
       "</div>"
      ],
      "text/plain": [
       "    release_date   movie  production_budget  domestic_gross  worldwide_gross  \\\n",
       "id                                                                             \n",
       "1   Dec 18, 2009  Avatar        425000000.0     760507625.0     2.776345e+09   \n",
       "\n",
       "          profit     roi  release_year  \n",
       "id                                      \n",
       "1   2.351345e+09  553.26          2009  "
      ]
     },
     "metadata": {},
     "output_type": "display_data"
    },
    {
     "data": {
      "text/plain": [
       "[1100, 425000000]"
      ]
     },
     "metadata": {},
     "output_type": "display_data"
    }
   ],
   "source": [
    "lowest_film = df[(df['production_budget'] == df['production_budget'].min())]\n",
    "highest_film = df[(df['production_budget'] == df['production_budget'].max())]\n",
    "df_range = [int(filtered_df['production_budget'].min()),int(filtered_df['production_budget'].max())]\n",
    "display(lowest_film, highest_film, df_range)"
   ]
  },
  {
   "cell_type": "code",
   "execution_count": 9,
   "metadata": {},
   "outputs": [
    {
     "data": {
      "image/png": "[encoded data removed]",
      "text/plain": [
       "<Figure size 432x288 with 1 Axes>"
      ]
     },
     "metadata": {
      "needs_background": "light"
     },
     "output_type": "display_data"
    }
   ],
   "source": [
    "sns.histplot(data=filtered_df, x='production_budget',bins=15);"
   ]
  },
  {
   "cell_type": "code",
   "execution_count": 10,
   "metadata": {},
   "outputs": [
    {
     "data": {
      "image/png": "[encoded data removed]",
      "text/plain": [
       "<Figure size 432x288 with 1 Axes>"
      ]
     },
     "metadata": {
      "needs_background": "light"
     },
     "output_type": "display_data"
    }
   ],
   "source": [
    "filtered_df.boxplot('production_budget', showfliers=False);"
   ]
  },
  {
   "cell_type": "code",
   "execution_count": 11,
   "metadata": {},
   "outputs": [
    {
     "name": "stdout",
     "output_type": "stream",
     "text": [
      "Because of the heavy skew, we will divide our data using IQR.\n",
      "\n",
      "The 25th percentile is 10000000.0 and the 75th is 60000000.0.\n"
     ]
    }
   ],
   "source": [
    "filt_25_percentile = filtered_df['production_budget'].quantile(.25)\n",
    "filt_75_percentile = filtered_df['production_budget'].quantile(.75)\n",
    "print(f\"\"\"Because of the heavy skew, we will divide our data using IQR.\\n\\nThe 25th percentile is {filt_25_percentile} and the 75th is {filt_75_percentile}.\"\"\")"
   ]
  },
  {
   "cell_type": "code",
   "execution_count": 13,
   "metadata": {},
   "outputs": [],
   "source": [
    "filtered_df_low = filtered_df[(filtered_df['production_budget'] < filt_25_percentile)]\n",
    "filtered_df_mid = filtered_df[(filtered_df['production_budget'] >= filt_25_percentile) & (filtered_df['production_budget'] <= filt_75_percentile)]\n",
    "filtered_df_high = filtered_df[(filtered_df['production_budget'] > filt_75_percentile)]"
   ]
  },
  {
   "cell_type": "code",
   "execution_count": 14,
   "metadata": {},
   "outputs": [
    {
     "name": "stdout",
     "output_type": "stream",
     "text": [
      "Our movie counts are:\n",
      "\n",
      "Low DF: 480\n",
      "\n",
      "Mid DF: 1083\n",
      "\n",
      "High DF: 499\n"
     ]
    }
   ],
   "source": [
    "print(f\"\"\"Our movie counts are:\\n\\nLow DF: {filtered_df_low['movie'].count()}\\n\\nMid DF: {filtered_df_mid['movie'].count()}\\n\\nHigh DF: {filtered_df_high['movie'].count()}\"\"\")"
   ]
  },
  {
   "cell_type": "code",
   "execution_count": 15,
   "metadata": {},
   "outputs": [
    {
     "data": {
      "image/png": "[encoded data removed]",
      "text/plain": [
       "<Figure size 1440x360 with 3 Axes>"
      ]
     },
     "metadata": {
      "needs_background": "light"
     },
     "output_type": "display_data"
    }
   ],
   "source": [
    "fig, axs = plt.subplots(1,3)\n",
    "filtered_df_low['production_budget'].hist(ax=axs[0],figsize=(20,5),color='brown')\n",
    "filtered_df_mid['production_budget'].hist(ax=axs[1],figsize=(20,5),color='orange')\n",
    "filtered_df_high['production_budget'].hist(ax=axs[2],figsize=(20,5),color='green')\n",
    "axs[0].set_title('Low DF',fontsize=20)\n",
    "axs[0].set_ylabel('Count',fontsize=15)\n",
    "axs[1].set_title('Mid DF',fontsize=20)\n",
    "axs[1].set_xlabel('Budget',fontsize=15)\n",
    "axs[2].set_title('High DF',fontsize=20);"
   ]
  },
  {
   "cell_type": "code",
   "execution_count": 16,
   "metadata": {},
   "outputs": [
    {
     "data": {
      "image/png": "[encoded data removed]",
      "text/plain": [
       "<Figure size 1440x360 with 3 Axes>"
      ]
     },
     "metadata": {
      "needs_background": "light"
     },
     "output_type": "display_data"
    }
   ],
   "source": [
    "fig, axs = plt.subplots(1,3)\n",
    "filtered_df_low['roi'].hist(ax=axs[0],figsize=(20,5),color='brown')\n",
    "filtered_df_mid['roi'].hist(ax=axs[1],figsize=(20,5),color='orange')\n",
    "filtered_df_high['roi'].hist(ax=axs[2],figsize=(20,5),color='green')\n",
    "axs[0].set_title('Low DF',fontsize=20)\n",
    "axs[0].set_ylabel('Count',fontsize=15)\n",
    "axs[1].set_title('Mid DF',fontsize=20)\n",
    "axs[1].set_xlabel('ROI',fontsize=15)\n",
    "axs[2].set_title('High DF',fontsize=20);"
   ]
  },
  {
   "cell_type": "code",
   "execution_count": null,
   "metadata": {},
   "outputs": [],
   "source": [
    "display(filtered_df_low.corr(), filtered_df_mid.corr(), filtered_df_high.corr())"
   ]
  },
  {
   "cell_type": "code",
   "execution_count": null,
   "metadata": {},
   "outputs": [],
   "source": [
    "fig, ax = plt.subplots(figsize=(15,5))\n",
    "filtered_df_high.plot.scatter(x='production_budget',y='roi',title='Budget v ROI for High-Budget Films', ax=ax, c='orange')\n",
    "ax.set_xlabel('Budget')\n",
    "ax.set_ylabel('ROI');"
   ]
  },
  {
   "cell_type": "code",
   "execution_count": null,
   "metadata": {},
   "outputs": [],
   "source": [
    "sns.lmplot(x='production_budget',y='prof_margin',data=filtered_df_high);"
   ]
  },
  {
   "cell_type": "code",
   "execution_count": null,
   "metadata": {},
   "outputs": [],
   "source": [
    "filtered_df_high.describe()"
   ]
  },
  {
   "cell_type": "code",
   "execution_count": null,
   "metadata": {},
   "outputs": [],
   "source": []
  }
 ],
 "metadata": {
  "kernelspec": {
   "display_name": "Python 3",
   "language": "python",
   "name": "python3"
  },
  "language_info": {
   "codemirror_mode": {
    "name": "ipython",
    "version": 3
   },
   "file_extension": ".py",
   "mimetype": "text/x-python",
   "name": "python",
   "nbconvert_exporter": "python",
   "pygments_lexer": "ipython3",
   "version": "3.8.5"
  }
 },
 "nbformat": 4,
 "nbformat_minor": 4
}
