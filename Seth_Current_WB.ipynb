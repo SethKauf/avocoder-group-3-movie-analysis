{
 "cells": [
  {
   "cell_type": "markdown",
   "metadata": {},
   "source": [
    "# Production Budget vs. Profit Margin #"
   ]
  },
  {
   "cell_type": "markdown",
   "metadata": {},
   "source": [
    "For Microsoft to break into the film industry, something they'll need to know is how much they should be spending on a given film in order to turn the best possible profit.\n",
    "\n",
    "While multiple factors will ultimately go into what determines a profit and profit margin, below we will explore the correlation between a budget and profit margin.\n",
    "\n",
    "The minimum we expect to answer is:"
   ]
  },
  {
   "cell_type": "markdown",
   "metadata": {},
   "source": [
    "## 1. What is the correlation between Budget and Profit Margin (ROI)? ##\n",
    "\n",
    "\n",
    "## 2. What should Microsoft's film budget be? ##"
   ]
  },
  {
   "cell_type": "markdown",
   "metadata": {},
   "source": [
    "We will explore this question using the data set from the-numbers.com, a Los Angeles based database that tracks the budgets and gross profits of motion pictures."
   ]
  },
  {
   "cell_type": "markdown",
   "metadata": {},
   "source": [
    "## Importing Relevant Python Libraries and The Numbers Dataset ##"
   ]
  },
  {
   "cell_type": "code",
   "execution_count": 5,
   "metadata": {},
   "outputs": [],
   "source": [
    "import pandas as pd\n",
    "import matplotlib.pyplot as plt\n",
    "%matplotlib inline\n",
    "import numpy as np\n",
    "import seaborn as sns\n",
    "import warnings"
   ]
  },
  {
   "cell_type": "code",
   "execution_count": 6,
   "metadata": {},
   "outputs": [
    {
     "name": "stdout",
     "output_type": "stream",
     "text": [
      "The first movie in the data set was released in Apr 1, 1975\n",
      "while the most recent was released in Sep 9, 2016\n"
     ]
    }
   ],
   "source": [
    "df = pd.read_csv('data/tn.movie_budgets.csv.gz', index_col='id')\n",
    "print(f\"\"\"The first movie in the data set was released in {df['release_date'].min()}\\nwhile the most recent was released in {df['release_date'].max()}\"\"\")"
   ]
  },
  {
   "cell_type": "code",
   "execution_count": 7,
   "metadata": {
    "scrolled": true
   },
   "outputs": [
    {
     "data": {
      "text/html": [
       "<div>\n",
       "<style scoped>\n",
       "    .dataframe tbody tr th:only-of-type {\n",
       "        vertical-align: middle;\n",
       "    }\n",
       "\n",
       "    .dataframe tbody tr th {\n",
       "        vertical-align: top;\n",
       "    }\n",
       "\n",
       "    .dataframe thead th {\n",
       "        text-align: right;\n",
       "    }\n",
       "</style>\n",
       "<table border=\"1\" class=\"dataframe\">\n",
       "  <thead>\n",
       "    <tr style=\"text-align: right;\">\n",
       "      <th></th>\n",
       "      <th>release_date</th>\n",
       "      <th>movie</th>\n",
       "      <th>production_budget</th>\n",
       "      <th>domestic_gross</th>\n",
       "      <th>worldwide_gross</th>\n",
       "    </tr>\n",
       "    <tr>\n",
       "      <th>id</th>\n",
       "      <th></th>\n",
       "      <th></th>\n",
       "      <th></th>\n",
       "      <th></th>\n",
       "      <th></th>\n",
       "    </tr>\n",
       "  </thead>\n",
       "  <tbody>\n",
       "    <tr>\n",
       "      <th>63</th>\n",
       "      <td>May 28, 2010</td>\n",
       "      <td>Prince of Persia: Sands of Time</td>\n",
       "      <td>$200,000,000</td>\n",
       "      <td>$90,759,676</td>\n",
       "      <td>$336,359,676</td>\n",
       "    </tr>\n",
       "    <tr>\n",
       "      <th>82</th>\n",
       "      <td>May 21, 2010</td>\n",
       "      <td>Perrierâs Bounty</td>\n",
       "      <td>$6,600,000</td>\n",
       "      <td>$828</td>\n",
       "      <td>$828</td>\n",
       "    </tr>\n",
       "    <tr>\n",
       "      <th>51</th>\n",
       "      <td>Oct 13, 2000</td>\n",
       "      <td>Just Looking</td>\n",
       "      <td>$3,000,000</td>\n",
       "      <td>$39,852</td>\n",
       "      <td>$39,852</td>\n",
       "    </tr>\n",
       "  </tbody>\n",
       "</table>\n",
       "</div>"
      ],
      "text/plain": [
       "    release_date                            movie production_budget  \\\n",
       "id                                                                    \n",
       "63  May 28, 2010  Prince of Persia: Sands of Time      $200,000,000   \n",
       "82  May 21, 2010               Perrierâs Bounty        $6,600,000   \n",
       "51  Oct 13, 2000                     Just Looking        $3,000,000   \n",
       "\n",
       "   domestic_gross worldwide_gross  \n",
       "id                                 \n",
       "63    $90,759,676    $336,359,676  \n",
       "82           $828            $828  \n",
       "51        $39,852         $39,852  "
      ]
     },
     "execution_count": 7,
     "metadata": {},
     "output_type": "execute_result"
    }
   ],
   "source": [
    "# A sample of the dataframe\n",
    "df.sample(3)"
   ]
  },
  {
   "cell_type": "markdown",
   "metadata": {},
   "source": [
    "## Data Cleaning and Organization ##"
   ]
  },
  {
   "cell_type": "markdown",
   "metadata": {},
   "source": [
    "Here we will clean and organize the data with our first filter.\n",
    "\n",
    "We will first remove any \"zero\" values from the worldwide_gross column.\n",
    "\n",
    "Then we will add three columns:\n",
    "\n",
    "1. Profit: This is the gross minus the budget\n",
    "\n",
    "\n",
    "2. Profit Margin: Our profit margin column.\n",
    "    \n",
    "    a. Calculated by dividing the profit by the gross and multiplying by 100 to get a percentage.\n",
    "\n",
    "\n",
    "3. Release Year: What year did it come out.\n",
    "    \n",
    "    a. We will use our first filter to take out anything made before 2005."
   ]
  },
  {
   "cell_type": "code",
   "execution_count": 8,
   "metadata": {},
   "outputs": [],
   "source": [
    "# Cleaning up the value columns\n",
    "df['production_budget'] = df['production_budget'].map(lambda x: x.strip('$')).str.replace(',','').astype(float)\n",
    "df['domestic_gross'] = df['domestic_gross'].map(lambda x: x.strip('$')).str.replace(',','').astype(float)\n",
    "df['worldwide_gross'] = df['worldwide_gross'].map(lambda x: x.strip('$')).str.replace(',','').astype(float)\n",
    "# Dropping all \"0\" values from the worldwide_gross column\n",
    "df['worldwide_gross'] = df['worldwide_gross'].replace(0, pd.np.nan)\n",
    "warnings.filterwarnings('ignore')\n",
    "df = df.dropna()"
   ]
  },
  {
   "cell_type": "code",
   "execution_count": 62,
   "metadata": {},
   "outputs": [],
   "source": [
    "df['profit'] = df['worldwide_gross'] - df['production_budget']\n",
    "df['prof_margin'] = round(((df['profit']/df['worldwide_gross']) * 100), 2)\n",
    "# We're using the below function to isolate the release year from the release date\n",
    "df['release_year'] = df['release_date'].map(lambda x: int(x[-4:]))\n",
    "df['roi'] = round(((df['profit']/df['production_budget']) * 100), 2)"
   ]
  },
  {
   "cell_type": "code",
   "execution_count": 63,
   "metadata": {},
   "outputs": [
    {
     "name": "stdout",
     "output_type": "stream",
     "text": [
      "<class 'pandas.core.frame.DataFrame'>\n",
      "Int64Index: 3070 entries, 1 to 82\n",
      "Data columns (total 9 columns):\n",
      " #   Column             Non-Null Count  Dtype  \n",
      "---  ------             --------------  -----  \n",
      " 0   release_date       3070 non-null   object \n",
      " 1   movie              3070 non-null   object \n",
      " 2   production_budget  3070 non-null   float64\n",
      " 3   domestic_gross     3070 non-null   float64\n",
      " 4   worldwide_gross    3070 non-null   float64\n",
      " 5   profit             3070 non-null   float64\n",
      " 6   prof_margin        3070 non-null   float64\n",
      " 7   release_year       3070 non-null   int64  \n",
      " 8   roi                3070 non-null   float64\n",
      "dtypes: float64(6), int64(1), object(2)\n",
      "memory usage: 239.8+ KB\n"
     ]
    }
   ],
   "source": [
    "# Anything older than the year 2005 will be removed, so we have a 10 year scope, using the last decade.\n",
    "filtered_df = df[df['release_year'] >= 2005]\n",
    "filtered_df.info()"
   ]
  },
  {
   "cell_type": "code",
   "execution_count": 11,
   "metadata": {
    "scrolled": true
   },
   "outputs": [
    {
     "name": "stdout",
     "output_type": "stream",
     "text": [
      "<class 'pandas.core.frame.DataFrame'>\n",
      "Int64Index: 2062 entries, 1 to 82\n",
      "Data columns (total 8 columns):\n",
      " #   Column             Non-Null Count  Dtype  \n",
      "---  ------             --------------  -----  \n",
      " 0   release_date       2062 non-null   object \n",
      " 1   movie              2062 non-null   object \n",
      " 2   production_budget  2062 non-null   float64\n",
      " 3   domestic_gross     2062 non-null   float64\n",
      " 4   worldwide_gross    2062 non-null   float64\n",
      " 5   profit             2062 non-null   float64\n",
      " 6   prof_margin        2062 non-null   float64\n",
      " 7   release_year       2062 non-null   int64  \n",
      "dtypes: float64(5), int64(1), object(2)\n",
      "memory usage: 145.0+ KB\n"
     ]
    }
   ],
   "source": [
    "# Removing anything with a negative profit margin as we are looking for the average profitable films.\n",
    "# Negative profit margins don't do our dataset any good\n",
    "filtered_df = filtered_df[filtered_df['prof_margin'] >= 0]\n",
    "filtered_df.info()"
   ]
  },
  {
   "cell_type": "markdown",
   "metadata": {},
   "source": [
    "## Inspecting the Data ##"
   ]
  },
  {
   "cell_type": "code",
   "execution_count": 12,
   "metadata": {},
   "outputs": [
    {
     "data": {
      "text/html": [
       "<div>\n",
       "<style scoped>\n",
       "    .dataframe tbody tr th:only-of-type {\n",
       "        vertical-align: middle;\n",
       "    }\n",
       "\n",
       "    .dataframe tbody tr th {\n",
       "        vertical-align: top;\n",
       "    }\n",
       "\n",
       "    .dataframe thead th {\n",
       "        text-align: right;\n",
       "    }\n",
       "</style>\n",
       "<table border=\"1\" class=\"dataframe\">\n",
       "  <thead>\n",
       "    <tr style=\"text-align: right;\">\n",
       "      <th></th>\n",
       "      <th>release_date</th>\n",
       "      <th>movie</th>\n",
       "      <th>production_budget</th>\n",
       "      <th>domestic_gross</th>\n",
       "      <th>worldwide_gross</th>\n",
       "      <th>profit</th>\n",
       "      <th>prof_margin</th>\n",
       "      <th>release_year</th>\n",
       "    </tr>\n",
       "    <tr>\n",
       "      <th>id</th>\n",
       "      <th></th>\n",
       "      <th></th>\n",
       "      <th></th>\n",
       "      <th></th>\n",
       "      <th></th>\n",
       "      <th></th>\n",
       "      <th></th>\n",
       "      <th></th>\n",
       "    </tr>\n",
       "  </thead>\n",
       "  <tbody>\n",
       "    <tr>\n",
       "      <th>82</th>\n",
       "      <td>Aug 5, 2005</td>\n",
       "      <td>My Date With Drew</td>\n",
       "      <td>1100.0</td>\n",
       "      <td>181041.0</td>\n",
       "      <td>181041.0</td>\n",
       "      <td>179941.0</td>\n",
       "      <td>99.39</td>\n",
       "      <td>2005</td>\n",
       "    </tr>\n",
       "  </tbody>\n",
       "</table>\n",
       "</div>"
      ],
      "text/plain": [
       "   release_date              movie  production_budget  domestic_gross  \\\n",
       "id                                                                      \n",
       "82  Aug 5, 2005  My Date With Drew             1100.0        181041.0   \n",
       "\n",
       "    worldwide_gross    profit  prof_margin  release_year  \n",
       "id                                                        \n",
       "82         181041.0  179941.0        99.39          2005  "
      ]
     },
     "metadata": {},
     "output_type": "display_data"
    },
    {
     "data": {
      "text/html": [
       "<div>\n",
       "<style scoped>\n",
       "    .dataframe tbody tr th:only-of-type {\n",
       "        vertical-align: middle;\n",
       "    }\n",
       "\n",
       "    .dataframe tbody tr th {\n",
       "        vertical-align: top;\n",
       "    }\n",
       "\n",
       "    .dataframe thead th {\n",
       "        text-align: right;\n",
       "    }\n",
       "</style>\n",
       "<table border=\"1\" class=\"dataframe\">\n",
       "  <thead>\n",
       "    <tr style=\"text-align: right;\">\n",
       "      <th></th>\n",
       "      <th>release_date</th>\n",
       "      <th>movie</th>\n",
       "      <th>production_budget</th>\n",
       "      <th>domestic_gross</th>\n",
       "      <th>worldwide_gross</th>\n",
       "      <th>profit</th>\n",
       "      <th>prof_margin</th>\n",
       "      <th>release_year</th>\n",
       "    </tr>\n",
       "    <tr>\n",
       "      <th>id</th>\n",
       "      <th></th>\n",
       "      <th></th>\n",
       "      <th></th>\n",
       "      <th></th>\n",
       "      <th></th>\n",
       "      <th></th>\n",
       "      <th></th>\n",
       "      <th></th>\n",
       "    </tr>\n",
       "  </thead>\n",
       "  <tbody>\n",
       "    <tr>\n",
       "      <th>1</th>\n",
       "      <td>Dec 18, 2009</td>\n",
       "      <td>Avatar</td>\n",
       "      <td>425000000.0</td>\n",
       "      <td>760507625.0</td>\n",
       "      <td>2.776345e+09</td>\n",
       "      <td>2.351345e+09</td>\n",
       "      <td>84.69</td>\n",
       "      <td>2009</td>\n",
       "    </tr>\n",
       "  </tbody>\n",
       "</table>\n",
       "</div>"
      ],
      "text/plain": [
       "    release_date   movie  production_budget  domestic_gross  worldwide_gross  \\\n",
       "id                                                                             \n",
       "1   Dec 18, 2009  Avatar        425000000.0     760507625.0     2.776345e+09   \n",
       "\n",
       "          profit  prof_margin  release_year  \n",
       "id                                           \n",
       "1   2.351345e+09        84.69          2009  "
      ]
     },
     "metadata": {},
     "output_type": "display_data"
    },
    {
     "data": {
      "text/plain": [
       "[1100, 425000000]"
      ]
     },
     "metadata": {},
     "output_type": "display_data"
    }
   ],
   "source": [
    "lowest_film = df[(df['production_budget'] == df['production_budget'].min())]\n",
    "highest_film = df[(df['production_budget'] == df['production_budget'].max())]\n",
    "df_range = [int(filtered_df['production_budget'].min()),int(filtered_df['production_budget'].max())]\n",
    "display(lowest_film, highest_film, df_range)"
   ]
  },
  {
   "cell_type": "code",
   "execution_count": 13,
   "metadata": {},
   "outputs": [
    {
     "data": {
      "image/png": "[encoded data removed]",
      "text/plain": [
       "<Figure size 432x288 with 1 Axes>"
      ]
     },
     "metadata": {
      "needs_background": "light"
     },
     "output_type": "display_data"
    }
   ],
   "source": [
    "sns.histplot(data=filtered_df, x='production_budget',bins=15);"
   ]
  },
  {
   "cell_type": "code",
   "execution_count": 14,
   "metadata": {},
   "outputs": [
    {
     "data": {
      "image/png": "[encoded data removed]",
      "text/plain": [
       "<Figure size 432x288 with 1 Axes>"
      ]
     },
     "metadata": {
      "needs_background": "light"
     },
     "output_type": "display_data"
    }
   ],
   "source": [
    "filtered_df.boxplot('production_budget', showfliers=False);\n",
    "\n",
    "plt.savefig('images/filtered_df_boxplot')"
   ]
  },
  {
   "cell_type": "code",
   "execution_count": 15,
   "metadata": {},
   "outputs": [
    {
     "name": "stdout",
     "output_type": "stream",
     "text": [
      "Because of the heavy skew, we will divide our data using IQR.\n",
      "\n",
      "The 25th percentile is 10000000.0 and the 75th is 60000000.0.\n"
     ]
    }
   ],
   "source": [
    "filt_25_percentile = filtered_df['production_budget'].quantile(.25)\n",
    "filt_75_percentile = filtered_df['production_budget'].quantile(.75)\n",
    "print(f\"\"\"Because of the heavy skew, we will divide our data using IQR.\\n\\nThe 25th percentile is {filt_25_percentile} and the 75th is {filt_75_percentile}.\"\"\")"
   ]
  },
  {
   "cell_type": "markdown",
   "metadata": {},
   "source": [
    "## Data Filtering ##"
   ]
  },
  {
   "cell_type": "code",
   "execution_count": 16,
   "metadata": {},
   "outputs": [],
   "source": [
    "filtered_df_low = filtered_df[(filtered_df['production_budget'] < filt_25_percentile)]\n",
    "filtered_df_mid = filtered_df[(filtered_df['production_budget'] >= filt_25_percentile) & (filtered_df['production_budget'] <= filt_75_percentile)]\n",
    "filtered_df_high = filtered_df[(filtered_df['production_budget'] > filt_75_percentile)]"
   ]
  },
  {
   "cell_type": "code",
   "execution_count": 17,
   "metadata": {},
   "outputs": [
    {
     "name": "stdout",
     "output_type": "stream",
     "text": [
      "Our movie counts are:\n",
      "\n",
      "Low DF: 480\n",
      "\n",
      "Mid DF: 1083\n",
      "\n",
      "High DF: 499\n"
     ]
    }
   ],
   "source": [
    "print(f\"\"\"Our movie counts are:\\n\\nLow DF: {filtered_df_low['movie'].count()}\\n\\nMid DF: {filtered_df_mid['movie'].count()}\\n\\nHigh DF: {filtered_df_high['movie'].count()}\"\"\")"
   ]
  },
  {
   "cell_type": "code",
   "execution_count": 65,
   "metadata": {
    "scrolled": true
   },
   "outputs": [
    {
     "data": {
      "image/png": "[encoded data removed]",
      "text/plain": [
       "<Figure size 1440x360 with 3 Axes>"
      ]
     },
     "metadata": {
      "needs_background": "light"
     },
     "output_type": "display_data"
    }
   ],
   "source": [
    "fig, axs = plt.subplots(1,3)\n",
    "filtered_df_low['production_budget'].hist(ax=axs[0],figsize=(20,5),color='brown')\n",
    "filtered_df_mid['production_budget'].hist(ax=axs[1],figsize=(20,5),color='orange')\n",
    "filtered_df_high['production_budget'].hist(ax=axs[2],figsize=(20,5),color='green')\n",
    "axs[0].set_title('Low DF',fontsize=20)\n",
    "axs[0].set_ylabel('Count',fontsize=15)\n",
    "axs[0].grid(False)\n",
    "axs[1].set_title('Mid DF',fontsize=20)\n",
    "axs[1].set_xlabel('Budget',fontsize=15)\n",
    "axs[1].grid(False)\n",
    "axs[2].set_title('High DF',fontsize=20);\n",
    "axs[2].grid(False)\n",
    "axs[2].set_xticks()\n",
    "\n",
    "plt.savefig('images/DataFramesThreeBudgets')a"
   ]
  },
  {
   "cell_type": "code",
   "execution_count": 74,
   "metadata": {},
   "outputs": [
    {
     "data": {
      "image/png": "[encoded data removed]",
      "text/plain": [
       "<Figure size 1440x360 with 3 Axes>"
      ]
     },
     "metadata": {
      "needs_background": "light"
     },
     "output_type": "display_data"
    }
   ],
   "source": [
    "fig, axs = plt.subplots(1,3)\n",
    "filtered_df_low['prof_margin'].hist(ax=axs[0],figsize=(20,5),color='brown')\n",
    "filtered_df_mid['prof_margin'].hist(ax=axs[1],figsize=(20,5),color='orange')\n",
    "filtered_df_high['prof_margin'].hist(ax=axs[2],figsize=(20,5),color='green')\n",
    "axs[0].set_title('Low DF',fontsize=20)\n",
    "axs[0].set_ylabel('Count',fontsize=15)\n",
    "axs[0].grid(False)\n",
    "axs[1].set_title('Mid DF',fontsize=20)\n",
    "axs[1].set_xlabel('Margin',fontsize=15)\n",
    "axs[1].grid(False)\n",
    "axs[2].set_title('High DF',fontsize=20)\n",
    "axs[2].grid(False);"
   ]
  },
  {
   "cell_type": "markdown",
   "metadata": {},
   "source": [
    "These look better, let's look at our correlation statistics across the new datasets."
   ]
  },
  {
   "cell_type": "code",
   "execution_count": 19,
   "metadata": {
    "scrolled": false
   },
   "outputs": [
    {
     "data": {
      "text/html": [
       "<div>\n",
       "<style scoped>\n",
       "    .dataframe tbody tr th:only-of-type {\n",
       "        vertical-align: middle;\n",
       "    }\n",
       "\n",
       "    .dataframe tbody tr th {\n",
       "        vertical-align: top;\n",
       "    }\n",
       "\n",
       "    .dataframe thead th {\n",
       "        text-align: right;\n",
       "    }\n",
       "</style>\n",
       "<table border=\"1\" class=\"dataframe\">\n",
       "  <thead>\n",
       "    <tr style=\"text-align: right;\">\n",
       "      <th></th>\n",
       "      <th>production_budget</th>\n",
       "      <th>domestic_gross</th>\n",
       "      <th>worldwide_gross</th>\n",
       "      <th>profit</th>\n",
       "      <th>prof_margin</th>\n",
       "      <th>release_year</th>\n",
       "    </tr>\n",
       "  </thead>\n",
       "  <tbody>\n",
       "    <tr>\n",
       "      <th>production_budget</th>\n",
       "      <td>1.000000</td>\n",
       "      <td>0.250144</td>\n",
       "      <td>0.313380</td>\n",
       "      <td>0.247789</td>\n",
       "      <td>-0.079011</td>\n",
       "      <td>0.069118</td>\n",
       "    </tr>\n",
       "    <tr>\n",
       "      <th>domestic_gross</th>\n",
       "      <td>0.250144</td>\n",
       "      <td>1.000000</td>\n",
       "      <td>0.866419</td>\n",
       "      <td>0.865933</td>\n",
       "      <td>0.424852</td>\n",
       "      <td>0.136103</td>\n",
       "    </tr>\n",
       "    <tr>\n",
       "      <th>worldwide_gross</th>\n",
       "      <td>0.313380</td>\n",
       "      <td>0.866419</td>\n",
       "      <td>1.000000</td>\n",
       "      <td>0.997665</td>\n",
       "      <td>0.454307</td>\n",
       "      <td>0.113254</td>\n",
       "    </tr>\n",
       "    <tr>\n",
       "      <th>profit</th>\n",
       "      <td>0.247789</td>\n",
       "      <td>0.865933</td>\n",
       "      <td>0.997665</td>\n",
       "      <td>1.000000</td>\n",
       "      <td>0.469168</td>\n",
       "      <td>0.110572</td>\n",
       "    </tr>\n",
       "    <tr>\n",
       "      <th>prof_margin</th>\n",
       "      <td>-0.079011</td>\n",
       "      <td>0.424852</td>\n",
       "      <td>0.454307</td>\n",
       "      <td>0.469168</td>\n",
       "      <td>1.000000</td>\n",
       "      <td>0.048873</td>\n",
       "    </tr>\n",
       "    <tr>\n",
       "      <th>release_year</th>\n",
       "      <td>0.069118</td>\n",
       "      <td>0.136103</td>\n",
       "      <td>0.113254</td>\n",
       "      <td>0.110572</td>\n",
       "      <td>0.048873</td>\n",
       "      <td>1.000000</td>\n",
       "    </tr>\n",
       "  </tbody>\n",
       "</table>\n",
       "</div>"
      ],
      "text/plain": [
       "                   production_budget  domestic_gross  worldwide_gross  \\\n",
       "production_budget           1.000000        0.250144         0.313380   \n",
       "domestic_gross              0.250144        1.000000         0.866419   \n",
       "worldwide_gross             0.313380        0.866419         1.000000   \n",
       "profit                      0.247789        0.865933         0.997665   \n",
       "prof_margin                -0.079011        0.424852         0.454307   \n",
       "release_year                0.069118        0.136103         0.113254   \n",
       "\n",
       "                     profit  prof_margin  release_year  \n",
       "production_budget  0.247789    -0.079011      0.069118  \n",
       "domestic_gross     0.865933     0.424852      0.136103  \n",
       "worldwide_gross    0.997665     0.454307      0.113254  \n",
       "profit             1.000000     0.469168      0.110572  \n",
       "prof_margin        0.469168     1.000000      0.048873  \n",
       "release_year       0.110572     0.048873      1.000000  "
      ]
     },
     "metadata": {},
     "output_type": "display_data"
    },
    {
     "data": {
      "text/html": [
       "<div>\n",
       "<style scoped>\n",
       "    .dataframe tbody tr th:only-of-type {\n",
       "        vertical-align: middle;\n",
       "    }\n",
       "\n",
       "    .dataframe tbody tr th {\n",
       "        vertical-align: top;\n",
       "    }\n",
       "\n",
       "    .dataframe thead th {\n",
       "        text-align: right;\n",
       "    }\n",
       "</style>\n",
       "<table border=\"1\" class=\"dataframe\">\n",
       "  <thead>\n",
       "    <tr style=\"text-align: right;\">\n",
       "      <th></th>\n",
       "      <th>production_budget</th>\n",
       "      <th>domestic_gross</th>\n",
       "      <th>worldwide_gross</th>\n",
       "      <th>profit</th>\n",
       "      <th>prof_margin</th>\n",
       "      <th>release_year</th>\n",
       "    </tr>\n",
       "  </thead>\n",
       "  <tbody>\n",
       "    <tr>\n",
       "      <th>production_budget</th>\n",
       "      <td>1.000000</td>\n",
       "      <td>0.350687</td>\n",
       "      <td>0.397395</td>\n",
       "      <td>0.254759</td>\n",
       "      <td>-0.136455</td>\n",
       "      <td>-0.017874</td>\n",
       "    </tr>\n",
       "    <tr>\n",
       "      <th>domestic_gross</th>\n",
       "      <td>0.350687</td>\n",
       "      <td>1.000000</td>\n",
       "      <td>0.836966</td>\n",
       "      <td>0.824467</td>\n",
       "      <td>0.537843</td>\n",
       "      <td>0.080703</td>\n",
       "    </tr>\n",
       "    <tr>\n",
       "      <th>worldwide_gross</th>\n",
       "      <td>0.397395</td>\n",
       "      <td>0.836966</td>\n",
       "      <td>1.000000</td>\n",
       "      <td>0.988610</td>\n",
       "      <td>0.587384</td>\n",
       "      <td>0.101137</td>\n",
       "    </tr>\n",
       "    <tr>\n",
       "      <th>profit</th>\n",
       "      <td>0.254759</td>\n",
       "      <td>0.824467</td>\n",
       "      <td>0.988610</td>\n",
       "      <td>1.000000</td>\n",
       "      <td>0.641357</td>\n",
       "      <td>0.109509</td>\n",
       "    </tr>\n",
       "    <tr>\n",
       "      <th>prof_margin</th>\n",
       "      <td>-0.136455</td>\n",
       "      <td>0.537843</td>\n",
       "      <td>0.587384</td>\n",
       "      <td>0.641357</td>\n",
       "      <td>1.000000</td>\n",
       "      <td>0.098864</td>\n",
       "    </tr>\n",
       "    <tr>\n",
       "      <th>release_year</th>\n",
       "      <td>-0.017874</td>\n",
       "      <td>0.080703</td>\n",
       "      <td>0.101137</td>\n",
       "      <td>0.109509</td>\n",
       "      <td>0.098864</td>\n",
       "      <td>1.000000</td>\n",
       "    </tr>\n",
       "  </tbody>\n",
       "</table>\n",
       "</div>"
      ],
      "text/plain": [
       "                   production_budget  domestic_gross  worldwide_gross  \\\n",
       "production_budget           1.000000        0.350687         0.397395   \n",
       "domestic_gross              0.350687        1.000000         0.836966   \n",
       "worldwide_gross             0.397395        0.836966         1.000000   \n",
       "profit                      0.254759        0.824467         0.988610   \n",
       "prof_margin                -0.136455        0.537843         0.587384   \n",
       "release_year               -0.017874        0.080703         0.101137   \n",
       "\n",
       "                     profit  prof_margin  release_year  \n",
       "production_budget  0.254759    -0.136455     -0.017874  \n",
       "domestic_gross     0.824467     0.537843      0.080703  \n",
       "worldwide_gross    0.988610     0.587384      0.101137  \n",
       "profit             1.000000     0.641357      0.109509  \n",
       "prof_margin        0.641357     1.000000      0.098864  \n",
       "release_year       0.109509     0.098864      1.000000  "
      ]
     },
     "metadata": {},
     "output_type": "display_data"
    },
    {
     "data": {
      "text/html": [
       "<div>\n",
       "<style scoped>\n",
       "    .dataframe tbody tr th:only-of-type {\n",
       "        vertical-align: middle;\n",
       "    }\n",
       "\n",
       "    .dataframe tbody tr th {\n",
       "        vertical-align: top;\n",
       "    }\n",
       "\n",
       "    .dataframe thead th {\n",
       "        text-align: right;\n",
       "    }\n",
       "</style>\n",
       "<table border=\"1\" class=\"dataframe\">\n",
       "  <thead>\n",
       "    <tr style=\"text-align: right;\">\n",
       "      <th></th>\n",
       "      <th>production_budget</th>\n",
       "      <th>domestic_gross</th>\n",
       "      <th>worldwide_gross</th>\n",
       "      <th>profit</th>\n",
       "      <th>prof_margin</th>\n",
       "      <th>release_year</th>\n",
       "    </tr>\n",
       "  </thead>\n",
       "  <tbody>\n",
       "    <tr>\n",
       "      <th>production_budget</th>\n",
       "      <td>1.000000</td>\n",
       "      <td>0.575702</td>\n",
       "      <td>0.656006</td>\n",
       "      <td>0.541837</td>\n",
       "      <td>0.124071</td>\n",
       "      <td>0.138894</td>\n",
       "    </tr>\n",
       "    <tr>\n",
       "      <th>domestic_gross</th>\n",
       "      <td>0.575702</td>\n",
       "      <td>1.000000</td>\n",
       "      <td>0.914936</td>\n",
       "      <td>0.910234</td>\n",
       "      <td>0.617720</td>\n",
       "      <td>0.118566</td>\n",
       "    </tr>\n",
       "    <tr>\n",
       "      <th>worldwide_gross</th>\n",
       "      <td>0.656006</td>\n",
       "      <td>0.914936</td>\n",
       "      <td>1.000000</td>\n",
       "      <td>0.989808</td>\n",
       "      <td>0.655650</td>\n",
       "      <td>0.191033</td>\n",
       "    </tr>\n",
       "    <tr>\n",
       "      <th>profit</th>\n",
       "      <td>0.541837</td>\n",
       "      <td>0.910234</td>\n",
       "      <td>0.989808</td>\n",
       "      <td>1.000000</td>\n",
       "      <td>0.706711</td>\n",
       "      <td>0.186525</td>\n",
       "    </tr>\n",
       "    <tr>\n",
       "      <th>prof_margin</th>\n",
       "      <td>0.124071</td>\n",
       "      <td>0.617720</td>\n",
       "      <td>0.655650</td>\n",
       "      <td>0.706711</td>\n",
       "      <td>1.000000</td>\n",
       "      <td>0.150426</td>\n",
       "    </tr>\n",
       "    <tr>\n",
       "      <th>release_year</th>\n",
       "      <td>0.138894</td>\n",
       "      <td>0.118566</td>\n",
       "      <td>0.191033</td>\n",
       "      <td>0.186525</td>\n",
       "      <td>0.150426</td>\n",
       "      <td>1.000000</td>\n",
       "    </tr>\n",
       "  </tbody>\n",
       "</table>\n",
       "</div>"
      ],
      "text/plain": [
       "                   production_budget  domestic_gross  worldwide_gross  \\\n",
       "production_budget           1.000000        0.575702         0.656006   \n",
       "domestic_gross              0.575702        1.000000         0.914936   \n",
       "worldwide_gross             0.656006        0.914936         1.000000   \n",
       "profit                      0.541837        0.910234         0.989808   \n",
       "prof_margin                 0.124071        0.617720         0.655650   \n",
       "release_year                0.138894        0.118566         0.191033   \n",
       "\n",
       "                     profit  prof_margin  release_year  \n",
       "production_budget  0.541837     0.124071      0.138894  \n",
       "domestic_gross     0.910234     0.617720      0.118566  \n",
       "worldwide_gross    0.989808     0.655650      0.191033  \n",
       "profit             1.000000     0.706711      0.186525  \n",
       "prof_margin        0.706711     1.000000      0.150426  \n",
       "release_year       0.186525     0.150426      1.000000  "
      ]
     },
     "metadata": {},
     "output_type": "display_data"
    }
   ],
   "source": [
    "display(filtered_df_low.corr(), filtered_df_mid.corr(), filtered_df_high.corr())"
   ]
  },
  {
   "cell_type": "markdown",
   "metadata": {},
   "source": [
    "The only positive Budget-ROI relation appears in the high-budget DF. The Budget-Profit relationship is also highest here.\n",
    "\n",
    "We will focus on this DF. First a visual of the Budget to ROI, then a look at its statistics."
   ]
  },
  {
   "cell_type": "code",
   "execution_count": 20,
   "metadata": {
    "scrolled": true
   },
   "outputs": [
    {
     "data": {
      "image/png": "[encoded data removed]",
      "text/plain": [
       "<Figure size 1080x360 with 1 Axes>"
      ]
     },
     "metadata": {
      "needs_background": "light"
     },
     "output_type": "display_data"
    }
   ],
   "source": [
    "fig, ax = plt.subplots(figsize=(15,5))\n",
    "filtered_df_high.plot.scatter(x='production_budget',y='prof_margin',title='Budget v Prof Margin for High-Budget Films', ax=ax, c='orange')\n",
    "ax.set_xlabel('Budget')\n",
    "ax.set_ylabel('Profit Margin')\n",
    "\n",
    "plt.savefig('images/budget_v_prof_scatter');"
   ]
  },
  {
   "cell_type": "code",
   "execution_count": 21,
   "metadata": {
    "scrolled": true
   },
   "outputs": [
    {
     "ename": "TypeError",
     "evalue": "lmplot() got an unexpected keyword argument 'xlabel'",
     "output_type": "error",
     "traceback": [
      "\u001b[1;31m---------------------------------------------------------------------------\u001b[0m",
      "\u001b[1;31mTypeError\u001b[0m                                 Traceback (most recent call last)",
      "\u001b[1;32m<ipython-input-21-c9b779ce54b8>\u001b[0m in \u001b[0;36m<module>\u001b[1;34m\u001b[0m\n\u001b[1;32m----> 1\u001b[1;33m \u001b[0msns\u001b[0m\u001b[1;33m.\u001b[0m\u001b[0mlmplot\u001b[0m\u001b[1;33m(\u001b[0m\u001b[0mx\u001b[0m\u001b[1;33m=\u001b[0m\u001b[1;34m'production_budget'\u001b[0m\u001b[1;33m,\u001b[0m\u001b[0my\u001b[0m\u001b[1;33m=\u001b[0m\u001b[1;34m'prof_margin'\u001b[0m\u001b[1;33m,\u001b[0m\u001b[0mdata\u001b[0m\u001b[1;33m=\u001b[0m\u001b[0mfiltered_df_high\u001b[0m\u001b[1;33m,\u001b[0m\u001b[0mxlabel\u001b[0m\u001b[1;33m=\u001b[0m\u001b[1;34m'Budget'\u001b[0m\u001b[1;33m)\u001b[0m\u001b[1;33m;\u001b[0m\u001b[1;33m\u001b[0m\u001b[1;33m\u001b[0m\u001b[0m\n\u001b[0m",
      "\u001b[1;32m~\\anaconda3\\envs\\learn-env\\lib\\site-packages\\seaborn\\_decorators.py\u001b[0m in \u001b[0;36minner_f\u001b[1;34m(*args, **kwargs)\u001b[0m\n\u001b[0;32m     44\u001b[0m             )\n\u001b[0;32m     45\u001b[0m         \u001b[0mkwargs\u001b[0m\u001b[1;33m.\u001b[0m\u001b[0mupdate\u001b[0m\u001b[1;33m(\u001b[0m\u001b[1;33m{\u001b[0m\u001b[0mk\u001b[0m\u001b[1;33m:\u001b[0m \u001b[0marg\u001b[0m \u001b[1;32mfor\u001b[0m \u001b[0mk\u001b[0m\u001b[1;33m,\u001b[0m \u001b[0marg\u001b[0m \u001b[1;32min\u001b[0m \u001b[0mzip\u001b[0m\u001b[1;33m(\u001b[0m\u001b[0msig\u001b[0m\u001b[1;33m.\u001b[0m\u001b[0mparameters\u001b[0m\u001b[1;33m,\u001b[0m \u001b[0margs\u001b[0m\u001b[1;33m)\u001b[0m\u001b[1;33m}\u001b[0m\u001b[1;33m)\u001b[0m\u001b[1;33m\u001b[0m\u001b[1;33m\u001b[0m\u001b[0m\n\u001b[1;32m---> 46\u001b[1;33m         \u001b[1;32mreturn\u001b[0m \u001b[0mf\u001b[0m\u001b[1;33m(\u001b[0m\u001b[1;33m**\u001b[0m\u001b[0mkwargs\u001b[0m\u001b[1;33m)\u001b[0m\u001b[1;33m\u001b[0m\u001b[1;33m\u001b[0m\u001b[0m\n\u001b[0m\u001b[0;32m     47\u001b[0m     \u001b[1;32mreturn\u001b[0m \u001b[0minner_f\u001b[0m\u001b[1;33m\u001b[0m\u001b[1;33m\u001b[0m\u001b[0m\n\u001b[0;32m     48\u001b[0m \u001b[1;33m\u001b[0m\u001b[0m\n",
      "\u001b[1;31mTypeError\u001b[0m: lmplot() got an unexpected keyword argument 'xlabel'"
     ]
    }
   ],
   "source": [
    "sns.lmplot(x='production_budget',y='prof_margin',data=filtered_df_high);"
   ]
  },
  {
   "cell_type": "code",
   "execution_count": 46,
   "metadata": {
    "scrolled": true
   },
   "outputs": [
    {
     "data": {
      "image/png": "[encoded data removed]",
      "text/plain": [
       "<Figure size 432x288 with 3 Axes>"
      ]
     },
     "metadata": {
      "needs_background": "light"
     },
     "output_type": "display_data"
    }
   ],
   "source": [
    "fig, axs = plt.subplots(1,3)\n",
    "sns.histplot(filtered_df_low, x='prof_margin',bins=15, ax=axs[0])\n",
    "sns.histplot(filtered_df_mid, x='prof_margin',bins=15, ax=axs[1])\n",
    "sns.histplot(filtered_df_high, x='prof_margin',bins=15, ax=axs[2])\n",
    "fig.show();"
   ]
  },
  {
   "cell_type": "code",
   "execution_count": 56,
   "metadata": {},
   "outputs": [
    {
     "ename": "TypeError",
     "evalue": "inner() got multiple values for argument 'ax'",
     "output_type": "error",
     "traceback": [
      "\u001b[1;31m---------------------------------------------------------------------------\u001b[0m",
      "\u001b[1;31mTypeError\u001b[0m                                 Traceback (most recent call last)",
      "\u001b[1;32m<ipython-input-56-80b5a2affba0>\u001b[0m in \u001b[0;36m<module>\u001b[1;34m\u001b[0m\n\u001b[0;32m      1\u001b[0m \u001b[0mfig\u001b[0m\u001b[1;33m,\u001b[0m \u001b[0maxs\u001b[0m \u001b[1;33m=\u001b[0m \u001b[0mplt\u001b[0m\u001b[1;33m.\u001b[0m\u001b[0msubplots\u001b[0m\u001b[1;33m(\u001b[0m\u001b[1;36m1\u001b[0m\u001b[1;33m,\u001b[0m\u001b[1;36m3\u001b[0m\u001b[1;33m)\u001b[0m\u001b[1;33m\u001b[0m\u001b[1;33m\u001b[0m\u001b[0m\n\u001b[0;32m      2\u001b[0m \u001b[1;33m\u001b[0m\u001b[0m\n\u001b[1;32m----> 3\u001b[1;33m \u001b[0mplt\u001b[0m\u001b[1;33m.\u001b[0m\u001b[0mhist\u001b[0m\u001b[1;33m(\u001b[0m\u001b[0mfiltered_df_low\u001b[0m\u001b[1;33m[\u001b[0m\u001b[1;34m'prof_margin'\u001b[0m\u001b[1;33m]\u001b[0m\u001b[1;33m,\u001b[0m\u001b[0max\u001b[0m\u001b[1;33m=\u001b[0m\u001b[0maxs\u001b[0m\u001b[1;33m[\u001b[0m\u001b[1;36m0\u001b[0m\u001b[1;33m]\u001b[0m\u001b[1;33m)\u001b[0m\u001b[1;33m\u001b[0m\u001b[1;33m\u001b[0m\u001b[0m\n\u001b[0m\u001b[0;32m      4\u001b[0m \u001b[0mplt\u001b[0m\u001b[1;33m.\u001b[0m\u001b[0mhist\u001b[0m\u001b[1;33m(\u001b[0m\u001b[0mfiltered_df_mid\u001b[0m\u001b[1;33m[\u001b[0m\u001b[1;34m'prof_margin'\u001b[0m\u001b[1;33m]\u001b[0m\u001b[1;33m,\u001b[0m\u001b[0max\u001b[0m\u001b[1;33m=\u001b[0m\u001b[0maxs\u001b[0m\u001b[1;33m[\u001b[0m\u001b[1;36m1\u001b[0m\u001b[1;33m]\u001b[0m\u001b[1;33m)\u001b[0m\u001b[1;33m\u001b[0m\u001b[1;33m\u001b[0m\u001b[0m\n\u001b[0;32m      5\u001b[0m \u001b[0mplt\u001b[0m\u001b[1;33m.\u001b[0m\u001b[0mhist\u001b[0m\u001b[1;33m(\u001b[0m\u001b[0mfiltered_df_high\u001b[0m\u001b[1;33m[\u001b[0m\u001b[1;34m'prof_margin'\u001b[0m\u001b[1;33m]\u001b[0m\u001b[1;33m,\u001b[0m\u001b[0max\u001b[0m\u001b[1;33m=\u001b[0m\u001b[0maxs\u001b[0m\u001b[1;33m[\u001b[0m\u001b[1;36m2\u001b[0m\u001b[1;33m]\u001b[0m\u001b[1;33m)\u001b[0m\u001b[1;33m\u001b[0m\u001b[1;33m\u001b[0m\u001b[0m\n",
      "\u001b[1;32m~\\anaconda3\\envs\\learn-env\\lib\\site-packages\\matplotlib\\pyplot.py\u001b[0m in \u001b[0;36mhist\u001b[1;34m(x, bins, range, density, weights, cumulative, bottom, histtype, align, orientation, rwidth, log, color, label, stacked, data, **kwargs)\u001b[0m\n\u001b[0;32m   2667\u001b[0m         \u001b[0morientation\u001b[0m\u001b[1;33m=\u001b[0m\u001b[1;34m'vertical'\u001b[0m\u001b[1;33m,\u001b[0m \u001b[0mrwidth\u001b[0m\u001b[1;33m=\u001b[0m\u001b[1;32mNone\u001b[0m\u001b[1;33m,\u001b[0m \u001b[0mlog\u001b[0m\u001b[1;33m=\u001b[0m\u001b[1;32mFalse\u001b[0m\u001b[1;33m,\u001b[0m \u001b[0mcolor\u001b[0m\u001b[1;33m=\u001b[0m\u001b[1;32mNone\u001b[0m\u001b[1;33m,\u001b[0m\u001b[1;33m\u001b[0m\u001b[1;33m\u001b[0m\u001b[0m\n\u001b[0;32m   2668\u001b[0m         label=None, stacked=False, *, data=None, **kwargs):\n\u001b[1;32m-> 2669\u001b[1;33m     return gca().hist(\n\u001b[0m\u001b[0;32m   2670\u001b[0m         \u001b[0mx\u001b[0m\u001b[1;33m,\u001b[0m \u001b[0mbins\u001b[0m\u001b[1;33m=\u001b[0m\u001b[0mbins\u001b[0m\u001b[1;33m,\u001b[0m \u001b[0mrange\u001b[0m\u001b[1;33m=\u001b[0m\u001b[0mrange\u001b[0m\u001b[1;33m,\u001b[0m \u001b[0mdensity\u001b[0m\u001b[1;33m=\u001b[0m\u001b[0mdensity\u001b[0m\u001b[1;33m,\u001b[0m \u001b[0mweights\u001b[0m\u001b[1;33m=\u001b[0m\u001b[0mweights\u001b[0m\u001b[1;33m,\u001b[0m\u001b[1;33m\u001b[0m\u001b[1;33m\u001b[0m\u001b[0m\n\u001b[0;32m   2671\u001b[0m         \u001b[0mcumulative\u001b[0m\u001b[1;33m=\u001b[0m\u001b[0mcumulative\u001b[0m\u001b[1;33m,\u001b[0m \u001b[0mbottom\u001b[0m\u001b[1;33m=\u001b[0m\u001b[0mbottom\u001b[0m\u001b[1;33m,\u001b[0m \u001b[0mhisttype\u001b[0m\u001b[1;33m=\u001b[0m\u001b[0mhisttype\u001b[0m\u001b[1;33m,\u001b[0m\u001b[1;33m\u001b[0m\u001b[1;33m\u001b[0m\u001b[0m\n",
      "\u001b[1;31mTypeError\u001b[0m: inner() got multiple values for argument 'ax'"
     ]
    },
    {
     "data": {
      "image/png": "[encoded data removed]",
      "text/plain": [
       "<Figure size 432x288 with 3 Axes>"
      ]
     },
     "metadata": {
      "needs_background": "light"
     },
     "output_type": "display_data"
    }
   ],
   "source": [
    "fig, axs = plt.subplots(1,3)\n",
    "\n",
    "plt.hist(filtered_df_low['prof_margin'],ax=axs[0])\n",
    "plt.hist(filtered_df_mid['prof_margin'],ax=axs[1])\n",
    "plt.hist(filtered_df_high['prof_margin'],ax=axs[2])"
   ]
  },
  {
   "cell_type": "code",
   "execution_count": 57,
   "metadata": {},
   "outputs": [
    {
     "data": {
      "text/html": [
       "<div>\n",
       "<style scoped>\n",
       "    .dataframe tbody tr th:only-of-type {\n",
       "        vertical-align: middle;\n",
       "    }\n",
       "\n",
       "    .dataframe tbody tr th {\n",
       "        vertical-align: top;\n",
       "    }\n",
       "\n",
       "    .dataframe thead th {\n",
       "        text-align: right;\n",
       "    }\n",
       "</style>\n",
       "<table border=\"1\" class=\"dataframe\">\n",
       "  <thead>\n",
       "    <tr style=\"text-align: right;\">\n",
       "      <th></th>\n",
       "      <th>production_budget</th>\n",
       "      <th>domestic_gross</th>\n",
       "      <th>worldwide_gross</th>\n",
       "      <th>profit</th>\n",
       "      <th>prof_margin</th>\n",
       "      <th>release_year</th>\n",
       "    </tr>\n",
       "  </thead>\n",
       "  <tbody>\n",
       "    <tr>\n",
       "      <th>count</th>\n",
       "      <td>4.990000e+02</td>\n",
       "      <td>4.990000e+02</td>\n",
       "      <td>4.990000e+02</td>\n",
       "      <td>4.990000e+02</td>\n",
       "      <td>499.000000</td>\n",
       "      <td>499.000000</td>\n",
       "    </tr>\n",
       "    <tr>\n",
       "      <th>mean</th>\n",
       "      <td>1.280255e+08</td>\n",
       "      <td>1.568745e+08</td>\n",
       "      <td>4.308491e+08</td>\n",
       "      <td>3.028236e+08</td>\n",
       "      <td>59.581864</td>\n",
       "      <td>2011.961924</td>\n",
       "    </tr>\n",
       "    <tr>\n",
       "      <th>std</th>\n",
       "      <td>5.641413e+07</td>\n",
       "      <td>1.225861e+08</td>\n",
       "      <td>3.329539e+08</td>\n",
       "      <td>2.989932e+08</td>\n",
       "      <td>21.167365</td>\n",
       "      <td>4.000069</td>\n",
       "    </tr>\n",
       "    <tr>\n",
       "      <th>min</th>\n",
       "      <td>6.072000e+07</td>\n",
       "      <td>7.407000e+04</td>\n",
       "      <td>6.831014e+07</td>\n",
       "      <td>4.778400e+04</td>\n",
       "      <td>0.030000</td>\n",
       "      <td>2005.000000</td>\n",
       "    </tr>\n",
       "    <tr>\n",
       "      <th>25%</th>\n",
       "      <td>8.000000e+07</td>\n",
       "      <td>7.338240e+07</td>\n",
       "      <td>1.930509e+08</td>\n",
       "      <td>9.272614e+07</td>\n",
       "      <td>48.155000</td>\n",
       "      <td>2009.000000</td>\n",
       "    </tr>\n",
       "    <tr>\n",
       "      <th>50%</th>\n",
       "      <td>1.150000e+08</td>\n",
       "      <td>1.248703e+08</td>\n",
       "      <td>3.283250e+08</td>\n",
       "      <td>1.996808e+08</td>\n",
       "      <td>63.530000</td>\n",
       "      <td>2012.000000</td>\n",
       "    </tr>\n",
       "    <tr>\n",
       "      <th>75%</th>\n",
       "      <td>1.600000e+08</td>\n",
       "      <td>2.040989e+08</td>\n",
       "      <td>5.823090e+08</td>\n",
       "      <td>4.393824e+08</td>\n",
       "      <td>76.215000</td>\n",
       "      <td>2015.000000</td>\n",
       "    </tr>\n",
       "    <tr>\n",
       "      <th>max</th>\n",
       "      <td>4.250000e+08</td>\n",
       "      <td>9.366622e+08</td>\n",
       "      <td>2.776345e+09</td>\n",
       "      <td>2.351345e+09</td>\n",
       "      <td>93.620000</td>\n",
       "      <td>2019.000000</td>\n",
       "    </tr>\n",
       "  </tbody>\n",
       "</table>\n",
       "</div>"
      ],
      "text/plain": [
       "       production_budget  domestic_gross  worldwide_gross        profit  \\\n",
       "count       4.990000e+02    4.990000e+02     4.990000e+02  4.990000e+02   \n",
       "mean        1.280255e+08    1.568745e+08     4.308491e+08  3.028236e+08   \n",
       "std         5.641413e+07    1.225861e+08     3.329539e+08  2.989932e+08   \n",
       "min         6.072000e+07    7.407000e+04     6.831014e+07  4.778400e+04   \n",
       "25%         8.000000e+07    7.338240e+07     1.930509e+08  9.272614e+07   \n",
       "50%         1.150000e+08    1.248703e+08     3.283250e+08  1.996808e+08   \n",
       "75%         1.600000e+08    2.040989e+08     5.823090e+08  4.393824e+08   \n",
       "max         4.250000e+08    9.366622e+08     2.776345e+09  2.351345e+09   \n",
       "\n",
       "       prof_margin  release_year  \n",
       "count   499.000000    499.000000  \n",
       "mean     59.581864   2011.961924  \n",
       "std      21.167365      4.000069  \n",
       "min       0.030000   2005.000000  \n",
       "25%      48.155000   2009.000000  \n",
       "50%      63.530000   2012.000000  \n",
       "75%      76.215000   2015.000000  \n",
       "max      93.620000   2019.000000  "
      ]
     },
     "execution_count": 57,
     "metadata": {},
     "output_type": "execute_result"
    }
   ],
   "source": [
    "filtered_df_high.describe()"
   ]
  },
  {
   "cell_type": "markdown",
   "metadata": {},
   "source": [
    "## Conclusion ##"
   ]
  },
  {
   "cell_type": "markdown",
   "metadata": {},
   "source": [
    "Although we can see from the above data that the correlation between Budget and Profit Margin is not very strong, it does still exist.\n",
    "\n",
    "As part of our recommendations, a budget of $115,000,000 is ideal for maximizing Profit Margin, though there is much more that goes into creating a high-profit movie."
   ]
  }
 ],
 "metadata": {
  "kernelspec": {
   "display_name": "Python 3",
   "language": "python",
   "name": "python3"
  },
  "language_info": {
   "codemirror_mode": {
    "name": "ipython",
    "version": 3
   },
   "file_extension": ".py",
   "mimetype": "text/x-python",
   "name": "python",
   "nbconvert_exporter": "python",
   "pygments_lexer": "ipython3",
   "version": "3.8.5"
  }
 },
 "nbformat": 4,
 "nbformat_minor": 4
}
