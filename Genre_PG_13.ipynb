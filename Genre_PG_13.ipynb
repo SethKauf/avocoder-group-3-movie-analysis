{
 "cells": [
  {
   "cell_type": "code",
   "execution_count": 1,
   "metadata": {},
   "outputs": [],
   "source": [
    "import pandas as pd\n",
    "import numpy as np\n",
    "import matplotlib.pyplot as plt\n",
    "%matplotlib inline"
   ]
  },
  {
   "cell_type": "code",
   "execution_count": 2,
   "metadata": {},
   "outputs": [
    {
     "data": {
      "text/html": [
       "<div>\n",
       "<style scoped>\n",
       "    .dataframe tbody tr th:only-of-type {\n",
       "        vertical-align: middle;\n",
       "    }\n",
       "\n",
       "    .dataframe tbody tr th {\n",
       "        vertical-align: top;\n",
       "    }\n",
       "\n",
       "    .dataframe thead th {\n",
       "        text-align: right;\n",
       "    }\n",
       "</style>\n",
       "<table border=\"1\" class=\"dataframe\">\n",
       "  <thead>\n",
       "    <tr style=\"text-align: right;\">\n",
       "      <th></th>\n",
       "      <th>id</th>\n",
       "      <th>synopsis</th>\n",
       "      <th>rating</th>\n",
       "      <th>genre</th>\n",
       "      <th>director</th>\n",
       "      <th>writer</th>\n",
       "      <th>theater_date</th>\n",
       "      <th>dvd_date</th>\n",
       "      <th>currency</th>\n",
       "      <th>box_office</th>\n",
       "      <th>runtime</th>\n",
       "      <th>studio</th>\n",
       "    </tr>\n",
       "  </thead>\n",
       "  <tbody>\n",
       "    <tr>\n",
       "      <th>0</th>\n",
       "      <td>1</td>\n",
       "      <td>This gritty, fast-paced, and innovative police...</td>\n",
       "      <td>R</td>\n",
       "      <td>Action and Adventure|Classics|Drama</td>\n",
       "      <td>William Friedkin</td>\n",
       "      <td>Ernest Tidyman</td>\n",
       "      <td>Oct 9, 1971</td>\n",
       "      <td>Sep 25, 2001</td>\n",
       "      <td>NaN</td>\n",
       "      <td>NaN</td>\n",
       "      <td>104 minutes</td>\n",
       "      <td>NaN</td>\n",
       "    </tr>\n",
       "    <tr>\n",
       "      <th>1</th>\n",
       "      <td>3</td>\n",
       "      <td>New York City, not-too-distant-future: Eric Pa...</td>\n",
       "      <td>R</td>\n",
       "      <td>Drama|Science Fiction and Fantasy</td>\n",
       "      <td>David Cronenberg</td>\n",
       "      <td>David Cronenberg|Don DeLillo</td>\n",
       "      <td>Aug 17, 2012</td>\n",
       "      <td>Jan 1, 2013</td>\n",
       "      <td>$</td>\n",
       "      <td>600,000</td>\n",
       "      <td>108 minutes</td>\n",
       "      <td>Entertainment One</td>\n",
       "    </tr>\n",
       "    <tr>\n",
       "      <th>2</th>\n",
       "      <td>5</td>\n",
       "      <td>Illeana Douglas delivers a superb performance ...</td>\n",
       "      <td>R</td>\n",
       "      <td>Drama|Musical and Performing Arts</td>\n",
       "      <td>Allison Anders</td>\n",
       "      <td>Allison Anders</td>\n",
       "      <td>Sep 13, 1996</td>\n",
       "      <td>Apr 18, 2000</td>\n",
       "      <td>NaN</td>\n",
       "      <td>NaN</td>\n",
       "      <td>116 minutes</td>\n",
       "      <td>NaN</td>\n",
       "    </tr>\n",
       "    <tr>\n",
       "      <th>3</th>\n",
       "      <td>6</td>\n",
       "      <td>Michael Douglas runs afoul of a treacherous su...</td>\n",
       "      <td>R</td>\n",
       "      <td>Drama|Mystery and Suspense</td>\n",
       "      <td>Barry Levinson</td>\n",
       "      <td>Paul Attanasio|Michael Crichton</td>\n",
       "      <td>Dec 9, 1994</td>\n",
       "      <td>Aug 27, 1997</td>\n",
       "      <td>NaN</td>\n",
       "      <td>NaN</td>\n",
       "      <td>128 minutes</td>\n",
       "      <td>NaN</td>\n",
       "    </tr>\n",
       "    <tr>\n",
       "      <th>4</th>\n",
       "      <td>7</td>\n",
       "      <td>NaN</td>\n",
       "      <td>NR</td>\n",
       "      <td>Drama|Romance</td>\n",
       "      <td>Rodney Bennett</td>\n",
       "      <td>Giles Cooper</td>\n",
       "      <td>NaN</td>\n",
       "      <td>NaN</td>\n",
       "      <td>NaN</td>\n",
       "      <td>NaN</td>\n",
       "      <td>200 minutes</td>\n",
       "      <td>NaN</td>\n",
       "    </tr>\n",
       "  </tbody>\n",
       "</table>\n",
       "</div>"
      ],
      "text/plain": [
       "   id                                           synopsis rating  \\\n",
       "0   1  This gritty, fast-paced, and innovative police...      R   \n",
       "1   3  New York City, not-too-distant-future: Eric Pa...      R   \n",
       "2   5  Illeana Douglas delivers a superb performance ...      R   \n",
       "3   6  Michael Douglas runs afoul of a treacherous su...      R   \n",
       "4   7                                                NaN     NR   \n",
       "\n",
       "                                 genre          director  \\\n",
       "0  Action and Adventure|Classics|Drama  William Friedkin   \n",
       "1    Drama|Science Fiction and Fantasy  David Cronenberg   \n",
       "2    Drama|Musical and Performing Arts    Allison Anders   \n",
       "3           Drama|Mystery and Suspense    Barry Levinson   \n",
       "4                        Drama|Romance    Rodney Bennett   \n",
       "\n",
       "                            writer  theater_date      dvd_date currency  \\\n",
       "0                   Ernest Tidyman   Oct 9, 1971  Sep 25, 2001      NaN   \n",
       "1     David Cronenberg|Don DeLillo  Aug 17, 2012   Jan 1, 2013        $   \n",
       "2                   Allison Anders  Sep 13, 1996  Apr 18, 2000      NaN   \n",
       "3  Paul Attanasio|Michael Crichton   Dec 9, 1994  Aug 27, 1997      NaN   \n",
       "4                     Giles Cooper           NaN           NaN      NaN   \n",
       "\n",
       "  box_office      runtime             studio  \n",
       "0        NaN  104 minutes                NaN  \n",
       "1    600,000  108 minutes  Entertainment One  \n",
       "2        NaN  116 minutes                NaN  \n",
       "3        NaN  128 minutes                NaN  \n",
       "4        NaN  200 minutes                NaN  "
      ]
     },
     "execution_count": 2,
     "metadata": {},
     "output_type": "execute_result"
    }
   ],
   "source": [
    "df_movie_info = pd.read_csv('data/rt.movie_info.tsv.gz', sep='\\t')\n",
    "df_movie_info.head()"
   ]
  },
  {
   "cell_type": "code",
   "execution_count": 3,
   "metadata": {},
   "outputs": [],
   "source": [
    "df_movie_info = df_movie_info.dropna(subset=['box_office'])"
   ]
  },
  {
   "cell_type": "code",
   "execution_count": 4,
   "metadata": {
    "scrolled": true
   },
   "outputs": [
    {
     "name": "stdout",
     "output_type": "stream",
     "text": [
      "<class 'pandas.core.frame.DataFrame'>\n",
      "Int64Index: 340 entries, 1 to 1555\n",
      "Data columns (total 12 columns):\n",
      " #   Column        Non-Null Count  Dtype \n",
      "---  ------        --------------  ----- \n",
      " 0   id            340 non-null    int64 \n",
      " 1   synopsis      340 non-null    object\n",
      " 2   rating        340 non-null    object\n",
      " 3   genre         340 non-null    object\n",
      " 4   director      299 non-null    object\n",
      " 5   writer        273 non-null    object\n",
      " 6   theater_date  334 non-null    object\n",
      " 7   dvd_date      334 non-null    object\n",
      " 8   currency      340 non-null    object\n",
      " 9   box_office    340 non-null    object\n",
      " 10  runtime       338 non-null    object\n",
      " 11  studio        305 non-null    object\n",
      "dtypes: int64(1), object(11)\n",
      "memory usage: 34.5+ KB\n"
     ]
    }
   ],
   "source": [
    "df_movie_info.info()"
   ]
  },
  {
   "cell_type": "markdown",
   "metadata": {},
   "source": [
    "## Genres in PG-13 Movies"
   ]
  },
  {
   "cell_type": "markdown",
   "metadata": {},
   "source": [
    "Since we found that PG-13 movies have the highest box office earnings, now, let's look for which genres are popular in PG-13 movies."
   ]
  },
  {
   "cell_type": "markdown",
   "metadata": {},
   "source": [
    "### Clean the data"
   ]
  },
  {
   "cell_type": "code",
   "execution_count": 5,
   "metadata": {
    "scrolled": true
   },
   "outputs": [
    {
     "data": {
      "text/html": [
       "<div>\n",
       "<style scoped>\n",
       "    .dataframe tbody tr th:only-of-type {\n",
       "        vertical-align: middle;\n",
       "    }\n",
       "\n",
       "    .dataframe tbody tr th {\n",
       "        vertical-align: top;\n",
       "    }\n",
       "\n",
       "    .dataframe thead th {\n",
       "        text-align: right;\n",
       "    }\n",
       "</style>\n",
       "<table border=\"1\" class=\"dataframe\">\n",
       "  <thead>\n",
       "    <tr style=\"text-align: right;\">\n",
       "      <th></th>\n",
       "      <th>rating</th>\n",
       "      <th>genre</th>\n",
       "    </tr>\n",
       "  </thead>\n",
       "  <tbody>\n",
       "    <tr>\n",
       "      <th>6</th>\n",
       "      <td>PG-13</td>\n",
       "      <td>Comedy</td>\n",
       "    </tr>\n",
       "    <tr>\n",
       "      <th>18</th>\n",
       "      <td>PG-13</td>\n",
       "      <td>Action and Adventure|Drama|Science Fiction and...</td>\n",
       "    </tr>\n",
       "    <tr>\n",
       "      <th>61</th>\n",
       "      <td>PG-13</td>\n",
       "      <td>Comedy|Drama</td>\n",
       "    </tr>\n",
       "    <tr>\n",
       "      <th>79</th>\n",
       "      <td>PG-13</td>\n",
       "      <td>Comedy|Romance</td>\n",
       "    </tr>\n",
       "    <tr>\n",
       "      <th>97</th>\n",
       "      <td>PG-13</td>\n",
       "      <td>Action and Adventure|Science Fiction and Fantasy</td>\n",
       "    </tr>\n",
       "    <tr>\n",
       "      <th>123</th>\n",
       "      <td>PG-13</td>\n",
       "      <td>Drama|Sports and Fitness</td>\n",
       "    </tr>\n",
       "    <tr>\n",
       "      <th>124</th>\n",
       "      <td>PG-13</td>\n",
       "      <td>Comedy</td>\n",
       "    </tr>\n",
       "    <tr>\n",
       "      <th>125</th>\n",
       "      <td>PG-13</td>\n",
       "      <td>Action and Adventure|Drama</td>\n",
       "    </tr>\n",
       "    <tr>\n",
       "      <th>151</th>\n",
       "      <td>PG-13</td>\n",
       "      <td>Comedy</td>\n",
       "    </tr>\n",
       "    <tr>\n",
       "      <th>159</th>\n",
       "      <td>PG-13</td>\n",
       "      <td>Drama|Romance</td>\n",
       "    </tr>\n",
       "    <tr>\n",
       "      <th>165</th>\n",
       "      <td>PG-13</td>\n",
       "      <td>Drama|Horror|Mystery and Suspense|Romance</td>\n",
       "    </tr>\n",
       "    <tr>\n",
       "      <th>177</th>\n",
       "      <td>PG-13</td>\n",
       "      <td>Action and Adventure|Drama</td>\n",
       "    </tr>\n",
       "    <tr>\n",
       "      <th>229</th>\n",
       "      <td>PG-13</td>\n",
       "      <td>Action and Adventure|Drama</td>\n",
       "    </tr>\n",
       "    <tr>\n",
       "      <th>230</th>\n",
       "      <td>PG-13</td>\n",
       "      <td>Drama</td>\n",
       "    </tr>\n",
       "    <tr>\n",
       "      <th>231</th>\n",
       "      <td>PG-13</td>\n",
       "      <td>Drama|Mystery and Suspense</td>\n",
       "    </tr>\n",
       "  </tbody>\n",
       "</table>\n",
       "</div>"
      ],
      "text/plain": [
       "    rating                                              genre\n",
       "6    PG-13                                             Comedy\n",
       "18   PG-13  Action and Adventure|Drama|Science Fiction and...\n",
       "61   PG-13                                       Comedy|Drama\n",
       "79   PG-13                                     Comedy|Romance\n",
       "97   PG-13   Action and Adventure|Science Fiction and Fantasy\n",
       "123  PG-13                           Drama|Sports and Fitness\n",
       "124  PG-13                                             Comedy\n",
       "125  PG-13                         Action and Adventure|Drama\n",
       "151  PG-13                                             Comedy\n",
       "159  PG-13                                      Drama|Romance\n",
       "165  PG-13          Drama|Horror|Mystery and Suspense|Romance\n",
       "177  PG-13                         Action and Adventure|Drama\n",
       "229  PG-13                         Action and Adventure|Drama\n",
       "230  PG-13                                              Drama\n",
       "231  PG-13                         Drama|Mystery and Suspense"
      ]
     },
     "execution_count": 5,
     "metadata": {},
     "output_type": "execute_result"
    }
   ],
   "source": [
    "# Create new dataframe with just columns are needed\n",
    "pg_13_genres = df_movie_info[['rating', 'genre']]\n",
    "\n",
    "# Filter the dataframe so that we only get genres in PG-13 movies\n",
    "pg_13_genres = pg_13_genres[pg_13_genres['rating'] == 'PG-13']\n",
    "pg_13_genres.head(15)"
   ]
  },
  {
   "cell_type": "markdown",
   "metadata": {},
   "source": [
    "We see that there are multiple genres in a movie and some genres that are combined together."
   ]
  },
  {
   "cell_type": "code",
   "execution_count": 6,
   "metadata": {
    "scrolled": true
   },
   "outputs": [],
   "source": [
    "# Replace ' and ' the string values from the genres column so that each genre is separated by the same syntax\n",
    "pg_13_genres['genre'] = pg_13_genres['genre'].str.replace(' and ', '|')"
   ]
  },
  {
   "cell_type": "markdown",
   "metadata": {},
   "source": [
    "Now, we should get each genre and see which genres are popular in PG-13 movies."
   ]
  },
  {
   "cell_type": "code",
   "execution_count": 7,
   "metadata": {},
   "outputs": [],
   "source": [
    "# Make a list of all the genres in the data\n",
    "genres = list(pg_13_genres['genre'])\n",
    "\n",
    "genre_list = []\n",
    "\n",
    "# Separate the set of genres to individual genre and append it to a new list\n",
    "# We go through each genres and split them by '|', resulting in list of genres for each movie\n",
    "# Then, we go through the list of genres that were split and append them into a new list to get each individual genre\n",
    "for genre in genres:\n",
    "    each_genre = genre.split('|')\n",
    "    for index in range(len(each_genre)):\n",
    "        genre_list.append(each_genre[index])\n",
    "\n",
    "genre_dict = {}\n",
    "\n",
    "# Make a dictionary to count number of each genres\n",
    "# For each genre, if the genre is in the dictionary, add a count to the value\n",
    "# If not, then add a count to the value\n",
    "for genre in genre_list:\n",
    "    if genre in genre_dict.keys():\n",
    "        genre_dict[genre] += 1\n",
    "    else:\n",
    "        genre_dict[genre] = 1\n",
    "        \n",
    "# Sort the dictionary by count\n",
    "# We use lambda x while sorting so that we sort them by the values (x[1])\n",
    "genre_dict = dict(sorted(genre_dict.items(), key=lambda x : x[1]))"
   ]
  },
  {
   "cell_type": "markdown",
   "metadata": {},
   "source": [
    "## Visualization"
   ]
  },
  {
   "cell_type": "markdown",
   "metadata": {},
   "source": [
    "Now we have the organized data that we need to see which genres are popular in PG-13 movies."
   ]
  },
  {
   "cell_type": "code",
   "execution_count": 8,
   "metadata": {},
   "outputs": [
    {
     "data": {
      "image/png": "[encoded data removed]",
      "text/plain": [
       "<Figure size 864x576 with 1 Axes>"
      ]
     },
     "metadata": {
      "needs_background": "light"
     },
     "output_type": "display_data"
    }
   ],
   "source": [
    "# Make a bar graph with the genre and their counts\n",
    "fig, ax = plt.subplots(figsize=(12, 8))\n",
    "\n",
    "# Set x to be the genres and set y to be the counts\n",
    "x = list(genre_dict.keys())\n",
    "height = list(genre_dict.values())\n",
    "\n",
    "ax.barh(x, height)\n",
    "ax.set_title('Genres in PG-13 Movies', fontsize=20)\n",
    "ax.set_xlabel('Genre Counts', fontsize=15)\n",
    "ax.set_ylabel('Genre', fontsize=15)\n",
    "plt.xticks(fontsize=15)\n",
    "plt.yticks(fontsize=15)\n",
    "\n",
    "plt.savefig('images/pg_13_genre.png', bbox_inches = \"tight\")"
   ]
  },
  {
   "cell_type": "markdown",
   "metadata": {},
   "source": [
    "We see that Drama, Comedy, Adventure, and Action are the most popular genres in PG-13 movies.\n",
    "Let's see if the genres have a good average profit margin ."
   ]
  },
  {
   "cell_type": "markdown",
   "metadata": {},
   "source": [
    "## Profit Margin"
   ]
  },
  {
   "cell_type": "code",
   "execution_count": 9,
   "metadata": {},
   "outputs": [],
   "source": [
    "# Import necessary data to find profit margin\n",
    "title_basics = pd.read_csv('data/imdb.title.basics.csv.gz')\n",
    "movie_budgets = pd.read_csv('data/tn.movie_budgets.csv.gz')"
   ]
  },
  {
   "cell_type": "markdown",
   "metadata": {},
   "source": [
    "With the two data tables, we will merge them using movie title and year the movie was released so that we can have one dataframe with production budget, worldwide gross, and genres variables. There were movies with same title but were not the same movie. So, we also use the year to merge the table as well."
   ]
  },
  {
   "cell_type": "code",
   "execution_count": 10,
   "metadata": {},
   "outputs": [],
   "source": [
    "# Create a column for year in movie_budget table\n",
    "# Since release date is in \"month day, year\" format, we are going to take only the last four string of the release date and \n",
    "# we are going to change the year to float\n",
    "movie_budgets['release_year'] = movie_budgets['release_date'].str[-4:].astype(float)\n",
    "\n",
    "#Combine movie_budget table with title_basics using movie title and released year\n",
    "profit = movie_budgets.merge(title_basics, how='left', left_on=['movie', 'release_year'], right_on=['original_title', 'start_year'])"
   ]
  },
  {
   "cell_type": "markdown",
   "metadata": {},
   "source": [
    "### Clean Data"
   ]
  },
  {
   "cell_type": "markdown",
   "metadata": {},
   "source": [
    "The dataframe now needs to be cleaned. We will drop any null values and duplicates from the data table."
   ]
  },
  {
   "cell_type": "code",
   "execution_count": 11,
   "metadata": {},
   "outputs": [],
   "source": [
    "# Drop null values\n",
    "profit.dropna(inplace=True)"
   ]
  },
  {
   "cell_type": "code",
   "execution_count": 12,
   "metadata": {},
   "outputs": [],
   "source": [
    "# Make a new dataframe with just the columns we need\n",
    "condensed_profit = profit[['movie', 'genres', 'production_budget', 'domestic_gross', 'worldwide_gross']]\n",
    "\n",
    "# Drop any duplicates\n",
    "condensed_profit = condensed_profit.drop_duplicates(subset=['movie'])\n",
    "\n",
    "# Change the columns that are string numbers to float\n",
    "# First, we remove the , by replace , with ''\n",
    "# Since the production budget, domestic gross, worldwide gross has a dollar sign in the front,\n",
    "# we want to take every after the dollar sign and make them into floats\n",
    "condensed_profit['production_budget'] = condensed_profit['production_budget'].str.replace(',', '').str[1:].astype(float)\n",
    "condensed_profit['domestic_gross'] = condensed_profit['domestic_gross'].str.replace(',', '').str[1:].astype(float)\n",
    "condensed_profit['worldwide_gross'] = condensed_profit['worldwide_gross'].str.replace(',', '').str[1:].astype(float)"
   ]
  },
  {
   "cell_type": "markdown",
   "metadata": {},
   "source": [
    "Now, we will use wordwide_gross and production_budget to find the profit of the movie. We also found the net profit margin because we wanted to make sure that the movie generated enough profit from its sales and whether production budget was being contained."
   ]
  },
  {
   "cell_type": "code",
   "execution_count": 13,
   "metadata": {},
   "outputs": [],
   "source": [
    "condensed_profit['profit'] = condensed_profit['worldwide_gross'] - condensed_profit['production_budget']\n",
    "condensed_profit['net_profit_margin'] = (condensed_profit['profit'] / condensed_profit['worldwide_gross']) * 100"
   ]
  },
  {
   "cell_type": "markdown",
   "metadata": {},
   "source": [
    "With the cleaned data, we want to get the average profit margin for Drama, Comedy, Adventure, and Action genres."
   ]
  },
  {
   "cell_type": "code",
   "execution_count": 14,
   "metadata": {
    "scrolled": true
   },
   "outputs": [
    {
     "name": "stderr",
     "output_type": "stream",
     "text": [
      "<ipython-input-14-fb322666a210>:8: SettingWithCopyWarning: \n",
      "A value is trying to be set on a copy of a slice from a DataFrame.\n",
      "Try using .loc[row_indexer,col_indexer] = value instead\n",
      "\n",
      "See the caveats in the documentation: https://pandas.pydata.org/pandas-docs/stable/user_guide/indexing.html#returning-a-view-versus-a-copy\n",
      "  condensed_profit_split_genre['genres'] = condensed_profit_split_genre['genres'].map(lambda x : x.split(','))\n"
     ]
    }
   ],
   "source": [
    "# Make a list of top 4 genres from the Genres in PG-13 Movies bar graph\n",
    "top4_genre_pg13 = list(genre_dict.keys())[-4:]\n",
    "\n",
    "# Create a new dataframe so that we have data that have profit margin above 0%\n",
    "condensed_profit_split_genre = condensed_profit[condensed_profit['net_profit_margin'] >= 0]\n",
    "\n",
    "# Split the genres for each movie by comma\n",
    "condensed_profit_split_genre['genres'] = condensed_profit_split_genre['genres'].map(lambda x : x.split(','))\n",
    "\n",
    "genre_profit_margin = {}\n",
    "\n",
    "# For each genre in the top 3 genre list, make a list of profit margin for that certain genre\n",
    "for genre in top4_genre_pg13:\n",
    "    genre_profit_margin[genre] = []\n",
    "    for index, row in condensed_profit_split_genre.iterrows():\n",
    "        if genre in row['genres']:\n",
    "            genre_profit_margin[genre].append(row['net_profit_margin'])\n",
    "\n",
    "average_profit_margin_genre = {}\n",
    "\n",
    "# For each genre, find the average of profit margin\n",
    "for k,v in genre_profit_margin.items():\n",
    "    average_profit_margin_genre[k] = sum(v)/ float(len(v))"
   ]
  },
  {
   "cell_type": "markdown",
   "metadata": {},
   "source": [
    "## Visualization"
   ]
  },
  {
   "cell_type": "markdown",
   "metadata": {},
   "source": [
    "Now, with the data of average profit margin we found above, we created a bar graph to show average profit margin for the top 4 genres in PG-13 movies"
   ]
  },
  {
   "cell_type": "code",
   "execution_count": 16,
   "metadata": {},
   "outputs": [
    {
     "data": {
      "image/png": "[encoded data removed]",
      "text/plain": [
       "<Figure size 864x576 with 1 Axes>"
      ]
     },
     "metadata": {
      "needs_background": "light"
     },
     "output_type": "display_data"
    }
   ],
   "source": [
    "# Make a bar graph with the genre and their average profit margin\n",
    "fig, ax = plt.subplots(figsize=(12, 8))\n",
    "\n",
    "# Set x to be the genres and set y to be the aaverage profit margins\n",
    "x = list(average_profit_margin_genre.keys())\n",
    "height = list(average_profit_margin_genre.values())\n",
    "\n",
    "ax.barh(x, height)\n",
    "ax.set_title('Average Profit Margin for Popular Genre in PG-13 Movies', fontsize=20)\n",
    "ax.set_xlabel('Average Profit Margin', fontsize=15)\n",
    "ax.set_ylabel('Genre', fontsize=15)\n",
    "plt.xticks(fontsize=15)\n",
    "plt.yticks(fontsize=15)\n",
    "\n",
    "plt.savefig('images/average_profit_margin_pg_13_genre.png', bbox_inches = \"tight\")"
   ]
  },
  {
   "cell_type": "code",
   "execution_count": null,
   "metadata": {},
   "outputs": [],
   "source": []
  }
 ],
 "metadata": {
  "kernelspec": {
   "display_name": "Python (learn-env)",
   "language": "python",
   "name": "learn-env"
  },
  "language_info": {
   "codemirror_mode": {
    "name": "ipython",
    "version": 3
   },
   "file_extension": ".py",
   "mimetype": "text/x-python",
   "name": "python",
   "nbconvert_exporter": "python",
   "pygments_lexer": "ipython3",
   "version": "3.8.5"
  }
 },
 "nbformat": 4,
 "nbformat_minor": 4
}
