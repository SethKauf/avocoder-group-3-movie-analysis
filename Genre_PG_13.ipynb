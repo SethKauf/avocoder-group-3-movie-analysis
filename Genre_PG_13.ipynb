{
 "cells": [
  {
   "cell_type": "code",
   "execution_count": 3,
   "metadata": {},
   "outputs": [],
   "source": [
    "import pandas as pd\n",
    "import numpy as np\n",
    "import matplotlib.pyplot as plt\n",
    "%matplotlib inline"
   ]
  },
  {
   "cell_type": "code",
   "execution_count": 4,
   "metadata": {},
   "outputs": [
    {
     "data": {
      "text/html": [
       "<div>\n",
       "<style scoped>\n",
       "    .dataframe tbody tr th:only-of-type {\n",
       "        vertical-align: middle;\n",
       "    }\n",
       "\n",
       "    .dataframe tbody tr th {\n",
       "        vertical-align: top;\n",
       "    }\n",
       "\n",
       "    .dataframe thead th {\n",
       "        text-align: right;\n",
       "    }\n",
       "</style>\n",
       "<table border=\"1\" class=\"dataframe\">\n",
       "  <thead>\n",
       "    <tr style=\"text-align: right;\">\n",
       "      <th></th>\n",
       "      <th>id</th>\n",
       "      <th>synopsis</th>\n",
       "      <th>rating</th>\n",
       "      <th>genre</th>\n",
       "      <th>director</th>\n",
       "      <th>writer</th>\n",
       "      <th>theater_date</th>\n",
       "      <th>dvd_date</th>\n",
       "      <th>currency</th>\n",
       "      <th>box_office</th>\n",
       "      <th>runtime</th>\n",
       "      <th>studio</th>\n",
       "    </tr>\n",
       "  </thead>\n",
       "  <tbody>\n",
       "    <tr>\n",
       "      <th>0</th>\n",
       "      <td>1</td>\n",
       "      <td>This gritty, fast-paced, and innovative police...</td>\n",
       "      <td>R</td>\n",
       "      <td>Action and Adventure|Classics|Drama</td>\n",
       "      <td>William Friedkin</td>\n",
       "      <td>Ernest Tidyman</td>\n",
       "      <td>Oct 9, 1971</td>\n",
       "      <td>Sep 25, 2001</td>\n",
       "      <td>NaN</td>\n",
       "      <td>NaN</td>\n",
       "      <td>104 minutes</td>\n",
       "      <td>NaN</td>\n",
       "    </tr>\n",
       "    <tr>\n",
       "      <th>1</th>\n",
       "      <td>3</td>\n",
       "      <td>New York City, not-too-distant-future: Eric Pa...</td>\n",
       "      <td>R</td>\n",
       "      <td>Drama|Science Fiction and Fantasy</td>\n",
       "      <td>David Cronenberg</td>\n",
       "      <td>David Cronenberg|Don DeLillo</td>\n",
       "      <td>Aug 17, 2012</td>\n",
       "      <td>Jan 1, 2013</td>\n",
       "      <td>$</td>\n",
       "      <td>600,000</td>\n",
       "      <td>108 minutes</td>\n",
       "      <td>Entertainment One</td>\n",
       "    </tr>\n",
       "    <tr>\n",
       "      <th>2</th>\n",
       "      <td>5</td>\n",
       "      <td>Illeana Douglas delivers a superb performance ...</td>\n",
       "      <td>R</td>\n",
       "      <td>Drama|Musical and Performing Arts</td>\n",
       "      <td>Allison Anders</td>\n",
       "      <td>Allison Anders</td>\n",
       "      <td>Sep 13, 1996</td>\n",
       "      <td>Apr 18, 2000</td>\n",
       "      <td>NaN</td>\n",
       "      <td>NaN</td>\n",
       "      <td>116 minutes</td>\n",
       "      <td>NaN</td>\n",
       "    </tr>\n",
       "    <tr>\n",
       "      <th>3</th>\n",
       "      <td>6</td>\n",
       "      <td>Michael Douglas runs afoul of a treacherous su...</td>\n",
       "      <td>R</td>\n",
       "      <td>Drama|Mystery and Suspense</td>\n",
       "      <td>Barry Levinson</td>\n",
       "      <td>Paul Attanasio|Michael Crichton</td>\n",
       "      <td>Dec 9, 1994</td>\n",
       "      <td>Aug 27, 1997</td>\n",
       "      <td>NaN</td>\n",
       "      <td>NaN</td>\n",
       "      <td>128 minutes</td>\n",
       "      <td>NaN</td>\n",
       "    </tr>\n",
       "    <tr>\n",
       "      <th>4</th>\n",
       "      <td>7</td>\n",
       "      <td>NaN</td>\n",
       "      <td>NR</td>\n",
       "      <td>Drama|Romance</td>\n",
       "      <td>Rodney Bennett</td>\n",
       "      <td>Giles Cooper</td>\n",
       "      <td>NaN</td>\n",
       "      <td>NaN</td>\n",
       "      <td>NaN</td>\n",
       "      <td>NaN</td>\n",
       "      <td>200 minutes</td>\n",
       "      <td>NaN</td>\n",
       "    </tr>\n",
       "  </tbody>\n",
       "</table>\n",
       "</div>"
      ],
      "text/plain": [
       "   id                                           synopsis rating  \\\n",
       "0   1  This gritty, fast-paced, and innovative police...      R   \n",
       "1   3  New York City, not-too-distant-future: Eric Pa...      R   \n",
       "2   5  Illeana Douglas delivers a superb performance ...      R   \n",
       "3   6  Michael Douglas runs afoul of a treacherous su...      R   \n",
       "4   7                                                NaN     NR   \n",
       "\n",
       "                                 genre          director  \\\n",
       "0  Action and Adventure|Classics|Drama  William Friedkin   \n",
       "1    Drama|Science Fiction and Fantasy  David Cronenberg   \n",
       "2    Drama|Musical and Performing Arts    Allison Anders   \n",
       "3           Drama|Mystery and Suspense    Barry Levinson   \n",
       "4                        Drama|Romance    Rodney Bennett   \n",
       "\n",
       "                            writer  theater_date      dvd_date currency  \\\n",
       "0                   Ernest Tidyman   Oct 9, 1971  Sep 25, 2001      NaN   \n",
       "1     David Cronenberg|Don DeLillo  Aug 17, 2012   Jan 1, 2013        $   \n",
       "2                   Allison Anders  Sep 13, 1996  Apr 18, 2000      NaN   \n",
       "3  Paul Attanasio|Michael Crichton   Dec 9, 1994  Aug 27, 1997      NaN   \n",
       "4                     Giles Cooper           NaN           NaN      NaN   \n",
       "\n",
       "  box_office      runtime             studio  \n",
       "0        NaN  104 minutes                NaN  \n",
       "1    600,000  108 minutes  Entertainment One  \n",
       "2        NaN  116 minutes                NaN  \n",
       "3        NaN  128 minutes                NaN  \n",
       "4        NaN  200 minutes                NaN  "
      ]
     },
     "execution_count": 4,
     "metadata": {},
     "output_type": "execute_result"
    }
   ],
   "source": [
    "df_movie_info = pd.read_csv('data/rt.movie_info.tsv.gz', sep='\\t')\n",
    "df_movie_info.head()"
   ]
  },
  {
   "cell_type": "code",
   "execution_count": 5,
   "metadata": {},
   "outputs": [],
   "source": [
    "df_movie_info = df_movie_info.dropna(subset=['box_office'])"
   ]
  },
  {
   "cell_type": "code",
   "execution_count": 6,
   "metadata": {
    "scrolled": true
   },
   "outputs": [
    {
     "name": "stdout",
     "output_type": "stream",
     "text": [
      "<class 'pandas.core.frame.DataFrame'>\n",
      "Int64Index: 340 entries, 1 to 1555\n",
      "Data columns (total 12 columns):\n",
      " #   Column        Non-Null Count  Dtype \n",
      "---  ------        --------------  ----- \n",
      " 0   id            340 non-null    int64 \n",
      " 1   synopsis      340 non-null    object\n",
      " 2   rating        340 non-null    object\n",
      " 3   genre         340 non-null    object\n",
      " 4   director      299 non-null    object\n",
      " 5   writer        273 non-null    object\n",
      " 6   theater_date  334 non-null    object\n",
      " 7   dvd_date      334 non-null    object\n",
      " 8   currency      340 non-null    object\n",
      " 9   box_office    340 non-null    object\n",
      " 10  runtime       338 non-null    object\n",
      " 11  studio        305 non-null    object\n",
      "dtypes: int64(1), object(11)\n",
      "memory usage: 34.5+ KB\n"
     ]
    }
   ],
   "source": [
    "df_movie_info.info()"
   ]
  },
  {
   "cell_type": "markdown",
   "metadata": {},
   "source": [
    "## Genres in PG-13 Movies"
   ]
  },
  {
   "cell_type": "markdown",
   "metadata": {},
   "source": [
    "Since we found that PG-13 movies have the highest box office earnings, now, let's look for which genres are popular in PG-13 movies."
   ]
  },
  {
   "cell_type": "markdown",
   "metadata": {},
   "source": [
    "### Clean the data"
   ]
  },
  {
   "cell_type": "code",
   "execution_count": 7,
   "metadata": {
    "scrolled": true
   },
   "outputs": [
    {
     "data": {
      "text/html": [
       "<div>\n",
       "<style scoped>\n",
       "    .dataframe tbody tr th:only-of-type {\n",
       "        vertical-align: middle;\n",
       "    }\n",
       "\n",
       "    .dataframe tbody tr th {\n",
       "        vertical-align: top;\n",
       "    }\n",
       "\n",
       "    .dataframe thead th {\n",
       "        text-align: right;\n",
       "    }\n",
       "</style>\n",
       "<table border=\"1\" class=\"dataframe\">\n",
       "  <thead>\n",
       "    <tr style=\"text-align: right;\">\n",
       "      <th></th>\n",
       "      <th>rating</th>\n",
       "      <th>genre</th>\n",
       "    </tr>\n",
       "  </thead>\n",
       "  <tbody>\n",
       "    <tr>\n",
       "      <th>6</th>\n",
       "      <td>PG-13</td>\n",
       "      <td>Comedy</td>\n",
       "    </tr>\n",
       "    <tr>\n",
       "      <th>18</th>\n",
       "      <td>PG-13</td>\n",
       "      <td>Action and Adventure|Drama|Science Fiction and...</td>\n",
       "    </tr>\n",
       "    <tr>\n",
       "      <th>61</th>\n",
       "      <td>PG-13</td>\n",
       "      <td>Comedy|Drama</td>\n",
       "    </tr>\n",
       "    <tr>\n",
       "      <th>79</th>\n",
       "      <td>PG-13</td>\n",
       "      <td>Comedy|Romance</td>\n",
       "    </tr>\n",
       "    <tr>\n",
       "      <th>97</th>\n",
       "      <td>PG-13</td>\n",
       "      <td>Action and Adventure|Science Fiction and Fantasy</td>\n",
       "    </tr>\n",
       "    <tr>\n",
       "      <th>123</th>\n",
       "      <td>PG-13</td>\n",
       "      <td>Drama|Sports and Fitness</td>\n",
       "    </tr>\n",
       "    <tr>\n",
       "      <th>124</th>\n",
       "      <td>PG-13</td>\n",
       "      <td>Comedy</td>\n",
       "    </tr>\n",
       "    <tr>\n",
       "      <th>125</th>\n",
       "      <td>PG-13</td>\n",
       "      <td>Action and Adventure|Drama</td>\n",
       "    </tr>\n",
       "    <tr>\n",
       "      <th>151</th>\n",
       "      <td>PG-13</td>\n",
       "      <td>Comedy</td>\n",
       "    </tr>\n",
       "    <tr>\n",
       "      <th>159</th>\n",
       "      <td>PG-13</td>\n",
       "      <td>Drama|Romance</td>\n",
       "    </tr>\n",
       "    <tr>\n",
       "      <th>165</th>\n",
       "      <td>PG-13</td>\n",
       "      <td>Drama|Horror|Mystery and Suspense|Romance</td>\n",
       "    </tr>\n",
       "    <tr>\n",
       "      <th>177</th>\n",
       "      <td>PG-13</td>\n",
       "      <td>Action and Adventure|Drama</td>\n",
       "    </tr>\n",
       "    <tr>\n",
       "      <th>229</th>\n",
       "      <td>PG-13</td>\n",
       "      <td>Action and Adventure|Drama</td>\n",
       "    </tr>\n",
       "    <tr>\n",
       "      <th>230</th>\n",
       "      <td>PG-13</td>\n",
       "      <td>Drama</td>\n",
       "    </tr>\n",
       "    <tr>\n",
       "      <th>231</th>\n",
       "      <td>PG-13</td>\n",
       "      <td>Drama|Mystery and Suspense</td>\n",
       "    </tr>\n",
       "  </tbody>\n",
       "</table>\n",
       "</div>"
      ],
      "text/plain": [
       "    rating                                              genre\n",
       "6    PG-13                                             Comedy\n",
       "18   PG-13  Action and Adventure|Drama|Science Fiction and...\n",
       "61   PG-13                                       Comedy|Drama\n",
       "79   PG-13                                     Comedy|Romance\n",
       "97   PG-13   Action and Adventure|Science Fiction and Fantasy\n",
       "123  PG-13                           Drama|Sports and Fitness\n",
       "124  PG-13                                             Comedy\n",
       "125  PG-13                         Action and Adventure|Drama\n",
       "151  PG-13                                             Comedy\n",
       "159  PG-13                                      Drama|Romance\n",
       "165  PG-13          Drama|Horror|Mystery and Suspense|Romance\n",
       "177  PG-13                         Action and Adventure|Drama\n",
       "229  PG-13                         Action and Adventure|Drama\n",
       "230  PG-13                                              Drama\n",
       "231  PG-13                         Drama|Mystery and Suspense"
      ]
     },
     "execution_count": 7,
     "metadata": {},
     "output_type": "execute_result"
    }
   ],
   "source": [
    "# Create new dataframe with just columns are needed\n",
    "pg_13_genres = df_movie_info[['rating', 'genre']]\n",
    "\n",
    "# Filter the dataframe so that we only get genres in PG-13 movies\n",
    "pg_13_genres = pg_13_genres[pg_13_genres['rating'] == 'PG-13']\n",
    "pg_13_genres.head(15)"
   ]
  },
  {
   "cell_type": "markdown",
   "metadata": {},
   "source": [
    "We see that there are multiple genres in a movie and some genres that are combined together."
   ]
  },
  {
   "cell_type": "code",
   "execution_count": 8,
   "metadata": {
    "scrolled": true
   },
   "outputs": [],
   "source": [
    "# Replace ' and ' the string values from the genres column so that each genre is separated by the same syntax\n",
    "pg_13_genres['genre'] = pg_13_genres['genre'].str.replace(' and ', '|')"
   ]
  },
  {
   "cell_type": "markdown",
   "metadata": {},
   "source": [
    "Now, we should get each genre and see which genres are popular in PG-13 movies."
   ]
  },
  {
   "cell_type": "code",
   "execution_count": 9,
   "metadata": {},
   "outputs": [],
   "source": [
    "# Make a list of all the genres in the data\n",
    "genres = list(pg_13_genres['genre'])\n",
    "\n",
    "genre_list = []\n",
    "\n",
    "# Separate the set of genres to individual genre and append it to a new list\n",
    "# We go through each genres and split them by '|', resulting in list of genres for each movie\n",
    "# Then, we go through the list of genres that were split and append them into a new list to get each individual genre\n",
    "for genre in genres:\n",
    "    each_genre = genre.split('|')\n",
    "    for index in range(len(each_genre)):\n",
    "        genre_list.append(each_genre[index])\n",
    "\n",
    "genre_dict = {}\n",
    "\n",
    "# Make a dictionary to count number of each genres\n",
    "# For each genre, if the genre is in the dictionary, add a count to the value\n",
    "# If not, then add a count to the value\n",
    "for genre in genre_list:\n",
    "    if genre in genre_dict.keys():\n",
    "        genre_dict[genre] += 1\n",
    "    else:\n",
    "        genre_dict[genre] = 1\n",
    "        \n",
    "# Sort the dictionary by count\n",
    "# We use lambda x while sorting so that we sort them by the values (x[1])\n",
    "genre_dict = dict(sorted(genre_dict.items(), key=lambda x : x[1]))"
   ]
  },
  {
   "cell_type": "markdown",
   "metadata": {},
   "source": [
    "## Visualization"
   ]
  },
  {
   "cell_type": "markdown",
   "metadata": {},
   "source": [
    "Now we have the organized data that we need to see which genres are popular in PG-13 movies."
   ]
  },
  {
   "cell_type": "code",
<<<<<<< HEAD
   "execution_count": 10,
=======
   "execution_count": 28,
>>>>>>> 95c9b46cbc910c0e020c8896eee3e22a45916f55
   "metadata": {},
   "outputs": [
    {
     "name": "stdout",
     "output_type": "stream",
     "text": [
      "{'Action': 'orange', 'Adventure': 'orange', 'Comedy': 'orange', 'Drama': 'orange'}\n"
     ]
    },
    {
     "data": {
      "image/png": "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\n",
      "text/plain": [
       "<Figure size 864x576 with 1 Axes>"
      ]
     },
     "metadata": {
      "needs_background": "light"
     },
     "output_type": "display_data"
    }
   ],
   "source": [
    "# Make a bar graph with the genre and their counts\n",
    "fig, ax = plt.subplots(figsize=(12, 8))\n",
    "\n",
    "# Set x to be the genres and set y to be the counts\n",
    "x = list(genre_dict.keys())\n",
    "height = list(genre_dict.values())\n",
    "\n",
    "colors = ['green', 'purple', 'black', 'orange']\n",
    "color = {}\n",
    "top4_genre_pg13 = list(genre_dict.keys())[-4:]\n",
    "\n",
    "\n",
    "for index in range(len(top4_genre_pg13)):\n",
    "    for each_color in colors:\n",
    "        color[top4_genre_pg13[index]] = each_color\n",
    "        \n",
    "print(color)\n",
    "ax.barh(x, height)\n",
    "ax.set_title('Genres in PG-13 Movies', fontsize=20)\n",
    "ax.set_xlabel('Genre Counts', fontsize=15)\n",
    "ax.set_ylabel('Genre', fontsize=15)\n",
    "plt.xticks(fontsize=15)\n",
    "plt.yticks(fontsize=15)\n",
    "\n",
    "plt.savefig('images/pg_13_genre.png', bbox_inches = \"tight\")"
   ]
  },
  {
   "cell_type": "markdown",
   "metadata": {},
   "source": [
    "We see that Drama, Comedy, Adventure, and Action are the most popular genres in PG-13 movies.\n",
    "Let's see if the genres have a good average profit margin ."
   ]
  },
  {
   "cell_type": "markdown",
   "metadata": {},
   "source": [
    "## Profit Margin"
   ]
  },
  {
   "cell_type": "code",
   "execution_count": 11,
   "metadata": {},
   "outputs": [],
   "source": [
    "# Import necessary data to find profit margin\n",
    "title_basics = pd.read_csv('data/imdb.title.basics.csv.gz')\n",
    "movie_budgets = pd.read_csv('data/tn.movie_budgets.csv.gz')"
   ]
  },
  {
   "cell_type": "markdown",
   "metadata": {},
   "source": [
    "With the two data tables, we will merge them using movie title and year the movie was released so that we can have one dataframe with production budget, worldwide gross, and genres variables. There were movies with same title but were not the same movie. So, we also use the year to merge the table as well."
   ]
  },
  {
   "cell_type": "code",
   "execution_count": 12,
   "metadata": {},
   "outputs": [],
   "source": [
    "# Create a column for year in movie_budget table\n",
    "# Since release date is in \"month day, year\" format, we are going to take only the last four string of the release date and \n",
    "# we are going to change the year to float\n",
    "movie_budgets['release_year'] = movie_budgets['release_date'].str[-4:].astype(float)\n",
    "\n",
    "#Combine movie_budget table with title_basics using movie title and released year\n",
    "profit = movie_budgets.merge(title_basics, how='left', left_on=['movie', 'release_year'], right_on=['original_title', 'start_year'])"
   ]
  },
  {
   "cell_type": "markdown",
   "metadata": {},
   "source": [
    "### Clean Data"
   ]
  },
  {
   "cell_type": "markdown",
   "metadata": {},
   "source": [
    "The dataframe now needs to be cleaned. We will drop any null values and duplicates from the data table."
   ]
  },
  {
   "cell_type": "code",
   "execution_count": 13,
   "metadata": {},
   "outputs": [],
   "source": [
    "# Drop null values\n",
    "profit.dropna(inplace=True)"
   ]
  },
  {
   "cell_type": "code",
   "execution_count": 14,
   "metadata": {},
   "outputs": [],
   "source": [
    "# Make a new dataframe with just the columns we need\n",
    "condensed_profit = profit[['movie', 'genres', 'production_budget', 'domestic_gross', 'worldwide_gross']]\n",
    "\n",
    "# Drop any duplicates\n",
    "condensed_profit = condensed_profit.drop_duplicates(subset=['movie'])\n",
    "\n",
    "# Change the columns that are string numbers to float\n",
    "# First, we remove the , by replace , with ''\n",
    "# Since the production budget, domestic gross, worldwide gross has a dollar sign in the front,\n",
    "# we want to take every after the dollar sign and make them into floats\n",
    "condensed_profit['production_budget'] = condensed_profit['production_budget'].str.replace(',', '').str[1:].astype(float)\n",
    "condensed_profit['domestic_gross'] = condensed_profit['domestic_gross'].str.replace(',', '').str[1:].astype(float)\n",
    "condensed_profit['worldwide_gross'] = condensed_profit['worldwide_gross'].str.replace(',', '').str[1:].astype(float)"
   ]
  },
  {
   "cell_type": "markdown",
   "metadata": {},
   "source": [
    "Now, we will use wordwide_gross and production_budget to find the profit of the movie. We also found the net profit margin because we wanted to make sure that the movie generated enough profit from its sales and whether production budget was being contained."
   ]
  },
  {
   "cell_type": "code",
   "execution_count": 15,
   "metadata": {},
   "outputs": [],
   "source": [
    "condensed_profit['profit'] = condensed_profit['worldwide_gross'] - condensed_profit['production_budget']\n",
    "condensed_profit['net_profit_margin'] = (condensed_profit['profit'] / condensed_profit['worldwide_gross']) * 100"
   ]
  },
  {
   "cell_type": "code",
   "execution_count": null,
   "metadata": {},
   "outputs": [],
   "source": []
  },
  {
   "cell_type": "code",
   "execution_count": null,
   "metadata": {},
   "outputs": [],
   "source": []
  },
  {
   "cell_type": "code",
   "execution_count": null,
   "metadata": {},
   "outputs": [],
   "source": []
  },
  {
   "cell_type": "markdown",
   "metadata": {},
   "source": [
    "With the cleaned data, we want to get the average profit margin for Drama, Comedy, Adventure, and Action genres."
   ]
  },
  {
   "cell_type": "code",
   "execution_count": 16,
   "metadata": {
    "scrolled": false
   },
   "outputs": [
    {
     "name": "stderr",
     "output_type": "stream",
     "text": [
      "<ipython-input-16-fb322666a210>:8: SettingWithCopyWarning: \n",
      "A value is trying to be set on a copy of a slice from a DataFrame.\n",
      "Try using .loc[row_indexer,col_indexer] = value instead\n",
      "\n",
      "See the caveats in the documentation: https://pandas.pydata.org/pandas-docs/stable/user_guide/indexing.html#returning-a-view-versus-a-copy\n",
      "  condensed_profit_split_genre['genres'] = condensed_profit_split_genre['genres'].map(lambda x : x.split(','))\n"
     ]
    }
   ],
   "source": [
    "# Make a list of top 4 genres from the Genres in PG-13 Movies bar graph\n",
    "top4_genre_pg13 = list(genre_dict.keys())[-4:]\n",
    "\n",
    "# Create a new dataframe so that we have data that have profit margin above 0%\n",
    "condensed_profit_split_genre = condensed_profit[condensed_profit['net_profit_margin'] >= 0]\n",
    "\n",
    "# Split the genres for each movie by comma\n",
    "condensed_profit_split_genre['genres'] = condensed_profit_split_genre['genres'].map(lambda x : x.split(','))\n",
    "\n",
    "genre_profit_margin = {}\n",
    "\n",
    "# For each genre in the top 3 genre list, make a list of profit margin for that certain genre\n",
    "for genre in top4_genre_pg13:\n",
    "    genre_profit_margin[genre] = []\n",
    "    for index, row in condensed_profit_split_genre.iterrows():\n",
    "        if genre in row['genres']:\n",
    "            genre_profit_margin[genre].append(row['net_profit_margin'])\n",
    "\n",
    "average_profit_margin_genre = {}\n",
    "\n",
    "# For each genre, find the average of profit margin\n",
    "for k,v in genre_profit_margin.items():\n",
    "    average_profit_margin_genre[k] = sum(v)/ float(len(v))"
   ]
  },
  {
   "cell_type": "code",
<<<<<<< HEAD
   "execution_count": 23,
   "metadata": {
    "scrolled": true
   },
   "outputs": [
    {
     "data": {
      "image/png": "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\n",
      "text/plain": [
       "<Figure size 432x288 with 1 Axes>"
      ]
     },
     "metadata": {
      "needs_background": "light"
     },
     "output_type": "display_data"
    }
   ],
   "source": [
    "condensed_profit.boxplot('production_budget',showfliers=False);"
   ]
  },
  {
   "cell_type": "code",
   "execution_count": 24,
   "metadata": {
    "scrolled": true
   },
   "outputs": [
    {
     "data": {
      "text/html": [
       "<div>\n",
       "<style scoped>\n",
       "    .dataframe tbody tr th:only-of-type {\n",
       "        vertical-align: middle;\n",
       "    }\n",
       "\n",
       "    .dataframe tbody tr th {\n",
       "        vertical-align: top;\n",
       "    }\n",
       "\n",
       "    .dataframe thead th {\n",
       "        text-align: right;\n",
       "    }\n",
       "</style>\n",
       "<table border=\"1\" class=\"dataframe\">\n",
       "  <thead>\n",
       "    <tr style=\"text-align: right;\">\n",
       "      <th></th>\n",
       "      <th>movie</th>\n",
       "      <th>genres</th>\n",
       "      <th>production_budget</th>\n",
       "      <th>domestic_gross</th>\n",
       "      <th>worldwide_gross</th>\n",
       "      <th>profit</th>\n",
       "      <th>net_profit_margin</th>\n",
       "    </tr>\n",
       "  </thead>\n",
       "  <tbody>\n",
       "    <tr>\n",
       "      <th>1</th>\n",
       "      <td>Pirates of the Caribbean: On Stranger Tides</td>\n",
       "      <td>Action,Adventure,Fantasy</td>\n",
       "      <td>410600000.0</td>\n",
       "      <td>241063875.0</td>\n",
       "      <td>1.045664e+09</td>\n",
       "      <td>6.350639e+08</td>\n",
       "      <td>60.733080</td>\n",
       "    </tr>\n",
       "    <tr>\n",
       "      <th>2</th>\n",
       "      <td>Dark Phoenix</td>\n",
       "      <td>Action,Adventure,Sci-Fi</td>\n",
       "      <td>350000000.0</td>\n",
       "      <td>42762350.0</td>\n",
       "      <td>1.497624e+08</td>\n",
       "      <td>-2.002376e+08</td>\n",
       "      <td>-133.703598</td>\n",
       "    </tr>\n",
       "    <tr>\n",
       "      <th>3</th>\n",
       "      <td>Avengers: Age of Ultron</td>\n",
       "      <td>Action,Adventure,Sci-Fi</td>\n",
       "      <td>330600000.0</td>\n",
       "      <td>459005868.0</td>\n",
       "      <td>1.403014e+09</td>\n",
       "      <td>1.072414e+09</td>\n",
       "      <td>76.436443</td>\n",
       "    </tr>\n",
       "    <tr>\n",
       "      <th>6</th>\n",
       "      <td>Avengers: Infinity War</td>\n",
       "      <td>Action,Adventure,Sci-Fi</td>\n",
       "      <td>300000000.0</td>\n",
       "      <td>678815482.0</td>\n",
       "      <td>2.048134e+09</td>\n",
       "      <td>1.748134e+09</td>\n",
       "      <td>85.352522</td>\n",
       "    </tr>\n",
       "    <tr>\n",
       "      <th>8</th>\n",
       "      <td>Justice League</td>\n",
       "      <td>Action,Adventure,Fantasy</td>\n",
       "      <td>300000000.0</td>\n",
       "      <td>229024295.0</td>\n",
       "      <td>6.559452e+08</td>\n",
       "      <td>3.559452e+08</td>\n",
       "      <td>54.264473</td>\n",
       "    </tr>\n",
       "  </tbody>\n",
       "</table>\n",
       "</div>"
      ],
      "text/plain": [
       "                                         movie                    genres  \\\n",
       "1  Pirates of the Caribbean: On Stranger Tides  Action,Adventure,Fantasy   \n",
       "2                                 Dark Phoenix   Action,Adventure,Sci-Fi   \n",
       "3                      Avengers: Age of Ultron   Action,Adventure,Sci-Fi   \n",
       "6                       Avengers: Infinity War   Action,Adventure,Sci-Fi   \n",
       "8                               Justice League  Action,Adventure,Fantasy   \n",
       "\n",
       "   production_budget  domestic_gross  worldwide_gross        profit  \\\n",
       "1        410600000.0     241063875.0     1.045664e+09  6.350639e+08   \n",
       "2        350000000.0      42762350.0     1.497624e+08 -2.002376e+08   \n",
       "3        330600000.0     459005868.0     1.403014e+09  1.072414e+09   \n",
       "6        300000000.0     678815482.0     2.048134e+09  1.748134e+09   \n",
       "8        300000000.0     229024295.0     6.559452e+08  3.559452e+08   \n",
       "\n",
       "   net_profit_margin  \n",
       "1          60.733080  \n",
       "2        -133.703598  \n",
       "3          76.436443  \n",
       "6          85.352522  \n",
       "8          54.264473  "
      ]
     },
     "execution_count": 24,
     "metadata": {},
     "output_type": "execute_result"
    }
   ],
   "source": [
    "condensed_profit.head()"
   ]
  },
  {
   "cell_type": "code",
   "execution_count": 30,
   "metadata": {
    "scrolled": true
   },
   "outputs": [
    {
     "ename": "NameError",
     "evalue": "name 'genres_dict2' is not defined",
     "output_type": "error",
     "traceback": [
      "\u001b[1;31m---------------------------------------------------------------------------\u001b[0m",
      "\u001b[1;31mNameError\u001b[0m                                 Traceback (most recent call last)",
      "\u001b[1;32m<ipython-input-30-1c5da5100d4e>\u001b[0m in \u001b[0;36m<module>\u001b[1;34m\u001b[0m\n\u001b[0;32m     26\u001b[0m \u001b[0mgenre_dict2\u001b[0m \u001b[1;33m=\u001b[0m \u001b[0mdict\u001b[0m\u001b[1;33m(\u001b[0m\u001b[0msorted\u001b[0m\u001b[1;33m(\u001b[0m\u001b[0mgenre_dict2\u001b[0m\u001b[1;33m.\u001b[0m\u001b[0mitems\u001b[0m\u001b[1;33m(\u001b[0m\u001b[1;33m)\u001b[0m\u001b[1;33m,\u001b[0m \u001b[0mkey\u001b[0m\u001b[1;33m=\u001b[0m\u001b[1;32mlambda\u001b[0m \u001b[0mx\u001b[0m \u001b[1;33m:\u001b[0m \u001b[0mx\u001b[0m\u001b[1;33m[\u001b[0m\u001b[1;36m1\u001b[0m\u001b[1;33m]\u001b[0m\u001b[1;33m)\u001b[0m\u001b[1;33m)\u001b[0m\u001b[1;33m\u001b[0m\u001b[1;33m\u001b[0m\u001b[0m\n\u001b[0;32m     27\u001b[0m \u001b[1;33m\u001b[0m\u001b[0m\n\u001b[1;32m---> 28\u001b[1;33m \u001b[0mgenres_dict2\u001b[0m\u001b[1;33m\u001b[0m\u001b[1;33m\u001b[0m\u001b[0m\n\u001b[0m",
      "\u001b[1;31mNameError\u001b[0m: name 'genres_dict2' is not defined"
     ]
    }
   ],
   "source": [
    "genres2 = list(condensed_profit['genres'])\n",
    "\n",
    "genre_list2 = []\n",
    "\n",
    "# Separate the set of genres to individual genre and append it to a new list\n",
    "# We go through each genres and split them by '|', resulting in list of genres for each movie\n",
    "# Then, we go through the list of genres that were split and append them into a new list to get each individual genre\n",
    "for genre in genres2:\n",
    "    each_genre = genre.split(',')\n",
    "    for index in range(len(each_genre)):\n",
    "        genre_list2.append(each_genre[index])\n",
    "\n",
    "genre_dict2 = {}\n",
    "\n",
    "# Make a dictionary to count number of each genres\n",
    "# For each genre, if the genre is in the dictionary, add a count to the value\n",
    "# If not, then add a count to the value\n",
    "for genre in genre_list2:\n",
    "    if genre in genre_dict2.keys():\n",
    "        genre_dict2[genre] += 1\n",
    "    else:\n",
    "        genre_dict2[genre] = 1\n",
    "        \n",
    "# Sort the dictionary by count\n",
    "# We use lambda x while sorting so that we sort them by the values (x[1])\n",
    "genre_dict2 = dict(sorted(genre_dict2.items(), key=lambda x : x[1]))"
=======
   "execution_count": null,
   "metadata": {},
   "outputs": [],
   "source": []
  },
  {
   "cell_type": "code",
   "execution_count": null,
   "metadata": {},
   "outputs": [],
   "source": [
    "for "
>>>>>>> 95c9b46cbc910c0e020c8896eee3e22a45916f55
   ]
  },
  {
   "cell_type": "code",
<<<<<<< HEAD
   "execution_count": 46,
   "metadata": {},
   "outputs": [
    {
     "ename": "AttributeError",
     "evalue": "'dict_keys' object has no attribute 'sort'",
     "output_type": "error",
     "traceback": [
      "\u001b[1;31m---------------------------------------------------------------------------\u001b[0m",
      "\u001b[1;31mAttributeError\u001b[0m                            Traceback (most recent call last)",
      "\u001b[1;32m<ipython-input-46-15526c06d4f8>\u001b[0m in \u001b[0;36m<module>\u001b[1;34m\u001b[0m\n\u001b[1;32m----> 1\u001b[1;33m \u001b[0mgenre_dict2\u001b[0m\u001b[1;33m.\u001b[0m\u001b[0mkeys\u001b[0m\u001b[1;33m(\u001b[0m\u001b[1;33m)\u001b[0m\u001b[1;33m.\u001b[0m\u001b[0msort\u001b[0m\u001b[1;33m(\u001b[0m\u001b[1;33m)\u001b[0m\u001b[1;33m\u001b[0m\u001b[1;33m\u001b[0m\u001b[0m\n\u001b[0m",
      "\u001b[1;31mAttributeError\u001b[0m: 'dict_keys' object has no attribute 'sort'"
     ]
    }
   ],
   "source": [
    "genre_dict2.keys().sort()"
   ]
  },
  {
   "cell_type": "code",
   "execution_count": null,
=======
   "execution_count": null,
   "metadata": {},
   "outputs": [],
   "source": []
  },
  {
   "cell_type": "markdown",
>>>>>>> 95c9b46cbc910c0e020c8896eee3e22a45916f55
   "metadata": {},
   "outputs": [],
   "source": [
    "# Make a list of top-3 genres (Adventure, Comedy, Drama), iterate over that list, iterate over the DF\n",
    "# if adventure is in genre: get produc\n",
    "# Filter condensed_profit DF by anything containing 1 of 3 top genres\n",
    "# Look at production budgets range/percentiles to stratify suggested budget\n",
    "# Look at profit margin of each quantile, pick highest one on average\n",
    "# "
   ]
  },
  {
   "cell_type": "code",
   "execution_count": 53,
   "metadata": {},
   "outputs": [
    {
     "data": {
      "text/html": [
       "<div>\n",
       "<style scoped>\n",
       "    .dataframe tbody tr th:only-of-type {\n",
       "        vertical-align: middle;\n",
       "    }\n",
       "\n",
       "    .dataframe tbody tr th {\n",
       "        vertical-align: top;\n",
       "    }\n",
       "\n",
       "    .dataframe thead th {\n",
       "        text-align: right;\n",
       "    }\n",
       "</style>\n",
       "<table border=\"1\" class=\"dataframe\">\n",
       "  <thead>\n",
       "    <tr style=\"text-align: right;\">\n",
       "      <th></th>\n",
       "      <th>movie</th>\n",
       "      <th>genres</th>\n",
       "      <th>production_budget</th>\n",
       "      <th>domestic_gross</th>\n",
       "      <th>worldwide_gross</th>\n",
       "      <th>profit</th>\n",
       "      <th>net_profit_margin</th>\n",
       "    </tr>\n",
       "  </thead>\n",
       "  <tbody>\n",
       "    <tr>\n",
       "      <th>1</th>\n",
       "      <td>Pirates of the Caribbean: On Stranger Tides</td>\n",
       "      <td>Action,Adventure,Fantasy</td>\n",
       "      <td>410600000.0</td>\n",
       "      <td>241063875.0</td>\n",
       "      <td>1.045664e+09</td>\n",
       "      <td>6.350639e+08</td>\n",
       "      <td>60.733080</td>\n",
       "    </tr>\n",
       "    <tr>\n",
       "      <th>2</th>\n",
       "      <td>Dark Phoenix</td>\n",
       "      <td>Action,Adventure,Sci-Fi</td>\n",
       "      <td>350000000.0</td>\n",
       "      <td>42762350.0</td>\n",
       "      <td>1.497624e+08</td>\n",
       "      <td>-2.002376e+08</td>\n",
       "      <td>-133.703598</td>\n",
       "    </tr>\n",
       "    <tr>\n",
       "      <th>3</th>\n",
       "      <td>Avengers: Age of Ultron</td>\n",
       "      <td>Action,Adventure,Sci-Fi</td>\n",
       "      <td>330600000.0</td>\n",
       "      <td>459005868.0</td>\n",
       "      <td>1.403014e+09</td>\n",
       "      <td>1.072414e+09</td>\n",
       "      <td>76.436443</td>\n",
       "    </tr>\n",
       "    <tr>\n",
       "      <th>6</th>\n",
       "      <td>Avengers: Infinity War</td>\n",
       "      <td>Action,Adventure,Sci-Fi</td>\n",
       "      <td>300000000.0</td>\n",
       "      <td>678815482.0</td>\n",
       "      <td>2.048134e+09</td>\n",
       "      <td>1.748134e+09</td>\n",
       "      <td>85.352522</td>\n",
       "    </tr>\n",
       "    <tr>\n",
       "      <th>8</th>\n",
       "      <td>Justice League</td>\n",
       "      <td>Action,Adventure,Fantasy</td>\n",
       "      <td>300000000.0</td>\n",
       "      <td>229024295.0</td>\n",
       "      <td>6.559452e+08</td>\n",
       "      <td>3.559452e+08</td>\n",
       "      <td>54.264473</td>\n",
       "    </tr>\n",
       "    <tr>\n",
       "      <th>...</th>\n",
       "      <td>...</td>\n",
       "      <td>...</td>\n",
       "      <td>...</td>\n",
       "      <td>...</td>\n",
       "      <td>...</td>\n",
       "      <td>...</td>\n",
       "      <td>...</td>\n",
       "    </tr>\n",
       "    <tr>\n",
       "      <th>5789</th>\n",
       "      <td>Paraphobia</td>\n",
       "      <td>Comedy,Horror,Thriller</td>\n",
       "      <td>30000.0</td>\n",
       "      <td>0.0</td>\n",
       "      <td>0.000000e+00</td>\n",
       "      <td>-3.000000e+04</td>\n",
       "      <td>-inf</td>\n",
       "    </tr>\n",
       "    <tr>\n",
       "      <th>5792</th>\n",
       "      <td>Emily</td>\n",
       "      <td>Drama</td>\n",
       "      <td>27000.0</td>\n",
       "      <td>3547.0</td>\n",
       "      <td>3.547000e+03</td>\n",
       "      <td>-2.345300e+04</td>\n",
       "      <td>-661.206654</td>\n",
       "    </tr>\n",
       "    <tr>\n",
       "      <th>5800</th>\n",
       "      <td>Dutch Kills</td>\n",
       "      <td>Crime,Drama,Thriller</td>\n",
       "      <td>25000.0</td>\n",
       "      <td>0.0</td>\n",
       "      <td>0.000000e+00</td>\n",
       "      <td>-2.500000e+04</td>\n",
       "      <td>-inf</td>\n",
       "    </tr>\n",
       "    <tr>\n",
       "      <th>5807</th>\n",
       "      <td>The Ridges</td>\n",
       "      <td>Drama,Horror,Thriller</td>\n",
       "      <td>17300.0</td>\n",
       "      <td>0.0</td>\n",
       "      <td>0.000000e+00</td>\n",
       "      <td>-1.730000e+04</td>\n",
       "      <td>-inf</td>\n",
       "    </tr>\n",
       "    <tr>\n",
       "      <th>5810</th>\n",
       "      <td>Stories of Our Lives</td>\n",
       "      <td>Drama</td>\n",
       "      <td>15000.0</td>\n",
       "      <td>0.0</td>\n",
       "      <td>0.000000e+00</td>\n",
       "      <td>-1.500000e+04</td>\n",
       "      <td>-inf</td>\n",
       "    </tr>\n",
       "  </tbody>\n",
       "</table>\n",
       "<p>1221 rows × 7 columns</p>\n",
       "</div>"
      ],
      "text/plain": [
       "                                            movie                    genres  \\\n",
       "1     Pirates of the Caribbean: On Stranger Tides  Action,Adventure,Fantasy   \n",
       "2                                    Dark Phoenix   Action,Adventure,Sci-Fi   \n",
       "3                         Avengers: Age of Ultron   Action,Adventure,Sci-Fi   \n",
       "6                          Avengers: Infinity War   Action,Adventure,Sci-Fi   \n",
       "8                                  Justice League  Action,Adventure,Fantasy   \n",
       "...                                           ...                       ...   \n",
       "5789                                   Paraphobia    Comedy,Horror,Thriller   \n",
       "5792                                        Emily                     Drama   \n",
       "5800                                  Dutch Kills      Crime,Drama,Thriller   \n",
       "5807                                   The Ridges     Drama,Horror,Thriller   \n",
       "5810                         Stories of Our Lives                     Drama   \n",
       "\n",
       "      production_budget  domestic_gross  worldwide_gross        profit  \\\n",
       "1           410600000.0     241063875.0     1.045664e+09  6.350639e+08   \n",
       "2           350000000.0      42762350.0     1.497624e+08 -2.002376e+08   \n",
       "3           330600000.0     459005868.0     1.403014e+09  1.072414e+09   \n",
       "6           300000000.0     678815482.0     2.048134e+09  1.748134e+09   \n",
       "8           300000000.0     229024295.0     6.559452e+08  3.559452e+08   \n",
       "...                 ...             ...              ...           ...   \n",
       "5789            30000.0             0.0     0.000000e+00 -3.000000e+04   \n",
       "5792            27000.0          3547.0     3.547000e+03 -2.345300e+04   \n",
       "5800            25000.0             0.0     0.000000e+00 -2.500000e+04   \n",
       "5807            17300.0             0.0     0.000000e+00 -1.730000e+04   \n",
       "5810            15000.0             0.0     0.000000e+00 -1.500000e+04   \n",
       "\n",
       "      net_profit_margin  \n",
       "1             60.733080  \n",
       "2           -133.703598  \n",
       "3             76.436443  \n",
       "6             85.352522  \n",
       "8             54.264473  \n",
       "...                 ...  \n",
       "5789               -inf  \n",
       "5792        -661.206654  \n",
       "5800               -inf  \n",
       "5807               -inf  \n",
       "5810               -inf  \n",
       "\n",
       "[1221 rows x 7 columns]"
      ]
     },
     "execution_count": 53,
     "metadata": {},
     "output_type": "execute_result"
    }
   ],
   "source": [
    "filtered_df = condensed_profit[(condensed_profit['genres'].str.contains('Adventure')) | (condensed_profit['genres'].str.contains('Comedy')) | (condensed_profit['genres'].str.contains('Drama'))]\n",
    "filtered_df"
   ]
  },
  {
   "cell_type": "code",
   "execution_count": 65,
   "metadata": {},
   "outputs": [
    {
     "data": {
      "text/plain": [
       "0"
      ]
     },
     "execution_count": 65,
     "metadata": {},
     "output_type": "execute_result"
    }
   ],
   "source": [
    "filtered_df.duplicated(subset=['movie']).sum()"
   ]
  },
  {
   "cell_type": "code",
   "execution_count": 32,
   "metadata": {},
   "outputs": [
    {
     "data": {
      "text/plain": [
       "{'Musical': 8,\n",
       " 'Western': 10,\n",
       " 'War': 17,\n",
       " 'Documentary': 34,\n",
       " 'Sport': 34,\n",
       " 'History': 39,\n",
       " 'Music': 49,\n",
       " 'Family': 94,\n",
       " 'Animation': 103,\n",
       " 'Fantasy': 122,\n",
       " 'Mystery': 124,\n",
       " 'Sci-Fi': 129,\n",
       " 'Biography': 135,\n",
       " 'Horror': 180,\n",
       " 'Romance': 183,\n",
       " 'Crime': 232,\n",
       " 'Thriller': 259,\n",
       " 'Adventure': 346,\n",
       " 'Action': 440,\n",
       " 'Comedy': 505,\n",
       " 'Drama': 716}"
      ]
     },
     "execution_count": 32,
     "metadata": {},
     "output_type": "execute_result"
    }
   ],
   "source": [
    "genre_dict2"
   ]
  },
  {
   "cell_type": "code",
   "execution_count": 22,
   "metadata": {},
   "outputs": [
    {
     "data": {
      "text/plain": [
       "[15000, 410600000]"
      ]
     },
     "execution_count": 22,
     "metadata": {},
     "output_type": "execute_result"
    }
   ],
   "source": [
    "df_range = [int(condensed_profit['production_budget'].min()),int(condensed_profit['production_budget'].max())]\n",
    "df_range"
   ]
  },
  {
   "cell_type": "markdown",
   "metadata": {},
   "source": [
    "## Visualization"
   ]
  },
  {
   "cell_type": "markdown",
   "metadata": {},
   "source": [
    "Now, with the data of average profit margin we found above, we created a bar graph to show average profit margin for the top 4 genres in PG-13 movies"
   ]
  },
  {
   "cell_type": "code",
   "execution_count": null,
   "metadata": {},
   "outputs": [],
   "source": [
    "# Make a bar graph with the genre and their average profit margin\n",
    "fig, ax = plt.subplots(figsize=(12, 8))\n",
    "\n",
    "# Set x to be the genres and set y to be the aaverage profit margins\n",
    "x = list(average_profit_margin_genre.keys())\n",
    "height = list(average_profit_margin_genre.values())\n",
    "\n",
    "ax.barh(x, height)\n",
    "ax.set_title('Average Profit Margin for Popular Genre in PG-13 Movies', fontsize=20)\n",
    "ax.set_xlabel('Average Profit Margin', fontsize=15)\n",
    "ax.set_ylabel('Genre', fontsize=15)\n",
    "plt.xticks(fontsize=15)\n",
    "plt.yticks(fontsize=15)\n",
    "\n",
    "plt.savefig('images/average_profit_margin_pg_13_genre.png', bbox_inches = \"tight\")"
   ]
  },
  {
   "cell_type": "code",
   "execution_count": null,
   "metadata": {},
   "outputs": [],
   "source": []
  }
 ],
 "metadata": {
  "kernelspec": {
   "display_name": "Python 3",
   "language": "python",
   "name": "python3"
  },
  "language_info": {
   "codemirror_mode": {
    "name": "ipython",
    "version": 3
   },
   "file_extension": ".py",
   "mimetype": "text/x-python",
   "name": "python",
   "nbconvert_exporter": "python",
   "pygments_lexer": "ipython3",
   "version": "3.8.5"
  }
 },
 "nbformat": 4,
 "nbformat_minor": 4
}
