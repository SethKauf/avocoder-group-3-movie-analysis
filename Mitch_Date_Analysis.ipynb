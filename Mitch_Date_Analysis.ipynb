{
 "cells": [
  {
   "cell_type": "markdown",
   "metadata": {},
   "source": [
    "# Import Libraries"
   ]
  },
  {
   "cell_type": "code",
   "execution_count": 245,
   "metadata": {},
   "outputs": [],
   "source": [
    "import pandas as pd\n",
    "import numpy as np\n",
    "import matplotlib\n",
    "import matplotlib.pyplot as plt\n",
    "%matplotlib inline"
   ]
  },
  {
   "cell_type": "markdown",
   "metadata": {},
   "source": [
    "# Import our Data Frame We Will be Using"
   ]
  },
  {
   "cell_type": "code",
   "execution_count": 246,
   "metadata": {},
   "outputs": [],
   "source": [
    "df = pd.read_csv('data/tn.movie_budgets.csv.gz', index_col='id')"
   ]
  },
  {
   "cell_type": "markdown",
   "metadata": {},
   "source": [
    "# Converting Objects to Numbers"
   ]
  },
  {
   "cell_type": "markdown",
   "metadata": {},
   "source": [
    "Here we make convert our monetary values and release year values into something useable."
   ]
  },
  {
   "cell_type": "code",
   "execution_count": 247,
   "metadata": {},
   "outputs": [],
   "source": [
    "# The following code takes the selected columns, cleans unwanted characters and converts to numbers for mathematical operations\n",
    "df['production_budget'] = df['production_budget'].map(lambda x: x.strip('$')).str.replace(',','').astype(float) \n",
    "df['domestic_gross'] = df['domestic_gross'].map(lambda x: x.strip('$')).str.replace(',','').astype(float)\n",
    "df['worldwide_gross'] = df['worldwide_gross'].map(lambda x: x.strip('$')).str.replace(',','').astype(float)\n",
    "#This splices the last four characters from the release_date column and converts into a number\n",
    "df['release_year'] = df['release_date'].map(lambda x: int(x[-4:]))\n",
    "df['release_month'] = df['release_date'].map(lambda x: x[:3])"
   ]
  },
  {
   "cell_type": "markdown",
   "metadata": {},
   "source": [
    "# Replacing Rows that have no gross info as NA, Then Drop NA's and Duplicates"
   ]
  },
  {
   "cell_type": "code",
   "execution_count": 248,
   "metadata": {},
   "outputs": [
    {
     "name": "stderr",
     "output_type": "stream",
     "text": [
      "<ipython-input-248-7cbfa914ab9c>:2: FutureWarning: The pandas.np module is deprecated and will be removed from pandas in a future version. Import numpy directly instead\n",
      "  df['worldwide_gross'] = df['worldwide_gross'].replace(0, pd.np.nan)\n"
     ]
    }
   ],
   "source": [
    "# Replace 0 as NA\n",
    "df['worldwide_gross'] = df['worldwide_gross'].replace(0, pd.np.nan) \n",
    "# Drop our NA values and duplicate movie titles\n",
    "df = df.drop_duplicates('movie')\n",
    "df = df.dropna()"
   ]
  },
  {
   "cell_type": "markdown",
   "metadata": {},
   "source": [
    "# Setting Up Profit and ROI Columns"
   ]
  },
  {
   "cell_type": "markdown",
   "metadata": {},
   "source": [
    "We want to get a look at the ROI for each film, so we set up our columns to perform the correct calculations."
   ]
  },
  {
   "cell_type": "code",
   "execution_count": 249,
   "metadata": {},
   "outputs": [
    {
     "data": {
      "text/html": [
       "<div>\n",
       "<style scoped>\n",
       "    .dataframe tbody tr th:only-of-type {\n",
       "        vertical-align: middle;\n",
       "    }\n",
       "\n",
       "    .dataframe tbody tr th {\n",
       "        vertical-align: top;\n",
       "    }\n",
       "\n",
       "    .dataframe thead th {\n",
       "        text-align: right;\n",
       "    }\n",
       "</style>\n",
       "<table border=\"1\" class=\"dataframe\">\n",
       "  <thead>\n",
       "    <tr style=\"text-align: right;\">\n",
       "      <th></th>\n",
       "      <th>release_date</th>\n",
       "      <th>movie</th>\n",
       "      <th>production_budget</th>\n",
       "      <th>domestic_gross</th>\n",
       "      <th>worldwide_gross</th>\n",
       "      <th>release_year</th>\n",
       "      <th>release_month</th>\n",
       "      <th>profit</th>\n",
       "      <th>roi</th>\n",
       "    </tr>\n",
       "    <tr>\n",
       "      <th>id</th>\n",
       "      <th></th>\n",
       "      <th></th>\n",
       "      <th></th>\n",
       "      <th></th>\n",
       "      <th></th>\n",
       "      <th></th>\n",
       "      <th></th>\n",
       "      <th></th>\n",
       "      <th></th>\n",
       "    </tr>\n",
       "  </thead>\n",
       "  <tbody>\n",
       "    <tr>\n",
       "      <th>46</th>\n",
       "      <td>Jun 30, 1972</td>\n",
       "      <td>Deep Throat</td>\n",
       "      <td>25000.0</td>\n",
       "      <td>45000000.0</td>\n",
       "      <td>45000000.0</td>\n",
       "      <td>1972</td>\n",
       "      <td>Jun</td>\n",
       "      <td>44975000.0</td>\n",
       "      <td>99.94</td>\n",
       "    </tr>\n",
       "    <tr>\n",
       "      <th>14</th>\n",
       "      <td>Mar 21, 1980</td>\n",
       "      <td>Mad Max</td>\n",
       "      <td>200000.0</td>\n",
       "      <td>8750000.0</td>\n",
       "      <td>99750000.0</td>\n",
       "      <td>1980</td>\n",
       "      <td>Mar</td>\n",
       "      <td>99550000.0</td>\n",
       "      <td>99.80</td>\n",
       "    </tr>\n",
       "    <tr>\n",
       "      <th>93</th>\n",
       "      <td>Sep 25, 2009</td>\n",
       "      <td>Paranormal Activity</td>\n",
       "      <td>450000.0</td>\n",
       "      <td>107918810.0</td>\n",
       "      <td>194183034.0</td>\n",
       "      <td>2009</td>\n",
       "      <td>Sep</td>\n",
       "      <td>193733034.0</td>\n",
       "      <td>99.77</td>\n",
       "    </tr>\n",
       "    <tr>\n",
       "      <th>7</th>\n",
       "      <td>Jul 14, 1999</td>\n",
       "      <td>The Blair Witch Project</td>\n",
       "      <td>600000.0</td>\n",
       "      <td>140539099.0</td>\n",
       "      <td>248300000.0</td>\n",
       "      <td>1999</td>\n",
       "      <td>Jul</td>\n",
       "      <td>247700000.0</td>\n",
       "      <td>99.76</td>\n",
       "    </tr>\n",
       "    <tr>\n",
       "      <th>80</th>\n",
       "      <td>Jul 10, 2015</td>\n",
       "      <td>The Gallows</td>\n",
       "      <td>100000.0</td>\n",
       "      <td>22764410.0</td>\n",
       "      <td>41656474.0</td>\n",
       "      <td>2015</td>\n",
       "      <td>Jul</td>\n",
       "      <td>41556474.0</td>\n",
       "      <td>99.76</td>\n",
       "    </tr>\n",
       "  </tbody>\n",
       "</table>\n",
       "</div>"
      ],
      "text/plain": [
       "    release_date                    movie  production_budget  domestic_gross  \\\n",
       "id                                                                             \n",
       "46  Jun 30, 1972              Deep Throat            25000.0      45000000.0   \n",
       "14  Mar 21, 1980                  Mad Max           200000.0       8750000.0   \n",
       "93  Sep 25, 2009      Paranormal Activity           450000.0     107918810.0   \n",
       "7   Jul 14, 1999  The Blair Witch Project           600000.0     140539099.0   \n",
       "80  Jul 10, 2015              The Gallows           100000.0      22764410.0   \n",
       "\n",
       "    worldwide_gross  release_year release_month       profit    roi  \n",
       "id                                                                   \n",
       "46       45000000.0          1972           Jun   44975000.0  99.94  \n",
       "14       99750000.0          1980           Mar   99550000.0  99.80  \n",
       "93      194183034.0          2009           Sep  193733034.0  99.77  \n",
       "7       248300000.0          1999           Jul  247700000.0  99.76  \n",
       "80       41656474.0          2015           Jul   41556474.0  99.76  "
      ]
     },
     "execution_count": 249,
     "metadata": {},
     "output_type": "execute_result"
    }
   ],
   "source": [
    "#Create our Profit Column by subtracting worldwide gross from budget (Revenue - Cost)\n",
    "df['profit'] = df['worldwide_gross'] - df['production_budget']\n",
    "#Create release month date\n",
    "df['release_month'] = df['release_date'].map(lambda x: x[:3])\n",
    "#Create ROI column by taking profit and dividng by total gross\n",
    "df['roi'] = round(((df['profit']/df['worldwide_gross']) * 100), 2)\n",
    "df = df.sort_values('roi',ascending=False)\n",
    "df.head()"
   ]
  },
  {
   "cell_type": "markdown",
   "metadata": {},
   "source": [
    "Looks like we have some outdated movies, so we decide to look at data from the last 10 years to get a better understanding of more recent trends."
   ]
  },
  {
   "cell_type": "code",
   "execution_count": 250,
   "metadata": {},
   "outputs": [],
   "source": [
    "#Look at movies from 2005 and after\n",
    "filtered_df = df[df['release_year'] >= 2005]"
   ]
  },
  {
   "cell_type": "markdown",
   "metadata": {},
   "source": [
    "# Grouping Months and Analyzing ROI"
   ]
  },
  {
   "cell_type": "code",
   "execution_count": 259,
   "metadata": {},
   "outputs": [
    {
     "data": {
      "text/html": [
       "<div>\n",
       "<style scoped>\n",
       "    .dataframe tbody tr th:only-of-type {\n",
       "        vertical-align: middle;\n",
       "    }\n",
       "\n",
       "    .dataframe tbody tr th {\n",
       "        vertical-align: top;\n",
       "    }\n",
       "\n",
       "    .dataframe thead th {\n",
       "        text-align: right;\n",
       "    }\n",
       "</style>\n",
       "<table border=\"1\" class=\"dataframe\">\n",
       "  <thead>\n",
       "    <tr style=\"text-align: right;\">\n",
       "      <th></th>\n",
       "      <th>production_budget</th>\n",
       "      <th>domestic_gross</th>\n",
       "      <th>worldwide_gross</th>\n",
       "      <th>release_year</th>\n",
       "      <th>profit</th>\n",
       "      <th>roi</th>\n",
       "    </tr>\n",
       "    <tr>\n",
       "      <th>release_month</th>\n",
       "      <th></th>\n",
       "      <th></th>\n",
       "      <th></th>\n",
       "      <th></th>\n",
       "      <th></th>\n",
       "      <th></th>\n",
       "    </tr>\n",
       "  </thead>\n",
       "  <tbody>\n",
       "    <tr>\n",
       "      <th>Jul</th>\n",
       "      <td>1.164072e+10</td>\n",
       "      <td>1.514798e+10</td>\n",
       "      <td>3.998111e+10</td>\n",
       "      <td>460572</td>\n",
       "      <td>2.834039e+10</td>\n",
       "      <td>70.88</td>\n",
       "    </tr>\n",
       "    <tr>\n",
       "      <th>Nov</th>\n",
       "      <td>1.275666e+10</td>\n",
       "      <td>1.602915e+10</td>\n",
       "      <td>4.181617e+10</td>\n",
       "      <td>496825</td>\n",
       "      <td>2.905951e+10</td>\n",
       "      <td>69.49</td>\n",
       "    </tr>\n",
       "    <tr>\n",
       "      <th>Jun</th>\n",
       "      <td>1.253675e+10</td>\n",
       "      <td>1.689465e+10</td>\n",
       "      <td>4.100268e+10</td>\n",
       "      <td>488731</td>\n",
       "      <td>2.846593e+10</td>\n",
       "      <td>69.42</td>\n",
       "    </tr>\n",
       "    <tr>\n",
       "      <th>May</th>\n",
       "      <td>1.344548e+10</td>\n",
       "      <td>1.576377e+10</td>\n",
       "      <td>4.188109e+10</td>\n",
       "      <td>442529</td>\n",
       "      <td>2.843561e+10</td>\n",
       "      <td>67.90</td>\n",
       "    </tr>\n",
       "    <tr>\n",
       "      <th>Dec</th>\n",
       "      <td>1.447034e+10</td>\n",
       "      <td>1.785275e+10</td>\n",
       "      <td>4.442445e+10</td>\n",
       "      <td>653574</td>\n",
       "      <td>2.995411e+10</td>\n",
       "      <td>67.43</td>\n",
       "    </tr>\n",
       "    <tr>\n",
       "      <th>Apr</th>\n",
       "      <td>6.918577e+09</td>\n",
       "      <td>8.147263e+09</td>\n",
       "      <td>2.026655e+10</td>\n",
       "      <td>516888</td>\n",
       "      <td>1.334797e+10</td>\n",
       "      <td>65.86</td>\n",
       "    </tr>\n",
       "    <tr>\n",
       "      <th>Feb</th>\n",
       "      <td>7.421720e+09</td>\n",
       "      <td>9.307580e+09</td>\n",
       "      <td>2.107643e+10</td>\n",
       "      <td>438553</td>\n",
       "      <td>1.365471e+10</td>\n",
       "      <td>64.79</td>\n",
       "    </tr>\n",
       "    <tr>\n",
       "      <th>Mar</th>\n",
       "      <td>1.039097e+10</td>\n",
       "      <td>1.226801e+10</td>\n",
       "      <td>2.781790e+10</td>\n",
       "      <td>520999</td>\n",
       "      <td>1.742693e+10</td>\n",
       "      <td>62.65</td>\n",
       "    </tr>\n",
       "    <tr>\n",
       "      <th>Oct</th>\n",
       "      <td>7.019075e+09</td>\n",
       "      <td>7.786050e+09</td>\n",
       "      <td>1.817663e+10</td>\n",
       "      <td>611341</td>\n",
       "      <td>1.115755e+10</td>\n",
       "      <td>61.38</td>\n",
       "    </tr>\n",
       "    <tr>\n",
       "      <th>Jan</th>\n",
       "      <td>5.107331e+09</td>\n",
       "      <td>5.749733e+09</td>\n",
       "      <td>1.298724e+10</td>\n",
       "      <td>396282</td>\n",
       "      <td>7.879906e+09</td>\n",
       "      <td>60.67</td>\n",
       "    </tr>\n",
       "    <tr>\n",
       "      <th>Aug</th>\n",
       "      <td>7.882521e+09</td>\n",
       "      <td>9.269291e+09</td>\n",
       "      <td>1.965896e+10</td>\n",
       "      <td>524820</td>\n",
       "      <td>1.177644e+10</td>\n",
       "      <td>59.90</td>\n",
       "    </tr>\n",
       "    <tr>\n",
       "      <th>Sep</th>\n",
       "      <td>7.080731e+09</td>\n",
       "      <td>7.131152e+09</td>\n",
       "      <td>1.592894e+10</td>\n",
       "      <td>575088</td>\n",
       "      <td>8.848212e+09</td>\n",
       "      <td>55.55</td>\n",
       "    </tr>\n",
       "  </tbody>\n",
       "</table>\n",
       "</div>"
      ],
      "text/plain": [
       "               production_budget  domestic_gross  worldwide_gross  \\\n",
       "release_month                                                       \n",
       "Jul                 1.164072e+10    1.514798e+10     3.998111e+10   \n",
       "Nov                 1.275666e+10    1.602915e+10     4.181617e+10   \n",
       "Jun                 1.253675e+10    1.689465e+10     4.100268e+10   \n",
       "May                 1.344548e+10    1.576377e+10     4.188109e+10   \n",
       "Dec                 1.447034e+10    1.785275e+10     4.442445e+10   \n",
       "Apr                 6.918577e+09    8.147263e+09     2.026655e+10   \n",
       "Feb                 7.421720e+09    9.307580e+09     2.107643e+10   \n",
       "Mar                 1.039097e+10    1.226801e+10     2.781790e+10   \n",
       "Oct                 7.019075e+09    7.786050e+09     1.817663e+10   \n",
       "Jan                 5.107331e+09    5.749733e+09     1.298724e+10   \n",
       "Aug                 7.882521e+09    9.269291e+09     1.965896e+10   \n",
       "Sep                 7.080731e+09    7.131152e+09     1.592894e+10   \n",
       "\n",
       "               release_year        profit    roi  \n",
       "release_month                                     \n",
       "Jul                  460572  2.834039e+10  70.88  \n",
       "Nov                  496825  2.905951e+10  69.49  \n",
       "Jun                  488731  2.846593e+10  69.42  \n",
       "May                  442529  2.843561e+10  67.90  \n",
       "Dec                  653574  2.995411e+10  67.43  \n",
       "Apr                  516888  1.334797e+10  65.86  \n",
       "Feb                  438553  1.365471e+10  64.79  \n",
       "Mar                  520999  1.742693e+10  62.65  \n",
       "Oct                  611341  1.115755e+10  61.38  \n",
       "Jan                  396282  7.879906e+09  60.67  \n",
       "Aug                  524820  1.177644e+10  59.90  \n",
       "Sep                  575088  8.848212e+09  55.55  "
      ]
     },
     "execution_count": 259,
     "metadata": {},
     "output_type": "execute_result"
    }
   ],
   "source": [
    "# Group data by months\n",
    "filtered_df = filtered_df.groupby(['release_month']).sum()\n",
    "# Make our profit column for each month\n",
    "filtered_df['profit'] = filtered_df['worldwide_gross'] - filtered_df['production_budget']\n",
    "# Make out ROI column for each month\n",
    "filtered_df['roi'] = round(((filtered_df['profit']/filtered_df['worldwide_gross']) * 100), 2)\n",
    "# Find months with the highest ROI\n",
    "filtered_df = filtered_df.sort_values('roi',ascending=False)\n"
   ]
  },
  {
   "cell_type": "markdown",
   "metadata": {},
   "source": [
    "# Create Bar Graph for All months vs ROI"
   ]
  },
  {
   "cell_type": "code",
   "execution_count": 267,
   "metadata": {},
   "outputs": [
    {
     "data": {
      "image/png": "[encoded data removed]",
      "text/plain": [
       "<Figure size 432x288 with 1 Axes>"
      ]
     },
     "metadata": {
      "needs_background": "light"
     },
     "output_type": "display_data"
    }
   ],
   "source": [
    "#Create figure and assign axies\n",
    "fig, ax = plt.subplots()\n",
    "x = filtered_df.groupby(['release_month']).sum().sort_values('roi',ascending=False).index\n",
    "ax.bar(x=x , height=filtered_df['roi'] );\n",
    "\n",
    "ax.set_title('ROI vs Month For Films in 2005 and After')\n",
    "ax.set_xlabel('Release Month')\n",
    "ax.set_ylabel('Average ROI ');\n",
    "\n",
    "plt.savefig('ROI All Months')"
   ]
  },
  {
   "cell_type": "markdown",
   "metadata": {},
   "source": [
    "From our analysis, the data shows the best month to release a movie is July with an average ROI of 71% while the worst month is September with an average ROI of 56%."
   ]
  },
  {
   "cell_type": "code",
   "execution_count": 268,
   "metadata": {},
   "outputs": [
    {
     "data": {
      "image/png": "[encoded data removed]",
      "text/plain": [
       "<Figure size 432x288 with 1 Axes>"
      ]
     },
     "metadata": {
      "needs_background": "light"
     },
     "output_type": "display_data"
    }
   ],
   "source": [
    "#Create bar graph for top 5 months\n",
    "fig, ax = plt.subplots()\n",
    "x = filtered_df.groupby(['release_month']).sum().sort_values('roi',ascending=False).index[:5]\n",
    "ax.bar(x=x , height=filtered_df['roi'][:5] );\n",
    "filtered_df;\n",
    "ax.set_title('Top 5 Best Performing Months Films in 2005 and After')\n",
    "ax.set_ylabel('Average ROI')\n",
    "ax.set_xlabel('Release Month');\n",
    "\n",
    "plt.savefig('Top 5 Months')"
   ]
  },
  {
   "cell_type": "markdown",
   "metadata": {},
   "source": [
    "# Findings and Recommendation"
   ]
  },
  {
   "cell_type": "markdown",
   "metadata": {},
   "source": [
    "From the data we were given, our recommendation is to aim for a July release date. This month is shown to have the highest average ROI (71%) for movies released during that period. We think this will give the best return for the movie we decide to release. Avoid releasing a movie in September, as the average ROI for that month is 56%. "
   ]
  }
 ],
 "metadata": {
  "kernelspec": {
   "display_name": "Python (learn-env)",
   "language": "python",
   "name": "learn-env"
  },
  "language_info": {
   "codemirror_mode": {
    "name": "ipython",
    "version": 3
   },
   "file_extension": ".py",
   "mimetype": "text/x-python",
   "name": "python",
   "nbconvert_exporter": "python",
   "pygments_lexer": "ipython3",
   "version": "3.8.5"
  }
 },
 "nbformat": 4,
 "nbformat_minor": 4
}
