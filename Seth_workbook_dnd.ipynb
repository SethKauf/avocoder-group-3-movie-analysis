{
 "cells": [
  {
   "cell_type": "markdown",
   "metadata": {},
   "source": [
    "# Production Budget vs Profit Margin #"
   ]
  },
  {
   "cell_type": "markdown",
   "metadata": {},
   "source": [
    "An important part to any movie studio is how much they should be spending on their films.\n",
    "\n",
    "While not the only factor to turning a profit in the movie industry, what is the correlation between production budget and profit margin?\n",
    "\n",
    "The minimum we expect to answer here is:\n",
    "\n",
    "### If Microsoft spends x amount more, will profits increase by y? ###\n",
    "\n",
    "We will explore this question using the data set from the-numbers.com, a Los Angeles based database tracking the numbers that go into major-motion pictures."
   ]
  },
  {
   "cell_type": "markdown",
   "metadata": {},
   "source": [
    "### Import relevant libraries ###"
   ]
  },
  {
   "cell_type": "code",
   "execution_count": 1,
   "metadata": {},
   "outputs": [],
   "source": [
    "import pandas as pd\n",
    "import matplotlib.pyplot as plt\n",
    "%matplotlib inline\n",
    "import numpy as np\n",
    "import seaborn as sns"
   ]
  },
  {
   "cell_type": "markdown",
   "metadata": {},
   "source": [
    "## Import The Numbers dataset ##"
   ]
  },
  {
   "cell_type": "code",
   "execution_count": 2,
   "metadata": {},
   "outputs": [],
   "source": [
    "df = pd.read_csv('data/tn.movie_budgets.csv.gz', index_col='id')"
   ]
  },
  {
   "cell_type": "code",
   "execution_count": 3,
   "metadata": {},
   "outputs": [
    {
     "name": "stdout",
     "output_type": "stream",
     "text": [
      "The first movie in the data set was released in Apr 1, 1975 while the most recent was released in Sep 9, 2016\n"
     ]
    }
   ],
   "source": [
    "print(f\"\"\"The first movie in the data set was released in {df['release_date'].min()} while the most recent was released in {df['release_date'].max()}\"\"\")"
   ]
  },
  {
   "cell_type": "markdown",
   "metadata": {},
   "source": [
    "The Numbers dataset contains information on about 5800 films, released from 1975 through 2016.\n",
    "It is also the only data set to contain the films' budgets and grosses, while containing more relevant information than, say, the Box Office Mojo dataset, which only has about 3500 records."
   ]
  },
  {
   "cell_type": "code",
   "execution_count": 4,
   "metadata": {},
   "outputs": [
    {
     "data": {
      "text/html": [
       "<div>\n",
       "<style scoped>\n",
       "    .dataframe tbody tr th:only-of-type {\n",
       "        vertical-align: middle;\n",
       "    }\n",
       "\n",
       "    .dataframe tbody tr th {\n",
       "        vertical-align: top;\n",
       "    }\n",
       "\n",
       "    .dataframe thead th {\n",
       "        text-align: right;\n",
       "    }\n",
       "</style>\n",
       "<table border=\"1\" class=\"dataframe\">\n",
       "  <thead>\n",
       "    <tr style=\"text-align: right;\">\n",
       "      <th></th>\n",
       "      <th>release_date</th>\n",
       "      <th>movie</th>\n",
       "      <th>production_budget</th>\n",
       "      <th>domestic_gross</th>\n",
       "      <th>worldwide_gross</th>\n",
       "    </tr>\n",
       "    <tr>\n",
       "      <th>id</th>\n",
       "      <th></th>\n",
       "      <th></th>\n",
       "      <th></th>\n",
       "      <th></th>\n",
       "      <th></th>\n",
       "    </tr>\n",
       "  </thead>\n",
       "  <tbody>\n",
       "    <tr>\n",
       "      <th>37</th>\n",
       "      <td>Sep 5, 2008</td>\n",
       "      <td>Everybody Wants to Be Italian</td>\n",
       "      <td>$3,000,000</td>\n",
       "      <td>$351,416</td>\n",
       "      <td>$351,416</td>\n",
       "    </tr>\n",
       "    <tr>\n",
       "      <th>87</th>\n",
       "      <td>Jun 25, 1968</td>\n",
       "      <td>La mariÃ©e Ã©tait en noir</td>\n",
       "      <td>$747,000</td>\n",
       "      <td>$44,566</td>\n",
       "      <td>$44,566</td>\n",
       "    </tr>\n",
       "    <tr>\n",
       "      <th>32</th>\n",
       "      <td>Mar 25, 2005</td>\n",
       "      <td>Oldboy</td>\n",
       "      <td>$3,000,000</td>\n",
       "      <td>$707,391</td>\n",
       "      <td>$6,239,723</td>\n",
       "    </tr>\n",
       "  </tbody>\n",
       "</table>\n",
       "</div>"
      ],
      "text/plain": [
       "    release_date                          movie production_budget  \\\n",
       "id                                                                  \n",
       "37   Sep 5, 2008  Everybody Wants to Be Italian        $3,000,000   \n",
       "87  Jun 25, 1968      La mariÃ©e Ã©tait en noir          $747,000   \n",
       "32  Mar 25, 2005                         Oldboy        $3,000,000   \n",
       "\n",
       "   domestic_gross worldwide_gross  \n",
       "id                                 \n",
       "37       $351,416        $351,416  \n",
       "87        $44,566         $44,566  \n",
       "32       $707,391      $6,239,723  "
      ]
     },
     "execution_count": 4,
     "metadata": {},
     "output_type": "execute_result"
    }
   ],
   "source": [
    "# A sample of the dataframe\n",
    "df.sample(3)"
   ]
  },
  {
   "cell_type": "code",
   "execution_count": 5,
   "metadata": {},
   "outputs": [
    {
     "name": "stdout",
     "output_type": "stream",
     "text": [
      "<class 'pandas.core.frame.DataFrame'>\n",
      "Int64Index: 5782 entries, 1 to 82\n",
      "Data columns (total 5 columns):\n",
      " #   Column             Non-Null Count  Dtype \n",
      "---  ------             --------------  ----- \n",
      " 0   release_date       5782 non-null   object\n",
      " 1   movie              5782 non-null   object\n",
      " 2   production_budget  5782 non-null   object\n",
      " 3   domestic_gross     5782 non-null   object\n",
      " 4   worldwide_gross    5782 non-null   object\n",
      "dtypes: object(5)\n",
      "memory usage: 271.0+ KB\n"
     ]
    }
   ],
   "source": [
    "df.info()"
   ]
  },
  {
   "cell_type": "markdown",
   "metadata": {},
   "source": [
    "## Data Cleaning and Organization ##"
   ]
  },
  {
   "cell_type": "markdown",
   "metadata": {},
   "source": [
    "The next step is to clean and organize the data. This involves converting the numbers to floats, removing any \"zero\" values from the worldwide_gross column, and adding a \"year\" column.\n",
    "\n",
    "For the purpose of this dataset, we will be filtering out anything made before the year 2000."
   ]
  },
  {
   "cell_type": "code",
   "execution_count": 6,
   "metadata": {},
   "outputs": [
    {
     "data": {
      "text/html": [
       "<div>\n",
       "<style scoped>\n",
       "    .dataframe tbody tr th:only-of-type {\n",
       "        vertical-align: middle;\n",
       "    }\n",
       "\n",
       "    .dataframe tbody tr th {\n",
       "        vertical-align: top;\n",
       "    }\n",
       "\n",
       "    .dataframe thead th {\n",
       "        text-align: right;\n",
       "    }\n",
       "</style>\n",
       "<table border=\"1\" class=\"dataframe\">\n",
       "  <thead>\n",
       "    <tr style=\"text-align: right;\">\n",
       "      <th></th>\n",
       "      <th>release_date</th>\n",
       "      <th>movie</th>\n",
       "      <th>production_budget</th>\n",
       "      <th>domestic_gross</th>\n",
       "      <th>worldwide_gross</th>\n",
       "    </tr>\n",
       "    <tr>\n",
       "      <th>id</th>\n",
       "      <th></th>\n",
       "      <th></th>\n",
       "      <th></th>\n",
       "      <th></th>\n",
       "      <th></th>\n",
       "    </tr>\n",
       "  </thead>\n",
       "  <tbody>\n",
       "    <tr>\n",
       "      <th>1</th>\n",
       "      <td>Dec 18, 2009</td>\n",
       "      <td>Avatar</td>\n",
       "      <td>425000000.0</td>\n",
       "      <td>760507625.0</td>\n",
       "      <td>2.776345e+09</td>\n",
       "    </tr>\n",
       "    <tr>\n",
       "      <th>2</th>\n",
       "      <td>May 20, 2011</td>\n",
       "      <td>Pirates of the Caribbean: On Stranger Tides</td>\n",
       "      <td>410600000.0</td>\n",
       "      <td>241063875.0</td>\n",
       "      <td>1.045664e+09</td>\n",
       "    </tr>\n",
       "    <tr>\n",
       "      <th>3</th>\n",
       "      <td>Jun 7, 2019</td>\n",
       "      <td>Dark Phoenix</td>\n",
       "      <td>350000000.0</td>\n",
       "      <td>42762350.0</td>\n",
       "      <td>1.497624e+08</td>\n",
       "    </tr>\n",
       "    <tr>\n",
       "      <th>4</th>\n",
       "      <td>May 1, 2015</td>\n",
       "      <td>Avengers: Age of Ultron</td>\n",
       "      <td>330600000.0</td>\n",
       "      <td>459005868.0</td>\n",
       "      <td>1.403014e+09</td>\n",
       "    </tr>\n",
       "    <tr>\n",
       "      <th>5</th>\n",
       "      <td>Dec 15, 2017</td>\n",
       "      <td>Star Wars Ep. VIII: The Last Jedi</td>\n",
       "      <td>317000000.0</td>\n",
       "      <td>620181382.0</td>\n",
       "      <td>1.316722e+09</td>\n",
       "    </tr>\n",
       "  </tbody>\n",
       "</table>\n",
       "</div>"
      ],
      "text/plain": [
       "    release_date                                        movie  \\\n",
       "id                                                              \n",
       "1   Dec 18, 2009                                       Avatar   \n",
       "2   May 20, 2011  Pirates of the Caribbean: On Stranger Tides   \n",
       "3    Jun 7, 2019                                 Dark Phoenix   \n",
       "4    May 1, 2015                      Avengers: Age of Ultron   \n",
       "5   Dec 15, 2017            Star Wars Ep. VIII: The Last Jedi   \n",
       "\n",
       "    production_budget  domestic_gross  worldwide_gross  \n",
       "id                                                      \n",
       "1         425000000.0     760507625.0     2.776345e+09  \n",
       "2         410600000.0     241063875.0     1.045664e+09  \n",
       "3         350000000.0      42762350.0     1.497624e+08  \n",
       "4         330600000.0     459005868.0     1.403014e+09  \n",
       "5         317000000.0     620181382.0     1.316722e+09  "
      ]
     },
     "execution_count": 6,
     "metadata": {},
     "output_type": "execute_result"
    }
   ],
   "source": [
    "df['production_budget'] = df['production_budget'].map(lambda x: x.strip('$')).str.replace(',','').astype(float)\n",
    "df['domestic_gross'] = df['domestic_gross'].map(lambda x: x.strip('$')).str.replace(',','').astype(float)\n",
    "df['worldwide_gross'] = df['worldwide_gross'].map(lambda x: x.strip('$')).str.replace(',','').astype(float)\n",
    "df.head()"
   ]
  },
  {
   "cell_type": "markdown",
   "metadata": {},
   "source": [
    "Now that we have raw numbers as floats, we can start working with our data.\n",
    "\n",
    "Note: the worldwide_gross column is too large to display its whole numbers, hence the Scientific Notation."
   ]
  },
  {
   "cell_type": "code",
   "execution_count": 7,
   "metadata": {},
   "outputs": [
    {
     "name": "stderr",
     "output_type": "stream",
     "text": [
      "<ipython-input-7-e18349e1590d>:2: FutureWarning: The pandas.np module is deprecated and will be removed from pandas in a future version. Import numpy directly instead\n",
      "  df['worldwide_gross'] = df['worldwide_gross'].replace(0, pd.np.nan)\n"
     ]
    }
   ],
   "source": [
    "# dropping all \"0\" values from the worldwide_gross column\n",
    "df['worldwide_gross'] = df['worldwide_gross'].replace(0, pd.np.nan)\n",
    "df = df.dropna()"
   ]
  },
  {
   "cell_type": "markdown",
   "metadata": {},
   "source": [
    "Now we'll add three columns:\n",
    "\n",
    "Profit: this is the raw profit (worldwide gross - production budget).\n",
    "\n",
    "ROI: this is being used as a \"profit margin\" column or a \"percentage profit\" column.\n",
    "\n",
    "Release Year: What year did this film come out in."
   ]
  },
  {
   "cell_type": "code",
   "execution_count": 8,
   "metadata": {},
   "outputs": [],
   "source": [
    "df['profit'] = df['worldwide_gross'] - df['production_budget']"
   ]
  },
  {
   "cell_type": "code",
   "execution_count": 9,
   "metadata": {},
   "outputs": [],
   "source": [
    "df['roi'] = round(((df['profit']/df['production_budget']) * 100), 2)"
   ]
  },
  {
   "cell_type": "code",
   "execution_count": 10,
   "metadata": {},
   "outputs": [],
   "source": [
    "df['release_year'] = df['release_date'].map(lambda x: int(x[-4:]))"
   ]
  },
  {
   "cell_type": "code",
   "execution_count": 11,
   "metadata": {},
   "outputs": [
    {
     "data": {
      "text/html": [
       "<div>\n",
       "<style scoped>\n",
       "    .dataframe tbody tr th:only-of-type {\n",
       "        vertical-align: middle;\n",
       "    }\n",
       "\n",
       "    .dataframe tbody tr th {\n",
       "        vertical-align: top;\n",
       "    }\n",
       "\n",
       "    .dataframe thead th {\n",
       "        text-align: right;\n",
       "    }\n",
       "</style>\n",
       "<table border=\"1\" class=\"dataframe\">\n",
       "  <thead>\n",
       "    <tr style=\"text-align: right;\">\n",
       "      <th></th>\n",
       "      <th>release_date</th>\n",
       "      <th>movie</th>\n",
       "      <th>production_budget</th>\n",
       "      <th>domestic_gross</th>\n",
       "      <th>worldwide_gross</th>\n",
       "      <th>profit</th>\n",
       "      <th>roi</th>\n",
       "      <th>release_year</th>\n",
       "    </tr>\n",
       "    <tr>\n",
       "      <th>id</th>\n",
       "      <th></th>\n",
       "      <th></th>\n",
       "      <th></th>\n",
       "      <th></th>\n",
       "      <th></th>\n",
       "      <th></th>\n",
       "      <th></th>\n",
       "      <th></th>\n",
       "    </tr>\n",
       "  </thead>\n",
       "  <tbody>\n",
       "    <tr>\n",
       "      <th>1</th>\n",
       "      <td>Dec 18, 2009</td>\n",
       "      <td>Avatar</td>\n",
       "      <td>425000000.0</td>\n",
       "      <td>760507625.0</td>\n",
       "      <td>2.776345e+09</td>\n",
       "      <td>2.351345e+09</td>\n",
       "      <td>553.26</td>\n",
       "      <td>2009</td>\n",
       "    </tr>\n",
       "    <tr>\n",
       "      <th>2</th>\n",
       "      <td>May 20, 2011</td>\n",
       "      <td>Pirates of the Caribbean: On Stranger Tides</td>\n",
       "      <td>410600000.0</td>\n",
       "      <td>241063875.0</td>\n",
       "      <td>1.045664e+09</td>\n",
       "      <td>6.350639e+08</td>\n",
       "      <td>154.67</td>\n",
       "      <td>2011</td>\n",
       "    </tr>\n",
       "    <tr>\n",
       "      <th>3</th>\n",
       "      <td>Jun 7, 2019</td>\n",
       "      <td>Dark Phoenix</td>\n",
       "      <td>350000000.0</td>\n",
       "      <td>42762350.0</td>\n",
       "      <td>1.497624e+08</td>\n",
       "      <td>-2.002376e+08</td>\n",
       "      <td>-57.21</td>\n",
       "      <td>2019</td>\n",
       "    </tr>\n",
       "    <tr>\n",
       "      <th>4</th>\n",
       "      <td>May 1, 2015</td>\n",
       "      <td>Avengers: Age of Ultron</td>\n",
       "      <td>330600000.0</td>\n",
       "      <td>459005868.0</td>\n",
       "      <td>1.403014e+09</td>\n",
       "      <td>1.072414e+09</td>\n",
       "      <td>324.38</td>\n",
       "      <td>2015</td>\n",
       "    </tr>\n",
       "    <tr>\n",
       "      <th>5</th>\n",
       "      <td>Dec 15, 2017</td>\n",
       "      <td>Star Wars Ep. VIII: The Last Jedi</td>\n",
       "      <td>317000000.0</td>\n",
       "      <td>620181382.0</td>\n",
       "      <td>1.316722e+09</td>\n",
       "      <td>9.997217e+08</td>\n",
       "      <td>315.37</td>\n",
       "      <td>2017</td>\n",
       "    </tr>\n",
       "  </tbody>\n",
       "</table>\n",
       "</div>"
      ],
      "text/plain": [
       "    release_date                                        movie  \\\n",
       "id                                                              \n",
       "1   Dec 18, 2009                                       Avatar   \n",
       "2   May 20, 2011  Pirates of the Caribbean: On Stranger Tides   \n",
       "3    Jun 7, 2019                                 Dark Phoenix   \n",
       "4    May 1, 2015                      Avengers: Age of Ultron   \n",
       "5   Dec 15, 2017            Star Wars Ep. VIII: The Last Jedi   \n",
       "\n",
       "    production_budget  domestic_gross  worldwide_gross        profit     roi  \\\n",
       "id                                                                             \n",
       "1         425000000.0     760507625.0     2.776345e+09  2.351345e+09  553.26   \n",
       "2         410600000.0     241063875.0     1.045664e+09  6.350639e+08  154.67   \n",
       "3         350000000.0      42762350.0     1.497624e+08 -2.002376e+08  -57.21   \n",
       "4         330600000.0     459005868.0     1.403014e+09  1.072414e+09  324.38   \n",
       "5         317000000.0     620181382.0     1.316722e+09  9.997217e+08  315.37   \n",
       "\n",
       "    release_year  \n",
       "id                \n",
       "1           2009  \n",
       "2           2011  \n",
       "3           2019  \n",
       "4           2015  \n",
       "5           2017  "
      ]
     },
     "execution_count": 11,
     "metadata": {},
     "output_type": "execute_result"
    }
   ],
   "source": [
    "# let's check our df\n",
    "df.head()"
   ]
  },
  {
   "cell_type": "code",
   "execution_count": 12,
   "metadata": {},
   "outputs": [
    {
     "name": "stdout",
     "output_type": "stream",
     "text": [
      "<class 'pandas.core.frame.DataFrame'>\n",
      "Int64Index: 5415 entries, 1 to 82\n",
      "Data columns (total 8 columns):\n",
      " #   Column             Non-Null Count  Dtype  \n",
      "---  ------             --------------  -----  \n",
      " 0   release_date       5415 non-null   object \n",
      " 1   movie              5415 non-null   object \n",
      " 2   production_budget  5415 non-null   float64\n",
      " 3   domestic_gross     5415 non-null   float64\n",
      " 4   worldwide_gross    5415 non-null   float64\n",
      " 5   profit             5415 non-null   float64\n",
      " 6   roi                5415 non-null   float64\n",
      " 7   release_year       5415 non-null   int64  \n",
      "dtypes: float64(5), int64(1), object(2)\n",
      "memory usage: 380.7+ KB\n"
     ]
    }
   ],
   "source": [
    "# quick check of the info\n",
    "df.info()"
   ]
  },
  {
   "cell_type": "markdown",
   "metadata": {},
   "source": [
    "## Initial Data Analysis ##"
   ]
  },
  {
   "cell_type": "markdown",
   "metadata": {},
   "source": [
    "Let's check our statistics out and see what they have to tell us."
   ]
  },
  {
   "cell_type": "code",
   "execution_count": 13,
   "metadata": {},
   "outputs": [
    {
     "data": {
      "text/html": [
       "<div>\n",
       "<style scoped>\n",
       "    .dataframe tbody tr th:only-of-type {\n",
       "        vertical-align: middle;\n",
       "    }\n",
       "\n",
       "    .dataframe tbody tr th {\n",
       "        vertical-align: top;\n",
       "    }\n",
       "\n",
       "    .dataframe thead th {\n",
       "        text-align: right;\n",
       "    }\n",
       "</style>\n",
       "<table border=\"1\" class=\"dataframe\">\n",
       "  <thead>\n",
       "    <tr style=\"text-align: right;\">\n",
       "      <th></th>\n",
       "      <th>production_budget</th>\n",
       "      <th>domestic_gross</th>\n",
       "      <th>worldwide_gross</th>\n",
       "      <th>profit</th>\n",
       "      <th>roi</th>\n",
       "      <th>release_year</th>\n",
       "    </tr>\n",
       "  </thead>\n",
       "  <tbody>\n",
       "    <tr>\n",
       "      <th>count</th>\n",
       "      <td>5.415000e+03</td>\n",
       "      <td>5.415000e+03</td>\n",
       "      <td>5.415000e+03</td>\n",
       "      <td>5.415000e+03</td>\n",
       "      <td>5415.000000</td>\n",
       "      <td>5415.000000</td>\n",
       "    </tr>\n",
       "    <tr>\n",
       "      <th>mean</th>\n",
       "      <td>3.330801e+07</td>\n",
       "      <td>4.471128e+07</td>\n",
       "      <td>9.768800e+07</td>\n",
       "      <td>6.437999e+07</td>\n",
       "      <td>412.549117</td>\n",
       "      <td>2003.599446</td>\n",
       "    </tr>\n",
       "    <tr>\n",
       "      <th>std</th>\n",
       "      <td>4.248758e+07</td>\n",
       "      <td>6.960989e+07</td>\n",
       "      <td>1.788591e+08</td>\n",
       "      <td>1.498581e+08</td>\n",
       "      <td>3048.742004</td>\n",
       "      <td>12.546965</td>\n",
       "    </tr>\n",
       "    <tr>\n",
       "      <th>min</th>\n",
       "      <td>1.100000e+03</td>\n",
       "      <td>0.000000e+00</td>\n",
       "      <td>2.600000e+01</td>\n",
       "      <td>-2.002376e+08</td>\n",
       "      <td>-100.000000</td>\n",
       "      <td>1915.000000</td>\n",
       "    </tr>\n",
       "    <tr>\n",
       "      <th>25%</th>\n",
       "      <td>6.000000e+06</td>\n",
       "      <td>3.160708e+06</td>\n",
       "      <td>7.004834e+06</td>\n",
       "      <td>-1.862082e+06</td>\n",
       "      <td>-29.895000</td>\n",
       "      <td>1999.000000</td>\n",
       "    </tr>\n",
       "    <tr>\n",
       "      <th>50%</th>\n",
       "      <td>1.900000e+07</td>\n",
       "      <td>2.030022e+07</td>\n",
       "      <td>3.333987e+07</td>\n",
       "      <td>1.190000e+07</td>\n",
       "      <td>88.490000</td>\n",
       "      <td>2006.000000</td>\n",
       "    </tr>\n",
       "    <tr>\n",
       "      <th>75%</th>\n",
       "      <td>4.200000e+07</td>\n",
       "      <td>5.578249e+07</td>\n",
       "      <td>1.044590e+08</td>\n",
       "      <td>6.737924e+07</td>\n",
       "      <td>296.875000</td>\n",
       "      <td>2012.000000</td>\n",
       "    </tr>\n",
       "    <tr>\n",
       "      <th>max</th>\n",
       "      <td>4.250000e+08</td>\n",
       "      <td>9.366622e+08</td>\n",
       "      <td>2.776345e+09</td>\n",
       "      <td>2.351345e+09</td>\n",
       "      <td>179900.000000</td>\n",
       "      <td>2019.000000</td>\n",
       "    </tr>\n",
       "  </tbody>\n",
       "</table>\n",
       "</div>"
      ],
      "text/plain": [
       "       production_budget  domestic_gross  worldwide_gross        profit  \\\n",
       "count       5.415000e+03    5.415000e+03     5.415000e+03  5.415000e+03   \n",
       "mean        3.330801e+07    4.471128e+07     9.768800e+07  6.437999e+07   \n",
       "std         4.248758e+07    6.960989e+07     1.788591e+08  1.498581e+08   \n",
       "min         1.100000e+03    0.000000e+00     2.600000e+01 -2.002376e+08   \n",
       "25%         6.000000e+06    3.160708e+06     7.004834e+06 -1.862082e+06   \n",
       "50%         1.900000e+07    2.030022e+07     3.333987e+07  1.190000e+07   \n",
       "75%         4.200000e+07    5.578249e+07     1.044590e+08  6.737924e+07   \n",
       "max         4.250000e+08    9.366622e+08     2.776345e+09  2.351345e+09   \n",
       "\n",
       "                 roi  release_year  \n",
       "count    5415.000000   5415.000000  \n",
       "mean      412.549117   2003.599446  \n",
       "std      3048.742004     12.546965  \n",
       "min      -100.000000   1915.000000  \n",
       "25%       -29.895000   1999.000000  \n",
       "50%        88.490000   2006.000000  \n",
       "75%       296.875000   2012.000000  \n",
       "max    179900.000000   2019.000000  "
      ]
     },
     "execution_count": 13,
     "metadata": {},
     "output_type": "execute_result"
    }
   ],
   "source": [
    "df.describe()"
   ]
  },
  {
   "cell_type": "markdown",
   "metadata": {},
   "source": [
    "Ok, we can see there is currently 5,415 records. The average production budget is 33m, while the median is 19m.\n",
    "\n",
    "The Standard Deviation is massive though. Let's start filtering out data."
   ]
  },
  {
   "cell_type": "markdown",
   "metadata": {},
   "source": [
    "## Data Filtering ##"
   ]
  },
  {
   "cell_type": "code",
   "execution_count": 14,
   "metadata": {},
   "outputs": [],
   "source": [
    "# let's start with the year.\n",
    "# Anything older than the year 2005 will be removed, so we have a 10 year scope, using the last decade.\n",
    "filtered_df = df[df['release_year'] >= 2005]"
   ]
  },
  {
   "cell_type": "code",
   "execution_count": 15,
   "metadata": {},
   "outputs": [
    {
     "name": "stdout",
     "output_type": "stream",
     "text": [
      "<class 'pandas.core.frame.DataFrame'>\n",
      "Int64Index: 3070 entries, 1 to 82\n",
      "Data columns (total 8 columns):\n",
      " #   Column             Non-Null Count  Dtype  \n",
      "---  ------             --------------  -----  \n",
      " 0   release_date       3070 non-null   object \n",
      " 1   movie              3070 non-null   object \n",
      " 2   production_budget  3070 non-null   float64\n",
      " 3   domestic_gross     3070 non-null   float64\n",
      " 4   worldwide_gross    3070 non-null   float64\n",
      " 5   profit             3070 non-null   float64\n",
      " 6   roi                3070 non-null   float64\n",
      " 7   release_year       3070 non-null   int64  \n",
      "dtypes: float64(5), int64(1), object(2)\n",
      "memory usage: 215.9+ KB\n"
     ]
    }
   ],
   "source": [
    "filtered_df.info()"
   ]
  },
  {
   "cell_type": "code",
   "execution_count": 16,
   "metadata": {},
   "outputs": [
    {
     "data": {
      "text/html": [
       "<div>\n",
       "<style scoped>\n",
       "    .dataframe tbody tr th:only-of-type {\n",
       "        vertical-align: middle;\n",
       "    }\n",
       "\n",
       "    .dataframe tbody tr th {\n",
       "        vertical-align: top;\n",
       "    }\n",
       "\n",
       "    .dataframe thead th {\n",
       "        text-align: right;\n",
       "    }\n",
       "</style>\n",
       "<table border=\"1\" class=\"dataframe\">\n",
       "  <thead>\n",
       "    <tr style=\"text-align: right;\">\n",
       "      <th></th>\n",
       "      <th>release_date</th>\n",
       "      <th>movie</th>\n",
       "      <th>production_budget</th>\n",
       "      <th>domestic_gross</th>\n",
       "      <th>worldwide_gross</th>\n",
       "      <th>profit</th>\n",
       "      <th>roi</th>\n",
       "      <th>release_year</th>\n",
       "    </tr>\n",
       "    <tr>\n",
       "      <th>id</th>\n",
       "      <th></th>\n",
       "      <th></th>\n",
       "      <th></th>\n",
       "      <th></th>\n",
       "      <th></th>\n",
       "      <th></th>\n",
       "      <th></th>\n",
       "      <th></th>\n",
       "    </tr>\n",
       "  </thead>\n",
       "  <tbody>\n",
       "    <tr>\n",
       "      <th>82</th>\n",
       "      <td>Aug 5, 2005</td>\n",
       "      <td>My Date With Drew</td>\n",
       "      <td>1100.0</td>\n",
       "      <td>181041.0</td>\n",
       "      <td>181041.0</td>\n",
       "      <td>179941.0</td>\n",
       "      <td>16358.27</td>\n",
       "      <td>2005</td>\n",
       "    </tr>\n",
       "  </tbody>\n",
       "</table>\n",
       "</div>"
      ],
      "text/plain": [
       "   release_date              movie  production_budget  domestic_gross  \\\n",
       "id                                                                      \n",
       "82  Aug 5, 2005  My Date With Drew             1100.0        181041.0   \n",
       "\n",
       "    worldwide_gross    profit       roi  release_year  \n",
       "id                                                     \n",
       "82         181041.0  179941.0  16358.27          2005  "
      ]
     },
     "execution_count": 16,
     "metadata": {},
     "output_type": "execute_result"
    }
   ],
   "source": [
    "lowest_film = df[(df['production_budget'] == df['production_budget'].min())]\n",
    "lowest_film"
   ]
  },
  {
   "cell_type": "code",
   "execution_count": 17,
   "metadata": {},
   "outputs": [
    {
     "data": {
      "text/html": [
       "<div>\n",
       "<style scoped>\n",
       "    .dataframe tbody tr th:only-of-type {\n",
       "        vertical-align: middle;\n",
       "    }\n",
       "\n",
       "    .dataframe tbody tr th {\n",
       "        vertical-align: top;\n",
       "    }\n",
       "\n",
       "    .dataframe thead th {\n",
       "        text-align: right;\n",
       "    }\n",
       "</style>\n",
       "<table border=\"1\" class=\"dataframe\">\n",
       "  <thead>\n",
       "    <tr style=\"text-align: right;\">\n",
       "      <th></th>\n",
       "      <th>release_date</th>\n",
       "      <th>movie</th>\n",
       "      <th>production_budget</th>\n",
       "      <th>domestic_gross</th>\n",
       "      <th>worldwide_gross</th>\n",
       "      <th>profit</th>\n",
       "      <th>roi</th>\n",
       "      <th>release_year</th>\n",
       "    </tr>\n",
       "    <tr>\n",
       "      <th>id</th>\n",
       "      <th></th>\n",
       "      <th></th>\n",
       "      <th></th>\n",
       "      <th></th>\n",
       "      <th></th>\n",
       "      <th></th>\n",
       "      <th></th>\n",
       "      <th></th>\n",
       "    </tr>\n",
       "  </thead>\n",
       "  <tbody>\n",
       "    <tr>\n",
       "      <th>1</th>\n",
       "      <td>Dec 18, 2009</td>\n",
       "      <td>Avatar</td>\n",
       "      <td>425000000.0</td>\n",
       "      <td>760507625.0</td>\n",
       "      <td>2.776345e+09</td>\n",
       "      <td>2.351345e+09</td>\n",
       "      <td>553.26</td>\n",
       "      <td>2009</td>\n",
       "    </tr>\n",
       "  </tbody>\n",
       "</table>\n",
       "</div>"
      ],
      "text/plain": [
       "    release_date   movie  production_budget  domestic_gross  worldwide_gross  \\\n",
       "id                                                                             \n",
       "1   Dec 18, 2009  Avatar        425000000.0     760507625.0     2.776345e+09   \n",
       "\n",
       "          profit     roi  release_year  \n",
       "id                                      \n",
       "1   2.351345e+09  553.26          2009  "
      ]
     },
     "execution_count": 17,
     "metadata": {},
     "output_type": "execute_result"
    }
   ],
   "source": [
    "highest_film = df[(df['production_budget'] == df['production_budget'].max())]\n",
    "highest_film"
   ]
  },
  {
   "cell_type": "markdown",
   "metadata": {},
   "source": [
    "We removed about 2400 records.\n",
    "\n",
    "Let's first look at the range of production budgets"
   ]
  },
  {
   "cell_type": "code",
   "execution_count": 18,
   "metadata": {
    "scrolled": true
   },
   "outputs": [
    {
     "data": {
      "text/plain": [
       "[1100.0, 425000000.0]"
      ]
     },
     "execution_count": 18,
     "metadata": {},
     "output_type": "execute_result"
    }
   ],
   "source": [
    "df_range = [filtered_df['production_budget'].min(),filtered_df['production_budget'].max()]\n",
    "df_range"
   ]
  },
  {
   "cell_type": "markdown",
   "metadata": {},
   "source": [
    "Pretty steep range of 1100 to 425,000,000.\n",
    "\n",
    "Let's take a quick look at a histogram and boxplot of the data."
   ]
  },
  {
   "cell_type": "code",
   "execution_count": 19,
   "metadata": {
    "scrolled": true
   },
   "outputs": [
    {
     "data": {
      "image/png": "[encoded data removed]",
      "text/plain": [
       "<Figure size 432x288 with 1 Axes>"
      ]
     },
     "metadata": {
      "needs_background": "light"
     },
     "output_type": "display_data"
    }
   ],
   "source": [
    "sns.histplot(data=filtered_df, x='production_budget',bins=15);"
   ]
  },
  {
   "cell_type": "code",
   "execution_count": 20,
   "metadata": {},
   "outputs": [
    {
     "data": {
      "image/png": "[encoded data removed]",
      "text/plain": [
       "<Figure size 432x288 with 1 Axes>"
      ]
     },
     "metadata": {
      "needs_background": "light"
     },
     "output_type": "display_data"
    }
   ],
   "source": [
    "filtered_df.boxplot('production_budget', showfliers=False);"
   ]
  },
  {
   "cell_type": "markdown",
   "metadata": {},
   "source": [
    "As we can see, our production budget in the data set is mostly left-skewed (each number is that number x 100m).\n",
    "\n",
    "The boxplot tells us that most of the data really falls within the 100m area, with a median at 20m.\n",
    "\n",
    "So, let's begin filtering further to remove some outliers."
   ]
  },
  {
   "cell_type": "code",
   "execution_count": 21,
   "metadata": {},
   "outputs": [
    {
     "name": "stdout",
     "output_type": "stream",
     "text": [
      "<class 'pandas.core.frame.DataFrame'>\n",
      "Int64Index: 2339 entries, 55 to 86\n",
      "Data columns (total 8 columns):\n",
      " #   Column             Non-Null Count  Dtype  \n",
      "---  ------             --------------  -----  \n",
      " 0   release_date       2339 non-null   object \n",
      " 1   movie              2339 non-null   object \n",
      " 2   production_budget  2339 non-null   float64\n",
      " 3   domestic_gross     2339 non-null   float64\n",
      " 4   worldwide_gross    2339 non-null   float64\n",
      " 5   profit             2339 non-null   float64\n",
      " 6   roi                2339 non-null   float64\n",
      " 7   release_year       2339 non-null   int64  \n",
      "dtypes: float64(5), int64(1), object(2)\n",
      "memory usage: 164.5+ KB\n"
     ]
    }
   ],
   "source": [
    "filtered_df_mid = filtered_df[(filtered_df['production_budget'] >= 5000000) & (filtered_df['production_budget'] <= 150000000)]\n",
    "filtered_df_mid.info()"
   ]
  },
  {
   "cell_type": "code",
   "execution_count": 22,
   "metadata": {},
   "outputs": [],
   "source": [
    "# filtered_df['production_budget'].hist(), filtered_df_mid['production_budget'].hist();\n",
    "# Does one on top of the other"
   ]
  },
  {
   "cell_type": "code",
   "execution_count": 23,
   "metadata": {},
   "outputs": [],
   "source": [
    "# fig, axs = plt.subplots(1,2)\n",
    "# filtered_df['production_budget'].hist(ax=axs[0],figsize=(18,5))\n",
    "# filtered_df_mid['production_budget'].hist(ax=axs[1]);\n",
    "# creates graphs next to each other"
   ]
  },
  {
   "cell_type": "markdown",
   "metadata": {},
   "source": [
    "## Analyzing the Data ##"
   ]
  },
  {
   "cell_type": "markdown",
   "metadata": {},
   "source": [
    "We're down to 2,339 records - great.\n",
    "\n",
    "From a table of 5782 records, we've eliminated any movie from before 2005, and any movie outside a budget of 5m-150m.\n",
    "\n",
    "For Microsoft to enter the film industry, what's a good production budget?"
   ]
  },
  {
   "cell_type": "code",
   "execution_count": 24,
   "metadata": {
    "scrolled": true
   },
   "outputs": [
    {
     "data": {
      "text/html": [
       "<div>\n",
       "<style scoped>\n",
       "    .dataframe tbody tr th:only-of-type {\n",
       "        vertical-align: middle;\n",
       "    }\n",
       "\n",
       "    .dataframe tbody tr th {\n",
       "        vertical-align: top;\n",
       "    }\n",
       "\n",
       "    .dataframe thead th {\n",
       "        text-align: right;\n",
       "    }\n",
       "</style>\n",
       "<table border=\"1\" class=\"dataframe\">\n",
       "  <thead>\n",
       "    <tr style=\"text-align: right;\">\n",
       "      <th></th>\n",
       "      <th>release_date</th>\n",
       "      <th>movie</th>\n",
       "      <th>production_budget</th>\n",
       "      <th>domestic_gross</th>\n",
       "      <th>worldwide_gross</th>\n",
       "      <th>profit</th>\n",
       "      <th>roi</th>\n",
       "      <th>release_year</th>\n",
       "    </tr>\n",
       "    <tr>\n",
       "      <th>id</th>\n",
       "      <th></th>\n",
       "      <th></th>\n",
       "      <th></th>\n",
       "      <th></th>\n",
       "      <th></th>\n",
       "      <th></th>\n",
       "      <th></th>\n",
       "      <th></th>\n",
       "    </tr>\n",
       "  </thead>\n",
       "  <tbody>\n",
       "    <tr>\n",
       "      <th>42</th>\n",
       "      <td>Jun 6, 2008</td>\n",
       "      <td>Kung Fu Panda</td>\n",
       "      <td>130000000.0</td>\n",
       "      <td>215434591.0</td>\n",
       "      <td>631910531.0</td>\n",
       "      <td>501910531.0</td>\n",
       "      <td>386.09</td>\n",
       "      <td>2008</td>\n",
       "    </tr>\n",
       "    <tr>\n",
       "      <th>20</th>\n",
       "      <td>Aug 30, 2013</td>\n",
       "      <td>Getaway</td>\n",
       "      <td>18000000.0</td>\n",
       "      <td>10501938.0</td>\n",
       "      <td>11813989.0</td>\n",
       "      <td>-6186011.0</td>\n",
       "      <td>-34.37</td>\n",
       "      <td>2013</td>\n",
       "    </tr>\n",
       "    <tr>\n",
       "      <th>52</th>\n",
       "      <td>Mar 4, 2005</td>\n",
       "      <td>Be Cool</td>\n",
       "      <td>75000000.0</td>\n",
       "      <td>55849401.0</td>\n",
       "      <td>94944017.0</td>\n",
       "      <td>19944017.0</td>\n",
       "      <td>26.59</td>\n",
       "      <td>2005</td>\n",
       "    </tr>\n",
       "    <tr>\n",
       "      <th>76</th>\n",
       "      <td>Sep 22, 2017</td>\n",
       "      <td>Battle of the Sexes</td>\n",
       "      <td>25000000.0</td>\n",
       "      <td>12638526.0</td>\n",
       "      <td>18445379.0</td>\n",
       "      <td>-6554621.0</td>\n",
       "      <td>-26.22</td>\n",
       "      <td>2017</td>\n",
       "    </tr>\n",
       "    <tr>\n",
       "      <th>40</th>\n",
       "      <td>Oct 16, 2015</td>\n",
       "      <td>CÃ¬kÃ¨ NiÃ¨ YinniÃ¡ng</td>\n",
       "      <td>15000000.0</td>\n",
       "      <td>632542.0</td>\n",
       "      <td>11279884.0</td>\n",
       "      <td>-3720116.0</td>\n",
       "      <td>-24.80</td>\n",
       "      <td>2015</td>\n",
       "    </tr>\n",
       "  </tbody>\n",
       "</table>\n",
       "</div>"
      ],
      "text/plain": [
       "    release_date                  movie  production_budget  domestic_gross  \\\n",
       "id                                                                           \n",
       "42   Jun 6, 2008          Kung Fu Panda        130000000.0     215434591.0   \n",
       "20  Aug 30, 2013                Getaway         18000000.0      10501938.0   \n",
       "52   Mar 4, 2005                Be Cool         75000000.0      55849401.0   \n",
       "76  Sep 22, 2017    Battle of the Sexes         25000000.0      12638526.0   \n",
       "40  Oct 16, 2015  CÃ¬kÃ¨ NiÃ¨ YinniÃ¡ng         15000000.0        632542.0   \n",
       "\n",
       "    worldwide_gross       profit     roi  release_year  \n",
       "id                                                      \n",
       "42      631910531.0  501910531.0  386.09          2008  \n",
       "20       11813989.0   -6186011.0  -34.37          2013  \n",
       "52       94944017.0   19944017.0   26.59          2005  \n",
       "76       18445379.0   -6554621.0  -26.22          2017  \n",
       "40       11279884.0   -3720116.0  -24.80          2015  "
      ]
     },
     "execution_count": 24,
     "metadata": {},
     "output_type": "execute_result"
    }
   ],
   "source": [
    "# first let's take another look at what we still have in filtered_df\n",
    "filtered_df_mid.sample(5)"
   ]
  },
  {
   "cell_type": "code",
   "execution_count": 25,
   "metadata": {
    "scrolled": true
   },
   "outputs": [
    {
     "data": {
      "text/html": [
       "<div>\n",
       "<style scoped>\n",
       "    .dataframe tbody tr th:only-of-type {\n",
       "        vertical-align: middle;\n",
       "    }\n",
       "\n",
       "    .dataframe tbody tr th {\n",
       "        vertical-align: top;\n",
       "    }\n",
       "\n",
       "    .dataframe thead th {\n",
       "        text-align: right;\n",
       "    }\n",
       "</style>\n",
       "<table border=\"1\" class=\"dataframe\">\n",
       "  <thead>\n",
       "    <tr style=\"text-align: right;\">\n",
       "      <th></th>\n",
       "      <th>production_budget</th>\n",
       "      <th>worldwide_gross</th>\n",
       "      <th>profit</th>\n",
       "      <th>roi</th>\n",
       "    </tr>\n",
       "  </thead>\n",
       "  <tbody>\n",
       "    <tr>\n",
       "      <th>production_budget</th>\n",
       "      <td>1.000000</td>\n",
       "      <td>0.667998</td>\n",
       "      <td>0.509603</td>\n",
       "      <td>-0.042601</td>\n",
       "    </tr>\n",
       "    <tr>\n",
       "      <th>worldwide_gross</th>\n",
       "      <td>0.667998</td>\n",
       "      <td>1.000000</td>\n",
       "      <td>0.980699</td>\n",
       "      <td>0.436856</td>\n",
       "    </tr>\n",
       "    <tr>\n",
       "      <th>profit</th>\n",
       "      <td>0.509603</td>\n",
       "      <td>0.980699</td>\n",
       "      <td>1.000000</td>\n",
       "      <td>0.516291</td>\n",
       "    </tr>\n",
       "    <tr>\n",
       "      <th>roi</th>\n",
       "      <td>-0.042601</td>\n",
       "      <td>0.436856</td>\n",
       "      <td>0.516291</td>\n",
       "      <td>1.000000</td>\n",
       "    </tr>\n",
       "  </tbody>\n",
       "</table>\n",
       "</div>"
      ],
      "text/plain": [
       "                   production_budget  worldwide_gross    profit       roi\n",
       "production_budget           1.000000         0.667998  0.509603 -0.042601\n",
       "worldwide_gross             0.667998         1.000000  0.980699  0.436856\n",
       "profit                      0.509603         0.980699  1.000000  0.516291\n",
       "roi                        -0.042601         0.436856  0.516291  1.000000"
      ]
     },
     "execution_count": 25,
     "metadata": {},
     "output_type": "execute_result"
    }
   ],
   "source": [
    "# basic correlation between the variables\n",
    "filtered_df_mid[['production_budget', 'worldwide_gross', 'profit', 'roi']].corr()"
   ]
  },
  {
   "cell_type": "markdown",
   "metadata": {},
   "source": [
    "Let's also compare the outlier ranges of below 5 million and above 150 million."
   ]
  },
  {
   "cell_type": "code",
   "execution_count": 26,
   "metadata": {},
   "outputs": [],
   "source": [
    "filtered_df_low = filtered_df[(filtered_df['production_budget'] < 5000000)]\n",
    "filtered_df_high = filtered_df[(filtered_df['production_budget'] > 15000000)]"
   ]
  },
  {
   "cell_type": "code",
   "execution_count": 27,
   "metadata": {},
   "outputs": [
    {
     "data": {
      "text/html": [
       "<div>\n",
       "<style scoped>\n",
       "    .dataframe tbody tr th:only-of-type {\n",
       "        vertical-align: middle;\n",
       "    }\n",
       "\n",
       "    .dataframe tbody tr th {\n",
       "        vertical-align: top;\n",
       "    }\n",
       "\n",
       "    .dataframe thead th {\n",
       "        text-align: right;\n",
       "    }\n",
       "</style>\n",
       "<table border=\"1\" class=\"dataframe\">\n",
       "  <thead>\n",
       "    <tr style=\"text-align: right;\">\n",
       "      <th></th>\n",
       "      <th>release_date</th>\n",
       "      <th>movie</th>\n",
       "      <th>production_budget</th>\n",
       "      <th>domestic_gross</th>\n",
       "      <th>worldwide_gross</th>\n",
       "      <th>profit</th>\n",
       "      <th>roi</th>\n",
       "      <th>release_year</th>\n",
       "    </tr>\n",
       "    <tr>\n",
       "      <th>id</th>\n",
       "      <th></th>\n",
       "      <th></th>\n",
       "      <th></th>\n",
       "      <th></th>\n",
       "      <th></th>\n",
       "      <th></th>\n",
       "      <th></th>\n",
       "      <th></th>\n",
       "    </tr>\n",
       "  </thead>\n",
       "  <tbody>\n",
       "    <tr>\n",
       "      <th>8</th>\n",
       "      <td>Apr 28, 2006</td>\n",
       "      <td>Water</td>\n",
       "      <td>3000000.0</td>\n",
       "      <td>5529144.0</td>\n",
       "      <td>11322573.0</td>\n",
       "      <td>8322573.0</td>\n",
       "      <td>277.42</td>\n",
       "      <td>2006</td>\n",
       "    </tr>\n",
       "    <tr>\n",
       "      <th>78</th>\n",
       "      <td>Feb 3, 2012</td>\n",
       "      <td>The Innkeepers</td>\n",
       "      <td>750000.0</td>\n",
       "      <td>78396.0</td>\n",
       "      <td>1011535.0</td>\n",
       "      <td>261535.0</td>\n",
       "      <td>34.87</td>\n",
       "      <td>2012</td>\n",
       "    </tr>\n",
       "    <tr>\n",
       "      <th>35</th>\n",
       "      <td>Jun 7, 2019</td>\n",
       "      <td>Late Night</td>\n",
       "      <td>4000000.0</td>\n",
       "      <td>246305.0</td>\n",
       "      <td>246305.0</td>\n",
       "      <td>-3753695.0</td>\n",
       "      <td>-93.84</td>\n",
       "      <td>2019</td>\n",
       "    </tr>\n",
       "  </tbody>\n",
       "</table>\n",
       "</div>"
      ],
      "text/plain": [
       "    release_date           movie  production_budget  domestic_gross  \\\n",
       "id                                                                    \n",
       "8   Apr 28, 2006           Water          3000000.0       5529144.0   \n",
       "78   Feb 3, 2012  The Innkeepers           750000.0         78396.0   \n",
       "35   Jun 7, 2019      Late Night          4000000.0        246305.0   \n",
       "\n",
       "    worldwide_gross     profit     roi  release_year  \n",
       "id                                                    \n",
       "8        11322573.0  8322573.0  277.42          2006  \n",
       "78        1011535.0   261535.0   34.87          2012  \n",
       "35         246305.0 -3753695.0  -93.84          2019  "
      ]
     },
     "execution_count": 27,
     "metadata": {},
     "output_type": "execute_result"
    }
   ],
   "source": [
    "filtered_df_low.sample(3)"
   ]
  },
  {
   "cell_type": "code",
   "execution_count": 28,
   "metadata": {},
   "outputs": [
    {
     "data": {
      "text/html": [
       "<div>\n",
       "<style scoped>\n",
       "    .dataframe tbody tr th:only-of-type {\n",
       "        vertical-align: middle;\n",
       "    }\n",
       "\n",
       "    .dataframe tbody tr th {\n",
       "        vertical-align: top;\n",
       "    }\n",
       "\n",
       "    .dataframe thead th {\n",
       "        text-align: right;\n",
       "    }\n",
       "</style>\n",
       "<table border=\"1\" class=\"dataframe\">\n",
       "  <thead>\n",
       "    <tr style=\"text-align: right;\">\n",
       "      <th></th>\n",
       "      <th>release_date</th>\n",
       "      <th>movie</th>\n",
       "      <th>production_budget</th>\n",
       "      <th>domestic_gross</th>\n",
       "      <th>worldwide_gross</th>\n",
       "      <th>profit</th>\n",
       "      <th>roi</th>\n",
       "      <th>release_year</th>\n",
       "    </tr>\n",
       "    <tr>\n",
       "      <th>id</th>\n",
       "      <th></th>\n",
       "      <th></th>\n",
       "      <th></th>\n",
       "      <th></th>\n",
       "      <th></th>\n",
       "      <th></th>\n",
       "      <th></th>\n",
       "      <th></th>\n",
       "    </tr>\n",
       "  </thead>\n",
       "  <tbody>\n",
       "    <tr>\n",
       "      <th>71</th>\n",
       "      <td>Nov 7, 2008</td>\n",
       "      <td>Madagascar: Escape 2 Africa</td>\n",
       "      <td>150000000.0</td>\n",
       "      <td>180174880.0</td>\n",
       "      <td>599680774.0</td>\n",
       "      <td>449680774.0</td>\n",
       "      <td>299.79</td>\n",
       "      <td>2008</td>\n",
       "    </tr>\n",
       "    <tr>\n",
       "      <th>50</th>\n",
       "      <td>Aug 13, 2008</td>\n",
       "      <td>Tropic Thunder</td>\n",
       "      <td>90000000.0</td>\n",
       "      <td>110515313.0</td>\n",
       "      <td>191145256.0</td>\n",
       "      <td>101145256.0</td>\n",
       "      <td>112.38</td>\n",
       "      <td>2008</td>\n",
       "    </tr>\n",
       "    <tr>\n",
       "      <th>30</th>\n",
       "      <td>Mar 26, 2010</td>\n",
       "      <td>How to Train Your Dragon</td>\n",
       "      <td>165000000.0</td>\n",
       "      <td>217581232.0</td>\n",
       "      <td>494870992.0</td>\n",
       "      <td>329870992.0</td>\n",
       "      <td>199.92</td>\n",
       "      <td>2010</td>\n",
       "    </tr>\n",
       "  </tbody>\n",
       "</table>\n",
       "</div>"
      ],
      "text/plain": [
       "    release_date                        movie  production_budget  \\\n",
       "id                                                                 \n",
       "71   Nov 7, 2008  Madagascar: Escape 2 Africa        150000000.0   \n",
       "50  Aug 13, 2008               Tropic Thunder         90000000.0   \n",
       "30  Mar 26, 2010     How to Train Your Dragon        165000000.0   \n",
       "\n",
       "    domestic_gross  worldwide_gross       profit     roi  release_year  \n",
       "id                                                                      \n",
       "71     180174880.0      599680774.0  449680774.0  299.79          2008  \n",
       "50     110515313.0      191145256.0  101145256.0  112.38          2008  \n",
       "30     217581232.0      494870992.0  329870992.0  199.92          2010  "
      ]
     },
     "execution_count": 28,
     "metadata": {},
     "output_type": "execute_result"
    }
   ],
   "source": [
    "filtered_df_high.sample(3)"
   ]
  },
  {
   "cell_type": "code",
   "execution_count": 29,
   "metadata": {},
   "outputs": [],
   "source": [
    "#print('low:',filtered_df_low[['production_budget', 'worldwide_gross', 'profit', 'roi']].corr(), '\\n\\n',\n",
    "     # 'mid:',filtered_df_mid[['production_budget', 'worldwide_gross', 'profit', 'roi']].corr(), '\\n\\n',\n",
    "     # 'high:',filtered_df_high[['production_budget', 'worldwide_gross', 'profit', 'roi']].corr())"
   ]
  },
  {
   "cell_type": "code",
   "execution_count": 30,
   "metadata": {},
   "outputs": [
    {
     "data": {
      "text/html": [
       "<div>\n",
       "<style scoped>\n",
       "    .dataframe tbody tr th:only-of-type {\n",
       "        vertical-align: middle;\n",
       "    }\n",
       "\n",
       "    .dataframe tbody tr th {\n",
       "        vertical-align: top;\n",
       "    }\n",
       "\n",
       "    .dataframe thead th {\n",
       "        text-align: right;\n",
       "    }\n",
       "</style>\n",
       "<table border=\"1\" class=\"dataframe\">\n",
       "  <thead>\n",
       "    <tr style=\"text-align: right;\">\n",
       "      <th></th>\n",
       "      <th>production_budget</th>\n",
       "      <th>worldwide_gross</th>\n",
       "      <th>profit</th>\n",
       "      <th>roi</th>\n",
       "    </tr>\n",
       "  </thead>\n",
       "  <tbody>\n",
       "    <tr>\n",
       "      <th>production_budget</th>\n",
       "      <td>1.000000</td>\n",
       "      <td>0.164270</td>\n",
       "      <td>0.092844</td>\n",
       "      <td>-0.118004</td>\n",
       "    </tr>\n",
       "    <tr>\n",
       "      <th>worldwide_gross</th>\n",
       "      <td>0.164270</td>\n",
       "      <td>1.000000</td>\n",
       "      <td>0.997406</td>\n",
       "      <td>0.558965</td>\n",
       "    </tr>\n",
       "    <tr>\n",
       "      <th>profit</th>\n",
       "      <td>0.092844</td>\n",
       "      <td>0.997406</td>\n",
       "      <td>1.000000</td>\n",
       "      <td>0.572826</td>\n",
       "    </tr>\n",
       "    <tr>\n",
       "      <th>roi</th>\n",
       "      <td>-0.118004</td>\n",
       "      <td>0.558965</td>\n",
       "      <td>0.572826</td>\n",
       "      <td>1.000000</td>\n",
       "    </tr>\n",
       "  </tbody>\n",
       "</table>\n",
       "</div>"
      ],
      "text/plain": [
       "                   production_budget  worldwide_gross    profit       roi\n",
       "production_budget           1.000000         0.164270  0.092844 -0.118004\n",
       "worldwide_gross             0.164270         1.000000  0.997406  0.558965\n",
       "profit                      0.092844         0.997406  1.000000  0.572826\n",
       "roi                        -0.118004         0.558965  0.572826  1.000000"
      ]
     },
     "execution_count": 30,
     "metadata": {},
     "output_type": "execute_result"
    }
   ],
   "source": [
    "filtered_df_low[['production_budget', 'worldwide_gross', 'profit', 'roi']].corr()"
   ]
  },
  {
   "cell_type": "code",
   "execution_count": 31,
   "metadata": {
    "scrolled": true
   },
   "outputs": [
    {
     "data": {
      "text/html": [
       "<div>\n",
       "<style scoped>\n",
       "    .dataframe tbody tr th:only-of-type {\n",
       "        vertical-align: middle;\n",
       "    }\n",
       "\n",
       "    .dataframe tbody tr th {\n",
       "        vertical-align: top;\n",
       "    }\n",
       "\n",
       "    .dataframe thead th {\n",
       "        text-align: right;\n",
       "    }\n",
       "</style>\n",
       "<table border=\"1\" class=\"dataframe\">\n",
       "  <thead>\n",
       "    <tr style=\"text-align: right;\">\n",
       "      <th></th>\n",
       "      <th>production_budget</th>\n",
       "      <th>worldwide_gross</th>\n",
       "      <th>profit</th>\n",
       "      <th>roi</th>\n",
       "    </tr>\n",
       "  </thead>\n",
       "  <tbody>\n",
       "    <tr>\n",
       "      <th>production_budget</th>\n",
       "      <td>1.000000</td>\n",
       "      <td>0.667998</td>\n",
       "      <td>0.509603</td>\n",
       "      <td>-0.042601</td>\n",
       "    </tr>\n",
       "    <tr>\n",
       "      <th>worldwide_gross</th>\n",
       "      <td>0.667998</td>\n",
       "      <td>1.000000</td>\n",
       "      <td>0.980699</td>\n",
       "      <td>0.436856</td>\n",
       "    </tr>\n",
       "    <tr>\n",
       "      <th>profit</th>\n",
       "      <td>0.509603</td>\n",
       "      <td>0.980699</td>\n",
       "      <td>1.000000</td>\n",
       "      <td>0.516291</td>\n",
       "    </tr>\n",
       "    <tr>\n",
       "      <th>roi</th>\n",
       "      <td>-0.042601</td>\n",
       "      <td>0.436856</td>\n",
       "      <td>0.516291</td>\n",
       "      <td>1.000000</td>\n",
       "    </tr>\n",
       "  </tbody>\n",
       "</table>\n",
       "</div>"
      ],
      "text/plain": [
       "                   production_budget  worldwide_gross    profit       roi\n",
       "production_budget           1.000000         0.667998  0.509603 -0.042601\n",
       "worldwide_gross             0.667998         1.000000  0.980699  0.436856\n",
       "profit                      0.509603         0.980699  1.000000  0.516291\n",
       "roi                        -0.042601         0.436856  0.516291  1.000000"
      ]
     },
     "execution_count": 31,
     "metadata": {},
     "output_type": "execute_result"
    }
   ],
   "source": [
    "filtered_df_mid[['production_budget', 'worldwide_gross', 'profit', 'roi']].corr()"
   ]
  },
  {
   "cell_type": "code",
   "execution_count": 32,
   "metadata": {},
   "outputs": [
    {
     "data": {
      "text/html": [
       "<div>\n",
       "<style scoped>\n",
       "    .dataframe tbody tr th:only-of-type {\n",
       "        vertical-align: middle;\n",
       "    }\n",
       "\n",
       "    .dataframe tbody tr th {\n",
       "        vertical-align: top;\n",
       "    }\n",
       "\n",
       "    .dataframe thead th {\n",
       "        text-align: right;\n",
       "    }\n",
       "</style>\n",
       "<table border=\"1\" class=\"dataframe\">\n",
       "  <thead>\n",
       "    <tr style=\"text-align: right;\">\n",
       "      <th></th>\n",
       "      <th>production_budget</th>\n",
       "      <th>worldwide_gross</th>\n",
       "      <th>profit</th>\n",
       "      <th>roi</th>\n",
       "    </tr>\n",
       "  </thead>\n",
       "  <tbody>\n",
       "    <tr>\n",
       "      <th>production_budget</th>\n",
       "      <td>1.000000</td>\n",
       "      <td>0.760925</td>\n",
       "      <td>0.640865</td>\n",
       "      <td>0.102523</td>\n",
       "    </tr>\n",
       "    <tr>\n",
       "      <th>worldwide_gross</th>\n",
       "      <td>0.760925</td>\n",
       "      <td>1.000000</td>\n",
       "      <td>0.985735</td>\n",
       "      <td>0.553346</td>\n",
       "    </tr>\n",
       "    <tr>\n",
       "      <th>profit</th>\n",
       "      <td>0.640865</td>\n",
       "      <td>0.985735</td>\n",
       "      <td>1.000000</td>\n",
       "      <td>0.628079</td>\n",
       "    </tr>\n",
       "    <tr>\n",
       "      <th>roi</th>\n",
       "      <td>0.102523</td>\n",
       "      <td>0.553346</td>\n",
       "      <td>0.628079</td>\n",
       "      <td>1.000000</td>\n",
       "    </tr>\n",
       "  </tbody>\n",
       "</table>\n",
       "</div>"
      ],
      "text/plain": [
       "                   production_budget  worldwide_gross    profit       roi\n",
       "production_budget           1.000000         0.760925  0.640865  0.102523\n",
       "worldwide_gross             0.760925         1.000000  0.985735  0.553346\n",
       "profit                      0.640865         0.985735  1.000000  0.628079\n",
       "roi                         0.102523         0.553346  0.628079  1.000000"
      ]
     },
     "execution_count": 32,
     "metadata": {},
     "output_type": "execute_result"
    }
   ],
   "source": [
    "filtered_df_high[['production_budget', 'worldwide_gross', 'profit', 'roi']].corr()"
   ]
  },
  {
   "cell_type": "markdown",
   "metadata": {},
   "source": [
    "So, what we can see from the above correlations?\n",
    "\n",
    "It appears in these ranges, the higher the budget the higher the profit. So, is spending an absurd amount of money the way to succesfully break into the film industry?\n",
    "\n",
    "Let's keep digging."
   ]
  },
  {
   "cell_type": "markdown",
   "metadata": {},
   "source": [
    "## ROI ##"
   ]
  },
  {
   "cell_type": "markdown",
   "metadata": {},
   "source": [
    "Using this as a stand-in for our profit margin, aka our profit percentage, let's look at the statistics on the ROI for each of these groups."
   ]
  },
  {
   "cell_type": "code",
   "execution_count": 33,
   "metadata": {
    "scrolled": true
   },
   "outputs": [
    {
     "name": "stdout",
     "output_type": "stream",
     "text": [
      "<class 'pandas.core.frame.DataFrame'>\n",
      "Int64Index: 586 entries, 1 to 82\n",
      "Data columns (total 8 columns):\n",
      " #   Column             Non-Null Count  Dtype  \n",
      "---  ------             --------------  -----  \n",
      " 0   release_date       586 non-null    object \n",
      " 1   movie              586 non-null    object \n",
      " 2   production_budget  586 non-null    float64\n",
      " 3   domestic_gross     586 non-null    float64\n",
      " 4   worldwide_gross    586 non-null    float64\n",
      " 5   profit             586 non-null    float64\n",
      " 6   roi                586 non-null    float64\n",
      " 7   release_year       586 non-null    int64  \n",
      "dtypes: float64(5), int64(1), object(2)\n",
      "memory usage: 41.2+ KB\n"
     ]
    }
   ],
   "source": [
    "filtered_df_low.info()"
   ]
  },
  {
   "cell_type": "code",
   "execution_count": 34,
   "metadata": {},
   "outputs": [
    {
     "name": "stdout",
     "output_type": "stream",
     "text": [
      "<class 'pandas.core.frame.DataFrame'>\n",
      "Int64Index: 2339 entries, 55 to 86\n",
      "Data columns (total 8 columns):\n",
      " #   Column             Non-Null Count  Dtype  \n",
      "---  ------             --------------  -----  \n",
      " 0   release_date       2339 non-null   object \n",
      " 1   movie              2339 non-null   object \n",
      " 2   production_budget  2339 non-null   float64\n",
      " 3   domestic_gross     2339 non-null   float64\n",
      " 4   worldwide_gross    2339 non-null   float64\n",
      " 5   profit             2339 non-null   float64\n",
      " 6   roi                2339 non-null   float64\n",
      " 7   release_year       2339 non-null   int64  \n",
      "dtypes: float64(5), int64(1), object(2)\n",
      "memory usage: 164.5+ KB\n"
     ]
    }
   ],
   "source": [
    "filtered_df_mid.info()"
   ]
  },
  {
   "cell_type": "code",
   "execution_count": 35,
   "metadata": {},
   "outputs": [
    {
     "name": "stdout",
     "output_type": "stream",
     "text": [
      "<class 'pandas.core.frame.DataFrame'>\n",
      "Int64Index: 1754 entries, 1 to 91\n",
      "Data columns (total 8 columns):\n",
      " #   Column             Non-Null Count  Dtype  \n",
      "---  ------             --------------  -----  \n",
      " 0   release_date       1754 non-null   object \n",
      " 1   movie              1754 non-null   object \n",
      " 2   production_budget  1754 non-null   float64\n",
      " 3   domestic_gross     1754 non-null   float64\n",
      " 4   worldwide_gross    1754 non-null   float64\n",
      " 5   profit             1754 non-null   float64\n",
      " 6   roi                1754 non-null   float64\n",
      " 7   release_year       1754 non-null   int64  \n",
      "dtypes: float64(5), int64(1), object(2)\n",
      "memory usage: 123.3+ KB\n"
     ]
    }
   ],
   "source": [
    "filtered_df_high.info()"
   ]
  },
  {
   "cell_type": "code",
   "execution_count": 36,
   "metadata": {
    "scrolled": true
   },
   "outputs": [
    {
     "name": "stdout",
     "output_type": "stream",
     "text": [
      "We're going to look at the three different DataFrames and their means, medians and standard deviations. We'll also check their ranges. \n",
      "\n",
      "\n",
      "Low end mean: 542.79, Low end median: -24.09, Low end standard deviation: 2826.7, Low end range is -100.0 to 43051.79. \n",
      "\n",
      "\n",
      "Medium range mean: 194.7, Medium range median: 92.12, Medium standard deviation: 402.61, Medium range is -99.99 to 5479.3. \n",
      "\n",
      "\n",
      "High end mean: 169.06. High end median: 109.31, High end standard deviation: 245.66, High end range is -99.95 to 2031.76.\n"
     ]
    }
   ],
   "source": [
    "print(f\"\"\"We're going to look at the three different DataFrames and their means, medians and standard deviations. We'll also check their ranges. \\n\\n\n",
    "Low end mean: {round(filtered_df_low['roi'].mean(), 2)}, Low end median: {round(filtered_df_low['roi'].median(), 2)}, Low end standard deviation: {round(filtered_df_low['roi'].std(), 2)}, Low end range is {round(filtered_df_low['roi'].min(), 2)} to {round(filtered_df_low['roi'].max(), 2)}. \\n\\n\n",
    "Medium range mean: {round(filtered_df_mid['roi'].mean(), 2)}, Medium range median: {filtered_df_mid['roi'].median()}, Medium standard deviation: {round(filtered_df_mid['roi'].std(), 2)}, Medium range is {round(filtered_df_mid['roi'].min(), 2)} to {round(filtered_df_mid['roi'].max(), 2)}. \\n\\n\n",
    "High end mean: {round(filtered_df_high['roi'].mean(), 2)}. High end median: {filtered_df_high['roi'].median()}, High end standard deviation: {round(filtered_df_high['roi'].std(), 2)}, High end range is {round(filtered_df_high['roi'].min(), 2)} to {round(filtered_df_high['roi'].max(), 2)}.\"\"\")"
   ]
  },
  {
   "cell_type": "markdown",
   "metadata": {},
   "source": [
    "These are some funky numbers to say the least. What do the charts tell us about the distribution of the ROIs?"
   ]
  },
  {
   "cell_type": "code",
   "execution_count": 37,
   "metadata": {},
   "outputs": [
    {
     "data": {
      "image/png": "[encoded data removed]",
      "text/plain": [
       "<Figure size 1440x360 with 3 Axes>"
      ]
     },
     "metadata": {
      "needs_background": "light"
     },
     "output_type": "display_data"
    }
   ],
   "source": [
    "fig, axs = plt.subplots(1,3)\n",
    "filtered_df_low['roi'].hist(ax=axs[0],figsize=(20,5))\n",
    "filtered_df_mid['roi'].hist(ax=axs[1],figsize=(20,5))\n",
    "filtered_df_high['roi'].hist(ax=axs[2],figsize=(20,5));"
   ]
  },
  {
   "cell_type": "markdown",
   "metadata": {},
   "source": [
    "This confirms what we saw earlier:\n",
    "\n",
    "All have fairly large ranges on their ROI, especially on the low end of budgets.\n",
    "\n",
    "Let's start by getting rid of any outlier that is outside of 2 standard deviations of the mean, which will virtuall eliminate all extreme outliers, but keep the data within a reasonable range.\n",
    "\n",
    "Afterwards, we'll build another histogram matrix to see if we're seeing anything better."
   ]
  },
  {
   "cell_type": "code",
   "execution_count": 38,
   "metadata": {},
   "outputs": [],
   "source": [
    "low_st = round((filtered_df_low['roi'].std()) * 2, 2)\n",
    "mid_st = round((filtered_df_mid['roi'].std()) * 2, 2)\n",
    "high_st = round((filtered_df_high['roi'].std()) * 2, 2)\n",
    "low_mean = round(filtered_df_low['roi'].mean(), 2)\n",
    "mid_mean = round(filtered_df_mid['roi'].mean(), 2)\n",
    "high_mean = round(filtered_df_high['roi'].mean(), 2)\n",
    "\n",
    "low_dev_min = (low_mean-low_st)\n",
    "low_dev_max = (low_mean+low_st)\n",
    "mid_dev_min = (mid_mean-mid_st)\n",
    "mid_dev_max = (mid_mean+mid_st)\n",
    "high_dev_min = (high_mean-high_st)\n",
    "high_dev_max = (high_mean+high_st)"
   ]
  },
  {
   "cell_type": "code",
   "execution_count": 39,
   "metadata": {
    "scrolled": true
   },
   "outputs": [
    {
     "name": "stdout",
     "output_type": "stream",
     "text": [
      "<class 'pandas.core.frame.DataFrame'>\n",
      "Int64Index: 576 entries, 1 to 80\n",
      "Data columns (total 8 columns):\n",
      " #   Column             Non-Null Count  Dtype  \n",
      "---  ------             --------------  -----  \n",
      " 0   release_date       576 non-null    object \n",
      " 1   movie              576 non-null    object \n",
      " 2   production_budget  576 non-null    float64\n",
      " 3   domestic_gross     576 non-null    float64\n",
      " 4   worldwide_gross    576 non-null    float64\n",
      " 5   profit             576 non-null    float64\n",
      " 6   roi                576 non-null    float64\n",
      " 7   release_year       576 non-null    int64  \n",
      "dtypes: float64(5), int64(1), object(2)\n",
      "memory usage: 40.5+ KB\n"
     ]
    }
   ],
   "source": [
    "filtered_df_low = filtered_df_low[(filtered_df_low['roi'] >= low_dev_min) & (filtered_df_low['roi'] <= low_dev_max)]\n",
    "filtered_df_low.info()"
   ]
  },
  {
   "cell_type": "code",
   "execution_count": 40,
   "metadata": {},
   "outputs": [
    {
     "data": {
      "text/html": [
       "<div>\n",
       "<style scoped>\n",
       "    .dataframe tbody tr th:only-of-type {\n",
       "        vertical-align: middle;\n",
       "    }\n",
       "\n",
       "    .dataframe tbody tr th {\n",
       "        vertical-align: top;\n",
       "    }\n",
       "\n",
       "    .dataframe thead th {\n",
       "        text-align: right;\n",
       "    }\n",
       "</style>\n",
       "<table border=\"1\" class=\"dataframe\">\n",
       "  <thead>\n",
       "    <tr style=\"text-align: right;\">\n",
       "      <th></th>\n",
       "      <th>release_date</th>\n",
       "      <th>movie</th>\n",
       "      <th>production_budget</th>\n",
       "      <th>domestic_gross</th>\n",
       "      <th>worldwide_gross</th>\n",
       "      <th>profit</th>\n",
       "      <th>roi</th>\n",
       "      <th>release_year</th>\n",
       "    </tr>\n",
       "    <tr>\n",
       "      <th>id</th>\n",
       "      <th></th>\n",
       "      <th></th>\n",
       "      <th></th>\n",
       "      <th></th>\n",
       "      <th></th>\n",
       "      <th></th>\n",
       "      <th></th>\n",
       "      <th></th>\n",
       "    </tr>\n",
       "  </thead>\n",
       "  <tbody>\n",
       "    <tr>\n",
       "      <th>1</th>\n",
       "      <td>Jan 23, 2015</td>\n",
       "      <td>Mommy</td>\n",
       "      <td>4900000.0</td>\n",
       "      <td>3498695.0</td>\n",
       "      <td>17536004.0</td>\n",
       "      <td>12636004.0</td>\n",
       "      <td>257.88</td>\n",
       "      <td>2015</td>\n",
       "    </tr>\n",
       "    <tr>\n",
       "      <th>2</th>\n",
       "      <td>Aug 29, 2008</td>\n",
       "      <td>Obsluhoval jsem anglickÃ©ho krÃ¡le</td>\n",
       "      <td>4900000.0</td>\n",
       "      <td>617228.0</td>\n",
       "      <td>7174984.0</td>\n",
       "      <td>2274984.0</td>\n",
       "      <td>46.43</td>\n",
       "      <td>2008</td>\n",
       "    </tr>\n",
       "    <tr>\n",
       "      <th>3</th>\n",
       "      <td>Aug 20, 2010</td>\n",
       "      <td>Soul Kitchen</td>\n",
       "      <td>4900000.0</td>\n",
       "      <td>276901.0</td>\n",
       "      <td>23347461.0</td>\n",
       "      <td>18447461.0</td>\n",
       "      <td>376.48</td>\n",
       "      <td>2010</td>\n",
       "    </tr>\n",
       "    <tr>\n",
       "      <th>4</th>\n",
       "      <td>Aug 17, 2012</td>\n",
       "      <td>The Awakening</td>\n",
       "      <td>4900000.0</td>\n",
       "      <td>95933.0</td>\n",
       "      <td>6924321.0</td>\n",
       "      <td>2024321.0</td>\n",
       "      <td>41.31</td>\n",
       "      <td>2012</td>\n",
       "    </tr>\n",
       "    <tr>\n",
       "      <th>5</th>\n",
       "      <td>Jan 18, 2008</td>\n",
       "      <td>All Hat</td>\n",
       "      <td>4900000.0</td>\n",
       "      <td>15198.0</td>\n",
       "      <td>15198.0</td>\n",
       "      <td>-4884802.0</td>\n",
       "      <td>-99.69</td>\n",
       "      <td>2008</td>\n",
       "    </tr>\n",
       "  </tbody>\n",
       "</table>\n",
       "</div>"
      ],
      "text/plain": [
       "    release_date                               movie  production_budget  \\\n",
       "id                                                                        \n",
       "1   Jan 23, 2015                               Mommy          4900000.0   \n",
       "2   Aug 29, 2008  Obsluhoval jsem anglickÃ©ho krÃ¡le          4900000.0   \n",
       "3   Aug 20, 2010                        Soul Kitchen          4900000.0   \n",
       "4   Aug 17, 2012                       The Awakening          4900000.0   \n",
       "5   Jan 18, 2008                             All Hat          4900000.0   \n",
       "\n",
       "    domestic_gross  worldwide_gross      profit     roi  release_year  \n",
       "id                                                                     \n",
       "1        3498695.0       17536004.0  12636004.0  257.88          2015  \n",
       "2         617228.0        7174984.0   2274984.0   46.43          2008  \n",
       "3         276901.0       23347461.0  18447461.0  376.48          2010  \n",
       "4          95933.0        6924321.0   2024321.0   41.31          2012  \n",
       "5          15198.0          15198.0  -4884802.0  -99.69          2008  "
      ]
     },
     "execution_count": 40,
     "metadata": {},
     "output_type": "execute_result"
    }
   ],
   "source": [
    "filtered_df_low.head()"
   ]
  },
  {
   "cell_type": "code",
   "execution_count": 41,
   "metadata": {},
   "outputs": [],
   "source": [
    "filtered_df_mid = filtered_df_mid[(filtered_df_mid['roi'] >= mid_dev_min) & (filtered_df_mid['roi'] <= mid_dev_max)]"
   ]
  },
  {
   "cell_type": "code",
   "execution_count": 42,
   "metadata": {},
   "outputs": [
    {
     "name": "stdout",
     "output_type": "stream",
     "text": [
      "<class 'pandas.core.frame.DataFrame'>\n",
      "Int64Index: 2267 entries, 55 to 86\n",
      "Data columns (total 8 columns):\n",
      " #   Column             Non-Null Count  Dtype  \n",
      "---  ------             --------------  -----  \n",
      " 0   release_date       2267 non-null   object \n",
      " 1   movie              2267 non-null   object \n",
      " 2   production_budget  2267 non-null   float64\n",
      " 3   domestic_gross     2267 non-null   float64\n",
      " 4   worldwide_gross    2267 non-null   float64\n",
      " 5   profit             2267 non-null   float64\n",
      " 6   roi                2267 non-null   float64\n",
      " 7   release_year       2267 non-null   int64  \n",
      "dtypes: float64(5), int64(1), object(2)\n",
      "memory usage: 159.4+ KB\n"
     ]
    }
   ],
   "source": [
    "filtered_df_mid.info()"
   ]
  },
  {
   "cell_type": "code",
   "execution_count": 43,
   "metadata": {},
   "outputs": [],
   "source": [
    "filtered_df_high = filtered_df_high[(filtered_df_high['roi'] >= high_dev_min) & (filtered_df_high['roi'] <= high_dev_max)]"
   ]
  },
  {
   "cell_type": "code",
   "execution_count": 44,
   "metadata": {},
   "outputs": [
    {
     "name": "stdout",
     "output_type": "stream",
     "text": [
      "<class 'pandas.core.frame.DataFrame'>\n",
      "Int64Index: 1675 entries, 1 to 91\n",
      "Data columns (total 8 columns):\n",
      " #   Column             Non-Null Count  Dtype  \n",
      "---  ------             --------------  -----  \n",
      " 0   release_date       1675 non-null   object \n",
      " 1   movie              1675 non-null   object \n",
      " 2   production_budget  1675 non-null   float64\n",
      " 3   domestic_gross     1675 non-null   float64\n",
      " 4   worldwide_gross    1675 non-null   float64\n",
      " 5   profit             1675 non-null   float64\n",
      " 6   roi                1675 non-null   float64\n",
      " 7   release_year       1675 non-null   int64  \n",
      "dtypes: float64(5), int64(1), object(2)\n",
      "memory usage: 117.8+ KB\n"
     ]
    }
   ],
   "source": [
    "filtered_df_high.info()"
   ]
  }
 ],
 "metadata": {
  "kernelspec": {
   "display_name": "Python 3",
   "language": "python",
   "name": "python3"
  },
  "language_info": {
   "codemirror_mode": {
    "name": "ipython",
    "version": 3
   },
   "file_extension": ".py",
   "mimetype": "text/x-python",
   "name": "python",
   "nbconvert_exporter": "python",
   "pygments_lexer": "ipython3",
   "version": "3.8.5"
  }
 },
 "nbformat": 4,
 "nbformat_minor": 4
}
